{
 "cells": [
  {
   "cell_type": "markdown",
   "metadata": {},
   "source": [
    "# CS295/395: Secure Distributed Computation\n",
    "## Homework 1"
   ]
  },
  {
   "cell_type": "code",
   "execution_count": 3,
   "metadata": {},
   "outputs": [],
   "source": [
    "# Useful imports and utility functions\n",
    "\n",
    "import galois\n",
    "GF = galois.GF(2**31-1)\n",
    "\n",
    "def make_additive_shares(n, x):\n",
    "    \"\"\"Create additive secret shares of the input, so that the shares look random but add up to the input.\n",
    "    n: number of shares to create\n",
    "    x: input value\"\"\"\n",
    "    first_shares = GF.Random(n-1)\n",
    "    last_share = x - first_shares.sum()\n",
    "    return GF(list(first_shares) + [last_share])"
   ]
  },
  {
   "cell_type": "markdown",
   "metadata": {},
   "source": [
    "## Question 1 (20 points)\n",
    "\n",
    "Imagine you (the \"client\") want to periodically submit encrypted numbers to two \"servers\" for storage. After some time, you'd like to have the servers add the numbers up and return the encrypted sum, so that you don't need to compute the sum yourself.\n",
    "\n",
    "Implement a system for *outsourced computation* of the sum of a list of numbers to solve this problem by filling in the functions below. Your solution should simulate who holds what data by updating the `server_state` and `client_state` lists.\n",
    "\n",
    "You can assume that at least one server is **honest**, and the other is **semi-honest**. You don't know which is which ahead of time. Your solution should prevent the semi-honest server from learning any of the client's inputs."
   ]
  },
  {
   "cell_type": "code",
   "execution_count": 10,
   "metadata": {
    "deletable": false,
    "nbgrader": {
     "cell_type": "code",
     "checksum": "29203c256ba02699af78f4dbe39c48a5",
     "grade": false,
     "grade_id": "cell-ee91ecf45af4acb4",
     "locked": false,
     "schema_version": 3,
     "solution": true,
     "task": false
    }
   },
   "outputs": [],
   "source": [
    "# Initialize server and client state\n",
    "server1_state = []\n",
    "server2_state = []\n",
    "\n",
    "# Functions to simulate sending values to each of the servers\n",
    "def send_to_server1(x):\n",
    "    server1_state.append(x)\n",
    "\n",
    "def send_to_server2(x):\n",
    "    server2_state.append(x)\n",
    "\n",
    "def init():\n",
    "    '''Initialize the server and client state'''\n",
    "    global server1_state\n",
    "    global server2_state\n",
    "    global client_state\n",
    "\n",
    "    server1_state = []\n",
    "    server2_state = []\n",
    "\n",
    "def store_number(x):\n",
    "    '''Store a new input number x.'''\n",
    "    s1, s2 = make_additive_shares(2, GF(x))\n",
    "\n",
    "    send_to_server1(s1)\n",
    "    send_to_server2(s2)\n",
    "    \n",
    "def run_server1_computation():\n",
    "    '''Run the server-side computation for server 1, returning its result.'''\n",
    "    return GF(server1_state).sum()\n",
    "    \n",
    "def run_server2_computation():\n",
    "    '''Run the server-side computation for server 2, returning its result.'''\n",
    "    return GF(server2_state).sum()\n",
    "\n",
    "\n",
    "def decrypt_result(server1_result, server2_result):\n",
    "    '''Run the client-side decryption process, returning the plaintext result of the\n",
    "    server-side computation.'''\n",
    "    \n",
    "    return (server1_result + server2_result)"
   ]
  },
  {
   "cell_type": "code",
   "execution_count": 11,
   "metadata": {
    "deletable": false,
    "editable": false,
    "nbgrader": {
     "cell_type": "code",
     "checksum": "ba8f4bd94ec91d00c3184374a32b7536",
     "grade": true,
     "grade_id": "cell-3135ed9e0b939c73",
     "locked": true,
     "points": 20,
     "schema_version": 3,
     "solution": false,
     "task": false
    }
   },
   "outputs": [
    {
     "name": "stdout",
     "output_type": "stream",
     "text": [
      "68\n",
      "68\n"
     ]
    }
   ],
   "source": [
    "# TEST CASE for problem 1\n",
    "\n",
    "# A test list of numbers\n",
    "number_stream = [3,4,5,1,2,3,5,1,2,3,5,5,5,2,3,1,1,5,3,4,5]\n",
    "\n",
    "# Initialize client & server state\n",
    "init()\n",
    "\n",
    "# Handle each number in the stream\n",
    "for n in number_stream:\n",
    "    store_number(n)\n",
    "\n",
    "# Run the server computation and return it to the client\n",
    "server1_result = run_server1_computation()\n",
    "server2_result = run_server2_computation()\n",
    "\n",
    "# Decrypt the result of the server computation\n",
    "decrypted_result = decrypt_result(server1_result, server2_result)\n",
    "\n",
    "# It should be the same as the sum of the original number stream\n",
    "print(decrypted_result)\n",
    "print(sum(number_stream))\n",
    "assert decrypted_result == sum(number_stream)"
   ]
  },
  {
   "cell_type": "markdown",
   "metadata": {},
   "source": [
    "## Question 2 (5 points)\n",
    "\n",
    "Why do we choose $p = 2^{31}-1$? Does it matter that $p$ is prime? What could happen if we choose $p$ too small, and the stream of numbers ends up being very large?"
   ]
  },
  {
   "cell_type": "markdown",
   "metadata": {
    "deletable": false,
    "nbgrader": {
     "cell_type": "markdown",
     "checksum": "ca8b4823763002348bdda9048653675f",
     "grade": true,
     "grade_id": "cell-cc8628ba7163f0e6",
     "locked": false,
     "points": 5,
     "schema_version": 3,
     "solution": true,
     "task": false
    }
   },
   "source": [
    "p must be prime so that the field is a Galois field and every element has a multiplicative inverse. This is mandatory when using the `multFE` method because it garuntees that division is available to us.\n",
    "\n",
    "The size of the possible secret is bound by the size of prime p. If you tried to encode something larger than p, because we are in a finite modular field it will \"wrap around\". There are a finite number of possible secrets which is equal to the number of elements in the finite field which is equal to p."
   ]
  },
  {
   "cell_type": "markdown",
   "metadata": {},
   "source": [
    "## Question 3 (5 points)\n",
    "\n",
    "This system handles only unsigned (non-negative) integers. In 3-5 sentences, describe how we could extend it to handle *signed* integers?"
   ]
  },
  {
   "cell_type": "markdown",
   "metadata": {
    "deletable": false,
    "nbgrader": {
     "cell_type": "markdown",
     "checksum": "5587bf66c427fec5837eb090b6da9320",
     "grade": true,
     "grade_id": "cell-21bb46fb153b3eca",
     "locked": false,
     "points": 5,
     "schema_version": 3,
     "solution": true,
     "task": false
    }
   },
   "source": [
    "If you can successfully encode a number from 0 to n, you can remap that space to (-n/2) to (n/2) by adding (n/2) before encoding and subtracting (n/2) after decoding. With the post/pre processing pattern you can not only get negative numbers, but you can get decimals of any resoltion by multiplying by 10^d pre-encoding and dividing by 10^d post encoding. This does not change the integrity of the protocol at all."
   ]
  },
  {
   "cell_type": "markdown",
   "metadata": {},
   "source": []
  }
 ],
 "metadata": {
  "kernelspec": {
   "display_name": "Python 3.8.5 ('base')",
   "language": "python",
   "name": "python3"
  },
  "language_info": {
   "codemirror_mode": {
    "name": "ipython",
    "version": 3
   },
   "file_extension": ".py",
   "mimetype": "text/x-python",
   "name": "python",
   "nbconvert_exporter": "python",
   "pygments_lexer": "ipython3",
   "version": "3.8.5"
  },
  "vscode": {
   "interpreter": {
    "hash": "9d1aac6c46358ab76884be5fd1eb54486853f0ecd733b8a791c202a53a54f874"
   }
  }
 },
 "nbformat": 4,
 "nbformat_minor": 2
}
