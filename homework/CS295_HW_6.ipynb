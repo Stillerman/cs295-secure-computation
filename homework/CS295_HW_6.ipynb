{
 "cells": [
  {
   "cell_type": "markdown",
   "metadata": {},
   "source": [
    "# CS295/395: Secure Distributed Computation\n",
    "## Homework 6"
   ]
  },
  {
   "cell_type": "markdown",
   "metadata": {},
   "source": [
    "# Part 1\n",
    "\n",
    "Consider the Danish Sugar Beet Auction, where MPC was used to set the market price for sugar beets. \n",
    "\n",
    "First, read the following references:\n",
    "- [Wikipedia](https://en.wikipedia.org/wiki/Danish_Sugar_Beet_Auction)\n",
    "- [Slides by Tomas Toft](https://csrc.nist.gov/csrc/media/events/meeting-on-privacy-enhancing-cryptography/documents/toft.pdf)\n",
    "  - Page 6: Auction definition\n",
    "  - Page 11: System architecture\n",
    "  - Page 15-16: The protocol\n",
    "- [The original paper](https://eprint.iacr.org/2008/068.pdf)"
   ]
  },
  {
   "cell_type": "markdown",
   "metadata": {},
   "source": [
    "## Question 1\n",
    "\n",
    "Describe the *threat model* of the approach for the sugar beet auction. Include:\n",
    "- The threat model itself\n",
    "- Limitations of the threat model\n",
    "- Plausible attacks on the system under this threat model\n",
    "\n",
    "Threat model:\n",
    "- Assumptions made about the parties\n",
    "  - ex: semi-honest, malicious\n",
    "  - honest fraction of parties\n",
    "  - collusion assumptions\n",
    "  - "
   ]
  },
  {
   "cell_type": "markdown",
   "metadata": {
    "deletable": false,
    "nbgrader": {
     "cell_type": "markdown",
     "checksum": "a5aab7c68ac6ff91d555a23430a95849",
     "grade": true,
     "grade_id": "cell-4166471696204a17",
     "locked": false,
     "points": 10,
     "schema_version": 3,
     "solution": true,
     "task": false
    }
   },
   "source": [
    "The sugar beet auction was the first large scale MPC protocol that was actually used in the real world, and it implemented a double auction. The farmers wanted Danisco to not know their bidding prices, and they were able to keep them secret without the use of a trusted third party that would mediate. One possible threat is that while the bidding was binding, if they don't keep the money in escarow, there is no way to force them to pay - they still have to trust that everyone will respect the rules. They *don't*, however, need to trust Danisco or anyone else to be honest with their data as their bid pricing was never transmitted or stored in cleartext. The threat model also is suseptible to leaking the data if there are very few farmers because differential privacy is not accounted for. All servers are asumed be honest but curious."
   ]
  },
  {
   "cell_type": "markdown",
   "metadata": {},
   "source": [
    "## Question 2\n",
    "\n",
    "Describe a potential protocol for solving this problem. Justify your decisions."
   ]
  },
  {
   "cell_type": "markdown",
   "metadata": {},
   "source": [
    "I would make a circuit that adds up all of the bids to create aggregate supply and demand curves through addition gates, and then find the intersection of these curves to find the fair price. Finding the intersection is more complicated and would involve revealing random values related to the secret ones ex revealing $r+x$ does not reveal $x$."
   ]
  },
  {
   "cell_type": "markdown",
   "metadata": {},
   "source": [
    "# Part 2\n",
    "\n",
    "Consider the deployment of MPC to measure pay disparity by the Boston Women's Workforce Council.\n",
    "\n",
    "First, read the following references:\n",
    "- [Communications of the ACM Article](https://dl.acm.org/doi/10.1145/3029603) (then click \"pdf\")\n",
    "- [Interview with Mayank Varia](https://blog.trustedci.org/2020/01/transition-to-practice-success-story.html)\n",
    "- [Paper and video about this work](https://www.usenix.org/conference/soups2019/presentation/qin) (go to 4:30 in the video for a description of the system architecture)\n",
    "- [BWWC's Page](https://thebwwc.org/mpc)\n",
    "- [Data submission page for the system](https://100talent.org/) (you can't submit data without a valid ID)"
   ]
  },
  {
   "cell_type": "markdown",
   "metadata": {},
   "source": [
    "## Question 3\n",
    "\n",
    "Describe the *threat model* of the approach taken for the BWWC system. Include:\n",
    "- The threat model itself\n",
    "- Limitations of the threat model\n",
    "- Plausible attacks on the system under this threat model"
   ]
  },
  {
   "cell_type": "markdown",
   "metadata": {
    "deletable": false,
    "nbgrader": {
     "cell_type": "markdown",
     "checksum": "756bb02dddb491ff46d472a71c7e29c2",
     "grade": true,
     "grade_id": "cell-70ccf7a912734531",
     "locked": false,
     "points": 10,
     "schema_version": 3,
     "solution": true,
     "task": false
    }
   },
   "source": [
    "They want to find the average pay disparity between men and women in boston, but most companies will not want to reveal this data because it could make them look bad. Their goal is to compute the mean without revealing any individual inputs. This is assuming honest but curious servers. This is also suseptible to revealing something about individuals data if there are not a large number of submissions because they are not accounting for differentiable privacy. Other possible attacks would be if the companies submitted incorrect data, but we are assuming honesty in that aspect."
   ]
  },
  {
   "cell_type": "markdown",
   "metadata": {},
   "source": [
    "## Question 4\n",
    "\n",
    "Describe a potential protocol for solving this problem. Justify your decisions."
   ]
  },
  {
   "cell_type": "markdown",
   "metadata": {
    "deletable": false,
    "nbgrader": {
     "cell_type": "markdown",
     "checksum": "de98fd8705abf2f971a873ce0822775d",
     "grade": true,
     "grade_id": "cell-eef5ff8a40809eeb",
     "locked": false,
     "points": 10,
     "schema_version": 3,
     "solution": true,
     "task": false
    }
   },
   "source": [
    "You could use additive secret shares where every party does part of the computation, but no one reveals their contributions:\n",
    "\n",
    "**Protocol: Secure Summation with Additive Secret Sharing**\n",
    "- **Round 1**: Each party $P_i$ sends one share of its input $x_i$ to each other party, keeping one share for itself.\n",
    "- **Round 2**: Each party $P_i$ sums the shares it holds (including both the shares it has received and the share it kept for itself). Each party sends its sum to all other parties.\n",
    "- **Opening**: Each party adds up the sums it receives and the sum it computed and then divides by the quantity of sums recieved. The quantity of sums recieves represents the number of parties which is equal to $n$."
   ]
  },
  {
   "cell_type": "markdown",
   "metadata": {},
   "source": [
    "## Question 5\n",
    "\n",
    "Describe the similarities and differences between these two problems and the associated solutions."
   ]
  },
  {
   "cell_type": "markdown",
   "metadata": {
    "deletable": false,
    "nbgrader": {
     "cell_type": "markdown",
     "checksum": "bc3b1844f0c59d790f5affb1d2db9a52",
     "grade": true,
     "grade_id": "cell-7802a40104ccb3ce",
     "locked": false,
     "points": 10,
     "schema_version": 3,
     "solution": true,
     "task": false
    }
   },
   "source": [
    "The BWWC protocol is much easier to implement, but that is because the problem itself is easier. The sugar beet market problem involves finding the interesection of two curves, but not revealing the curves themselves, where as the BWWC just involves computing an average without involving individual contributions."
   ]
  }
 ],
 "metadata": {
  "kernelspec": {
   "display_name": "Python 3.8.5 ('base')",
   "language": "python",
   "name": "python3"
  },
  "language_info": {
   "codemirror_mode": {
    "name": "ipython",
    "version": 3
   },
   "file_extension": ".py",
   "mimetype": "text/x-python",
   "name": "python",
   "nbconvert_exporter": "python",
   "pygments_lexer": "ipython3",
   "version": "3.8.5"
  },
  "vscode": {
   "interpreter": {
    "hash": "9d1aac6c46358ab76884be5fd1eb54486853f0ecd733b8a791c202a53a54f874"
   }
  }
 },
 "nbformat": 4,
 "nbformat_minor": 4
}
