{
 "cells": [
  {
   "cell_type": "markdown",
   "metadata": {},
   "source": [
    "# CS295/395: Secure Distributed Computation\n",
    "## Homework 3"
   ]
  },
  {
   "cell_type": "markdown",
   "metadata": {},
   "source": [
    "## Definitions"
   ]
  },
  {
   "cell_type": "code",
   "execution_count": 2,
   "metadata": {},
   "outputs": [],
   "source": [
    "# Imports and definitions\n",
    "import numpy as np\n",
    "from collections import defaultdict\n",
    "import numpy as np\n",
    "import galois\n",
    "GF = galois.GF(2 ** 31 - 1)\n",
    "\n",
    "class Party:\n",
    "    \"\"\"A participant in a multiparty computation protocol.\"\"\"\n",
    "    def __init__(self):\n",
    "        \"\"\"Initialize the field size and dictionary to hold received messages.\"\"\"\n",
    "        self.input = None\n",
    "        self.output = None\n",
    "        self.received = defaultdict(list)\n",
    "    \n",
    "    def send(self, other, round, msg):\n",
    "        \"\"\"Simulate sending a message `msg` to another party `other` during round `round`\"\"\"\n",
    "        other.received[round].append(msg)\n",
    "\n",
    "    def get_view(self):\n",
    "        \"\"\"Returns the view of this party: its input, output, and received messages.\"\"\"\n",
    "        return (self.input, self.output, dict(self.received))\n",
    "\n",
    "# Generate Shamir shares for secret v with threshold t and number of shares n\n",
    "def shamir_share(v, t, n):\n",
    "    coefficients = GF([GF.Random() for _ in range(t-1)] + [v])\n",
    "    poly = galois.Poly(coefficients)\n",
    "    shares = [(GF(x), poly(GF(x))) for x in range(1, n+1)]\n",
    "    return shares\n",
    "\n",
    "# Reconstruct the secret from at least t Shamir shares\n",
    "def reconstruct(shares):\n",
    "    xs = GF([s[0] for s in shares])\n",
    "    ys = GF([s[1] for s in shares])\n",
    "    poly = galois.lagrange_poly(xs, ys)\n",
    "    #print(poly)\n",
    "    secret = poly(0)\n",
    "    \n",
    "    return secret\n",
    "\n",
    "# Sum up a list of shares, to get a share of the sum\n",
    "def sum_shares(shares):\n",
    "    xs = [s[0] for s in shares]\n",
    "    ys = [s[1] for s in shares]\n",
    "    \n",
    "    # make sure all the xs are the same\n",
    "    assert xs.count(xs[0]) == len(xs)\n",
    "    \n",
    "    # build the share and output\n",
    "    return (xs[0], GF(ys).sum())"
   ]
  },
  {
   "cell_type": "code",
   "execution_count": 3,
   "metadata": {},
   "outputs": [
    {
     "data": {
      "text/plain": [
       "GF(250, order=2147483647)"
      ]
     },
     "execution_count": 3,
     "metadata": {},
     "output_type": "execute_result"
    }
   ],
   "source": [
    "reconstruct(shamir_share(250, 3, 5))"
   ]
  },
  {
   "cell_type": "markdown",
   "metadata": {},
   "source": [
    "## Question 1 (20 points)\n",
    "\n",
    "Implement a protocol that calculates the *mean* of the parties' input numbers, secure against semi-honest adversaries. The specification for the `mean` function is below."
   ]
  },
  {
   "cell_type": "code",
   "execution_count": 4,
   "metadata": {},
   "outputs": [
    {
     "data": {
      "text/plain": [
       "120.2"
      ]
     },
     "execution_count": 4,
     "metadata": {},
     "output_type": "execute_result"
    }
   ],
   "source": [
    "nums = [np.random.randint(0, 200) for _ in range(10)]\n",
    "\n",
    "def mean(nums):\n",
    "    s = np.sum(nums)\n",
    "    return s/len(nums)\n",
    "\n",
    "mean(nums)"
   ]
  },
  {
   "cell_type": "markdown",
   "metadata": {},
   "source": [
    "### Question 1(a)\n",
    "\n",
    "Write an English description of the protocol, in the same format as the protocol definition from our exercise on 9/11. The ideal functionality is as follows:\n",
    "\n",
    "\\begin{equation*}\n",
    "\\textbf{Functionality: Mean}\\\\\n",
    "\\fbox{$\\mathcal{F}_{mean}(x_1, \\dots, x_n) = \\frac{1}{n} \\sum_{i=1}^n x_i$}\n",
    "\\end{equation*}\n",
    "\n",
    "*HINT*: think about how to implement `mean` with addition *only*. Keep in mind that the number of parties is public knowledge (so it could be used to post-process the protocol's result)."
   ]
  },
  {
   "cell_type": "markdown",
   "metadata": {
    "deletable": false,
    "nbgrader": {
     "cell_type": "markdown",
     "checksum": "6b056efa4fe97d6f92820229b2033a32",
     "grade": true,
     "grade_id": "cell-4196afcaacf85339",
     "locked": false,
     "points": 10,
     "schema_version": 3,
     "solution": true,
     "task": false
    }
   },
   "source": [
    "**Protocol: Secure Summation with Additive Secret Sharing**\n",
    "- **Round 1**: Each party $P_i$ sends one share of its input $x_i$ to each other party, keeping one share for itself.\n",
    "- **Round 2**: Each party $P_i$ sums the shares it holds (including both the shares it has received and the share it kept for itself). Each party sends its sum to all other parties.\n",
    "- **Opening**: Each party adds up the sums it receives and the sum it computed and then divides by the quantity of sums recieved. The quantity of sums recieves represents the number of parties which is equal to $n$."
   ]
  },
  {
   "cell_type": "markdown",
   "metadata": {},
   "source": [
    "### Question 1(b)\n",
    "\n",
    "Implement your protocol from question 1(a), using Shamir secret sharing."
   ]
  },
  {
   "cell_type": "code",
   "execution_count": 5,
   "metadata": {
    "deletable": false,
    "nbgrader": {
     "cell_type": "code",
     "checksum": "18dc6722559446c014bc40543c04528f",
     "grade": false,
     "grade_id": "cell-e502961900480253",
     "locked": false,
     "schema_version": 3,
     "solution": true,
     "task": false
    }
   },
   "outputs": [],
   "source": [
    "class MeanParty(Party):\n",
    "    def round1(self, parties, input_num):\n",
    "        self.input = GF(input_num)\n",
    "        self.parties = parties\n",
    "        n = len(parties)\n",
    "        t = n-1\n",
    "        \n",
    "        shares = shamir_share(self.input, t, n)\n",
    "\n",
    "        for share, party in zip(shares, parties):\n",
    "            self.send(party, 1, share)\n",
    "\n",
    "    def round2(self):\n",
    "        baseline_x_coord = self.received[1][0][0]\n",
    "        cummulative_y_coord = GF(0)\n",
    "\n",
    "        for xcoord, ycoord in self.received[1]:\n",
    "            assert xcoord == baseline_x_coord\n",
    "            cummulative_y_coord += ycoord\n",
    "\n",
    "        for party in self.parties:\n",
    "            self.send(party, 2, (baseline_x_coord, cummulative_y_coord))\n",
    "\n",
    "    \n",
    "    def round3(self):\n",
    "        # reconstruct the sum\n",
    "        sum_share = reconstruct(self.received[2])\n",
    "\n",
    "        self.output = int(sum_share) / len(self.parties)"
   ]
  },
  {
   "cell_type": "code",
   "execution_count": 6,
   "metadata": {
    "deletable": false,
    "editable": false,
    "nbgrader": {
     "cell_type": "code",
     "checksum": "84a07591cade92f54e7de23a91c16c3d",
     "grade": true,
     "grade_id": "cell-a184246677396fcd",
     "locked": true,
     "points": 10,
     "schema_version": 3,
     "solution": false,
     "task": false
    }
   },
   "outputs": [
    {
     "name": "stdout",
     "output_type": "stream",
     "text": [
      "Output of party 0: 5.0\n",
      "Output of party 1: 5.0\n",
      "Output of party 2: 5.0\n",
      "Output of party 3: 5.0\n",
      "Output of party 4: 5.0\n",
      "Output of party 5: 5.0\n",
      "Output of party 6: 5.0\n",
      "Output of party 7: 5.0\n",
      "Output of party 8: 5.0\n",
      "Output of party 9: 5.0\n",
      "True answer: 5.0\n"
     ]
    }
   ],
   "source": [
    "# TEST CASE for question 1(b)\n",
    "\n",
    "NUM_PARTIES = 10\n",
    "\n",
    "parties = [MeanParty() for _ in range(NUM_PARTIES)]\n",
    "\n",
    "nums = [np.random.randint(0, 10) for _ in range(NUM_PARTIES)]\n",
    "\n",
    "for p,n in zip(parties, nums):\n",
    "    p.round1(parties, n)\n",
    "for p in parties:\n",
    "    p.round2()\n",
    "for p in parties:\n",
    "    p.round3()\n",
    "for i, p in enumerate(parties):\n",
    "    #print(p.get_view())\n",
    "    print(f'Output of party {i}: {p.output}')\n",
    "    assert np.abs(p.output - np.mean(nums)) < 1\n",
    "print(f'True answer: {np.mean(nums)}')"
   ]
  },
  {
   "cell_type": "markdown",
   "metadata": {},
   "source": [
    "## Question 2 (20 points)\n",
    "\n",
    "Implement a protocol that calculates the *variance* of the parties' input numbers, secure against semi-honest adversaries. The specification for the `variance` function is below. Your protocol **may leak the mean of the numbers**."
   ]
  },
  {
   "cell_type": "code",
   "execution_count": 7,
   "metadata": {},
   "outputs": [
    {
     "data": {
      "text/plain": [
       "7.6"
      ]
     },
     "execution_count": 7,
     "metadata": {},
     "output_type": "execute_result"
    }
   ],
   "source": [
    "def variance(nums):\n",
    "    m = mean(nums)\n",
    "    sq = [(x - m)**2 for x in nums]\n",
    "    ssum = np.sum(sq)\n",
    "    return ssum/len(nums)\n",
    "\n",
    "variance(nums)"
   ]
  },
  {
   "cell_type": "markdown",
   "metadata": {},
   "source": [
    "### Question 2(a)\n",
    "\n",
    "Write an English description of the protocol, in the same format as the protocol definition from our exercise on 9/11.\n",
    "\n",
    "\\begin{equation*}\n",
    "\\textbf{Functionality: Variance}\\\\\n",
    "\\fbox{$\\mathcal{F}_{var}(x_1, \\dots, x_n) = \\frac{\\sum_{i=1}^n (x_i - \\mu)^2}{n}$}\\\\\n",
    "\\text{where}\\;\\; \\mu = \\frac{1}{n} \\sum_{i=1}^n x_i\n",
    "\\end{equation*}\n",
    "\n",
    "*HINT*: Calculating the variance requires calculating the mean first. Start with your answer to 1(a), and extend it to calculate the variance with additional rounds. These rounds only require addition. As in question 1, the number of parties is public knowledge (so it could be used to post-process the protocol's result)."
   ]
  },
  {
   "cell_type": "markdown",
   "metadata": {
    "deletable": false,
    "nbgrader": {
     "cell_type": "markdown",
     "checksum": "f9cc4dbbb20ed9d4d76fe876b314f65c",
     "grade": true,
     "grade_id": "cell-9fab5131e8f4c632",
     "locked": false,
     "points": 10,
     "schema_version": 3,
     "solution": true,
     "task": false
    }
   },
   "source": [
    "$\\frac{\\sum_{i=1}^n (x_i - \\mu)^2}{n} = \\frac{\\sum_{i=1}^n x_i^2}{n} - \\mu^2$\n",
    "\n",
    "**Protocol: Secure Summation with Additive Secret Sharing**\n",
    "- **Round 1**: Each party $P_i$ sends one share of its input $x_i$ to each other party, keeping one share for itself.\n",
    "- **Round 2**: Each party $P_i$ sums the shares it holds (including both the shares it has received and the share it kept for itself). Each party sends its sum to all other parties.\n",
    "- **Round 3**: Each party adds up the sums it receives and the sum it computed and then divides by the quantity of sums recieved. The quantity of sums recieves represents the number of parties which is equal to $n$. This is stored as $\\mu$ for later. Create shares for $x_i^2$ and then distribute to all parties including self\n",
    "- **Round 4** Each party $P_i$ sums the new shares it holds (including both the shares it has received and the share it kept for itself). Each party sends its sum to all other parties.\n",
    "- **Round 5** Each party adds up the sums it receives and the sum it computed and then divides by the quantity of sums recieved. The quantity of sums recieves represents the number of parties which is equal to $n$. Then it subtracts $\\mu^2$ from it and that is the variance\n",
    "\n"
   ]
  },
  {
   "cell_type": "markdown",
   "metadata": {},
   "source": [
    "### Question 2(b)\n",
    "\n",
    "Implement your protocol from question 2(a), using Shamir secret sharing. *HINT*: start with your solution to 1(b) and extend it."
   ]
  },
  {
   "cell_type": "code",
   "execution_count": 8,
   "metadata": {
    "deletable": false,
    "nbgrader": {
     "cell_type": "code",
     "checksum": "5ab723a23e562a8d66acf4c14cdd35fa",
     "grade": false,
     "grade_id": "cell-57f7fbe649fb9189",
     "locked": false,
     "schema_version": 3,
     "solution": true,
     "task": false
    }
   },
   "outputs": [],
   "source": [
    "class VarianceParty(Party):\n",
    "    def round1(self, parties, input_num):\n",
    "        self.input = GF(input_num)\n",
    "        self.parties = parties\n",
    "        n = len(parties)\n",
    "        t = n-1\n",
    "        \n",
    "        self.shares = shamir_share(self.input, t, n)\n",
    "        self.shares_squared = shamir_share(self.input**2, t, n)\n",
    "\n",
    "        for share, party in zip(self.shares, parties):\n",
    "            self.send(party, 1, share)\n",
    "\n",
    "    def round2(self):\n",
    "        baseline_x_coord = self.received[1][0][0]\n",
    "        cummulative_y_coord = GF(0)\n",
    "\n",
    "        for xcoord, ycoord in self.received[1]:\n",
    "            assert xcoord == baseline_x_coord\n",
    "            cummulative_y_coord += ycoord\n",
    "\n",
    "        for party in self.parties:\n",
    "            self.send(party, 2, (baseline_x_coord, cummulative_y_coord))\n",
    "\n",
    "    \n",
    "    def round3(self):\n",
    "        # reconstruct the sum\n",
    "        self.xi_sum = reconstruct(self.received[2])\n",
    "\n",
    "        # remember the mean for next step\n",
    "        self.mu = int(self.xi_sum) / len(self.parties)\n",
    "\n",
    "        # distribute shares of x^2\n",
    "        for share, party in zip(self.shares_squared, self.parties):\n",
    "            self.send(party, 3, share)\n",
    "            \n",
    "    \n",
    "    def round4(self):\n",
    "        baseline_x_coord = self.received[3][0][0]\n",
    "        cummulative_y_coord = GF(0)\n",
    "\n",
    "        for xcoord, ycoord in self.received[3]:\n",
    "            assert xcoord == baseline_x_coord\n",
    "            cummulative_y_coord += ycoord\n",
    "\n",
    "        for party in self.parties:\n",
    "            self.send(party, 4, (baseline_x_coord, cummulative_y_coord))\n",
    "\n",
    "    def round5(self):\n",
    "        self.xi_squared_sum = reconstruct(self.received[4])\n",
    "\n",
    "        self.output = int(self.xi_squared_sum) / len(self.parties) - self.mu**2"
   ]
  },
  {
   "cell_type": "code",
   "execution_count": 9,
   "metadata": {
    "deletable": false,
    "editable": false,
    "nbgrader": {
     "cell_type": "code",
     "checksum": "e6871f43800e02fd7d0e2c47804f5216",
     "grade": true,
     "grade_id": "cell-7cb3c415792f636a",
     "locked": true,
     "points": 10,
     "schema_version": 3,
     "solution": false,
     "task": false
    }
   },
   "outputs": [
    {
     "name": "stdout",
     "output_type": "stream",
     "text": [
      "Output of party 0: 4.809999999999995\n",
      "Output of party 1: 4.809999999999995\n",
      "Output of party 2: 4.809999999999995\n",
      "Output of party 3: 4.809999999999995\n",
      "Output of party 4: 4.809999999999995\n",
      "Output of party 5: 4.809999999999995\n",
      "Output of party 6: 4.809999999999995\n",
      "Output of party 7: 4.809999999999995\n",
      "Output of party 8: 4.809999999999995\n",
      "Output of party 9: 4.809999999999995\n",
      "True answer: 4.8100000000000005\n"
     ]
    }
   ],
   "source": [
    "# TEST CASE for question 2(b)\n",
    "NUM_PARTIES = 10\n",
    "\n",
    "parties = [VarianceParty() for _ in range(NUM_PARTIES)]\n",
    "\n",
    "nums = [np.random.randint(0, 10) for _ in range(NUM_PARTIES)]\n",
    "\n",
    "for p,n in zip(parties, nums):\n",
    "    p.round1(parties, n)\n",
    "for p in parties:\n",
    "    p.round2()\n",
    "for p in parties:\n",
    "    p.round3()\n",
    "for p in parties:\n",
    "    p.round4()\n",
    "for p in parties:\n",
    "    p.round5()\n",
    "for i, p in enumerate(parties):\n",
    "    #print(p.get_view())\n",
    "    print(f'Output of party {i}: {p.output}')\n",
    "    assert np.abs(p.output - np.var(nums)) <= 1\n",
    "print(f'True answer: {np.var(nums)}')"
   ]
  },
  {
   "cell_type": "markdown",
   "metadata": {},
   "source": [
    "## Question 3 (20 points)\n",
    "\n",
    "Implement a protocol to *multiply* three input numbers. The input numbers will be secret-shared according to a $(t,n)$ Shamir secret sharing scheme before the protocol starts, and each party will receive one share (see the test case for details). The threshold $t$ will be set to $1/3$ of the number of parties $n$. The protocol is defined as follows:\n",
    "\n",
    "\\begin{equation*}\n",
    "\\textbf{Functionality: Multiply Three Numbers}\\\\\n",
    "\\fbox{$\\mathcal{F}(a, b, c) = a \\cdot b \\cdot c$}\n",
    "\\end{equation*}\n",
    "\n",
    "\n",
    "**Protocol: Multiplication with Shamir Secret Sharing**\n",
    "- **Round 1**: Each party $P_i$ receives shares $a_i, b_i, c_i$ as input. $P_i$ performs finite field multiplication to calculate $s_i = a_i \\times b_i \\times c_i$, a share of the quantity $a\\cdot b \\cdot c$. $P_i$ sends $s_i$ to all of the parties.\n",
    "- **Round 2**: Each party $P_i$ receives shares $s_1, \\dots, s_n$ of the product. $P_i$ reconstructs the value from these shares and outputs the value."
   ]
  },
  {
   "cell_type": "code",
   "execution_count": 20,
   "metadata": {
    "deletable": false,
    "nbgrader": {
     "cell_type": "code",
     "checksum": "c39f39bf749855193d10e18c1f77fde9",
     "grade": false,
     "grade_id": "cell-47362684de6912c6",
     "locked": false,
     "schema_version": 3,
     "solution": true,
     "task": false
    }
   },
   "outputs": [],
   "source": [
    "class MultThreeParty(Party):\n",
    "    def round1(self, parties, a_shr, b_shr, c_shr):\n",
    "        self.input = (a_shr, b_shr, c_shr)\n",
    "        assert a_shr[0] == b_shr[0] and b_shr[0] == c_shr[0]\n",
    "        \n",
    "        s_i_x = GF(a_shr[0])\n",
    "        s_i_y = GF(a_shr[1] * b_shr[1] * c_shr[1])\n",
    "\n",
    "        s_i = GF([s_i_x, s_i_y])\n",
    "\n",
    "        for party in parties:\n",
    "            self.send(party, 1, s_i)\n",
    "\n",
    "    def round2(self):\n",
    "        product = reconstruct(self.received[1])\n",
    "\n",
    "        self.output = product"
   ]
  },
  {
   "cell_type": "code",
   "execution_count": 21,
   "metadata": {
    "deletable": false,
    "editable": false,
    "nbgrader": {
     "cell_type": "code",
     "checksum": "a4b1f703a11fa40b25abee159a39bee5",
     "grade": true,
     "grade_id": "cell-0151a9043c28b815",
     "locked": true,
     "points": 20,
     "schema_version": 3,
     "solution": false,
     "task": false
    }
   },
   "outputs": [
    {
     "name": "stdout",
     "output_type": "stream",
     "text": [
      "Output of party 0: 210\n",
      "Output of party 1: 210\n",
      "Output of party 2: 210\n",
      "Output of party 3: 210\n",
      "Output of party 4: 210\n",
      "Output of party 5: 210\n",
      "Output of party 6: 210\n",
      "Output of party 7: 210\n",
      "Output of party 8: 210\n",
      "Output of party 9: 210\n"
     ]
    }
   ],
   "source": [
    "NUM_PARTIES = 10\n",
    "# (t, n)-Shamir scheme\n",
    "n = NUM_PARTIES\n",
    "t = 3\n",
    "\n",
    "shares1 = shamir_share(GF(5), t, n)\n",
    "shares2 = shamir_share(GF(6), t, n)\n",
    "shares3 = shamir_share(GF(7), t, n)\n",
    "\n",
    "parties = [MultThreeParty() for _ in range(NUM_PARTIES)]\n",
    "\n",
    "for p,s1,s2,s3 in zip(parties, shares1, shares2, shares3):\n",
    "    p.round1(parties, s1, s2, s3)\n",
    "for p in parties:\n",
    "    p.round2()\n",
    "for i, p in enumerate(parties):\n",
    "    # print(p.get_view())\n",
    "    print(f'Output of party {i}: {p.output}')\n",
    "    assert p.output == 210"
   ]
  },
  {
   "cell_type": "markdown",
   "metadata": {},
   "source": [
    "## Question 4 (10 points)\n",
    "\n",
    "In 2-5 sentences, answer the following:\n",
    "\n",
    "- How must we set the values of $t$ and $n$ for this protocol to work?\n",
    "- Why does the protocol have this limitation?"
   ]
  },
  {
   "cell_type": "markdown",
   "metadata": {
    "deletable": false,
    "nbgrader": {
     "cell_type": "markdown",
     "checksum": "324a43e78c166958976a6a44d5365ea4",
     "grade": true,
     "grade_id": "cell-085956109cf4fa98",
     "locked": false,
     "points": 10,
     "schema_version": 3,
     "solution": true,
     "task": false
    }
   },
   "source": [
    "We must set $t$ such that $t^3 <= n$. This is because we are not using degree reduction so every time we multiply the shares, we increase the degree of the polynomial, effectively increasing the threshold $t$. Because we are multiplying 3 numbers, we end up with an effective threshold of $t*t*t = t^3$. This threshold must be less than or equal to n so that we can actually decode the answer, and so $t^3 <= n$."
   ]
  },
  {
   "cell_type": "markdown",
   "metadata": {},
   "source": []
  }
 ],
 "metadata": {
  "kernelspec": {
   "display_name": "Python 3.8.5 ('base')",
   "language": "python",
   "name": "python3"
  },
  "language_info": {
   "codemirror_mode": {
    "name": "ipython",
    "version": 3
   },
   "file_extension": ".py",
   "mimetype": "text/x-python",
   "name": "python",
   "nbconvert_exporter": "python",
   "pygments_lexer": "ipython3",
   "version": "3.8.5"
  },
  "vscode": {
   "interpreter": {
    "hash": "9d1aac6c46358ab76884be5fd1eb54486853f0ecd733b8a791c202a53a54f874"
   }
  }
 },
 "nbformat": 4,
 "nbformat_minor": 4
}
