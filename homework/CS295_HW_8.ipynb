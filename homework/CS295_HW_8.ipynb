{
 "cells": [
  {
   "cell_type": "markdown",
   "metadata": {},
   "source": [
    "# CS295/395: Secure Distributed Computation\n",
    "## Homework 8"
   ]
  },
  {
   "cell_type": "markdown",
   "metadata": {},
   "source": [
    "## Useful Definitions for FV FHE Scheme\n",
    "\n",
    "Reference: [Somewhat Practical Fully Homomorphic Encryption](https://eprint.iacr.org/2012/144.pdf) (2012)."
   ]
  },
  {
   "cell_type": "code",
   "execution_count": 125,
   "metadata": {},
   "outputs": [],
   "source": [
    "import random\n",
    "import numpy as np\n",
    "from collections import defaultdict\n",
    "from collections import namedtuple\n",
    "\n",
    "q = 2**32\n",
    "p = q**3\n",
    "\n",
    "t = 2\n",
    "\n",
    "def noise():\n",
    "    return random.randint(-5, 5) % q\n",
    "\n",
    "def keygen():\n",
    "    s = random.randint(0, t-1)\n",
    "    a = random.randint(1, q-1)\n",
    "    e = noise()\n",
    "    pk = (-(a*s+e)%q, a)\n",
    "    return s,pk\n",
    "\n",
    "def eval_keygen(sk):\n",
    "    s = sk\n",
    "    a = random.randint(1, p*q-1)\n",
    "    e = noise()\n",
    "    rlk = (-(a*s + e) + p * s**2) % (p*q)\n",
    "    return (rlk, a)\n",
    "\n",
    "def encrypt(pk, m):\n",
    "    p0, p1 = pk\n",
    "    u = random.randint(0, t-1)\n",
    "    e1 = noise()\n",
    "    e2 = noise()\n",
    "    Delta = int(q / t)\n",
    "    ct1 = (p0*u + e1 + Delta*m) % q\n",
    "    ct2 = (p1 * u + e2) % q\n",
    "    return (ct1, ct2)\n",
    "\n",
    "def decrypt(sk, ct):\n",
    "    s = sk\n",
    "    c0, c1 = ct\n",
    "    m = round(t * ((c0 + c1 * s) % q) / q) % t\n",
    "    return m\n",
    "\n",
    "def e_add(ct1, ct2):\n",
    "    o1 = (ct1[0] + ct2[0]) % q\n",
    "    o2 = (ct1[1] + ct2[1]) % q\n",
    "    return (o1, o2)\n",
    "\n",
    "def e_mul(ct1, ct2, rlk):\n",
    "    # multiplication\n",
    "    c0 = round((t*(ct1[0] * ct2[0]))/q) % q\n",
    "    c1 = round((t*(ct1[0]*ct2[1] + ct1[1] * ct2[0])) / q) % q\n",
    "    c2 = round((t*(ct1[1]*ct2[1])) / q) % q\n",
    "    \n",
    "    # degree reduction\n",
    "    c20 = round((c2*rlk[0])/p) % q\n",
    "    c21 = round((c2*rlk[1])/p) % q\n",
    "    \n",
    "    return ((c0 + c20) % q, (c1 + c21) % q)"
   ]
  },
  {
   "cell_type": "markdown",
   "metadata": {},
   "source": [
    "## Circuit Definitions"
   ]
  },
  {
   "cell_type": "code",
   "execution_count": 76,
   "metadata": {},
   "outputs": [],
   "source": [
    "from dataclasses import dataclass\n",
    "\n",
    "@dataclass\n",
    "class Gate:\n",
    "    type: str\n",
    "    in1: int\n",
    "    in2: int\n",
    "    out: int\n",
    "\n",
    "@dataclass\n",
    "class Circuit:\n",
    "    inputs: any\n",
    "    outputs: any\n",
    "    gates: any"
   ]
  },
  {
   "cell_type": "markdown",
   "metadata": {},
   "source": [
    "## Question 1 (20 points)\n",
    "\n",
    "Implement a function `fv_eval_circuit` that evaluates a circuit given ciphertexts for its inputs."
   ]
  },
  {
   "cell_type": "code",
   "execution_count": 77,
   "metadata": {
    "deletable": false,
    "nbgrader": {
     "cell_type": "code",
     "checksum": "005872b2f5b49b37609280cb2a7d947e",
     "grade": false,
     "grade_id": "cell-986b65415d748a99",
     "locked": false,
     "schema_version": 3,
     "solution": true,
     "task": false
    }
   },
   "outputs": [],
   "source": [
    "def fv_eval_circuit(circuit, inputs, pk, rlk):\n",
    "    wire_dict = {}\n",
    "\n",
    "    # load all the (encrypted) inputs into wire dict\n",
    "    for i in range(len(inputs)):\n",
    "        wire_dict[i] = inputs[i][0]\n",
    "\n",
    "    # evaluate each gate\n",
    "    for gate in circuit.gates:\n",
    "        if gate.type == 'AND':\n",
    "            wire_dict[gate.out] = e_mul(wire_dict[gate.in1], wire_dict[gate.in2], rlk)\n",
    "        elif gate.type == 'XOR':\n",
    "            wire_dict[gate.out] = e_add(wire_dict[gate.in1], wire_dict[gate.in2])\n",
    "        else:\n",
    "            raise Exception('Unknown gate type')\n",
    "\n",
    "    return [wire_dict[i] for i in circuit.outputs]"
   ]
  },
  {
   "cell_type": "code",
   "execution_count": 78,
   "metadata": {
    "deletable": false,
    "editable": false,
    "nbgrader": {
     "cell_type": "code",
     "checksum": "1d1d90ba1d6f0ca85abf805a28d08f4b",
     "grade": true,
     "grade_id": "cell-24973fc00c988bf8",
     "locked": true,
     "points": 10,
     "schema_version": 3,
     "solution": false,
     "task": false
    }
   },
   "outputs": [],
   "source": [
    "# TEST CASE: add x and y\n",
    "\n",
    "# Generate keys\n",
    "sk, pk = keygen()\n",
    "rlk = eval_keygen(sk)\n",
    "\n",
    "# Encrypt inputs\n",
    "inputs = [[encrypt(pk, 0)], [encrypt(pk, 1)]]\n",
    "\n",
    "# Build circuit\n",
    "gates = [Gate('XOR', 0, 1, 2),\n",
    "         Gate('AND', 2, 1, 3),\n",
    "         Gate('AND', 3, 1, 4),\n",
    "         Gate('AND', 3, 0, 5)]\n",
    "input_wires = [[0], [1]]\n",
    "output_wires = [4, 5]\n",
    "circuit = Circuit(input_wires, output_wires, gates)\n",
    "\n",
    "# Run the circuit\n",
    "outputs = fv_eval_circuit(circuit, inputs, pk, rlk)\n",
    "\n",
    "assert [decrypt(sk, v) for v in outputs] == [1, 0]"
   ]
  },
  {
   "cell_type": "markdown",
   "metadata": {},
   "source": [
    "## Question 2 (20 points)\n",
    "\n",
    "Implement a function that adds two *integers* using the FV SHE scheme. Your solution should take two integers and a bitwidth ($n$), and:\n",
    "\n",
    "1. Convert the two integers into bit-strings (lists of bits) using `convert_to_bitstring`\n",
    "2. Generate a keypair (public, secret, and relinearization keys)\n",
    "3. Encrypt each bit of the two bit-strings\n",
    "4. Construct a bitstring adder circuit using `construct_adder_circuit`\n",
    "5. Construct the `inputs` list containing the encrypted values from (3)\n",
    "6. Evaluate the circuit on the inputs\n",
    "7. Construct an encrypted bit-string for the result from the output wire values\n",
    "8. Decrypt each bit of the result from (7)\n",
    "9. Convert the decrypted bit-string from (8) back into an integer and return it"
   ]
  },
  {
   "cell_type": "code",
   "execution_count": 79,
   "metadata": {},
   "outputs": [],
   "source": [
    "def convert_to_bitstring(i, num_bits):\n",
    "    s = f'{i:0{num_bits}b}'\n",
    "    return [int(s) for s in reversed(s)]\n",
    "\n",
    "def convert_to_int(bitstring):\n",
    "    return int(\"\".join([str(v) for v in reversed(bitstring)]), 2)\n",
    "\n",
    "def construct_adder_circuit(num_bits):\n",
    "    ins1 = list(range(0, num_bits))\n",
    "    ins2 = list(range(num_bits, 2*num_bits))\n",
    "    inputs = [ins1, ins2]\n",
    "    current_wire = 2*num_bits\n",
    "    gates = []\n",
    "    outputs = []\n",
    "    carry_wire = None\n",
    "    \n",
    "    for a, b in zip(ins1, ins2):\n",
    "        if carry_wire is not None:\n",
    "            ab, abc, anb, cinab, cout = range(current_wire, current_wire + 5)\n",
    "            current_wire += 5\n",
    "            gates += [Gate('XOR', a, b, ab),\n",
    "                      Gate('XOR', ab, carry_wire, abc),\n",
    "                      Gate('AND', a, b, anb),\n",
    "                      Gate('AND', carry_wire, ab, cinab),\n",
    "                      Gate('XOR', anb, cinab, cout)]\n",
    "            outputs.append(abc)\n",
    "        else:\n",
    "            ab, cout = range(current_wire, current_wire + 2)\n",
    "            current_wire += 2\n",
    "            gates += [Gate('XOR', a, b, ab),\n",
    "                      Gate('AND', a, b, cout)]            \n",
    "            outputs.append(ab)\n",
    "        carry_wire = cout\n",
    "        \n",
    "    circuit = Circuit(inputs, outputs, gates)\n",
    "    return circuit"
   ]
  },
  {
   "cell_type": "markdown",
   "metadata": {},
   "source": [
    "Implement your function below:"
   ]
  },
  {
   "cell_type": "code",
   "execution_count": 80,
   "metadata": {
    "deletable": false,
    "nbgrader": {
     "cell_type": "code",
     "checksum": "331208b381e990124ef3f74f1f343b48",
     "grade": false,
     "grade_id": "cell-1684505b33fe146e",
     "locked": false,
     "schema_version": 3,
     "solution": true,
     "task": false
    }
   },
   "outputs": [
    {
     "name": "stdout",
     "output_type": "stream",
     "text": [
      "Adding 7 and 2, 8-bit: 9\n",
      "Adding 7 and 2, 16-bit: 9\n",
      "Adding 7 and 2, 32-bit: 9\n",
      "Adding 7 and 2, 64-bit: 5764607523034234889\n"
     ]
    }
   ],
   "source": [
    "def add_ints(x, y, bitwidth):\n",
    "    # 1. Convert the two integers into bit-strings (lists of bits) using `convert_to_bitstring`\n",
    "    x_bits = convert_to_bitstring(x, bitwidth)\n",
    "    y_bits = convert_to_bitstring(y, bitwidth)\n",
    "    # 2. Generate a keypair (public, secret, and relinearization keys)\n",
    "    sk, pk = keygen()\n",
    "    rlk = eval_keygen(sk)\n",
    "    # 3. Encrypt each bit of the two bit-strings\n",
    "    x_enc = [encrypt(pk, v) for v in x_bits]\n",
    "    y_enc = [encrypt(pk, v) for v in y_bits]\n",
    "    # 4. Construct a bitstring adder circuit using `construct_adder_circuit`\n",
    "    circuit = construct_adder_circuit(bitwidth)\n",
    "    # 5. Construct the `inputs` list containing the encrypted values from (3)\n",
    "    inputs = list(map(lambda thing: [thing],[*x_enc, *y_enc]))\n",
    "    # 6. Evaluate the circuit on the inputs\n",
    "    outputs = fv_eval_circuit(circuit, inputs, pk, rlk)\n",
    "    # 7. Construct an encrypted bit-string for the result from the output wire values\n",
    "    result = [decrypt(sk, v) for v in outputs]\n",
    "    # 8. Decrypt each bit of the result from (7)\n",
    "    result = convert_to_int(result)\n",
    "    # 9. Convert the decrypted bit-string from (8) back into an integer and return it\n",
    "    return result\n",
    "    \n",
    "# Examples\n",
    "print('Adding 7 and 2, 8-bit:', add_ints(7, 2, 8))\n",
    "print('Adding 7 and 2, 16-bit:', add_ints(7, 2, 16))\n",
    "print('Adding 7 and 2, 32-bit:', add_ints(7, 2, 32))\n",
    "print('Adding 7 and 2, 64-bit:', add_ints(7, 2, 64))"
   ]
  },
  {
   "cell_type": "code",
   "execution_count": 81,
   "metadata": {
    "deletable": false,
    "editable": false,
    "nbgrader": {
     "cell_type": "code",
     "checksum": "7b3637f2a12e4bd6b331609f75d9f384",
     "grade": true,
     "grade_id": "cell-a35088ac64176656",
     "locked": true,
     "points": 20,
     "schema_version": 3,
     "solution": false,
     "task": false
    }
   },
   "outputs": [],
   "source": [
    "# TEST CASE\n",
    "assert add_ints(5, 2, 8) == 7\n",
    "assert add_ints(5, 2, 16) == 7\n",
    "assert add_ints(5, 2, 64) == 7  ## Sometimes, too much noise for this one!"
   ]
  },
  {
   "cell_type": "markdown",
   "metadata": {},
   "source": [
    "## Question 3 (20 points)\n",
    "\n",
    "In 1-2 sentences each, answer the following:\n",
    "\n",
    "- How many gates are required for the 8-bit addition? How many are required for the 16-bit addition?\n",
    "- Try performing 64-bit or 128-bit addition (or even higher). At what bitwidth do you start to see wrong answers?\n",
    "- Why do you sometimes get the wrong answer for larger bitwidths?\n",
    "- What parameter would you change to make these errors go away? How would you change it, and why?\n",
    "- Is the addition circuit \"wide\" or \"deep\"? In other words, how large is the longest path (in terms of gates) from an input to the output, relative to the total number of gates?\n",
    "- Would you expect noise to be worse in the case of a \"wide\" circuit, or a \"deep\" circuit? Why?"
   ]
  },
  {
   "cell_type": "markdown",
   "metadata": {
    "deletable": false,
    "nbgrader": {
     "cell_type": "markdown",
     "checksum": "04b5aaf63f6ec030fad62700f230e543",
     "grade": true,
     "grade_id": "cell-0fa79a9d4d40ba62",
     "locked": false,
     "points": 20,
     "schema_version": 3,
     "solution": true,
     "task": false
    }
   },
   "source": [
    "### **How many gates are required for 8 bit addition? 16 bit addition?**"
   ]
  },
  {
   "cell_type": "code",
   "execution_count": 82,
   "metadata": {},
   "outputs": [
    {
     "name": "stdout",
     "output_type": "stream",
     "text": [
      "8-bit adder circuit length: 37\n",
      "16-bit adder circuit length: 77\n",
      "32-bit adder circuit length: 157\n",
      "64-bit adder circuit length: 317\n",
      "128-bit adder circuit length: 637\n"
     ]
    }
   ],
   "source": [
    "for n in [8, 16, 32, 64, 128]:\n",
    "    print(f\"{n}-bit adder circuit length:\", len(construct_adder_circuit(n).gates))"
   ]
  },
  {
   "cell_type": "markdown",
   "metadata": {},
   "source": [
    "\n",
    "### **Try performing 64-bit or 128-bit addition (or even higher). At what bitwidth do you start to see wrong answers?**\n"
   ]
  },
  {
   "cell_type": "code",
   "execution_count": 127,
   "metadata": {},
   "outputs": [
    {
     "name": "stdout",
     "output_type": "stream",
     "text": [
      "8-bit adder circuit success rate: 100.0 %\n",
      "16-bit adder circuit success rate: 100.0 %\n",
      "32-bit adder circuit success rate: 88.8 %\n",
      "64-bit adder circuit success rate: 67.8 %\n",
      "128-bit adder circuit success rate: 57.6 %\n",
      "256-bit adder circuit success rate: 49.0 %\n",
      "512-bit adder circuit success rate: 46.0 %\n"
     ]
    }
   ],
   "source": [
    "trials = 500\n",
    "for exp in range(3, 10):\n",
    "    bitwidth = 2**exp\n",
    "\n",
    "    successes = 0\n",
    "    for _ in range(trials):\n",
    "        successes += 1 if add_ints(10, 10, bitwidth) == 20 else 0\n",
    "\n",
    "    print(f\"{bitwidth}-bit adder circuit success rate: {100 * successes/trials} %\")"
   ]
  },
  {
   "cell_type": "markdown",
   "metadata": {},
   "source": [
    "By the 32 bit mark we are already at non-perfect 83% accuracy, and by 256 bits we are only accurate ~ half the time!\n",
    "\n",
    "### **Why do you sometimes get the wrong answer for larger bitwidths?**\n",
    "\n",
    "There are a growing number of gates as we increase the bit width and the more gates in series that the encrypted values must travel through, the larger the error has the chance to become. \n",
    "\n",
    "### **What parameter would you change to make these errors go away? How would you change it, and why?**\n",
    "\n",
    "I would make q larger which allows the protocol to tolerate more noise.\n",
    "\n",
    "### **Is the addition circuit \"wide\" or \"deep\"? In other words, how large is the longest path (in terms of gates) from an input to the output, relative to the total number of gates?**"
   ]
  },
  {
   "cell_type": "code",
   "execution_count": 173,
   "metadata": {},
   "outputs": [
    {
     "name": "stderr",
     "output_type": "stream",
     "text": [
      "100%|██████████| 7/7 [00:00<00:00, 27.56it/s]\n"
     ]
    },
    {
     "data": {
      "image/png": "[encoded data removed]",
      "text/plain": [
       "<Figure size 432x288 with 1 Axes>"
      ]
     },
     "metadata": {
      "needs_background": "light"
     },
     "output_type": "display_data"
    }
   ],
   "source": [
    "import networkx as nx\n",
    "import matplotlib.pyplot as plt\n",
    "from tqdm.auto import tqdm\n",
    "\n",
    "xs = []\n",
    "ys = []\n",
    "\n",
    "for n in tqdm(range(2, 9)):\n",
    "    bw = 2**n\n",
    "    c = construct_adder_circuit(bw)\n",
    "\n",
    "    num_wires = c.outputs[-1]\n",
    "    G = nx.DiGraph()\n",
    "    G.add_nodes_from(range(num_wires))\n",
    "\n",
    "    for gate in tqdm(c.gates, leave=False):\n",
    "        G.add_edge(gate.in1, gate.out)\n",
    "        G.add_edge(gate.in2, gate.out)\n",
    "\n",
    "    xs.append(bw)\n",
    "    ys.append(nx.dag_longest_path_length(G))\n",
    "\n",
    "plt.plot(xs, ys)\n",
    "plt.show()\n"
   ]
  },
  {
   "cell_type": "markdown",
   "metadata": {},
   "source": [
    "The circuit depth increases linearly with bitwidth and looks to be ~2x bit width. For 256 bit width this is 511 circuits deep which is a lot making this a deep circuit. It is worth noting that the depth scales with O(n) which is not terrible. \n",
    "\n",
    "### **Would you expect noise to be worse in the case of a \"wide\" circuit, or a \"deep\" circuit? Why?**\n",
    "\n",
    "The noise compounds with depth not width. This is because noise from parential gates accumulates in the children, but noise from sibling gates does not affect children."
   ]
  }
 ],
 "metadata": {
  "kernelspec": {
   "display_name": "Python 3.8.5 ('base')",
   "language": "python",
   "name": "python3"
  },
  "language_info": {
   "codemirror_mode": {
    "name": "ipython",
    "version": 3
   },
   "file_extension": ".py",
   "mimetype": "text/x-python",
   "name": "python",
   "nbconvert_exporter": "python",
   "pygments_lexer": "ipython3",
   "version": "3.8.5"
  },
  "vscode": {
   "interpreter": {
    "hash": "9d1aac6c46358ab76884be5fd1eb54486853f0ecd733b8a791c202a53a54f874"
   }
  }
 },
 "nbformat": 4,
 "nbformat_minor": 4
}
