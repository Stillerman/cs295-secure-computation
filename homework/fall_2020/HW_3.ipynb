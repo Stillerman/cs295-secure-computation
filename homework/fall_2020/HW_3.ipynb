{
 "cells": [
  {
   "cell_type": "markdown",
   "metadata": {},
   "source": [
    "# CS295/395: Secure Distributed Computation\n",
    "## Homework 3"
   ]
  },
  {
   "cell_type": "markdown",
   "metadata": {},
   "source": [
    "## Definitions"
   ]
  },
  {
   "cell_type": "code",
   "execution_count": null,
   "metadata": {},
   "outputs": [],
   "source": [
    "# Imports and definitions\n",
    "import numpy as np\n",
    "from collections import defaultdict\n",
    "import urllib.request\n",
    "\n",
    "_PRIME = 2 ** 13 - 1\n",
    "\n",
    "shamir_lib_url = \"https://raw.githubusercontent.com/jnear/cs295-secure-computation/master/utils/shamir.py\"\n",
    "\n",
    "### DANGER: this line is dangerous. Make sure the URL above is correct, and has correct code.\n",
    "exec(urllib.request.urlopen(shamir_lib_url).read())\n",
    "\n",
    "def share_shamir(t, n, x, prime=_PRIME):\n",
    "    shares_with_x = share_input(x, minimum=t, shares=n, prime=prime)\n",
    "    return [y for x,y in shares_with_x]\n",
    "\n",
    "def reconstruct_shamir(shares, prime=_PRIME):\n",
    "    shares_with_x = list(zip(range(1, len(shares)+1), shares))\n",
    "    return recover_secret(shares_with_x, prime=prime)\n",
    "\n",
    "class Party:\n",
    "    \"\"\"A participant in a multiparty computation protocol.\"\"\"\n",
    "    def __init__(self, field_size=_PRIME):\n",
    "        \"\"\"Initialize the field size and dictionary to hold received messages.\"\"\"\n",
    "        self.field_size = field_size\n",
    "        self.input = None\n",
    "        self.output = None\n",
    "        self.received = defaultdict(list)\n",
    "    \n",
    "    def send(self, other, round, msg):\n",
    "        \"\"\"Simulate sending a message `msg` to another party `other` during round `round`\"\"\"\n",
    "        other.received[round].append(msg)\n",
    "\n",
    "    def get_view(self):\n",
    "        \"\"\"Returns the view of this party: its input, output, and received messages.\"\"\"\n",
    "        return (self.input, self.output, dict(self.received))"
   ]
  },
  {
   "cell_type": "code",
   "execution_count": null,
   "metadata": {},
   "outputs": [],
   "source": [
    "reconstruct_shamir(share_shamir(3, 5, 250))"
   ]
  },
  {
   "cell_type": "markdown",
   "metadata": {},
   "source": [
    "## Question 1 (20 points)\n",
    "\n",
    "Implement a protocol that calculates the *mean* of the parties' input numbers, secure against semi-honest adversaries. The specification for the `mean` function is below."
   ]
  },
  {
   "cell_type": "code",
   "execution_count": null,
   "metadata": {},
   "outputs": [],
   "source": [
    "nums = [np.random.randint(0, 200) for _ in range(10)]\n",
    "\n",
    "def mean(nums):\n",
    "    s = np.sum(nums)\n",
    "    return s/len(nums)\n",
    "\n",
    "mean(nums)"
   ]
  },
  {
   "cell_type": "markdown",
   "metadata": {},
   "source": [
    "### Question 1(a)\n",
    "\n",
    "Write an English description of the protocol, in the same format as the protocol definition from our exercise on 9/11. The ideal functionality is as follows:\n",
    "\n",
    "\\begin{equation*}\n",
    "\\textbf{Functionality: Mean}\\\\\n",
    "\\fbox{$\\mathcal{F}_{mean}(x_1, \\dots, x_n) = \\frac{1}{n} \\sum_{i=1}^n x_i$}\n",
    "\\end{equation*}\n",
    "\n",
    "*HINT*: think about how to implement `mean` with addition *only*. Keep in mind that the number of parties is public knowledge (so it could be used to post-process the protocol's result)."
   ]
  },
  {
   "cell_type": "markdown",
   "metadata": {
    "deletable": false,
    "nbgrader": {
     "cell_type": "markdown",
     "checksum": "6b056efa4fe97d6f92820229b2033a32",
     "grade": true,
     "grade_id": "cell-4196afcaacf85339",
     "locked": false,
     "points": 10,
     "schema_version": 3,
     "solution": true,
     "task": false
    }
   },
   "source": [
    "YOUR ANSWER HERE"
   ]
  },
  {
   "cell_type": "markdown",
   "metadata": {},
   "source": [
    "### Question 1(b)\n",
    "\n",
    "Implement your protocol from question 1(a), using Shamir secret sharing."
   ]
  },
  {
   "cell_type": "code",
   "execution_count": null,
   "metadata": {
    "deletable": false,
    "nbgrader": {
     "cell_type": "code",
     "checksum": "ce108cc243266e5c45876fd60725f0e8",
     "grade": false,
     "grade_id": "cell-e502961900480253",
     "locked": false,
     "schema_version": 3,
     "solution": true,
     "task": false
    }
   },
   "outputs": [],
   "source": [
    "class MeanParty(Party):\n",
    "    def round1(self, parties, input_num):\n",
    "        self.input = input_num\n",
    "        self.parties = parties\n",
    "        n = len(parties)\n",
    "        t = n-1\n",
    "        # YOUR CODE HERE\n",
    "        raise NotImplementedError()\n",
    "\n",
    "    def round2(self):\n",
    "        # YOUR CODE HERE\n",
    "        raise NotImplementedError()\n",
    "    \n",
    "    def round3(self):\n",
    "        # YOUR CODE HERE\n",
    "        raise NotImplementedError()"
   ]
  },
  {
   "cell_type": "code",
   "execution_count": null,
   "metadata": {
    "deletable": false,
    "editable": false,
    "nbgrader": {
     "cell_type": "code",
     "checksum": "73269faf10b932cc7a5d6031da533fd6",
     "grade": true,
     "grade_id": "cell-a184246677396fcd",
     "locked": true,
     "points": 10,
     "schema_version": 3,
     "solution": false,
     "task": false
    }
   },
   "outputs": [],
   "source": [
    "# TEST CASE for question 1(b)\n",
    "\n",
    "NUM_PARTIES = 10\n",
    "\n",
    "parties = [MeanParty() for _ in range(NUM_PARTIES)]\n",
    "\n",
    "nums = [np.random.randint(0, 10) for _ in range(NUM_PARTIES)]\n",
    "\n",
    "for p,n in zip(parties, nums):\n",
    "    p.round1(parties, n)\n",
    "for p in parties:\n",
    "    p.round2()\n",
    "for p in parties:\n",
    "    p.round3()\n",
    "for p in parties:\n",
    "    print(p.get_view())\n",
    "    assert np.abs(p.output - np.mean(nums)) < 1"
   ]
  },
  {
   "cell_type": "markdown",
   "metadata": {},
   "source": [
    "## Question 2 (20 points)\n",
    "\n",
    "Implement a protocol that calculates the *variance* of the parties' input numbers, secure against semi-honest adversaries. The specification for the `variance` function is below. Your protocol **may leak the mean of the numbers**."
   ]
  },
  {
   "cell_type": "code",
   "execution_count": null,
   "metadata": {},
   "outputs": [],
   "source": [
    "def variance(nums):\n",
    "    m = mean(nums)\n",
    "    sq = [(x - m)**2 for x in nums]\n",
    "    ssum = np.sum(sq)\n",
    "    return ssum/len(nums)\n",
    "\n",
    "variance(nums)"
   ]
  },
  {
   "cell_type": "markdown",
   "metadata": {},
   "source": [
    "### Question 2(a)\n",
    "\n",
    "Write an English description of the protocol, in the same format as the protocol definition from our exercise on 9/11.\n",
    "\n",
    "\\begin{equation*}\n",
    "\\textbf{Functionality: Variance}\\\\\n",
    "\\fbox{$\\mathcal{F}_{var}(x_1, \\dots, x_n) = \\frac{\\sum_{i=1}^n (x_i - \\mu)^2}{n}$}\\\\\n",
    "\\text{where}\\;\\; \\mu = \\frac{1}{n} \\sum_{i=1}^n x_i\n",
    "\\end{equation*}\n",
    "\n",
    "*HINT*: Calculating the variance requires calculating the mean first. Start with your answer to 1(a), and extend it to calculate the variance with additional rounds. These rounds only require addition. As in question 1, the number of parties is public knowledge (so it could be used to post-process the protocol's result)."
   ]
  },
  {
   "cell_type": "markdown",
   "metadata": {
    "deletable": false,
    "nbgrader": {
     "cell_type": "markdown",
     "checksum": "f9cc4dbbb20ed9d4d76fe876b314f65c",
     "grade": true,
     "grade_id": "cell-9fab5131e8f4c632",
     "locked": false,
     "points": 10,
     "schema_version": 3,
     "solution": true,
     "task": false
    }
   },
   "source": [
    "YOUR ANSWER HERE"
   ]
  },
  {
   "cell_type": "markdown",
   "metadata": {},
   "source": [
    "### Question 2(b)\n",
    "\n",
    "Implement your protocol from question 2(a), using Shamir secret sharing. *HINT*: start with your solution to 1(b) and extend it."
   ]
  },
  {
   "cell_type": "code",
   "execution_count": null,
   "metadata": {
    "deletable": false,
    "nbgrader": {
     "cell_type": "code",
     "checksum": "b698d4d28175a333ea74a4b6d05bed68",
     "grade": false,
     "grade_id": "cell-57f7fbe649fb9189",
     "locked": false,
     "schema_version": 3,
     "solution": true,
     "task": false
    }
   },
   "outputs": [],
   "source": [
    "class VarianceParty(Party):\n",
    "    def round1(self, parties, input_num):\n",
    "        self.input = input_num\n",
    "        self.parties = parties\n",
    "        n = len(parties)\n",
    "        t = n-1\n",
    "        # YOUR CODE HERE\n",
    "        raise NotImplementedError()\n",
    "\n",
    "    def round2(self):\n",
    "        # YOUR CODE HERE\n",
    "        raise NotImplementedError()\n",
    "    \n",
    "    def round3(self):\n",
    "        # YOUR CODE HERE\n",
    "        raise NotImplementedError()\n",
    "    \n",
    "    def round4(self):\n",
    "        # YOUR CODE HERE\n",
    "        raise NotImplementedError()\n",
    "\n",
    "    def round5(self):\n",
    "        # YOUR CODE HERE\n",
    "        raise NotImplementedError()"
   ]
  },
  {
   "cell_type": "code",
   "execution_count": null,
   "metadata": {
    "deletable": false,
    "editable": false,
    "nbgrader": {
     "cell_type": "code",
     "checksum": "37c6eaf56f4eb16fff9272da10dada37",
     "grade": true,
     "grade_id": "cell-7cb3c415792f636a",
     "locked": true,
     "points": 10,
     "schema_version": 3,
     "solution": false,
     "task": false
    }
   },
   "outputs": [],
   "source": [
    "# TEST CASE for question 2(b)\n",
    "NUM_PARTIES = 10\n",
    "\n",
    "parties = [VarianceParty() for _ in range(NUM_PARTIES)]\n",
    "\n",
    "nums = [np.random.randint(0, 50) for _ in range(NUM_PARTIES)]\n",
    "\n",
    "for p,n in zip(parties, nums):\n",
    "    p.round1(parties, n)\n",
    "for p in parties:\n",
    "    p.round2()\n",
    "for p in parties:\n",
    "    p.round3()\n",
    "for p in parties:\n",
    "    p.round4()\n",
    "for p in parties:\n",
    "    p.round5()\n",
    "for p in parties:\n",
    "    #print(p.get_view())\n",
    "    assert np.abs(p.output - np.var(nums)) <= 1"
   ]
  },
  {
   "cell_type": "markdown",
   "metadata": {},
   "source": [
    "## Question 3 (20 points)\n",
    "\n",
    "Implement a protocol to *multiply* three input numbers. The input numbers will be secret-shared according to a $(t,n)$ Shamir secret sharing scheme before the protocol starts, and each party will receive one share (see the test case for details). The protocol is defined as follows:\n",
    "\n",
    "\\begin{equation*}\n",
    "\\textbf{Functionality: Multiply Three Numbers}\\\\\n",
    "\\fbox{$\\mathcal{F}(a, b, c) = a \\cdot b \\cdot c$}\n",
    "\\end{equation*}\n",
    "\n",
    "\n",
    "**Protocol: Multiplication with Shamir Secret Sharing**\n",
    "- **Round 1**: Each party $P_i$ receives shares $a_i, b_i, c_i$ as input. $P_i$ performs finite field multiplication to calculate $s_i = a_i \\times b_i \\times c_i$, a share of the quantity $a\\cdot b \\cdot c$. $P_i$ sends $s_i$ to all of the parties.\n",
    "- **Round 2**: Each party $P_i$ receives shares $s_1, \\dots, s_n$ of the product. $P_i$ reconstructs the value from these shares and outputs the value."
   ]
  },
  {
   "cell_type": "code",
   "execution_count": null,
   "metadata": {
    "deletable": false,
    "nbgrader": {
     "cell_type": "code",
     "checksum": "c02e9d938c7b916637cbc5800502b72e",
     "grade": false,
     "grade_id": "cell-47362684de6912c6",
     "locked": false,
     "schema_version": 3,
     "solution": true,
     "task": false
    }
   },
   "outputs": [],
   "source": [
    "class MultThreeParty(Party):\n",
    "    def round1(self, parties, a_shr, b_shr, c_shr):\n",
    "        self.input = (a_shr, b_shr, c_shr)\n",
    "        \n",
    "        # YOUR CODE HERE\n",
    "        raise NotImplementedError()\n",
    "\n",
    "    def round2(self):\n",
    "        # YOUR CODE HERE\n",
    "        raise NotImplementedError()"
   ]
  },
  {
   "cell_type": "code",
   "execution_count": null,
   "metadata": {
    "deletable": false,
    "editable": false,
    "nbgrader": {
     "cell_type": "code",
     "checksum": "c423f123f0663857c02616c5b6f64da4",
     "grade": true,
     "grade_id": "cell-0151a9043c28b815",
     "locked": true,
     "points": 20,
     "schema_version": 3,
     "solution": false,
     "task": false
    }
   },
   "outputs": [],
   "source": [
    "NUM_PARTIES = 10\n",
    "# (t, n)-Shamir scheme\n",
    "n = NUM_PARTIES\n",
    "t = 3\n",
    "\n",
    "shares1 = share_shamir(t, n, 5)\n",
    "shares2 = share_shamir(t, n, 6)\n",
    "shares3 = share_shamir(t, n, 7)\n",
    "\n",
    "parties = [MultThreeParty() for _ in range(NUM_PARTIES)]\n",
    "\n",
    "for p,s1,s2,s3 in zip(parties, shares1, shares2, shares3):\n",
    "    p.round1(parties, s1, s2, s3)\n",
    "for p in parties:\n",
    "    p.round2()\n",
    "for p in parties:\n",
    "    print(p.get_view())\n",
    "    assert p.output == 210"
   ]
  },
  {
   "cell_type": "markdown",
   "metadata": {},
   "source": [
    "## Question 4 (10 points)\n",
    "\n",
    "In 2-5 sentences, answer the following:\n",
    "\n",
    "- How must we set the values of $t$ and $n$ for this protocol to work?\n",
    "- Why does the protocol have this limitation?"
   ]
  },
  {
   "cell_type": "markdown",
   "metadata": {
    "deletable": false,
    "nbgrader": {
     "cell_type": "markdown",
     "checksum": "324a43e78c166958976a6a44d5365ea4",
     "grade": true,
     "grade_id": "cell-085956109cf4fa98",
     "locked": false,
     "points": 10,
     "schema_version": 3,
     "solution": true,
     "task": false
    }
   },
   "source": [
    "YOUR ANSWER HERE"
   ]
  }
 ],
 "metadata": {
  "kernelspec": {
   "display_name": "Python 3",
   "language": "python",
   "name": "python3"
  },
  "language_info": {
   "codemirror_mode": {
    "name": "ipython",
    "version": 3
   },
   "file_extension": ".py",
   "mimetype": "text/x-python",
   "name": "python",
   "nbconvert_exporter": "python",
   "pygments_lexer": "ipython3",
   "version": "3.6.10"
  }
 },
 "nbformat": 4,
 "nbformat_minor": 4
}
