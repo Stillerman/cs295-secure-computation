{
 "cells": [
  {
   "cell_type": "markdown",
   "metadata": {},
   "source": [
    "# CS295/395: Secure Distributed Computation\n",
    "## Homework 6"
   ]
  },
  {
   "cell_type": "markdown",
   "metadata": {},
   "source": [
    "## Definitions"
   ]
  },
  {
   "cell_type": "code",
   "execution_count": null,
   "metadata": {},
   "outputs": [],
   "source": [
    "# Imports and definitions\n",
    "import numpy as np\n",
    "from collections import defaultdict\n",
    "from collections import namedtuple\n",
    "import urllib.request\n",
    "\n",
    "_PRIME = 2 ** 13 - 1\n",
    "\n",
    "shamir_lib_url = \"https://raw.githubusercontent.com/jnear/cs295-secure-computation/master/utils/shamir.py\"\n",
    "\n",
    "### DANGER: this line is dangerous. Make sure the URL above is correct, and has correct code.\n",
    "exec(urllib.request.urlopen(shamir_lib_url).read())\n",
    "\n",
    "class Party:\n",
    "    \"\"\"A participant in a multiparty computation protocol.\"\"\"\n",
    "    def __init__(self, field_size=_PRIME):\n",
    "        \"\"\"Initialize the field size and dictionary to hold received messages.\"\"\"\n",
    "        self.field_size = field_size\n",
    "        self.input = None\n",
    "        self.output = None\n",
    "        self.received = defaultdict(list)\n",
    "    \n",
    "    def send(self, other, round, msg):\n",
    "        \"\"\"Simulate sending a message `msg` to another party `other` during round `round`\"\"\"\n",
    "        other.received[round].append(msg)\n",
    "\n",
    "    def get_view(self):\n",
    "        \"\"\"Returns the view of this party: its input, output, and received messages.\"\"\"\n",
    "        return (self.input, self.output, dict(self.received))"
   ]
  },
  {
   "cell_type": "code",
   "execution_count": null,
   "metadata": {},
   "outputs": [],
   "source": [
    "AddGate = namedtuple('AddGate', ['in1', 'in2'])\n",
    "MultGate = namedtuple('MultGate', ['in1', 'in2'])\n",
    "\n",
    "largest_wire = 0\n",
    "def new_wire():\n",
    "    global largest_wire\n",
    "    largest_wire += 1\n",
    "    return f'w{largest_wire}'"
   ]
  },
  {
   "cell_type": "markdown",
   "metadata": {},
   "source": [
    "## Question 1\n",
    "\n",
    "Implement the BGW protocol for MPC. Your solution should handle both addition and multiplication gates."
   ]
  },
  {
   "cell_type": "code",
   "execution_count": null,
   "metadata": {
    "deletable": false,
    "nbgrader": {
     "cell_type": "code",
     "checksum": "30abd23b98f1bbcd879a6ab5d8a90d9b",
     "grade": false,
     "grade_id": "cell-ea00a41345a34952",
     "locked": false,
     "schema_version": 3,
     "solution": true,
     "task": false
    }
   },
   "outputs": [],
   "source": [
    "class BGWParty(Party):\n",
    "    def receive_inputs(self, input_wire_values, circuit, eval_order, t, n):\n",
    "        self.wire_values = input_wire_values\n",
    "        self.circuit = circuit\n",
    "        self.eval_order = eval_order\n",
    "        self.is_done = False\n",
    "        self.t = t\n",
    "        self.n = n\n",
    "    \n",
    "    def round_n(self, round_num, parties):\n",
    "        \"\"\"Perform one round of the BGW protocol. Reference Section 3.3 in 'Pragmatic MPC.'\"\"\"\n",
    "        # YOUR CODE HERE\n",
    "        raise NotImplementedError()"
   ]
  },
  {
   "cell_type": "code",
   "execution_count": null,
   "metadata": {},
   "outputs": [],
   "source": [
    "def run_bgw(inputs, circuit, eval_order, output_wires):\n",
    "    \"\"\"Runs the BGW Protocol. Feel free to change this driver function if it helps you to do so.\"\"\"\n",
    "    n = 6\n",
    "    t = 3\n",
    "    \n",
    "    # calculate the input shares\n",
    "    input_shares = {w: share_shamir(t, n, x) for w,x in inputs.items()}\n",
    "    parties = [BGWParty(_PRIME) for _ in range(n)]\n",
    "    \n",
    "    # split the shares up for the parties\n",
    "    keys = input_shares.keys()\n",
    "    party_shares = [dict(zip(keys, vals)) for vals in zip(*(input_shares[k] for k in keys))]\n",
    "\n",
    "    # kick off each party with its inputs and copies of the circuit and evaluation plan\n",
    "    for p, s in zip(parties, party_shares):\n",
    "        p.receive_inputs(s, circuit.copy(), eval_order.copy(), t, n)\n",
    "    \n",
    "    done = False\n",
    "    round_num = 1\n",
    "    \n",
    "    # keep evaluating until one of the parties is finished\n",
    "    while not done:\n",
    "        for p in parties:\n",
    "            p.round_n(round_num, parties)\n",
    "            if p.is_done:\n",
    "                done = True\n",
    "\n",
    "        round_num = round_num + 1\n",
    "\n",
    "    # for each output wire, get the shares from the parties for that wire\n",
    "    output_shares = [[p.wire_values[w] for p in parties] for w in output_wires]\n",
    "\n",
    "    outputs = [reconstruct_shamir(shares) for shares in output_shares]\n",
    "    return outputs"
   ]
  },
  {
   "cell_type": "code",
   "execution_count": null,
   "metadata": {
    "deletable": false,
    "editable": false,
    "nbgrader": {
     "cell_type": "code",
     "checksum": "8fb31ca4a0688b9f05b5777a77fb6d2b",
     "grade": true,
     "grade_id": "cell-0ab73d1e6dabb1ca",
     "locked": true,
     "points": 10,
     "schema_version": 3,
     "solution": false,
     "task": false
    }
   },
   "outputs": [],
   "source": [
    "# TEST CASE: a simple circuit\n",
    "inputs = {'x': 5, 'y': 6}\n",
    "circuit = {'w1': AddGate('x', 'y'),\n",
    "           'w2': MultGate('w1', 'x'),\n",
    "           'w3': AddGate('w2', 'w1')}\n",
    "\n",
    "eval_order = list(circuit.keys())\n",
    "\n",
    "result = run_bgw(inputs, circuit, eval_order, ['w3'])\n",
    "print('Result:', result)\n",
    "assert result == [66]"
   ]
  },
  {
   "cell_type": "markdown",
   "metadata": {},
   "source": [
    "## Additional Test Case"
   ]
  },
  {
   "cell_type": "code",
   "execution_count": null,
   "metadata": {},
   "outputs": [],
   "source": [
    "def build_large_circuit(wire_names):\n",
    "    first_wire, *rest_wires = wire_names\n",
    "    circuit = {}\n",
    "    \n",
    "    last_output = first_wire\n",
    "    \n",
    "    for wire in rest_wires:\n",
    "        w1 = new_wire()\n",
    "        circuit[w1] = AddGate(last_output, wire)\n",
    "        w2 = new_wire()\n",
    "        circuit[w2] = MultGate(wire, w1)\n",
    "        last_output = w2\n",
    "    \n",
    "    return circuit"
   ]
  },
  {
   "cell_type": "code",
   "execution_count": null,
   "metadata": {
    "deletable": false,
    "editable": false,
    "nbgrader": {
     "cell_type": "code",
     "checksum": "b931bdc9016bdfca665fac2b0261c2b7",
     "grade": true,
     "grade_id": "cell-5c2263fd7870f916",
     "locked": true,
     "points": 10,
     "schema_version": 3,
     "solution": false,
     "task": false
    }
   },
   "outputs": [],
   "source": [
    "# TEST CASE: a large circuit\n",
    "circuit_size = 100\n",
    "input_wires = [f'x{n}' for n in range(circuit_size)]\n",
    "inputs = {w: n for w, n in zip(input_wires, range(circuit_size))}\n",
    "\n",
    "circuit = build_large_circuit(input_wires)\n",
    "\n",
    "eval_order = list(circuit.keys())\n",
    "\n",
    "result = run_bgw(inputs, circuit, eval_order, [eval_order[-1]])\n",
    "print('Result:', result)\n",
    "assert result == [2653]"
   ]
  }
 ],
 "metadata": {
  "kernelspec": {
   "display_name": "Python 3",
   "language": "python",
   "name": "python3"
  },
  "language_info": {
   "codemirror_mode": {
    "name": "ipython",
    "version": 3
   },
   "file_extension": ".py",
   "mimetype": "text/x-python",
   "name": "python",
   "nbconvert_exporter": "python",
   "pygments_lexer": "ipython3",
   "version": "3.6.10"
  }
 },
 "nbformat": 4,
 "nbformat_minor": 4
}
