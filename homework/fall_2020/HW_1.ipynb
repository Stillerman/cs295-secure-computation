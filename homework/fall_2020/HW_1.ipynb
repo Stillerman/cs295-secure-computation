{
 "cells": [
  {
   "cell_type": "markdown",
   "metadata": {},
   "source": [
    "# CS295/395: Secure Distributed Computation\n",
    "## Homework 1"
   ]
  },
  {
   "cell_type": "code",
   "execution_count": null,
   "metadata": {},
   "outputs": [],
   "source": [
    "# Useful imports and utility functions\n",
    "\n",
    "import numpy as np\n",
    "\n",
    "def plusFE(p, a, b):\n",
    "    return (a + b) % p\n",
    "    \n",
    "def multFE(p, a, b):\n",
    "    return (a * b) % p\n",
    "\n",
    "def sumFE(p, xs):\n",
    "    total = 0\n",
    "    for x in xs:\n",
    "        total = plusFE(p, x, total)\n",
    "    return total"
   ]
  },
  {
   "cell_type": "markdown",
   "metadata": {},
   "source": [
    "## Question 1 (20 points)\n",
    "\n",
    "Imagine you (the \"client\") want to periodically submit encrypted numbers to an untrusted \"server\" for storage. After some time, you'd like to have the server add the numbers up and return the encrypted sum, so that you don't need to compute the sum yourself.\n",
    "\n",
    "Implement a system for *outsourced computation* of the sum of a list of numbers to solve this problem by filling in the functions below. Your solution should simulate who holds what data by updating the `server_state` and `client_state` lists."
   ]
  },
  {
   "cell_type": "code",
   "execution_count": null,
   "metadata": {
    "deletable": false,
    "nbgrader": {
     "cell_type": "code",
     "checksum": "f5ae16d30754608f577cda9f7c595687",
     "grade": false,
     "grade_id": "cell-ee91ecf45af4acb4",
     "locked": false,
     "schema_version": 3,
     "solution": true,
     "task": false
    }
   },
   "outputs": [],
   "source": [
    "def enc(p, x):\n",
    "    '''Additively homomorphic encryption for a field element x in GF(p)'''\n",
    "    # YOUR CODE HERE\n",
    "    raise NotImplementedError()\n",
    "\n",
    "def dec(p, k, c):\n",
    "    '''Additively homomorphic decryption for ciphertext c with key k in GF(p)'''\n",
    "    # YOUR CODE HERE\n",
    "    raise NotImplementedError()\n",
    "\n",
    "# Use GF(2^32) to simulate 32-bit numbers\n",
    "p = 2**32\n",
    "\n",
    "# Initialize server and client state\n",
    "server_state = []\n",
    "client_state = []\n",
    "\n",
    "def init():\n",
    "    '''Initialize the server and client state'''\n",
    "    global server_state\n",
    "    global client_state\n",
    "\n",
    "    server_state = []\n",
    "    client_state = []\n",
    "\n",
    "def handle_new_number(x):\n",
    "    '''Encrypt the field element x and submit it to the server, saving the key on the \n",
    "    client. Your function should simulate submission to the server by putting the\n",
    "    ciphertext in the `server_state` list.'''\n",
    "    # YOUR CODE HERE\n",
    "    raise NotImplementedError()\n",
    "\n",
    "def run_server_computation():\n",
    "    '''Run the server-side computation, returning its result. The server-side computation \n",
    "    should add up all of the numbers in the server's state.'''\n",
    "    # YOUR CODE HERE\n",
    "    raise NotImplementedError()\n",
    "\n",
    "def decrypt_result(server_result):\n",
    "    '''Run the client-side decryption process, returning the plaintext result of the\n",
    "    server-side computation. Your solution should use the `client_state` to perform\n",
    "    the decryption.'''\n",
    "    # YOUR CODE HERE\n",
    "    raise NotImplementedError()"
   ]
  },
  {
   "cell_type": "code",
   "execution_count": null,
   "metadata": {
    "deletable": false,
    "editable": false,
    "nbgrader": {
     "cell_type": "code",
     "checksum": "80916092d94a766b36cb376a1b9a1bb5",
     "grade": true,
     "grade_id": "cell-3135ed9e0b939c73",
     "locked": true,
     "points": 20,
     "schema_version": 3,
     "solution": false,
     "task": false
    }
   },
   "outputs": [],
   "source": [
    "# TEST CASE for problem 1\n",
    "\n",
    "# A test list of numbers\n",
    "number_stream = [3,4,5,1,2,3,5,1,2,3,5,5,5,2,3,1,1,5,3,4,5]\n",
    "\n",
    "# Initialize client & server state\n",
    "init()\n",
    "\n",
    "# Handle each number in the stream\n",
    "for n in number_stream:\n",
    "    handle_new_number(n)\n",
    "\n",
    "# Run the server computation and return it to the client\n",
    "server_result = run_server_computation()\n",
    "\n",
    "# Decrypt the result of the server computation\n",
    "decrypted_result = decrypt_result(server_result)\n",
    "\n",
    "# It should be the same as the sum of the original number stream\n",
    "assert decrypted_result == np.sum(number_stream)"
   ]
  },
  {
   "cell_type": "markdown",
   "metadata": {},
   "source": [
    "## Question 2 (5 points)\n",
    "\n",
    "Why do we choose $p = 2^{32}$? What could happen if we choose $p$ too small, and the stream of numbers ends up being very large?"
   ]
  },
  {
   "cell_type": "markdown",
   "metadata": {
    "deletable": false,
    "nbgrader": {
     "cell_type": "markdown",
     "checksum": "ca8b4823763002348bdda9048653675f",
     "grade": true,
     "grade_id": "cell-cc8628ba7163f0e6",
     "locked": false,
     "points": 5,
     "schema_version": 3,
     "solution": true,
     "task": false
    }
   },
   "source": [
    "YOUR ANSWER HERE"
   ]
  },
  {
   "cell_type": "markdown",
   "metadata": {},
   "source": [
    "## Question 3 (5 points)\n",
    "\n",
    "This system handles only unsigned (non-negative) integers. In 3-5 sentences, describe how we could extend it to handle *signed* integers?"
   ]
  },
  {
   "cell_type": "markdown",
   "metadata": {
    "deletable": false,
    "nbgrader": {
     "cell_type": "markdown",
     "checksum": "5587bf66c427fec5837eb090b6da9320",
     "grade": true,
     "grade_id": "cell-21bb46fb153b3eca",
     "locked": false,
     "points": 5,
     "schema_version": 3,
     "solution": true,
     "task": false
    }
   },
   "source": [
    "YOUR ANSWER HERE"
   ]
  }
 ],
 "metadata": {
  "kernelspec": {
   "display_name": "Python 3",
   "language": "python",
   "name": "python3"
  },
  "language_info": {
   "codemirror_mode": {
    "name": "ipython",
    "version": 3
   },
   "file_extension": ".py",
   "mimetype": "text/x-python",
   "name": "python",
   "nbconvert_exporter": "python",
   "pygments_lexer": "ipython3",
   "version": "3.6.10"
  }
 },
 "nbformat": 4,
 "nbformat_minor": 2
}
