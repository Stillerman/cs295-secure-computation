{
 "cells": [
  {
   "cell_type": "markdown",
   "metadata": {},
   "source": [
    "# CS295/395: Secure Distributed Computation\n",
    "## Homework 4"
   ]
  },
  {
   "cell_type": "markdown",
   "metadata": {},
   "source": [
    "## Definitions"
   ]
  },
  {
   "cell_type": "code",
   "execution_count": null,
   "metadata": {},
   "outputs": [],
   "source": [
    "# Imports and definitions\n",
    "import numpy as np\n",
    "from collections import defaultdict\n",
    "import urllib.request\n",
    "\n",
    "_PRIME = 2 ** 13 - 1\n",
    "\n",
    "shamir_lib_url = \"https://raw.githubusercontent.com/jnear/cs295-secure-computation/master/utils/shamir.py\"\n",
    "\n",
    "### DANGER: this line is dangerous. Make sure the URL above is correct, and has correct code.\n",
    "exec(urllib.request.urlopen(shamir_lib_url).read())\n",
    "\n",
    "class Party:\n",
    "    \"\"\"A participant in a multiparty computation protocol.\"\"\"\n",
    "    def __init__(self, field_size=_PRIME):\n",
    "        \"\"\"Initialize the field size and dictionary to hold received messages.\"\"\"\n",
    "        self.field_size = field_size\n",
    "        self.input = None\n",
    "        self.output = None\n",
    "        self.received = defaultdict(list)\n",
    "    \n",
    "    def send(self, other, round, msg):\n",
    "        \"\"\"Simulate sending a message `msg` to another party `other` during round `round`\"\"\"\n",
    "        other.received[round].append(msg)\n",
    "\n",
    "    def get_view(self):\n",
    "        \"\"\"Returns the view of this party: its input, output, and received messages.\"\"\"\n",
    "        return (self.input, self.output, dict(self.received))"
   ]
  },
  {
   "cell_type": "code",
   "execution_count": null,
   "metadata": {},
   "outputs": [],
   "source": [
    "share_shamir"
   ]
  },
  {
   "cell_type": "markdown",
   "metadata": {},
   "source": [
    "## Question 1 (20 points)\n",
    "\n",
    "Describe a protocol to multiply three input numbers. The input numbers will be secret-shared according to a $(t,n)$ Shamir secret sharing scheme before the protocol starts, and each party will receive one share of each number. Each party should output *one share of the product*, using a $(t, n)$ Shamir secret sharing scheme (i.e. the threshold for the output should be the same as the threshold for the input).\n",
    "\n",
    "\\begin{equation*}\n",
    "\\textbf{Functionality: Multiply Three Numbers}\\\\\n",
    "\\fbox{$\\mathcal{F}(a, b, c) = a \\cdot b \\cdot c$}\n",
    "\\end{equation*}\n",
    "\n",
    "**HINT**: reference the in-class exercise from 9/28/30."
   ]
  },
  {
   "cell_type": "markdown",
   "metadata": {
    "deletable": false,
    "nbgrader": {
     "cell_type": "markdown",
     "checksum": "ab496ff40c62741773f1f797dcb98854",
     "grade": true,
     "grade_id": "cell-6df68c07c24abf58",
     "locked": false,
     "points": 20,
     "schema_version": 3,
     "solution": true,
     "task": false
    }
   },
   "source": [
    "YOUR ANSWER HERE"
   ]
  },
  {
   "cell_type": "markdown",
   "metadata": {},
   "source": [
    "## Question 2\n",
    "\n",
    "Implement your protocol from question 1."
   ]
  },
  {
   "cell_type": "code",
   "execution_count": null,
   "metadata": {
    "deletable": false,
    "nbgrader": {
     "cell_type": "code",
     "checksum": "6d2be65c3f31b1c50bf4fa705307b583",
     "grade": false,
     "grade_id": "cell-47362684de6912c6",
     "locked": false,
     "schema_version": 3,
     "solution": true,
     "task": false
    }
   },
   "outputs": [],
   "source": [
    "class MultThreeParty(Party):\n",
    "    def round1(self, parties, a_shr, b_shr, c_shr, t):\n",
    "        self.input = (a_shr, b_shr, c_shr)\n",
    "        self.c_shr = c_shr # save this one for later\n",
    "        self.parties = parties\n",
    "        n = len(parties)\n",
    "        assert t <= n/2\n",
    "        \n",
    "        # YOUR CODE HERE\n",
    "        raise NotImplementedError()\n",
    "\n",
    "    def round2(self):\n",
    "        n = len(self.parties)\n",
    "        \n",
    "        # YOUR CODE HERE\n",
    "        raise NotImplementedError()\n",
    "    \n",
    "    def round3(self):\n",
    "        n = len(self.parties)\n",
    "        \n",
    "        # YOUR CODE HERE\n",
    "        raise NotImplementedError()"
   ]
  },
  {
   "cell_type": "code",
   "execution_count": null,
   "metadata": {
    "deletable": false,
    "editable": false,
    "nbgrader": {
     "cell_type": "code",
     "checksum": "7ad8f33935e780e35b92854d0c9678dd",
     "grade": true,
     "grade_id": "cell-0151a9043c28b815",
     "locked": true,
     "points": 20,
     "schema_version": 3,
     "solution": false,
     "task": false
    }
   },
   "outputs": [],
   "source": [
    "# TEST CASE for question 2\n",
    "\n",
    "NUM_PARTIES = 6\n",
    "# (t, n)-Shamir scheme\n",
    "n = NUM_PARTIES\n",
    "t = 3\n",
    "\n",
    "shares1 = share_shamir(t, n, 5)\n",
    "shares2 = share_shamir(t, n, 6)\n",
    "shares3 = share_shamir(t, n, 7)\n",
    "\n",
    "\n",
    "parties = [MultThreeParty() for _ in range(NUM_PARTIES)]\n",
    "\n",
    "for p,s1,s2,s3 in zip(parties, shares1, shares2, shares3):\n",
    "    p.round1(parties, s1, s2, s3, t)\n",
    "for p in parties:\n",
    "    p.round2()\n",
    "for p in parties:\n",
    "    p.round3()\n",
    "for p in parties:\n",
    "    print(p.get_view())\n",
    "\n",
    "output_shares = [p.output for p in parties]\n",
    "print('Reconstruction, with all shares:', reconstruct_shamir(output_shares))\n",
    "print('Reconstruction, with 3 shares:', reconstruct_shamir(output_shares[:3]))\n",
    "print('Reconstruction, with 2 shares:', reconstruct_shamir(output_shares[:2]))\n",
    "\n",
    "assert reconstruct_shamir(output_shares) == 210\n",
    "assert reconstruct_shamir(output_shares[:3]) == 210\n",
    "assert reconstruct_shamir(output_shares[:2]) != 210"
   ]
  },
  {
   "cell_type": "markdown",
   "metadata": {},
   "source": [
    "## Question 3\n",
    "\n",
    "Describe a protocol to compute the product of a list of $k$ numbers. The input numbers will be secret-shared according to a $(t,n)$ Shamir secret sharing scheme before the protocol starts, and each party will receive a list containing one share of each number. Each party should output *one share of the product*, using a $(t, n)$ Shamir secret sharing scheme (i.e. the threshold for the output should be the same as the threshold for the input).\n",
    "\n",
    "\\begin{equation*}\n",
    "\\textbf{Functionality: Product of $k$ Numbers}\\\\\n",
    "\\fbox{$\\mathcal{F}(x_1, \\dots, x_k) = \\prod_{i=1}^k x_i$}\n",
    "\\end{equation*}\n",
    "\n",
    "**HINT**: This problem is intentionally open-ended. The number of rounds of communication between the parties will depend on $k$."
   ]
  },
  {
   "cell_type": "markdown",
   "metadata": {
    "deletable": false,
    "nbgrader": {
     "cell_type": "markdown",
     "checksum": "53c9c27a96d7c98adcd6db53a5814e42",
     "grade": true,
     "grade_id": "cell-3c058e250a99af4a",
     "locked": false,
     "points": 20,
     "schema_version": 3,
     "solution": true,
     "task": false
    }
   },
   "source": [
    "YOUR ANSWER HERE"
   ]
  },
  {
   "cell_type": "markdown",
   "metadata": {},
   "source": [
    "## Question 4\n",
    "\n",
    "Implement your protocol from question 3."
   ]
  },
  {
   "cell_type": "code",
   "execution_count": null,
   "metadata": {
    "deletable": false,
    "nbgrader": {
     "cell_type": "code",
     "checksum": "fa83de9017aa4f6aca6b5824bc23b60a",
     "grade": false,
     "grade_id": "cell-1fe3ab52cdff1e68",
     "locked": false,
     "schema_version": 3,
     "solution": true,
     "task": false
    }
   },
   "outputs": [],
   "source": [
    "class MultListParty(Party):\n",
    "    def round1(self, parties, xs, t):\n",
    "        self.input = xs\n",
    "        self.xs = xs\n",
    "        self.parties = parties\n",
    "        n = len(parties)\n",
    "        assert t <= n/2\n",
    "        \n",
    "        # YOUR CODE HERE\n",
    "        raise NotImplementedError()\n",
    "\n",
    "    def roundn(self, round):\n",
    "        n = len(self.parties)\n",
    "        \n",
    "        # YOUR CODE HERE\n",
    "        raise NotImplementedError()\n",
    "    \n",
    "    def roundk(self, round):\n",
    "        n = len(self.parties)\n",
    "        \n",
    "        # YOUR CODE HERE\n",
    "        raise NotImplementedError()"
   ]
  },
  {
   "cell_type": "code",
   "execution_count": null,
   "metadata": {},
   "outputs": [],
   "source": [
    "# Driver function for question 4\n",
    "# NOTE: you can modify this function, if it helps for your implementation\n",
    "# You may also want to uncomment pieces of the function for debugging\n",
    "def run_list_prod():\n",
    "    NUM_PARTIES = 6\n",
    "    # (t, n)-Shamir scheme\n",
    "    n = NUM_PARTIES\n",
    "    t = 3\n",
    "    k = 5\n",
    "\n",
    "    parties = [MultListParty() for _ in range(NUM_PARTIES)]\n",
    "    nums = [2 for _ in range(k)]\n",
    "    shares = [share_shamir(t, n, x) for x in nums]\n",
    "    share_groups = list(zip(*shares))\n",
    "\n",
    "    for p,xs in zip(parties, share_groups):\n",
    "        p.round1(parties, xs, t)\n",
    "        \n",
    "    for round_num in range(2, k+1):\n",
    "        for p in parties:\n",
    "            p.roundn(round_num)\n",
    "            \n",
    "    for p in parties:\n",
    "        p.roundk(k+1)\n",
    "        \n",
    "#     for p in parties:\n",
    "#         print(p.get_view())\n",
    "\n",
    "    output_shares = [p.output for p in parties]\n",
    "    \n",
    "#     print('Reconstruction, with all shares:', reconstruct_shamir(output_shares))\n",
    "#     print('Reconstruction, with 3 shares:', reconstruct_shamir(output_shares[:3]))\n",
    "#     print('Reconstruction, with 2 shares:', reconstruct_shamir(output_shares[:2]))\n",
    "    \n",
    "    return nums, output_shares"
   ]
  },
  {
   "cell_type": "code",
   "execution_count": null,
   "metadata": {
    "deletable": false,
    "editable": false,
    "nbgrader": {
     "cell_type": "code",
     "checksum": "6f89cf0a8949e1036cb81066024c8caa",
     "grade": true,
     "grade_id": "cell-c4b396dc2ba93187",
     "locked": true,
     "points": 20,
     "schema_version": 3,
     "solution": false,
     "task": false
    }
   },
   "outputs": [],
   "source": [
    "# TEST CASE for question 4\n",
    "nums, output_shares = run_list_prod()\n",
    "assert reconstruct_shamir(output_shares) == np.prod(nums)\n",
    "assert reconstruct_shamir(output_shares[:3]) == np.prod(nums)\n",
    "assert reconstruct_shamir(output_shares[:2]) != np.prod(nums)"
   ]
  }
 ],
 "metadata": {
  "kernelspec": {
   "display_name": "Python 3",
   "language": "python",
   "name": "python3"
  },
  "language_info": {
   "codemirror_mode": {
    "name": "ipython",
    "version": 3
   },
   "file_extension": ".py",
   "mimetype": "text/x-python",
   "name": "python",
   "nbconvert_exporter": "python",
   "pygments_lexer": "ipython3",
   "version": "3.6.10"
  }
 },
 "nbformat": 4,
 "nbformat_minor": 4
}
