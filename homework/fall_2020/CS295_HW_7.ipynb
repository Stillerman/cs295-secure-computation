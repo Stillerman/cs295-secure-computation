{
 "cells": [
  {
   "cell_type": "markdown",
   "metadata": {},
   "source": [
    "# CS295/395: Secure Distributed Computation\n",
    "## Homework 7"
   ]
  },
  {
   "cell_type": "code",
   "execution_count": null,
   "metadata": {},
   "outputs": [],
   "source": [
    "# Imports and definitions\n",
    "import numpy as np\n",
    "from collections import defaultdict\n",
    "from collections import namedtuple\n",
    "import urllib.request"
   ]
  },
  {
   "cell_type": "markdown",
   "metadata": {},
   "source": [
    "## Definitions: Paillier Cryptosystem"
   ]
  },
  {
   "cell_type": "code",
   "execution_count": null,
   "metadata": {},
   "outputs": [],
   "source": [
    "import random\n",
    "import sys\n",
    "import math\n",
    "\n",
    "def ipow(a, b, n):\n",
    "    \"\"\"calculates (a**b) % n via binary exponentiation, yielding itermediate\n",
    "       results as Rabin-Miller requires\"\"\"\n",
    "    A = a = a % n\n",
    "    yield A\n",
    "    t = 1\n",
    "    while t <= b:\n",
    "        t <<= 1\n",
    "\n",
    "    # t = 2**k, and t > b\n",
    "    t >>= 2\n",
    "    \n",
    "    while t:\n",
    "        A = (A * A) % n\n",
    "        if t & b:\n",
    "            A = (A * a) % n\n",
    "        yield A\n",
    "        t >>= 1\n",
    "\n",
    "def rabin_miller_witness(test, possible):\n",
    "    \"\"\"Using Rabin-Miller witness test, will return True if possible is\n",
    "       definitely not prime (composite), False if it may be prime.\"\"\"    \n",
    "    return 1 not in ipow(test, possible-1, possible)\n",
    "\n",
    "smallprimes = (2,3,5,7,11,13,17,19,23,29,31,37,41,43,\n",
    "               47,53,59,61,67,71,73,79,83,89,97)\n",
    "\n",
    "def default_k(bits):\n",
    "    return int(max(40, 2 * bits))\n",
    "\n",
    "def is_probably_prime(possible, k=None):\n",
    "    if possible == 1:\n",
    "        return True\n",
    "    if k is None:\n",
    "        k = default_k(possible.bit_length())\n",
    "    for i in smallprimes:\n",
    "        if possible == i:\n",
    "            return True\n",
    "        if possible % i == 0:\n",
    "            return False\n",
    "    for i in range(k):\n",
    "        test = random.randrange(2, possible - 1) | 1\n",
    "        if rabin_miller_witness(test, possible):\n",
    "            return False\n",
    "    return True\n",
    "\n",
    "def generate_prime(bits, k=None):\n",
    "    \"\"\"Will generate an integer of b bits that is probably prime \n",
    "       (after k trials). Reasonably fast on current hardware for \n",
    "       values of up to around 512 bits.\"\"\"    \n",
    "    assert bits >= 8\n",
    "\n",
    "    if k is None:\n",
    "        k = default_k(bits)\n",
    "\n",
    "    while True:\n",
    "        possible = random.randrange(2 ** (bits-1) + 1, 2 ** bits) | 1\n",
    "        if is_probably_prime(possible, k):\n",
    "            return possible"
   ]
  },
  {
   "cell_type": "code",
   "execution_count": null,
   "metadata": {},
   "outputs": [],
   "source": [
    "def invmod(a, p, maxiter=1000000):\n",
    "    \"\"\"The multiplicitive inverse of a in the integers modulo p:\n",
    "         a * b == 1 mod p\n",
    "       Returns b.\n",
    "       (http://code.activestate.com/recipes/576737-inverse-modulo-p/)\"\"\"\n",
    "    if a == 0:\n",
    "        raise ValueError('0 has no inverse mod %d' % p)\n",
    "    r = a\n",
    "    d = 1\n",
    "    for i in range(min(p, maxiter)):\n",
    "        d = ((p // r + 1) * d) % p\n",
    "        r = (d * a) % p\n",
    "        if r == 1:\n",
    "            break\n",
    "    else:\n",
    "        raise ValueError('%d has no inverse mod %d' % (a, p))\n",
    "    return d\n",
    "\n",
    "def modpow(base, exponent, modulus):\n",
    "    \"\"\"Modular exponent:\n",
    "         c = b ^ e mod m\n",
    "       Returns c.\n",
    "       (http://www.programmish.com/?p=34)\"\"\"\n",
    "    result = 1\n",
    "    while exponent > 0:\n",
    "        if exponent & 1 == 1:\n",
    "            result = (result * base) % modulus\n",
    "        exponent = exponent >> 1\n",
    "        base = (base * base) % modulus\n",
    "    return result\n",
    "\n",
    "class PrivateKey(object):\n",
    "\n",
    "    def __init__(self, p, q, n):\n",
    "        self.l = (p-1) * (q-1)\n",
    "        self.m = invmod(self.l, n)\n",
    "\n",
    "    def __repr__(self):\n",
    "        return '<PrivateKey: %s %s>' % (self.l, self.m)\n",
    "\n",
    "class PublicKey(object):\n",
    "\n",
    "    @classmethod\n",
    "    def from_n(cls, n):\n",
    "        return cls(n)\n",
    "\n",
    "    def __init__(self, n):\n",
    "        self.n = n\n",
    "        self.n_sq = n * n\n",
    "        self.g = n + 1\n",
    "\n",
    "    def __repr__(self):\n",
    "        return '<PublicKey: %s>' % self.n\n",
    "\n",
    "def generate_keypair(bits):\n",
    "    p = generate_prime(bits / 2)\n",
    "    q = generate_prime(bits / 2)\n",
    "    n = p * q\n",
    "    return PrivateKey(p, q, n), PublicKey(n)\n",
    "\n",
    "def encrypt(pub, plain):\n",
    "    while True:\n",
    "        r = generate_prime(round(math.log(pub.n, 2)))\n",
    "        if r > 0 and r < pub.n:\n",
    "            break\n",
    "    x = pow(r, pub.n, pub.n_sq)\n",
    "    cipher = (pow(pub.g, plain, pub.n_sq) * x) % pub.n_sq\n",
    "    return cipher\n",
    "\n",
    "def decrypt(priv, pub, cipher):\n",
    "    x = pow(cipher, priv.l, pub.n_sq) - 1\n",
    "    plain = ((x // pub.n) * priv.m) % pub.n\n",
    "    return plain"
   ]
  },
  {
   "cell_type": "code",
   "execution_count": null,
   "metadata": {
    "deletable": false,
    "nbgrader": {
     "cell_type": "code",
     "checksum": "a881786225af02262a8bd9f41c86eec2",
     "grade": false,
     "grade_id": "cell-88de461defcc5020",
     "locked": false,
     "schema_version": 3,
     "solution": true,
     "task": false
    }
   },
   "outputs": [],
   "source": [
    "def e_add(pub, a, b):\n",
    "    \"\"\"Add one encrypted integer to another\"\"\"\n",
    "    # YOUR CODE HERE\n",
    "    raise NotImplementedError()"
   ]
  },
  {
   "cell_type": "markdown",
   "metadata": {},
   "source": [
    "## Question 1 (30 points)\n",
    "\n",
    "Implement an electronic voting system using the Paillier cryptosystem. The system has two parts: a voter encrypts their vote using the cryptosystem and submits it to the server, and the server stores the encrypted votes and tallies them at the end of the election. The election server holds the public and private keys; the public key is available to the voters, so that they can encrypt their votes. Each voter should be able to verify that the server has correctly stored their vote, by consulting the encrypted votes to check that their vote indeed appears. Generate your public and private keys with at least 32-bit security.\n",
    "\n",
    "*Reference:* [Prêt à Voter with Paillier encryption](https://dl.acm.org/doi/10.1016/j.mcm.2008.05.015)."
   ]
  },
  {
   "cell_type": "code",
   "execution_count": null,
   "metadata": {
    "deletable": false,
    "nbgrader": {
     "cell_type": "code",
     "checksum": "9d343ad7dde63189f16af85ef0a1c1ad",
     "grade": false,
     "grade_id": "cell-a02bac0f79b43318",
     "locked": false,
     "schema_version": 3,
     "solution": true,
     "task": false
    }
   },
   "outputs": [],
   "source": [
    "voting_table = ['Donald Trump',\n",
    "                'Joseph Biden',\n",
    "                'Kanye West']\n",
    "\n",
    "class Voter:\n",
    "    def vote(self, candidate, server):\n",
    "        \"\"\"Submits an encrypted vote to the server\"\"\"\n",
    "        # YOUR CODE HERE\n",
    "        raise NotImplementedError()\n",
    "\n",
    "class ElectionServer:\n",
    "    def __init__(self):\n",
    "        self.votes = []\n",
    "        self.sk, self.pk = generate_keypair(32)\n",
    "    \n",
    "    def get_public_key(self):\n",
    "        \"\"\"Get the public key from the election server\"\"\"\n",
    "        return self.pk\n",
    "    \n",
    "    def submit_vote(self, ct_vote_vector):\n",
    "        \"\"\"Submit an (encrypted) vote to the election server\"\"\"\n",
    "        # YOUR CODE HERE\n",
    "        raise NotImplementedError()\n",
    "    \n",
    "    def show_votes(self):\n",
    "        \"\"\"Show the submitted (encrypted) votes\"\"\"\n",
    "        return self.votes\n",
    "    \n",
    "    def tally_votes(self):\n",
    "        \"\"\"Tally up the votes at the end of the election. Returns a list of totals in the \n",
    "        same order as the list of candidates.\"\"\"\n",
    "        # YOUR CODE HERE\n",
    "        raise NotImplementedError()"
   ]
  },
  {
   "cell_type": "code",
   "execution_count": null,
   "metadata": {
    "deletable": false,
    "editable": false,
    "nbgrader": {
     "cell_type": "code",
     "checksum": "15333579375bbbc459d355f4be024507",
     "grade": true,
     "grade_id": "cell-8799a840e69cbb0b",
     "locked": true,
     "points": 30,
     "schema_version": 3,
     "solution": false,
     "task": false
    }
   },
   "outputs": [],
   "source": [
    "# TEST CASE\n",
    "es = ElectionServer()\n",
    "\n",
    "Voter().vote('Donald Trump', es)\n",
    "Voter().vote('Donald Trump', es)\n",
    "Voter().vote('Joseph Biden', es)\n",
    "Voter().vote('Joseph Biden', es)\n",
    "\n",
    "#print(e.show_billboard())\n",
    "assert es.tally_votes() == [2, 2, 0]"
   ]
  },
  {
   "cell_type": "markdown",
   "metadata": {},
   "source": [
    "## Question 2 (10 points)\n",
    "\n",
    "In 2-5 sentences, answer the following:\n",
    "\n",
    "- What trust assumptions do we make about the *election server* in this election system?\n",
    "- What trust assumptions do we make about the *voter* in this election system?"
   ]
  },
  {
   "cell_type": "markdown",
   "metadata": {
    "deletable": false,
    "nbgrader": {
     "cell_type": "markdown",
     "checksum": "fa80cb0a6734833fcbb6eaf4025e0f60",
     "grade": true,
     "grade_id": "cell-4f34dd2ccfad65d9",
     "locked": false,
     "points": 10,
     "schema_version": 3,
     "solution": true,
     "task": false
    }
   },
   "source": [
    "YOUR ANSWER HERE"
   ]
  },
  {
   "cell_type": "markdown",
   "metadata": {},
   "source": [
    "## Question 3 (10 points)\n",
    "\n",
    "In 2-5 sentences, answer the following:\n",
    "\n",
    "- What is one way a malicious *election server* could break the rules of the election?\n",
    "- What are two ways a malicious *voter* could break the rules of the election?"
   ]
  },
  {
   "cell_type": "markdown",
   "metadata": {
    "deletable": false,
    "nbgrader": {
     "cell_type": "markdown",
     "checksum": "0eb4c110a7396f410f0155a8a76e78a7",
     "grade": true,
     "grade_id": "cell-9a2283bee5cfc28d",
     "locked": false,
     "points": 10,
     "schema_version": 3,
     "solution": true,
     "task": false
    }
   },
   "source": [
    "YOUR ANSWER HERE"
   ]
  },
  {
   "cell_type": "markdown",
   "metadata": {},
   "source": [
    "## Question 4 (30 points)\n",
    "\n",
    "The [Boston Women's Workforce Council Gender Pay Gap Survey](https://thebwwc.org/mpc) uses MPC to deploy a survey of Boston-area businesses to determine how women and men are paid differently. Each business submits encrypted values for their employees' salaries, and the system calculates the average salaries for women and men across all of the businesses. This design protects the privacy of individual employees, and protects individual businesses from embarrassment.\n",
    "\n",
    "Implement a system for conducting a survey like this using the Paillier cryptosystem. Participants should submit their own salaries, and specify their gender. The survey server should collect responses, and at the end of the survey, calculate the average salaries for men and women. Use at least 32-bit security."
   ]
  },
  {
   "cell_type": "code",
   "execution_count": null,
   "metadata": {
    "deletable": false,
    "nbgrader": {
     "cell_type": "code",
     "checksum": "4e4ad6f2af5c3186d5fddd004a243aa0",
     "grade": false,
     "grade_id": "cell-19933ffd9dd459cc",
     "locked": false,
     "schema_version": 3,
     "solution": true,
     "task": false
    }
   },
   "outputs": [],
   "source": [
    "class GenderPayGapSurveyParticipant:\n",
    "    def submit_salary(self, salary, gender, server):\n",
    "        \"\"\"Submits an encrypted survey response to the server\"\"\"\n",
    "\n",
    "        # YOUR CODE HERE\n",
    "        raise NotImplementedError()\n",
    "\n",
    "class GenderPayGapSurveyServer:\n",
    "    def __init__(self):\n",
    "        self.salaries = []\n",
    "        self.genders = []\n",
    "        self.sk, self.pk = generate_keypair(32)\n",
    "    \n",
    "    def get_public_key(self):\n",
    "        return self.pk\n",
    "        \n",
    "    def submit_salary(self, ct_salary_vector, ct_gender_vector):\n",
    "        \"\"\"Store an entry in the survey\"\"\"\n",
    "\n",
    "        # YOUR CODE HERE\n",
    "        raise NotImplementedError()\n",
    "    \n",
    "    def show_salaries(self):\n",
    "        \"\"\"Display the (encrypted) submitted salaries\"\"\"\n",
    "        return self.salaries\n",
    "    \n",
    "    def compute_average_salaries(self):\n",
    "        \"\"\"Tally the results, decrypt, and return a 2-tuple: (average female salary, average male salary)\"\"\"\n",
    "        \n",
    "        # YOUR CODE HERE\n",
    "        raise NotImplementedError()"
   ]
  },
  {
   "cell_type": "code",
   "execution_count": null,
   "metadata": {
    "deletable": false,
    "editable": false,
    "nbgrader": {
     "cell_type": "code",
     "checksum": "e9bed937112e003dec4ab657ac1a92d2",
     "grade": true,
     "grade_id": "cell-9eefab3883149a9a",
     "locked": true,
     "points": 30,
     "schema_version": 3,
     "solution": false,
     "task": false
    }
   },
   "outputs": [],
   "source": [
    "# TEST CASE\n",
    "s = GenderPayGapSurveyServer()\n",
    "GenderPayGapSurveyParticipant().submit_salary(10000, 'Male', s)\n",
    "GenderPayGapSurveyParticipant().submit_salary(30000, 'Female', s)\n",
    "GenderPayGapSurveyParticipant().submit_salary(15000, 'Male', s)\n",
    "GenderPayGapSurveyParticipant().submit_salary(20000, 'Female', s)\n",
    "assert s.compute_average_salaries() == (25000.0, 12500.0)"
   ]
  },
  {
   "cell_type": "markdown",
   "metadata": {},
   "source": [
    "## Question 5 (10 points)\n",
    "\n",
    "In 2-5 sentences, answer the following:\n",
    "\n",
    "- What is one way a malicious *survey server* could break the rules of the survey?\n",
    "- What are two ways a malicious *survey participant* could break the rules of the survey?"
   ]
  },
  {
   "cell_type": "markdown",
   "metadata": {
    "deletable": false,
    "nbgrader": {
     "cell_type": "markdown",
     "checksum": "30f224afc3d9144d651013871eb55bde",
     "grade": true,
     "grade_id": "cell-975bca3c01e327e3",
     "locked": false,
     "points": 10,
     "schema_version": 3,
     "solution": true,
     "task": false
    }
   },
   "source": [
    "YOUR ANSWER HERE"
   ]
  }
 ],
 "metadata": {
  "kernelspec": {
   "display_name": "Python 3",
   "language": "python",
   "name": "python3"
  },
  "language_info": {
   "codemirror_mode": {
    "name": "ipython",
    "version": 3
   },
   "file_extension": ".py",
   "mimetype": "text/x-python",
   "name": "python",
   "nbconvert_exporter": "python",
   "pygments_lexer": "ipython3",
   "version": "3.6.10"
  }
 },
 "nbformat": 4,
 "nbformat_minor": 4
}
