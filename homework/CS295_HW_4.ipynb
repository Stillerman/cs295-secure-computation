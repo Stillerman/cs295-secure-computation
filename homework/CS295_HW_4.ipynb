{
 "cells": [
  {
   "cell_type": "markdown",
   "metadata": {},
   "source": [
    "# CS295/395: Secure Distributed Computation\n",
    "## Homework 4"
   ]
  },
  {
   "cell_type": "markdown",
   "metadata": {},
   "source": [
    "## Definitions"
   ]
  },
  {
   "cell_type": "code",
   "execution_count": 1,
   "metadata": {},
   "outputs": [],
   "source": [
    "# Imports and definitions\n",
    "import numpy as np\n",
    "from collections import defaultdict\n",
    "import urllib.request\n",
    "import galois\n",
    "GF = galois.GF(2 ** 13 - 1)\n",
    "\n",
    "class Party:\n",
    "    \"\"\"A participant in a multiparty computation protocol.\"\"\"\n",
    "    def __init__(self):\n",
    "        \"\"\"Initialize the field size and dictionary to hold received messages.\"\"\"\n",
    "        self.input = None\n",
    "        self.output = None\n",
    "        self.received = defaultdict(list)\n",
    "    \n",
    "    def send(self, other, round, msg):\n",
    "        \"\"\"Simulate sending a message `msg` to another party `other` during round `round`\"\"\"\n",
    "        other.received[round].append(msg)\n",
    "\n",
    "    def get_view(self):\n",
    "        \"\"\"Returns the view of this party: its input, output, and received messages.\"\"\"\n",
    "        return (self.input, self.output, dict(self.received))\n",
    "\n",
    "# Generate Shamir shares for secret v with threshold t and number of shares n\n",
    "def shamir_share(v, t, n):\n",
    "    coefficients = GF([GF.Random() for _ in range(t-1)] + [v])\n",
    "    poly = galois.Poly(coefficients)\n",
    "    shares = [(GF(x), poly(GF(x))) for x in range(1, n+1)]\n",
    "    return shares\n",
    "\n",
    "# Reconstruct the secret from at least t Shamir shares\n",
    "def reconstruct(shares):\n",
    "    xs = GF([s[0] for s in shares])\n",
    "    ys = GF([s[1] for s in shares])\n",
    "    poly = galois.lagrange_poly(xs, ys)\n",
    "    #print(poly)\n",
    "    secret = poly(0)\n",
    "    \n",
    "    return secret"
   ]
  },
  {
   "cell_type": "markdown",
   "metadata": {},
   "source": [
    "## Question 1 (20 points)\n",
    "\n",
    "Describe a protocol to multiply three input numbers. The input numbers will be secret-shared according to a $(t,n)$ Shamir secret sharing scheme before the protocol starts, and each party will receive one share of each number. Each party should output *one share of the product*, using a $(t, n)$ Shamir secret sharing scheme (i.e. the threshold for the output should be the same as the threshold for the input).\n",
    "\n",
    "\\begin{equation*}\n",
    "\\textbf{Functionality: Multiply Three Numbers}\\\\\n",
    "\\fbox{$\\mathcal{F}(a, b, c) = a \\cdot b \\cdot c$}\n",
    "\\end{equation*}\n",
    "\n",
    "**HINT**: reference the in-class exercise from 9/19/2022."
   ]
  },
  {
   "cell_type": "markdown",
   "metadata": {
    "deletable": false,
    "nbgrader": {
     "cell_type": "markdown",
     "checksum": "ab496ff40c62741773f1f797dcb98854",
     "grade": true,
     "grade_id": "cell-6df68c07c24abf58",
     "locked": false,
     "points": 20,
     "schema_version": 3,
     "solution": true,
     "task": false
    }
   },
   "source": [
    "Do a single multiplecation of shamir shares and then deg reduction\n",
    "\n",
    "- R1\n",
    "  - Each party $P_i$ recieves shares $a_i$, $b_i$, $c_i$ as input\n",
    "  - Let $s_i = a_i * b_i$ - threshold for $s_i$ will be less than or equal to $2t$ where t is the initial threshold\n",
    "    - $s_i$ is exactly $q(\\alpha_i)$\n",
    "  - $P_i$ computes $h_i^1 ... h_i^n$ = `share`($s_i$, t, n)\n",
    "  - $P_i$ sends share $h_i^j$ to party $j$\n",
    "- R2\n",
    "  - Each party $P_i$ recieves the shares $h_j^i$ (yes the sub and superscripts are flipped)\n",
    "  - $P_i$ computes $\\sum_j (h_j^i * \\lambda_j)$. This value is the product of $a$ and $b$ but not yet $c$. So then this product is shamir shared with threshold $t$, and similarly to round 1, shares of $c$ are multiplied in and then degree reduction started.\n",
    "- R3\n",
    "  - Each party $P_i$ recieves the shares $h_j^i$ (yes the sub and superscripts are flipped)\n",
    "  - $P_i$ computes $\\sum_j (h_j^i * \\lambda_j)$. This is the final product"
   ]
  },
  {
   "cell_type": "markdown",
   "metadata": {},
   "source": [
    "## Question 2\n",
    "\n",
    "Implement your protocol from question 1."
   ]
  },
  {
   "cell_type": "code",
   "execution_count": 2,
   "metadata": {
    "deletable": false,
    "nbgrader": {
     "cell_type": "code",
     "checksum": "6d2be65c3f31b1c50bf4fa705307b583",
     "grade": false,
     "grade_id": "cell-47362684de6912c6",
     "locked": false,
     "schema_version": 3,
     "solution": true,
     "task": false
    }
   },
   "outputs": [],
   "source": [
    "class MultThreeParty(Party):\n",
    "    def round1(self, parties, a_shr, b_shr, c_shr, t):\n",
    "        self.input = (a_shr, b_shr, c_shr)\n",
    "        self.c_shr = c_shr # save this one for later\n",
    "        self.parties = parties\n",
    "        n = len(parties)\n",
    "        assert t <= n/2\n",
    "        \n",
    "        # - Each party $P_i$ recieves shares $a_i$, $b_i$ as input\n",
    "        # - Let $s_i = a_i * b_i$ - threshold for $s_i$ will be less than or equal to $2t$ where t is the initial threshold\n",
    "        #     - $s_i$ is exactly $q(\\alpha_i)$\n",
    "\n",
    "        a_x, a_y = a_shr\n",
    "        b_x, b_y = b_shr\n",
    "        c_x, c_y = c_shr\n",
    "\n",
    "        # they better have the same x coord\n",
    "        assert a_x == b_x == c_x\n",
    "\n",
    "        s_i = a_y * b_y #q(x_i) higher degree than we'd like (degree 2t at most)\n",
    "        self.x_coord = a_x # save this for round 2\n",
    "\n",
    "        # - $P_i$ computes $h_i^1 ... h_i^n$ = `share`($s_i$, t, n)\n",
    "        h_i_js = shamir_share(s_i, t, n)\n",
    "        # - $P_i$ sends share $h_i^j$ to party $j$\n",
    "        for party, share in zip(self.parties, h_i_js):\n",
    "            self.send(party, 1, share)\n",
    "\n",
    "    def round2(self):\n",
    "        n = len(self.parties)\n",
    "        \n",
    "        # - Each party $P_i$ recieves the shares $h_j^i$ (yes the sub and superscripts are flipped)\n",
    "        h_j_is = self.received[1]\n",
    "        h_j_is_y = [s[1] for s in h_j_is]\n",
    "\n",
    "        # $P_i$ computes $\\sum_j (h_j^i * \\lambda_j)$ and ouptuts this value as its own share of the origional product with threshold $t$\n",
    "        V_a = GF(np.vander(range(1,n+1), increasing=True))\n",
    "        V_a_inv = np.linalg.inv(V_a)\n",
    "        lambda_js = V_a_inv[0]\n",
    "\n",
    "        prods = [h_j_is_y[i] * lambda_js[i] for i in range(n)]\n",
    "\n",
    "        self.new_share = self.x_coord, GF(prods).sum()\n",
    "\n",
    "        n_x, n_y = self.new_share\n",
    "        c_x, c_y = self.c_shr\n",
    "\n",
    "        s_i = n_y * c_y\n",
    "\n",
    "        h_i_js = shamir_share(s_i, t, n)\n",
    "\n",
    "        for party, share in zip(self.parties, h_i_js):\n",
    "            self.send(party, 2, share)\n",
    "\n",
    "    def round3(self):\n",
    "        n = len(self.parties)\n",
    "\n",
    "        h_j_is = self.received[2]\n",
    "        h_j_is_y = [s[1] for s in h_j_is]\n",
    "\n",
    "        # $P_i$ computes $\\sum_j (h_j^i * \\lambda_j)$ and ouptuts this value as its own share of the origional product with threshold $t$\n",
    "        V_a = GF(np.vander(range(1,n+1), increasing=True))\n",
    "        V_a_inv = np.linalg.inv(V_a)\n",
    "        lambda_js = V_a_inv[0]\n",
    "\n",
    "        prods = [h_j_is_y[i] * lambda_js[i] for i in range(n)]\n",
    "\n",
    "        self.output = self.x_coord, GF(prods).sum()\n",
    "\n",
    "        return self.output"
   ]
  },
  {
   "cell_type": "code",
   "execution_count": 3,
   "metadata": {
    "deletable": false,
    "editable": false,
    "nbgrader": {
     "cell_type": "code",
     "checksum": "9c1a0b1ef554cba2696c9581f8b8042d",
     "grade": true,
     "grade_id": "cell-0151a9043c28b815",
     "locked": true,
     "points": 20,
     "schema_version": 3,
     "solution": false,
     "task": false
    }
   },
   "outputs": [
    {
     "name": "stdout",
     "output_type": "stream",
     "text": [
      "(GF(1, order=8191), GF(2743, order=8191))\n",
      "(GF(2, order=8191), GF(223, order=8191))\n",
      "(GF(3, order=8191), GF(841, order=8191))\n",
      "(GF(4, order=8191), GF(4597, order=8191))\n",
      "(GF(5, order=8191), GF(3300, order=8191))\n",
      "(GF(6, order=8191), GF(5141, order=8191))\n",
      "Reconstruction, with all shares: 210\n",
      "Reconstruction, with 3 shares: 210\n",
      "Reconstruction, with 2 shares: 5263\n"
     ]
    }
   ],
   "source": [
    "# TEST CASE for question 2\n",
    "\n",
    "NUM_PARTIES = 6\n",
    "# (t, n)-Shamir scheme\n",
    "n = NUM_PARTIES\n",
    "t = 3\n",
    "\n",
    "shares1 = shamir_share(5, t, n)\n",
    "shares2 = shamir_share(6, t, n)\n",
    "shares3 = shamir_share(7, t, n)\n",
    "\n",
    "parties = [MultThreeParty() for _ in range(NUM_PARTIES)]\n",
    "\n",
    "for p,s1,s2,s3 in zip(parties, shares1, shares2, shares3):\n",
    "    p.round1(parties, s1, s2, s3, t)\n",
    "for p in parties:\n",
    "    p.round2()\n",
    "for p in parties:\n",
    "    p.round3()\n",
    "for p in parties:\n",
    "    # print(p.get_view())\n",
    "    print(p.output)\n",
    "\n",
    "output_shares = [p.output for p in parties]\n",
    "print('Reconstruction, with all shares:', reconstruct(output_shares))\n",
    "print('Reconstruction, with 3 shares:', reconstruct(output_shares[:3]))\n",
    "print('Reconstruction, with 2 shares:', reconstruct(output_shares[:2]))\n",
    "\n",
    "assert reconstruct(output_shares) == 210\n",
    "assert reconstruct(output_shares[:3]) == 210\n",
    "assert reconstruct(output_shares[:2]) != 210"
   ]
  },
  {
   "cell_type": "markdown",
   "metadata": {},
   "source": [
    "## Question 3\n",
    "\n",
    "Describe a protocol to compute the product of a list of $k$ numbers. The input numbers will be secret-shared according to a $(t,n)$ Shamir secret sharing scheme before the protocol starts, and each party will receive a list containing one share of each number. Each party should output *one share of the product*, using a $(t, n)$ Shamir secret sharing scheme (i.e. the threshold for the output should be the same as the threshold for the input).\n",
    "\n",
    "\\begin{equation*}\n",
    "\\textbf{Functionality: Product of $k$ Numbers}\\\\\n",
    "\\fbox{$\\mathcal{F}(x_1, \\dots, x_k) = \\prod_{i=1}^k x_i$}\n",
    "\\end{equation*}\n",
    "\n",
    "**HINT**: This problem is intentionally open-ended. The number of rounds of communication between the parties will depend on $k$."
   ]
  },
  {
   "cell_type": "markdown",
   "metadata": {
    "deletable": false,
    "nbgrader": {
     "cell_type": "markdown",
     "checksum": "53c9c27a96d7c98adcd6db53a5814e42",
     "grade": true,
     "grade_id": "cell-3c058e250a99af4a",
     "locked": false,
     "points": 20,
     "schema_version": 3,
     "solution": true,
     "task": false
    }
   },
   "source": [
    "- R1\n",
    "  - Each party $P_i$ recieves shares $x_1, x_2, ..., x_k$ as input\n",
    "  - Let $s_i = x_1 * x_2$ - threshold for $s_i$ will be less than or equal to $2t$ where t is the initial threshold\n",
    "  - $P_i$ computes $h_i^1 ... h_i^n$ = `share`($s_i$, t, n)\n",
    "  - $P_i$ sends share $h_i^j$ to party $j$\n",
    "- RN\n",
    "  - Each party $P_i$ recieves the shares $h_j^i$ (yes the sub and superscripts are flipped)\n",
    "  - $P_i$ computes $t_i = \\sum_j (h_j^i * \\lambda_j)$. This value is the product of $x_{n-1} * x_{n-2} * ... * x_1$ (all the previous $x$'s)\n",
    "    - If all the numbers have been multiplied in, this is our output and we are done\n",
    "  - $s_i = t_i * x_n$ - threshold for $s_i$ will be less than or equal to $2t$ where t is the initial threshold\n",
    "  - $P_i$ computes $h_i^1 ... h_i^n$ = `share`($s_i$, t, n)\n",
    "  - $P_i$ sends share $h_i^j$ to party $j$"
   ]
  },
  {
   "cell_type": "markdown",
   "metadata": {},
   "source": [
    "## Question 4\n",
    "\n",
    "Implement your protocol from question 3."
   ]
  },
  {
   "cell_type": "code",
   "execution_count": 4,
   "metadata": {
    "deletable": false,
    "nbgrader": {
     "cell_type": "code",
     "checksum": "576ab48c1106bc7625e7aa35c9c7ea50",
     "grade": false,
     "grade_id": "cell-1fe3ab52cdff1e68",
     "locked": false,
     "schema_version": 3,
     "solution": true,
     "task": false
    }
   },
   "outputs": [],
   "source": [
    "class MultListParty(Party):\n",
    "    def round1(self, parties, xs, t):\n",
    "        self.input = xs\n",
    "        self.xs = xs\n",
    "        self.parties = parties\n",
    "        self.is_done = False\n",
    "        n = len(parties)\n",
    "        assert t <= n/2\n",
    "\n",
    "        a_x, a_y = xs[0]\n",
    "        b_x, b_y = xs[1]\n",
    "\n",
    "        # they better have the same x coord\n",
    "        assert a_x == b_x\n",
    "\n",
    "        s_i = a_y * b_y #q(x_i) higher degree than we'd like (degree 2t at most)\n",
    "        self.x_coord = a_x # save this for later\n",
    "        \n",
    "        h_i_js = shamir_share(s_i, t, n)\n",
    "  \n",
    "        for party, share in zip(self.parties, h_i_js):\n",
    "            self.send(party, 1, share)\n",
    "\n",
    "\n",
    "    def roundn(self, round):\n",
    "        n = len(self.parties)\n",
    "\n",
    "        # - Each party $P_i$ recieves the shares $h_j^i$ (yes the sub and superscripts are flipped)\n",
    "        h_j_is = self.received[round - 1]\n",
    "        h_j_is_y = [s[1] for s in h_j_is]\n",
    "\n",
    "        # $P_i$ computes $\\sum_j (h_j^i * \\lambda_j)$ and ouptuts this value as its own share of the origional product with threshold $t$\n",
    "        V_a = GF(np.vander(range(1,n+1), increasing=True))\n",
    "        V_a_inv = np.linalg.inv(V_a)\n",
    "        lambda_js = V_a_inv[0]\n",
    "\n",
    "        prods = [h_j_is_y[i] * lambda_js[i] for i in range(n)]\n",
    "\n",
    "        self.cummulative_share = self.x_coord, GF(prods).sum()\n",
    "\n",
    "\n",
    "        if round == len(self.xs):\n",
    "            self.is_done = True\n",
    "            self.output = self.cummulative_share\n",
    "            return\n",
    "\n",
    "        # add the next term to the cummulative share\n",
    "\n",
    "        a_x, a_y = self.cummulative_share\n",
    "        b_x, b_y = self.xs[round]\n",
    "\n",
    "        # they better have the same x coord\n",
    "        assert a_x == b_x\n",
    "\n",
    "        s_i = a_y * b_y #q(x_i) higher degree than we'd like (degree 2t at most)\n",
    "\n",
    "        h_i_js = shamir_share(s_i, t, n)\n",
    "\n",
    "        for party, share in zip(self.parties, h_i_js):\n",
    "            self.send(party, round, share)\n",
    "\n",
    "    "
   ]
  },
  {
   "cell_type": "code",
   "execution_count": 5,
   "metadata": {},
   "outputs": [],
   "source": [
    "# Driver function for question 4\n",
    "# NOTE: you can modify this function, if it helps for your implementation\n",
    "# You may also want to uncomment pieces of the function for debugging\n",
    "def run_list_prod():\n",
    "    NUM_PARTIES = 6\n",
    "    # (t, n)-Shamir scheme\n",
    "    n = NUM_PARTIES\n",
    "    t = 3\n",
    "    k = 5\n",
    "\n",
    "    parties = [MultListParty() for _ in range(NUM_PARTIES)]\n",
    "    nums = [i+1 for i in range(k)]\n",
    "    shares = [shamir_share(x, t, n) for x in nums]\n",
    "    share_groups = list(zip(*shares))\n",
    "\n",
    "    for p,xs in zip(parties, share_groups):\n",
    "        p.round1(parties, xs, t)\n",
    "\n",
    "    round_num = 2\n",
    "    while not parties[0].is_done:\n",
    "        for p in parties:\n",
    "            p.roundn(round_num)   \n",
    " \n",
    "        round_num += 1\n",
    "\n",
    "    output_shares = [p.output for p in parties]\n",
    "\n",
    "    print(output_shares)\n",
    "    \n",
    "    print('Reconstruction, with all shares:', reconstruct(output_shares))\n",
    "    print('Reconstruction, with 3 shares:', reconstruct(output_shares[:3]))\n",
    "    print('Reconstruction, with 2 shares:', reconstruct(output_shares[:2]))\n",
    "    return nums, output_shares"
   ]
  },
  {
   "cell_type": "code",
   "execution_count": 6,
   "metadata": {
    "deletable": false,
    "editable": false,
    "nbgrader": {
     "cell_type": "code",
     "checksum": "6139413bdec5fac9b5e0cc7f26a7fe0d",
     "grade": true,
     "grade_id": "cell-c4b396dc2ba93187",
     "locked": true,
     "points": 20,
     "schema_version": 3,
     "solution": false,
     "task": false
    }
   },
   "outputs": [
    {
     "name": "stdout",
     "output_type": "stream",
     "text": [
      "[(GF(1, order=8191), GF(1635, order=8191)), (GF(2, order=8191), GF(5362, order=8191)), (GF(3, order=8191), GF(3110, order=8191)), (GF(4, order=8191), GF(3070, order=8191)), (GF(5, order=8191), GF(5242, order=8191)), (GF(6, order=8191), GF(1435, order=8191))]\n",
      "Reconstruction, with all shares: 120\n",
      "Reconstruction, with 3 shares: 120\n",
      "Reconstruction, with 2 shares: 6099\n",
      "[1, 2, 3, 4, 5]\n",
      "120\n"
     ]
    }
   ],
   "source": [
    "# TEST CASE for question 4\n",
    "nums, output_shares = run_list_prod()\n",
    "\n",
    "print(nums)\n",
    "print(np.prod(nums))\n",
    "\n",
    "assert reconstruct(output_shares) == np.prod(nums)\n",
    "assert reconstruct(output_shares[:3]) == np.prod(nums)\n",
    "assert reconstruct(output_shares[:2]) != np.prod(nums)"
   ]
  },
  {
   "cell_type": "code",
   "execution_count": null,
   "metadata": {},
   "outputs": [],
   "source": []
  }
 ],
 "metadata": {
  "kernelspec": {
   "display_name": "Python 3.8.5 ('base')",
   "language": "python",
   "name": "python3"
  },
  "language_info": {
   "codemirror_mode": {
    "name": "ipython",
    "version": 3
   },
   "file_extension": ".py",
   "mimetype": "text/x-python",
   "name": "python",
   "nbconvert_exporter": "python",
   "pygments_lexer": "ipython3",
   "version": "3.8.5"
  },
  "vscode": {
   "interpreter": {
    "hash": "9d1aac6c46358ab76884be5fd1eb54486853f0ecd733b8a791c202a53a54f874"
   }
  }
 },
 "nbformat": 4,
 "nbformat_minor": 4
}
