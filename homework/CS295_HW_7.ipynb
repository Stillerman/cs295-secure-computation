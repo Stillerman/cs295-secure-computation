{
 "cells": [
  {
   "cell_type": "markdown",
   "metadata": {},
   "source": [
    "# CS295/395: Secure Distributed Computation\n",
    "## Homework 7"
   ]
  },
  {
   "cell_type": "code",
   "execution_count": 1,
   "metadata": {},
   "outputs": [],
   "source": [
    "# Imports and definitions\n",
    "import numpy as np\n",
    "import galois\n",
    "import random\n",
    "bits = 128\n",
    "\n",
    "from collections import defaultdict\n",
    "from collections import namedtuple"
   ]
  },
  {
   "cell_type": "markdown",
   "metadata": {},
   "source": [
    "## Definitions: Paillier Cryptosystem"
   ]
  },
  {
   "cell_type": "code",
   "execution_count": 2,
   "metadata": {},
   "outputs": [],
   "source": [
    "def keygen(bits):\n",
    "    \"\"\"Generates keys with `bits`-bits of security. Returns a pair: (secret key, public key).\"\"\"\n",
    "    def invmod(x, m):\n",
    "        gcd, s, t = galois.egcd(x, m)\n",
    "        assert gcd == 1\n",
    "        return s\n",
    "\n",
    "    p = galois.random_prime(int(bits/2))\n",
    "    q = galois.random_prime(int(bits/2))\n",
    "\n",
    "    n = p*q\n",
    "    g = n+1\n",
    "    lamb = (p-1) * (q-1)\n",
    "    mu = invmod(lamb, n)\n",
    "    \n",
    "    sk = (lamb, mu)\n",
    "    pk = (n, g)\n",
    "    return sk, pk\n",
    "\n",
    "def encrypt(m, pk):\n",
    "    \"\"\"Encrypts the message `m` with public key `pk`.\"\"\"\n",
    "    n, g = pk\n",
    "    n_sq = n**2\n",
    "    r = random.randint(1, n)\n",
    "    c = (pow(g, m, n_sq) * pow(r, n, n_sq)) % n_sq\n",
    "    return c\n",
    "\n",
    "def decrypt(c, sk, pk):\n",
    "    \"\"\"Decrypts the ciphertext `c` using secret key `sk` and public key `pk`.\"\"\"\n",
    "    lamb, mu = sk\n",
    "    n, g = pk\n",
    "    n_sq = n**2\n",
    "    L_result = (pow(c, lamb, n_sq) - 1)//n\n",
    "    return (L_result * mu) % n\n",
    "\n",
    "def e_add(c1, c2, pk):\n",
    "    \"\"\"Add one encrypted integer to another\"\"\"\n",
    "    n, g = pk\n",
    "\n",
    "    return c1 * c2 % n**2"
   ]
  },
  {
   "cell_type": "markdown",
   "metadata": {},
   "source": [
    "## Question 1 (30 points)\n",
    "\n",
    "Implement an electronic voting system using the Paillier cryptosystem. The system has two parts: a voter encrypts their vote using the cryptosystem and submits it to the server, and the server stores the encrypted votes and tallies them at the end of the election. The election server holds the public and private keys; the public key is available to the voters, so that they can encrypt their votes. Each voter should be able to verify that the server has correctly stored their vote, by consulting the encrypted votes to check that their vote indeed appears. Generate your public and private keys with at least 32-bit security.\n",
    "\n",
    "*Reference:* [Prêt à Voter with Paillier encryption](https://dl.acm.org/doi/10.1016/j.mcm.2008.05.015)."
   ]
  },
  {
   "cell_type": "code",
   "execution_count": 14,
   "metadata": {
    "deletable": false,
    "nbgrader": {
     "cell_type": "code",
     "checksum": "7d82c909b393f37e46380bfcdc7419bb",
     "grade": false,
     "grade_id": "cell-a02bac0f79b43318",
     "locked": false,
     "schema_version": 3,
     "solution": true,
     "task": false
    }
   },
   "outputs": [],
   "source": [
    "voting_table = ['Candidate 1',\n",
    "                'Candidate 2',\n",
    "                'Candidate 3']\n",
    "\n",
    "class Voter:\n",
    "    def vote(self, candidate, server):\n",
    "        \"\"\"Submits an encrypted vote to the server\"\"\"\n",
    "        pk = server.get_public_key()\n",
    "        vote_vector = [0] * len(voting_table)\n",
    "        vote_vector[voting_table.index(candidate)] = 1\n",
    "\n",
    "        server.submit_vote(list(map(lambda x: encrypt(x, pk), vote_vector)))\n",
    "\n",
    "class ElectionServer:\n",
    "    def __init__(self):\n",
    "        self.votes = []\n",
    "        self.sk, self.pk = keygen(32)\n",
    "    \n",
    "    def get_public_key(self):\n",
    "        \"\"\"Get the public key from the election server\"\"\"\n",
    "        return self.pk\n",
    "    \n",
    "    def submit_vote(self, ct_vote_vector):\n",
    "        \"\"\"Submit an (encrypted) vote to the election server\"\"\"\n",
    "        self.votes.append(ct_vote_vector)\n",
    "    \n",
    "    def show_votes(self):\n",
    "        \"\"\"Show the submitted (encrypted) votes\"\"\"\n",
    "        return self.votes\n",
    "    \n",
    "    def tally_votes(self):\n",
    "        \"\"\"Tally up the votes at the end of the election. Returns a list of totals in the \n",
    "        same order as the list of candidates.\"\"\"\n",
    "        counts = [0] * len(voting_table)\n",
    "        for vote in self.votes:\n",
    "            for i in range(len(vote)):\n",
    "                counts[i] += decrypt(vote[i], self.sk, self.pk)\n",
    "\n",
    "        return counts"
   ]
  },
  {
   "cell_type": "code",
   "execution_count": 17,
   "metadata": {
    "deletable": false,
    "editable": false,
    "nbgrader": {
     "cell_type": "code",
     "checksum": "5d5c4ef2f08a09d7cf4a191de7bd5c1e",
     "grade": true,
     "grade_id": "cell-8799a840e69cbb0b",
     "locked": true,
     "points": 30,
     "schema_version": 3,
     "solution": false,
     "task": false
    }
   },
   "outputs": [
    {
     "name": "stdout",
     "output_type": "stream",
     "text": [
      "[[20322011918549868218, 46905298359022256488, 65431666188464724967], [75738660543349761488, 60394294651941136084, 73665571411893016204], [50888446385809960771, 39476073820256226535, 52495054763526734813], [10831603828076707535, 43925675549136513615, 78271689507894561167]]\n"
     ]
    }
   ],
   "source": [
    "# TEST CASE\n",
    "es = ElectionServer()\n",
    "\n",
    "Voter().vote('Candidate 1', es)\n",
    "Voter().vote('Candidate 2', es)\n",
    "Voter().vote('Candidate 2', es)\n",
    "Voter().vote('Candidate 3', es)\n",
    "\n",
    "print(es.show_votes())\n",
    "assert es.tally_votes() == [1, 2, 1]"
   ]
  },
  {
   "cell_type": "markdown",
   "metadata": {},
   "source": [
    "## Question 2 (10 points)\n",
    "\n",
    "In 2-5 sentences, answer the following:\n",
    "\n",
    "- What trust assumptions do we make about the *election server* in this election system?\n",
    "- What trust assumptions do we make about the *voter* in this election system?"
   ]
  },
  {
   "cell_type": "markdown",
   "metadata": {
    "deletable": false,
    "nbgrader": {
     "cell_type": "markdown",
     "checksum": "fa80cb0a6734833fcbb6eaf4025e0f60",
     "grade": true,
     "grade_id": "cell-4f34dd2ccfad65d9",
     "locked": false,
     "points": 10,
     "schema_version": 3,
     "solution": true,
     "task": false
    }
   },
   "source": [
    "- What trust assumptions do we make about the *election server* in this election system?\n",
    "\n",
    "We are assuming the election server is going to show everyone the same voting billboard, not a fabricated billboard where your vote is real but the others are fake. Otherwise it could show each user their vote in the billboard, but all the others are just votes it creates to promote a certain candidate. We also assume the election server is not going to keep track of the order that people voted and not decrypt the votes until the very end. Otherwise, the votes are not private to the voting server. We are also assuming that it adds up the votes truthfully, because the voter cannot decrypt the votes on the billboard to verify that the server did the addition truthfully.\n",
    "\n",
    "- What trust assumptions do we make about the *voter* in this election system?\n",
    "\n",
    "We are assuming that they are going to construct the vote vector appropriately. In this current scheme they can send in vectors like `[0,2,0]` to vote for the same candidate twice or even `[0,-1,0]` to remove a vote from a candidate. We are also assuming that they will not collude with the other voters. If you knew the votes of all but one voter, then you can find out the vote of the non-colluding voter."
   ]
  },
  {
   "cell_type": "markdown",
   "metadata": {},
   "source": [
    "## Question 3 (10 points)\n",
    "\n",
    "In 2-5 sentences, answer the following:\n",
    "\n",
    "- What is one way a malicious *election server* could break the rules of the election?\n",
    "- What are two ways a malicious *voter* could break the rules of the election?"
   ]
  },
  {
   "cell_type": "markdown",
   "metadata": {
    "deletable": false,
    "nbgrader": {
     "cell_type": "markdown",
     "checksum": "0eb4c110a7396f410f0155a8a76e78a7",
     "grade": true,
     "grade_id": "cell-9a2283bee5cfc28d",
     "locked": false,
     "points": 10,
     "schema_version": 3,
     "solution": true,
     "task": false
    }
   },
   "source": [
    "- What is one way a malicious *election server* could break the rules of the election?\n",
    "\n",
    "They could display the encypted votes and usual but then produce a tally that was innacurate. If you voted `[1,0,0]` and the final tally is `[a,b,c]` with $a >= 1$ you cannot go back and \"check the servers work\" to see if it added truthfully.\n",
    "\n",
    "- What are two ways a malicious *voter* could break the rules of the election?\n",
    "\n",
    "They could vote with a vector that looked like `[2,0,-1]` to vote twice for one candidate and unvote the third candidate. They could also collude with the other voters to uncover the vote of a final, non-colluding voter."
   ]
  },
  {
   "cell_type": "markdown",
   "metadata": {},
   "source": [
    "## Question 4 (30 points)\n",
    "\n",
    "The [Boston Women's Workforce Council Gender Pay Gap Survey](https://thebwwc.org/mpc) uses MPC to deploy a survey of Boston-area businesses to determine how women and men are paid differently. Each business submits encrypted values for their employees' salaries, and the system calculates the average salaries for women and men across all of the businesses. This design protects the privacy of individual employees, and protects individual businesses from embarrassment.\n",
    "\n",
    "Implement a system for conducting a survey like this using the Paillier cryptosystem. Participants should submit their own salaries, and specify their gender. The survey server should collect responses, and at the end of the survey, calculate the average salaries for men and women. Use at least 32-bit security."
   ]
  },
  {
   "cell_type": "code",
   "execution_count": 26,
   "metadata": {
    "deletable": false,
    "nbgrader": {
     "cell_type": "code",
     "checksum": "a378e53d9c2c6d31b4483f1f45615a0f",
     "grade": false,
     "grade_id": "cell-19933ffd9dd459cc",
     "locked": false,
     "schema_version": 3,
     "solution": true,
     "task": false
    }
   },
   "outputs": [],
   "source": [
    "class GenderPayGapSurveyParticipant:\n",
    "    def submit_salary(self, salary, gender, server):\n",
    "        \"\"\"Submits an encrypted survey response to the server\"\"\"\n",
    "\n",
    "        salary_vector = [0,0]\n",
    "        gender_vector = [0,0]\n",
    "\n",
    "        if gender == \"Female\":\n",
    "            salary_vector[0] = salary\n",
    "            gender_vector[0] = 1\n",
    "        else:\n",
    "            salary_vector[1] = salary\n",
    "            gender_vector[1] = 1\n",
    "\n",
    "        pk = server.get_public_key()\n",
    "        server.submit_salary(\n",
    "            list(map(lambda x: encrypt(x, pk), salary_vector)),\n",
    "            list(map(lambda x: encrypt(x, pk), gender_vector))\n",
    "        )\n",
    "\n",
    "class GenderPayGapSurveyServer:\n",
    "    def __init__(self):\n",
    "        self.salaries = []\n",
    "        self.genders = []\n",
    "        self.sk, self.pk = keygen(32)\n",
    "    \n",
    "    def get_public_key(self):\n",
    "        return self.pk\n",
    "        \n",
    "    def submit_salary(self, ct_salary_vector, ct_gender_vector):\n",
    "        \"\"\"Store an entry in the survey\"\"\"\n",
    "\n",
    "        self.salaries.append(ct_salary_vector)\n",
    "        self.genders.append(ct_gender_vector)\n",
    "    \n",
    "    def show_salaries(self):\n",
    "        \"\"\"Display the (encrypted) submitted salaries\"\"\"\n",
    "        return self.salaries\n",
    "    \n",
    "    def compute_average_salaries(self):\n",
    "        \"\"\"Tally the results, decrypt, and return a 2-tuple: (average female salary, average male salary)\"\"\"\n",
    "        \n",
    "        salary_totals = [0,0]\n",
    "        \n",
    "        for salary in self.salaries:\n",
    "            for i in range(len(salary)):\n",
    "                salary_totals[i] += decrypt(salary[i], self.sk, self.pk)\n",
    "\n",
    "        gender_totals = [0,0]\n",
    "\n",
    "        for gender in self.genders:\n",
    "            for i in range(len(gender)):\n",
    "                gender_totals[i] += decrypt(gender[i], self.sk, self.pk)\n",
    "\n",
    "        return tuple(map(lambda x: x[0]/x[1], zip(salary_totals, gender_totals)))\n"
   ]
  },
  {
   "cell_type": "code",
   "execution_count": 28,
   "metadata": {
    "deletable": false,
    "editable": false,
    "nbgrader": {
     "cell_type": "code",
     "checksum": "e9bed937112e003dec4ab657ac1a92d2",
     "grade": true,
     "grade_id": "cell-9eefab3883149a9a",
     "locked": true,
     "points": 30,
     "schema_version": 3,
     "solution": false,
     "task": false
    }
   },
   "outputs": [],
   "source": [
    "# TEST CASE\n",
    "s = GenderPayGapSurveyServer()\n",
    "GenderPayGapSurveyParticipant().submit_salary(10000, 'Male', s)\n",
    "GenderPayGapSurveyParticipant().submit_salary(30000, 'Female', s)\n",
    "GenderPayGapSurveyParticipant().submit_salary(15000, 'Male', s)\n",
    "GenderPayGapSurveyParticipant().submit_salary(20000, 'Female', s)\n",
    "\n",
    "assert s.compute_average_salaries() == (25000.0, 12500.0)"
   ]
  },
  {
   "cell_type": "markdown",
   "metadata": {},
   "source": [
    "## Question 5 (10 points)\n",
    "\n",
    "In 2-5 sentences, answer the following:\n",
    "\n",
    "- What is one way a malicious *survey server* could break the rules of the survey?\n",
    "- What are two ways a malicious *survey participant* could break the rules of the survey?"
   ]
  },
  {
   "cell_type": "markdown",
   "metadata": {
    "deletable": false,
    "nbgrader": {
     "cell_type": "markdown",
     "checksum": "30f224afc3d9144d651013871eb55bde",
     "grade": true,
     "grade_id": "cell-975bca3c01e327e3",
     "locked": false,
     "points": 10,
     "schema_version": 3,
     "solution": true,
     "task": false
    }
   },
   "source": [
    "A malicious servey server could break the rules by showing the correct encrypted salaries table, but then adding up the salaries to anything that they want. The participant has no way to check its work.\n",
    "\n",
    "The participant could lie about their salary or their gender. They could also submit salaries for multiple genders, or submit a salary with an empty gender vector to increase the total salary amount but not increase the number of participants of that gender."
   ]
  }
 ],
 "metadata": {
  "kernelspec": {
   "display_name": "Python 3.8.5 ('base')",
   "language": "python",
   "name": "python3"
  },
  "language_info": {
   "codemirror_mode": {
    "name": "ipython",
    "version": 3
   },
   "file_extension": ".py",
   "mimetype": "text/x-python",
   "name": "python",
   "nbconvert_exporter": "python",
   "pygments_lexer": "ipython3",
   "version": "3.8.5"
  },
  "vscode": {
   "interpreter": {
    "hash": "9d1aac6c46358ab76884be5fd1eb54486853f0ecd733b8a791c202a53a54f874"
   }
  }
 },
 "nbformat": 4,
 "nbformat_minor": 4
}
