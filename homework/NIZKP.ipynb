{
 "cells": [
  {
   "cell_type": "markdown",
   "metadata": {},
   "source": [
    "# CS295/395: Secure Distributed Computation\n",
    "## Homework 9"
   ]
  },
  {
   "cell_type": "code",
   "execution_count": 2,
   "metadata": {},
   "outputs": [],
   "source": [
    "import numpy as np\n",
    "import random\n",
    "import hashlib"
   ]
  },
  {
   "cell_type": "markdown",
   "metadata": {},
   "source": [
    "## The Petersen Graph\n",
    "\n",
    "[The Petersen Graph](https://en.wikipedia.org/wiki/Petersen_graph) has 10 vertices and 15 edges, and can be colored with 3 colors.\n",
    "\n",
    "![alt text](https://upload.wikimedia.org/wikipedia/commons/thumb/9/90/Petersen_graph_3-coloring.svg/220px-Petersen_graph_3-coloring.svg.png \"Title\")"
   ]
  },
  {
   "cell_type": "code",
   "execution_count": 3,
   "metadata": {},
   "outputs": [
    {
     "name": "stdout",
     "output_type": "stream",
     "text": [
      "Number of nodes: 10\n"
     ]
    }
   ],
   "source": [
    "coloring = {\n",
    "    # outer five nodes, clockwise from top\n",
    "    0: 'red',\n",
    "    1: 'blue', \n",
    "    2: 'green',\n",
    "    3: 'red',\n",
    "    4: 'blue',\n",
    "    # inner five nodes, clockwise from top\n",
    "    5: 'blue',\n",
    "    6: 'red',\n",
    "    7: 'red',\n",
    "    8: 'green',\n",
    "    9: 'green'\n",
    "}\n",
    "print('Number of nodes:', len(coloring))"
   ]
  },
  {
   "cell_type": "code",
   "execution_count": 4,
   "metadata": {},
   "outputs": [
    {
     "name": "stdout",
     "output_type": "stream",
     "text": [
      "Number of edges: 15\n"
     ]
    }
   ],
   "source": [
    "edges = [\n",
    "    # outer shape, clockwise from top\n",
    "    (0, 1),\n",
    "    (1, 2),\n",
    "    (2, 3),\n",
    "    (3, 4),\n",
    "    (4, 0),\n",
    "    # inner shape, clockwise from top\n",
    "    (5, 0), (5, 7),\n",
    "    (6, 1), (6, 8),\n",
    "    (7, 2), (7, 9),\n",
    "    (8, 3), (8, 5),\n",
    "    (9, 4), (9, 6)\n",
    "]\n",
    "print('Number of edges:', len(edges))"
   ]
  },
  {
   "cell_type": "markdown",
   "metadata": {},
   "source": [
    "## Background\n",
    "\n",
    "**Your goal in this assignment** is to implement a zero-knowledge interactive proof protocol that allows the Prover to convince the Verifier that the Prover knows a valid 3-coloring for the Petersen graph - without revealing the coloring.\n",
    "\n",
    "Reference the description in lecture on 10/30 and 11/02, and [Matt Green's blog post](https://blog.cryptographyengineering.com/2014/11/27/zero-knowledge-proofs-illustrated-primer/)."
   ]
  },
  {
   "cell_type": "markdown",
   "metadata": {},
   "source": [
    "## Protocol\n",
    "\n",
    "The Prover and Verifier perform the following steps $n^2$ times, where $n$ is the number of vertices in the graph:\n",
    "\n",
    "- **Step 1: shuffle and commit.** The Prover randomizes the colors and commits to the coloring. The Prover sends the commitment to the Verifier.\n",
    "- **Step 2: challenge.** The Verifier picks a random edge in the graph.\n",
    "- **Step 3: response.** The Prover opens the commitment for the two vertices connected by the chosen edge. If the two colors are the same, the Verifier rejects."
   ]
  },
  {
   "cell_type": "markdown",
   "metadata": {},
   "source": [
    "## Question 1 (40 points)\n",
    "\n",
    "Implement the above protocol for an interactive zero-knowledge proof of the graph coloring."
   ]
  },
  {
   "cell_type": "code",
   "execution_count": 8,
   "metadata": {
    "deletable": false,
    "nbgrader": {
     "cell_type": "code",
     "checksum": "7308a3ee793a7fc944e06c5a0a4c65fc",
     "grade": true,
     "grade_id": "cell-cc0016e6effbce3a",
     "locked": false,
     "points": 40,
     "schema_version": 3,
     "solution": true,
     "task": false
    }
   },
   "outputs": [],
   "source": [
    "class Prover:\n",
    "    def shuffle_and_commit(self):\n",
    "        colors = ['red', 'blue', 'green']\n",
    "        shuffled_colors = colors.copy()\n",
    "        random.shuffle(shuffled_colors)\n",
    "\n",
    "        color_map = dict(zip(colors, shuffled_colors))\n",
    "\n",
    "        self.shuffled_coloring = {}\n",
    "        for node, color in coloring.items():\n",
    "            self.shuffled_coloring[node] = color_map[color]\n",
    "\n",
    "        self.committed_coloring_with_noise = {}\n",
    "        committed_coloring = {}\n",
    "        for node, color in self.shuffled_coloring.items():\n",
    "            # create some noise so that the verifier can't tell if two nodes have the same color\n",
    "            noise = \":\" + str(random.random())\n",
    "\n",
    "            # commit to the color and noise\n",
    "            commitment = hashlib.sha256((color + noise).encode()).hexdigest()\n",
    "\n",
    "            self.committed_coloring_with_noise[node] = color, noise\n",
    "            committed_coloring[node] = commitment\n",
    "            \n",
    "        return (committed_coloring)\n",
    "    \n",
    "    def response(self, edge):\n",
    "        # get the color + noise of each node in the edge\n",
    "        color1, noise1 = self.committed_coloring_with_noise[edge[0]]\n",
    "        color2, noise2 = self.committed_coloring_with_noise[edge[1]]\n",
    "        \n",
    "        c1 = (color1, noise1)\n",
    "        c2 = (color2, noise2)\n",
    "        \n",
    "        # ask the verifier to check the response\n",
    "        return (c1, c2)\n",
    "\n",
    "    def create_example(self):\n",
    "        commitment = self.shuffle_and_commit()\n",
    "        random_oracle = int(hashlib.sha256(str(commitment).encode()).hexdigest(), 16)\n",
    "        challenge_edge = edges[random_oracle % len(edges)]\n",
    "        return (commitment, challenge_edge, self.response(challenge_edge))\n",
    "\n",
    "\n",
    "class Verifier:\n",
    "\n",
    "    def check(self, commitment, challenge_edge, response):\n",
    "        c1, c2 = response\n",
    "\n",
    "        color1, noise1 = c1\n",
    "        color2, noise2 = c2\n",
    "\n",
    "        # check that the challenge edge was picked fairly\n",
    "        random_oracle = int(hashlib.sha256(str(commitment).encode()).hexdigest(), 16)\n",
    "        real_challenge_edge = edges[random_oracle % len(edges)]\n",
    "\n",
    "        assert challenge_edge == real_challenge_edge\n",
    "\n",
    "        # check that the colors are different\n",
    "        assert color1 != color2\n",
    "\n",
    "        # check that the commitments are correct\n",
    "        assert hashlib.sha256((color1 + noise1).encode()).hexdigest() == commitment[challenge_edge[0]]\n",
    "        assert hashlib.sha256((color2 + noise2).encode()).hexdigest() == commitment[challenge_edge[1]]\n",
    "        \n",
    "\n",
    "def run_protocol():\n",
    "    P = Prover()\n",
    "    V = Verifier()\n",
    "    examples = [P.create_example() for _ in range(15**2)]\n",
    "    for ex in examples:\n",
    "        V.check(*ex)\n",
    "    \n",
    "run_protocol()"
   ]
  },
  {
   "cell_type": "markdown",
   "metadata": {},
   "source": [
    "## Question 2 (10 points)\n",
    "\n",
    "In 2-5 sentences, argue that the protocol is zero-knowledge (it doesn't reveal anything about the witness)."
   ]
  },
  {
   "cell_type": "markdown",
   "metadata": {
    "deletable": false,
    "nbgrader": {
     "cell_type": "markdown",
     "checksum": "35cf9235354f6f3da043172fdbdfce6c",
     "grade": true,
     "grade_id": "cell-0efb4dc3f756e047",
     "locked": false,
     "points": 10,
     "schema_version": 3,
     "solution": true,
     "task": false
    }
   },
   "source": [
    "With every round, we are recoloring the graph with a shuffled color mapping. This means that no information can be corelated round to round and we are not able to build up intuition about a coloring as the rounds go on. The verifier gets to pick any two adjacent nodes (so picking an edge) and then we \"lift up the hats\" by revealing the color and noise we committed to. We must include the noise in this otherwise the hashes themselves reveal the colorings. Until we supply the color and noise for verification, the verifier cannot extact any info from the commitments alone. After providing the color and noise, the verifier can confirm that the two nodes they picked are, in fact, different colors, and that we had committed to those colors before we knew the random nodes they would pick."
   ]
  },
  {
   "cell_type": "markdown",
   "metadata": {},
   "source": [
    "## Question 3 (10 points)\n",
    "\n",
    "What is the probability that a cheating Prover is *not* caught in this protocol, and why?"
   ]
  },
  {
   "cell_type": "markdown",
   "metadata": {
    "deletable": false,
    "nbgrader": {
     "cell_type": "markdown",
     "checksum": "166ca03fc75d6f0ce8d5b152cbe6fee3",
     "grade": true,
     "grade_id": "cell-b935648579557ab4",
     "locked": false,
     "points": 10,
     "schema_version": 3,
     "solution": true,
     "task": false
    }
   },
   "source": [
    "Assuming there is only a single inconsitency in the graph coloring, there is only one edge that verifier can challenge that will reveal the cheating, and that inconsitency can easily be \"shifted\" around the graph to a random place at the commitment stage.\n",
    "\n",
    "Let $E$ = number of edges\n",
    "\n",
    "Let $R$ = number of rounds\n",
    "\n",
    "The chance of the Prover getting away with cheating in a single round would be $\\frac{E-1}{E}$\n",
    "\n",
    "But every round is an independent event because the inconsitent edge is shifted, so after $R$ rounds the probability of not being caught is\n",
    "\n",
    "$(\\frac{E-1}{E})^R$\n",
    "\n",
    "In our case $E = 15, R = 15^2$, probability of cheating $ = (\\frac{14}{15})^{15^2} \\approx 1.8 * 10^{-7}$\n",
    "\n"
   ]
  },
  {
   "cell_type": "code",
   "execution_count": 32,
   "metadata": {},
   "outputs": [
    {
     "data": {
      "text/plain": [
       "1.8124863313502317e-07"
      ]
     },
     "execution_count": 32,
     "metadata": {},
     "output_type": "execute_result"
    }
   ],
   "source": [
    "(14/15)**(15**2)"
   ]
  }
 ],
 "metadata": {
  "kernelspec": {
   "display_name": "Python 3.8.5 ('base')",
   "language": "python",
   "name": "python3"
  },
  "language_info": {
   "codemirror_mode": {
    "name": "ipython",
    "version": 3
   },
   "file_extension": ".py",
   "mimetype": "text/x-python",
   "name": "python",
   "nbconvert_exporter": "python",
   "pygments_lexer": "ipython3",
   "version": "3.8.5"
  },
  "vscode": {
   "interpreter": {
    "hash": "9d1aac6c46358ab76884be5fd1eb54486853f0ecd733b8a791c202a53a54f874"
   }
  }
 },
 "nbformat": 4,
 "nbformat_minor": 4
}
