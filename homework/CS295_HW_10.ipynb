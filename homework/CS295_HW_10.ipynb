{
 "cells": [
  {
   "cell_type": "markdown",
   "metadata": {},
   "source": [
    "# CS295/395: Secure Distributed Computation\n",
    "## Homework 10"
   ]
  },
  {
   "cell_type": "code",
   "execution_count": 1,
   "metadata": {},
   "outputs": [],
   "source": [
    "# Imports and definitions\n",
    "import numpy as np\n",
    "from collections import defaultdict\n",
    "from collections import namedtuple\n",
    "import urllib.request\n",
    "import hashlib\n",
    "from nacl.signing import SigningKey"
   ]
  },
  {
   "cell_type": "markdown",
   "metadata": {},
   "source": [
    "The structure below implements simplified transactions in the style of Bitcoin. Reference [this page](https://en.bitcoin.it/wiki/Transaction) for more information about the structure of transactions."
   ]
  },
  {
   "cell_type": "code",
   "execution_count": 21,
   "metadata": {},
   "outputs": [],
   "source": [
    "HashPointer = namedtuple('HashPointer', ['hash', 'pointer'])\n",
    "Transaction = namedtuple('Transaction', ['inputs', 'outputs'])\n",
    "\n",
    "Input = namedtuple('Input', ['previous_tx', 'index', 'public_key'])\n",
    "SignedInput = namedtuple('SignedInput', ['input', 'signed_input'])\n",
    "\n",
    "Output = namedtuple('Output', ['public_key_hash', 'value'])\n",
    "\n",
    "DIFFICULTY = int(2**(32 * 8)/1000)\n",
    "\n",
    "class Block:\n",
    "    def __init__(self, transactions, prev, nonce, pubkey_hash):\n",
    "        self.transactions = transactions\n",
    "        self.prev = prev\n",
    "        self.nonce = nonce\n",
    "        self.pubkey_hash = pubkey_hash\n",
    "    \n",
    "    def __repr__(self):\n",
    "        return f'\\nBlock(\\n transaction: {self.transactions},\\n nonce: {self.nonce},\\n prev: {self.prev})'\n",
    "\n",
    "def bytes_value(v):\n",
    "    return bytes(str(v), encoding='utf-8')\n",
    "\n",
    "def hash_value(v):\n",
    "    return hashlib.sha256(bytes_value(v)).hexdigest()"
   ]
  },
  {
   "cell_type": "markdown",
   "metadata": {},
   "source": [
    "## Question 1 (20 points)\n",
    "\n",
    "Implement `mine_for_block`, a function to add a block to the blockchain. It should ensure that the hash of the blockchain is less than or equal to `DIFFICULTY`."
   ]
  },
  {
   "cell_type": "code",
   "execution_count": 23,
   "metadata": {
    "deletable": false,
    "nbgrader": {
     "cell_type": "code",
     "checksum": "4d6168159a30abf0a97c85e5b62ee1c7",
     "grade": false,
     "grade_id": "cell-0f9e6fbf3cdf909c",
     "locked": false,
     "schema_version": 3,
     "solution": true,
     "task": false
    }
   },
   "outputs": [],
   "source": [
    "def add_block(transactions, blockchain, nonce, pubkey_hash):\n",
    "    prev_hash = hash_value(blockchain)\n",
    "    prev = HashPointer(prev_hash, blockchain)\n",
    "    new_block = Block(transactions, prev, nonce, pubkey_hash)\n",
    "    \n",
    "    return new_block, hash_value(new_block)\n",
    "\n",
    "def mine_for_block(transactions, pubkey_hash, blockchain):\n",
    "    nonce = 0\n",
    "    while True:\n",
    "        prev_hash = hash_value(blockchain)\n",
    "        prev = HashPointer(prev_hash, blockchain)\n",
    "        new_block = Block(transactions, prev, nonce, pubkey_hash)\n",
    "        hash = int(hash_value(new_block), 16)\n",
    "        if hash < DIFFICULTY:\n",
    "            print(f'Found nonce: {nonce}')\n",
    "            return add_block(transactions, blockchain, nonce, pubkey_hash)\n",
    "        nonce += 1\n",
    "    "
   ]
  },
  {
   "cell_type": "code",
   "execution_count": 24,
   "metadata": {},
   "outputs": [
    {
     "name": "stdout",
     "output_type": "stream",
     "text": [
      "1\n",
      "2\n",
      "3\n",
      "4\n",
      "5\n",
      "6\n",
      "7\n",
      "Found nonce: 288\n"
     ]
    }
   ],
   "source": [
    "# TEST CASE\n",
    "print(1)\n",
    "key_bob = SigningKey.generate()\n",
    "print(2)\n",
    "key_alice = SigningKey.generate()\n",
    "print(3)\n",
    "pubkey_bob = key_bob.verify_key\n",
    "pubkey_alice = key_alice.verify_key\n",
    "\n",
    "print(4)\n",
    "\n",
    "i1 = Input('COINBASE', 0, pubkey_bob)\n",
    "i1_signed = SignedInput(i1, key_bob.sign(bytes_value(i1)))\n",
    "o1 = Output(hash_value(pubkey_bob), 10.0)\n",
    "tx1 = Transaction([i1_signed], [o1])\n",
    "\n",
    "print(5)\n",
    "\n",
    "i2 = Input(hash_value(tx1), 0, pubkey_bob)\n",
    "i2_signed = SignedInput(i2, key_bob.sign(bytes_value(i2)))\n",
    "\n",
    "print(6)\n",
    "\n",
    "o2 = Output(hash_value(pubkey_bob), 9.0)\n",
    "o3 = Output(hash_value(pubkey_alice), 1.0)\n",
    "tx2 = Transaction([i2_signed], [o2, o3])\n",
    "\n",
    "print(7)\n",
    "\n",
    "b1, b1_hash = mine_for_block([tx2, tx1], hash_value(pubkey_bob), None)\n",
    "\n"
   ]
  },
  {
   "cell_type": "code",
   "execution_count": 25,
   "metadata": {
    "deletable": false,
    "editable": false,
    "nbgrader": {
     "cell_type": "code",
     "checksum": "3d512210ad8046fa404d85d5175d3926",
     "grade": true,
     "grade_id": "cell-ab7d66775a7f646b",
     "locked": true,
     "points": 10,
     "schema_version": 3,
     "solution": false,
     "task": false
    }
   },
   "outputs": [
    {
     "name": "stdout",
     "output_type": "stream",
     "text": [
      "Found nonce: 26\n"
     ]
    }
   ],
   "source": [
    "# Bob's going to mine some coins\n",
    "\n",
    "\n",
    "\n",
    "# And pay some to Alice\n",
    "\n",
    "\n",
    "# Mine the block\n",
    "\n",
    "\n",
    "# Alice pays some money back to Bob\n",
    "i3 = Input(hash_value(tx2), 1, pubkey_alice)\n",
    "i3_signed = SignedInput(i3, key_alice.sign(bytes_value(i3)))\n",
    "o4 = Output(hash_value(pubkey_alice), 0.5)\n",
    "o5 = Output(hash_value(pubkey_bob), 0.5)\n",
    "tx3 = Transaction([i3_signed], [o4, o5])\n",
    "b2, b2_hash = mine_for_block([tx3], hash_value(pubkey_bob), b1)"
   ]
  },
  {
   "cell_type": "markdown",
   "metadata": {},
   "source": [
    "## Question 2 (20 points)\n",
    "\n",
    "Implement `validate_blockchain`, a function to validate the blockchain. It should check that:\n",
    "\n",
    "1. The structure of the blockchain is valid\n",
    "2. Each block satisfies the difficulty requirement\n",
    "3. Each transaction is valid\n",
    "\n",
    "The function should throw an error if the blockchain is not valid, and return `True` if it is valid."
   ]
  },
  {
   "cell_type": "code",
   "execution_count": 54,
   "metadata": {
    "deletable": false,
    "nbgrader": {
     "cell_type": "code",
     "checksum": "ca2a42ecaf26dd5932b981e7fc918799",
     "grade": false,
     "grade_id": "cell-d2158ae8d840ee8c",
     "locked": false,
     "schema_version": 3,
     "solution": true,
     "task": false
    }
   },
   "outputs": [],
   "source": [
    "def check_blockchain(blockchain: Block, expected_hash):\n",
    "    # make sure blockchain hashes to expected hash\n",
    "    assert hash_value(blockchain) == expected_hash\n",
    "\n",
    "    # make sure hash value satisfies difficulty requirement\n",
    "    assert int(hash_value(blockchain), 16) < DIFFICULTY or blockchain == None\n",
    "\n",
    "    for transaction in blockchain.transactions:\n",
    "        signed_inputs, outputs = transaction\n",
    "        for s_input in signed_inputs:\n",
    "            input, signature = s_input\n",
    "            prev_tx, index, pub_key = input\n",
    "            assert pub_key.verify(bytes_value(input), signature.signature)\n",
    "\n",
    "        \n",
    "    hash, pointer = blockchain.prev\n",
    "\n",
    "    if pointer == None:\n",
    "        return True\n",
    "    else:\n",
    "        return check_blockchain(pointer, hash)"
   ]
  },
  {
   "cell_type": "code",
   "execution_count": 55,
   "metadata": {
    "deletable": false,
    "editable": false,
    "nbgrader": {
     "cell_type": "code",
     "checksum": "a84fd742f88debc6ce342d04e5c780c4",
     "grade": true,
     "grade_id": "cell-71747a299a955eaf",
     "locked": true,
     "points": 20,
     "schema_version": 3,
     "solution": false,
     "task": false
    }
   },
   "outputs": [],
   "source": [
    "# TEST CASE\n",
    "assert check_blockchain(b2, b2_hash)"
   ]
  },
  {
   "cell_type": "markdown",
   "metadata": {},
   "source": [
    "## Question 3 (20 points)\n",
    "\n",
    "In 3-5 sentences, describe what would be required to modify this scheme to support *proof-of-stake mining*, in the style of Peercoin. Reference Section 8.5 in [the textbook](https://d28rh4a8wq0iu5.cloudfront.net/bitcointech/readings/princeton_bitcoin_book.pdf)."
   ]
  },
  {
   "cell_type": "markdown",
   "metadata": {
    "deletable": false,
    "nbgrader": {
     "cell_type": "markdown",
     "checksum": "5d2de8b931b65e2cf69044a905ba7f9b",
     "grade": true,
     "grade_id": "cell-c5d7dc947be1718f",
     "locked": false,
     "points": 20,
     "schema_version": 3,
     "solution": true,
     "task": false
    }
   },
   "source": [
    "The goal is to decrease the difficulty for miners who have \"staked\" some coins. Normally the issue of \"pretending to be two people to get two chances at the reward\" is prevented by requiring twice the computing power. Now it is prevented by requiring you to have twice the funds. There would be a new type of transaction, a \"staking\" transaction, and then while you mine, each person has a custom difficulty that is inversely proportionaly to the size of their stake. This means that the blockchain lies in the hands of the large stake holders as opposed to the large compute holders, and the well being incentive is baked in because if you hold a large amount of the coin, you want that coin to succeed."
   ]
  },
  {
   "cell_type": "markdown",
   "metadata": {},
   "source": []
  }
 ],
 "metadata": {
  "kernelspec": {
   "display_name": "Python 3.8.5 ('base')",
   "language": "python",
   "name": "python3"
  },
  "language_info": {
   "codemirror_mode": {
    "name": "ipython",
    "version": 3
   },
   "file_extension": ".py",
   "mimetype": "text/x-python",
   "name": "python",
   "nbconvert_exporter": "python",
   "pygments_lexer": "ipython3",
   "version": "3.8.5"
  },
  "varInspector": {
   "cols": {
    "lenName": 16,
    "lenType": 16,
    "lenVar": 40
   },
   "kernels_config": {
    "python": {
     "delete_cmd_postfix": "",
     "delete_cmd_prefix": "del ",
     "library": "var_list.py",
     "varRefreshCmd": "print(var_dic_list())"
    },
    "r": {
     "delete_cmd_postfix": ") ",
     "delete_cmd_prefix": "rm(",
     "library": "var_list.r",
     "varRefreshCmd": "cat(var_dic_list()) "
    }
   },
   "types_to_exclude": [
    "module",
    "function",
    "builtin_function_or_method",
    "instance",
    "_Feature"
   ],
   "window_display": true
  },
  "vscode": {
   "interpreter": {
    "hash": "9d1aac6c46358ab76884be5fd1eb54486853f0ecd733b8a791c202a53a54f874"
   }
  }
 },
 "nbformat": 4,
 "nbformat_minor": 4
}
