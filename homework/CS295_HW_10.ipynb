{
 "cells": [
  {
   "cell_type": "markdown",
   "metadata": {},
   "source": [
    "# CS295/395: Secure Distributed Computation\n",
    "## Homework 10"
   ]
  },
  {
   "cell_type": "markdown",
   "metadata": {},
   "source": [
    "## Question 1 (50 points)\n",
    "\n",
    "Describe a **non-interactive protocol for electronic voting**, in the style of homework 7.\n",
    "\n",
    "Your solution should be robust against **malicious voters**, and should also allow voters to confirm that the **final vote tally is correct**.\n",
    "\n",
    "One high-level approach is as follows:\n",
    "- The voter constructs an *encrypted vote* consisting of a vector of Paillier-encrypted numbers (0 or 1)\n",
    "- The voter constructs a *vote proof*, a NIZK proof that the encrypted vote is valid\n",
    "- The voter publishes both the encrypted vote and its proof (publicly)\n",
    "- The election official checks each vote proof\n",
    "- The election official tallies the encrypted votes\n",
    "- The election official constructs a *tally proof*, a NIZK proof that the encrypted vote total decrypts to the plaintext vote total\n",
    "\n",
    "You may use the functions of the Paillier cryptosystem (including its additive homomorphism) - see Homework 7. To construct NIZK proofs, you may use the MPC-in-the-head approach - see the exercise from 11/09/20.\n",
    "\n",
    "When constructing proofs, you may assume the existence of circuits without explicitly constructing them. For any circuits you use, please specify:\n",
    "- The circuit's inputs\n",
    "- The circuit's outputs\n",
    "- What the circuit computes (informally)\n",
    "\n",
    "Please follow the format of the protocol definition in the exercise of 11/09/20.\n",
    "\n",
    "**Note: this is an intentionally open-ended question, intended to test your ability to combine and apply the concepts we have learned. Your solution does not need to be perfect to receive a high grade.**"
   ]
  },
  {
   "cell_type": "markdown",
   "metadata": {
    "deletable": false,
    "nbgrader": {
     "cell_type": "markdown",
     "checksum": "2a43972074a865f1ee9d5cba85ded24b",
     "grade": true,
     "grade_id": "cell-e135047f4497d57d",
     "locked": false,
     "points": 50,
     "schema_version": 3,
     "solution": true,
     "task": false
    }
   },
   "source": [
    "YOUR ANSWER HERE"
   ]
  },
  {
   "cell_type": "markdown",
   "metadata": {},
   "source": [
    "## Question 2 (20 points)\n",
    "\n",
    "In 5-10 sentences, argue informally that:\n",
    "1. Your protocol results in the correct vote total\n",
    "2. Your protocol is robust against malicious voters (who may submit invalid votes or try to view the votes of others)\n",
    "3. Your protocol allows voters to verify that their vote is included in the total"
   ]
  },
  {
   "cell_type": "markdown",
   "metadata": {
    "deletable": false,
    "nbgrader": {
     "cell_type": "markdown",
     "checksum": "ffc2b828d91e2606b9bfec742190d00c",
     "grade": true,
     "grade_id": "cell-b632be2e3e9a8e4a",
     "locked": false,
     "points": 20,
     "schema_version": 3,
     "solution": true,
     "task": false
    }
   },
   "source": [
    "YOUR ANSWER HERE"
   ]
  }
 ],
 "metadata": {
  "kernelspec": {
   "display_name": "Python 3",
   "language": "python",
   "name": "python3"
  },
  "language_info": {
   "codemirror_mode": {
    "name": "ipython",
    "version": 3
   },
   "file_extension": ".py",
   "mimetype": "text/x-python",
   "name": "python",
   "nbconvert_exporter": "python",
   "pygments_lexer": "ipython3",
   "version": "3.6.10"
  }
 },
 "nbformat": 4,
 "nbformat_minor": 4
}
