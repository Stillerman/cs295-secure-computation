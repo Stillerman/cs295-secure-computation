{
 "cells": [
  {
   "cell_type": "markdown",
   "metadata": {},
   "source": [
    "# CS295/395: Secure Distributed Computation\n",
    "## In-Class Exercise, week of 10/17/2022\n",
    "\n",
    "## References:\n",
    "- [The Paillier Cryptosystem](https://en.wikipedia.org/wiki/Paillier_cryptosystem)\n",
    "- [The ElGamal Cryptosystem](https://en.wikipedia.org/wiki/ElGamal_encryption)"
   ]
  },
  {
   "cell_type": "code",
   "execution_count": 14,
   "metadata": {},
   "outputs": [],
   "source": [
    "import galois\n",
    "import random\n",
    "bits = 128"
   ]
  },
  {
   "cell_type": "markdown",
   "metadata": {},
   "source": [
    "## Question -2\n",
    "\n",
    "Describe the main idea behind Yao's garbled circuit protocol."
   ]
  },
  {
   "cell_type": "markdown",
   "metadata": {
    "deletable": false,
    "nbgrader": {
     "cell_type": "markdown",
     "checksum": "a71df5c8bd7c7968dd00219922e5bd1e",
     "grade": true,
     "grade_id": "cell-5823e1abb2be85a3",
     "locked": false,
     "points": 5,
     "schema_version": 3,
     "solution": true,
     "task": false
    }
   },
   "source": [
    "- Constant Round Complexity??\n",
    "- 2 Parties: Garbler and the Evaluator\n",
    "- Garbler creates garbled tables\n",
    "  - AND truth table\n",
    "  - 1. G generates random wire labels (could be called wire keys b/c they function as encryption keys)\n",
    "    - $w_i^0$ = random key, $w_i^1$ = random key, so two keys for each input wire\n",
    "  - 2. Replace all truth table values with wire labels (garbled and table below)\n",
    "\n",
    "| $w_i$  |     $w_j$     |  $w_k$ |\n",
    "|----------|-------------|------|\n",
    "| $w_i^0$ |  $w_j^0$ | $w_k^0$ |\n",
    "| $w_i^0$ |    $w_j^1$   |   $w_k^0$ |\n",
    "| $w_i^1$ | $w_j^0$ |    $w_k^0$ |\n",
    "| $w_i^1$ | $w_j^1$ | $w_k^1$ |\n",
    "\n",
    "  - 3. Encrypt output wire labels using the two input labels as the encryption keys\n",
    "\n",
    "| $w_i$  |     $w_j$     |  $w_k$ |\n",
    "|----------|-------------|------|\n",
    "| $w_i^0$ |  $w_j^0$ | $enc(w_k^0)$ |\n",
    "| $w_i^0$ |    $w_j^1$   |   $enc(w_k^0)$ |\n",
    "| $w_i^1$ | $w_j^0$ |    $enc(w_k^0)$ |\n",
    "| $w_i^1$ | $w_j^1$ | $enc(w_k^1)$ |\n",
    "\n",
    "  - 4. Delete first two columns and shuffle output column\n",
    "\n",
    "- Evaluator knows\n",
    "  - Garbled tables\n",
    "  - wire labels for input wires\n",
    "    - $w_i^*$ and $w_j^*$ are the two wire labels for i and j. Evaluator doesnt know the values, only knows the label\n",
    "  - 1. decrypt each row of the table\n",
    "  - 2. All but one will fail => this will output the active wire label for the gates output $w_k^*$. Values of gate still unknown to evaluator\n",
    "\n",
    "### Gist\n",
    "Two parties: Garbler (G) and evaluator (E)\n",
    "\n",
    "Input section:\n",
    "- Inputs G knwosn:\n",
    "  ## YOU MISSED THIS PART\n",
    "\n",
    "Garbled table generation\n",
    "- For each wire in the circuit, G generates two wire labels, one for the case wire = 0, one for the case wire = 1\n",
    "- For each gate in the circuit, G generates a garbled table\n",
    "  - G generates the truth table for the gate\n",
    "  - G replaces values with wire lables\n",
    "  - G encrypts output wires with input wire labels\n",
    "  - G deletes input wire columns, and shuffles the output rows\n",
    "  - This is the garbled table\n",
    "  - Key properties: (1) Garbled tables appear random (2) given two input wire labels, it is possible to decrypt exactly one row of the garbled table\n",
    "- G sends the garbled tables to E\n",
    "\n",
    "Circuit evaluation\n",
    "- Assume E knows the active wire labels for each input to the circuit\n",
    "- For each gate in the circuit:\n",
    "  - Use active wire labels as keys to try and decrypt every row of the table\n",
    "  - The decryption result is equal to the active wire label for the gates output\n",
    "- After evaluating all gates, E knows active wire labels for all wire in the circuit\n",
    "\n",
    "Output\n",
    "- E sends active wire lables for all output wire of the circuit\n",
    "- G knowns the values corresponding for each wire label so they know the output. G sends these values to E\n"
   ]
  },
  {
   "cell_type": "markdown",
   "metadata": {},
   "source": [
    "## Question -1\n",
    "\n",
    "What are the primary advantages and disadvantages of Yao's garbled circuit protocol?"
   ]
  },
  {
   "cell_type": "markdown",
   "metadata": {
    "deletable": false,
    "nbgrader": {
     "cell_type": "markdown",
     "checksum": "a4838b1dc6d0e8d6608bb07042c4ed8f",
     "grade": true,
     "grade_id": "cell-ae2c4c602f1e12d6",
     "locked": false,
     "points": 5,
     "schema_version": 3,
     "solution": true,
     "task": false
    }
   },
   "source": [
    "- It has constant round time complexity, *regardless of circuit size*\n",
    "- "
   ]
  },
  {
   "cell_type": "markdown",
   "metadata": {},
   "source": [
    "## Question 1\n",
    "\n",
    "Implement key generation for the Paillier cryptosystem.\n",
    "\n",
    "$enc(x,pk) + enc(y,pk) = enc(x+y,pk)$"
   ]
  },
  {
   "cell_type": "code",
   "execution_count": 70,
   "metadata": {
    "deletable": false,
    "nbgrader": {
     "cell_type": "code",
     "checksum": "4a67492ff7288921ba635eb262917a8e",
     "grade": false,
     "grade_id": "cell-9cfbfca746bcf461",
     "locked": false,
     "schema_version": 3,
     "solution": true,
     "task": false
    }
   },
   "outputs": [],
   "source": [
    "def invmod(x, m):\n",
    "    \"\"\"Returns x^-1 mod m.\"\"\"\n",
    "    gcd, s, t = galois.egcd(x,m) # extended Euclidean algorithm returns gcd, x, y from as + bt = gcd(a,b)\n",
    "    return s\n",
    "\n",
    "def keygen(bits):\n",
    "    \"\"\"Generates keys with `bits`-bits of security. Returns a pair: (secret key, public key).\"\"\"\n",
    "    p = galois.random_prime(bits//2)\n",
    "    q = galois.random_prime(bits//2)\n",
    "\n",
    "    n = p*q\n",
    "\n",
    "    g = n + 1\n",
    "    lamb = (p-1)*(q-1)\n",
    "    mu = invmod(lamb,n)\n",
    "\n",
    "    pk = (n,g)\n",
    "    sk = (lamb,mu)\n",
    "\n",
    "    return (sk, pk)\n",
    "\n",
    "\n",
    "sk, pk = keygen(32)"
   ]
  },
  {
   "cell_type": "markdown",
   "metadata": {},
   "source": [
    "## Question 2\n",
    "\n",
    "Implement encryption for the Pallier cryptosystem."
   ]
  },
  {
   "cell_type": "code",
   "execution_count": 71,
   "metadata": {
    "deletable": false,
    "nbgrader": {
     "cell_type": "code",
     "checksum": "958df898f8c4ca532fe17fd1da70277a",
     "grade": false,
     "grade_id": "cell-204dfea9c3351633",
     "locked": false,
     "schema_version": 3,
     "solution": true,
     "task": false
    }
   },
   "outputs": [
    {
     "data": {
      "text/plain": [
       "4550912484583152124"
      ]
     },
     "execution_count": 71,
     "metadata": {},
     "output_type": "execute_result"
    }
   ],
   "source": [
    "def encrypt(m, pk):\n",
    "    \"\"\"Encrypts the message `m` with public key `pk`.\"\"\"\n",
    "    n, g = pk\n",
    "\n",
    "    # select random r where 0 < r <= n\n",
    "    r = random.randint(1, n)\n",
    "    # compute c = g^m * r^n mod n^2\n",
    "    c = pow(g, m, n**2) * pow(r, n, n**2) % n**2\n",
    "\n",
    "    return c\n",
    "\n",
    "encrypt(5, pk)"
   ]
  },
  {
   "cell_type": "markdown",
   "metadata": {},
   "source": [
    "## Question 3\n",
    "\n",
    "Implement decryption for the Pallier cryptosystem."
   ]
  },
  {
   "cell_type": "code",
   "execution_count": 72,
   "metadata": {
    "deletable": false,
    "nbgrader": {
     "cell_type": "code",
     "checksum": "19a4fca5cb8030e0a52ab6916e7c7b57",
     "grade": false,
     "grade_id": "cell-fbdbb69c15a99cc5",
     "locked": false,
     "schema_version": 3,
     "solution": true,
     "task": false
    }
   },
   "outputs": [],
   "source": [
    "def decrypt(c, sk, pk):\n",
    "    \"\"\"Decrypts the ciphertext `c` using secret key `sk` and public key `pk`.\"\"\"\n",
    "    n,g = pk\n",
    "    lamb,mu = sk\n",
    "\n",
    "    def L(x):\n",
    "        return (x-1) // n\n",
    "\n",
    "    m = L(pow(c, lamb, n**2)) * mu % n\n",
    "    return m"
   ]
  },
  {
   "cell_type": "code",
   "execution_count": 73,
   "metadata": {
    "deletable": false,
    "editable": false,
    "nbgrader": {
     "cell_type": "code",
     "checksum": "151fee751bfd58334e93c70a03286668",
     "grade": true,
     "grade_id": "cell-b5a185ca2a26020f",
     "locked": true,
     "points": 10,
     "schema_version": 3,
     "solution": false,
     "task": false
    }
   },
   "outputs": [
    {
     "data": {
      "text/plain": [
       "25"
      ]
     },
     "execution_count": 73,
     "metadata": {},
     "output_type": "execute_result"
    }
   ],
   "source": [
    "# TEST CASE\n",
    "sk, pk = keygen(128)\n",
    "ciphertext = encrypt(25, pk)\n",
    "plaintext = decrypt(ciphertext, sk, pk)\n",
    "plaintext"
   ]
  },
  {
   "cell_type": "markdown",
   "metadata": {},
   "source": [
    "## Question 4\n",
    "\n",
    "Define addition for ciphertexts."
   ]
  },
  {
   "cell_type": "code",
   "execution_count": 74,
   "metadata": {
    "deletable": false,
    "nbgrader": {
     "cell_type": "code",
     "checksum": "eb697d87754c535c8d7eb2047c3d91ee",
     "grade": false,
     "grade_id": "cell-88de461defcc5020",
     "locked": false,
     "schema_version": 3,
     "solution": true,
     "task": false
    }
   },
   "outputs": [],
   "source": [
    "def e_add(c1, c2, pk):\n",
    "    \"\"\"Add one encrypted integer to another\"\"\"\n",
    "    n, g = pk\n",
    "\n",
    "    return c1 * c2 % n**2"
   ]
  },
  {
   "cell_type": "code",
   "execution_count": 75,
   "metadata": {
    "deletable": false,
    "editable": false,
    "nbgrader": {
     "cell_type": "code",
     "checksum": "3e1f248a01dab7ab88e1c89c3204bb95",
     "grade": true,
     "grade_id": "cell-947746edfac16b56",
     "locked": true,
     "points": 5,
     "schema_version": 3,
     "solution": false,
     "task": false
    }
   },
   "outputs": [],
   "source": [
    "# TEST CASE\n",
    "sk, pk = keygen(128)\n",
    "ct1 = encrypt(50, pk)\n",
    "ct2 = encrypt(10, pk)\n",
    "ct3 = e_add(ct1, ct2, pk)\n",
    "\n",
    "assert decrypt(ct3, sk, pk) == 60"
   ]
  },
  {
   "cell_type": "markdown",
   "metadata": {},
   "source": [
    "## Question 5\n",
    "\n",
    "Define addition-by-constant for ciphertexts."
   ]
  },
  {
   "cell_type": "code",
   "execution_count": 76,
   "metadata": {
    "deletable": false,
    "nbgrader": {
     "cell_type": "code",
     "checksum": "0faf46af5f0a685d552f1c31e7a516bf",
     "grade": false,
     "grade_id": "cell-3331edb24d2e0750",
     "locked": false,
     "schema_version": 3,
     "solution": true,
     "task": false
    }
   },
   "outputs": [],
   "source": [
    "def e_add_const(c, m, pk):\n",
    "    \"\"\"Add constant n to an encrypted integer\"\"\"\n",
    "    n, g = pk\n",
    "\n",
    "    # c * g**m is equivalent to adding c's message to m\n",
    "    # roughly equivalent to encrypting c, then adding to m\n",
    "    return c * pow(g, m, n**2) % n**2"
   ]
  },
  {
   "cell_type": "code",
   "execution_count": 77,
   "metadata": {
    "deletable": false,
    "editable": false,
    "nbgrader": {
     "cell_type": "code",
     "checksum": "10993812eb1db52c1bf48c60d4185e6a",
     "grade": true,
     "grade_id": "cell-c8b3fb96cd63d1b2",
     "locked": true,
     "points": 5,
     "schema_version": 3,
     "solution": false,
     "task": false
    }
   },
   "outputs": [],
   "source": [
    "# TEST CASE\n",
    "sk, pk = keygen(128)\n",
    "ct1 = encrypt(50, pk)\n",
    "ct3 = e_add_const(ct1, 10, pk)\n",
    "\n",
    "assert decrypt(ct3, sk, pk) == 60"
   ]
  },
  {
   "cell_type": "markdown",
   "metadata": {},
   "source": [
    "## Question 6\n",
    "\n",
    "Define multiplication-by-constant for ciphertexts."
   ]
  },
  {
   "cell_type": "code",
   "execution_count": 78,
   "metadata": {
    "deletable": false,
    "nbgrader": {
     "cell_type": "code",
     "checksum": "a7380c549fd04c89f6826c046f7aa354",
     "grade": false,
     "grade_id": "cell-4858d470b77fcfb4",
     "locked": false,
     "schema_version": 3,
     "solution": true,
     "task": false
    }
   },
   "outputs": [],
   "source": [
    "def e_mul_const(c, m, pk):\n",
    "    \"\"\"Multiplies an ancrypted integer by a constant\"\"\"\n",
    "    n, g = pk\n",
    "    \n",
    "    # we want to add c to itself m times\n",
    "    # we can do addition my multiplying c to itself, so c^m is going to be the same as adding c to itself m times\n",
    "    return pow(c, m, n**2)"
   ]
  },
  {
   "cell_type": "code",
   "execution_count": 79,
   "metadata": {
    "nbgrader": {
     "grade": false,
     "grade_id": "cell-4c7241659c8e3c9b",
     "locked": false,
     "schema_version": 3,
     "solution": false,
     "task": false
    }
   },
   "outputs": [],
   "source": [
    "# TEST CASE\n",
    "sk, pk = keygen(128)\n",
    "ct1 = encrypt(50, pk)\n",
    "ct3 = e_mul_const(ct1, 3, pk)\n",
    "\n",
    "assert decrypt(ct3, sk, pk) == 150"
   ]
  },
  {
   "cell_type": "code",
   "execution_count": 81,
   "metadata": {},
   "outputs": [
    {
     "data": {
      "text/plain": [
       "87421028552613382048419321503530973445672555391867731948636373866812249749818"
      ]
     },
     "execution_count": 81,
     "metadata": {},
     "output_type": "execute_result"
    }
   ],
   "source": [
    "sk,pk = keygen(128)\n",
    "encrypt(0, pk)"
   ]
  },
  {
   "cell_type": "markdown",
   "metadata": {},
   "source": [
    "## Question 7\n",
    "\n",
    "Implement key generation, encryption, and decryption for the ElGamal cryptosystem."
   ]
  },
  {
   "cell_type": "code",
   "execution_count": 62,
   "metadata": {
    "deletable": false,
    "nbgrader": {
     "cell_type": "code",
     "checksum": "25755fb0b09dfa264e91532ee4d73df4",
     "grade": false,
     "grade_id": "cell-18ca2f5e2b7f9bec",
     "locked": false,
     "schema_version": 3,
     "solution": true,
     "task": false
    }
   },
   "outputs": [
    {
     "data": {
      "text/plain": [
       "(272106553, (4294967295, 2882424427, 4046063887))"
      ]
     },
     "execution_count": 62,
     "metadata": {},
     "output_type": "execute_result"
    }
   ],
   "source": [
    "def keygen(q):\n",
    "    # Public key: (G, q, g, h)\n",
    "    # (G is implicit here)\n",
    "    # Private key: x\n",
    "\n",
    "    g = random.randint(2, q)\n",
    "    x = random.randint(1, q-1)\n",
    "\n",
    "    h = pow(g, x, q)\n",
    "\n",
    "    # public ket is (G,q,g,h) but everyone knows G so\n",
    "    pk = (q,g,h)\n",
    "    sk = x\n",
    "\n",
    "    return sk,pk\n",
    "\n",
    "keygen(2**32-1)"
   ]
  },
  {
   "cell_type": "code",
   "execution_count": 63,
   "metadata": {
    "deletable": false,
    "nbgrader": {
     "cell_type": "code",
     "checksum": "3cedc775da3cac87a2ba5a048b2de49f",
     "grade": false,
     "grade_id": "cell-79992aaf2027f199",
     "locked": false,
     "schema_version": 3,
     "solution": true,
     "task": false
    }
   },
   "outputs": [],
   "source": [
    "def encrypt(msg, pk):\n",
    "    q, g, h = pk\n",
    "    \n",
    "    y = random.randint(1, q-1)\n",
    "    s = pow(h, y, q)\n",
    "    c1 = pow(g, y, q)\n",
    "    c2 = (msg * s) % q\n",
    "\n",
    "    return c1, c2"
   ]
  },
  {
   "cell_type": "code",
   "execution_count": 64,
   "metadata": {
    "deletable": false,
    "nbgrader": {
     "cell_type": "code",
     "checksum": "fe4a9ad1484df910b897f610fcbcfac0",
     "grade": false,
     "grade_id": "cell-95ebe53b4bd6cbb7",
     "locked": false,
     "schema_version": 3,
     "solution": true,
     "task": false
    }
   },
   "outputs": [],
   "source": [
    "def decrypt(c, x, pk):\n",
    "    c1, c2 = c\n",
    "    q, g, h = pk\n",
    "\n",
    "    s = pow(c1, x, q)\n",
    "    s_inv = invmod(s, q)\n",
    "\n",
    "    return c2 * s_inv % q"
   ]
  },
  {
   "cell_type": "code",
   "execution_count": 65,
   "metadata": {
    "deletable": false,
    "editable": false,
    "nbgrader": {
     "cell_type": "code",
     "checksum": "3e667832ef55164ef0d6eaccc2dad18a",
     "grade": true,
     "grade_id": "cell-b28eaa34531ddcba",
     "locked": true,
     "points": 5,
     "schema_version": 3,
     "solution": false,
     "task": false
    }
   },
   "outputs": [
    {
     "data": {
      "text/plain": [
       "50"
      ]
     },
     "execution_count": 65,
     "metadata": {},
     "output_type": "execute_result"
    }
   ],
   "source": [
    "# TEST CASE\n",
    "q = 2**127 - 1\n",
    "\n",
    "sk, pk = keygen(q)\n",
    "c = encrypt(50, pk) \n",
    "\n",
    "decrypt(c, sk, pk)"
   ]
  },
  {
   "cell_type": "markdown",
   "metadata": {},
   "source": [
    "## Question 8\n",
    "\n",
    "Implement multiplication of ElGamal ciphertexts."
   ]
  },
  {
   "cell_type": "code",
   "execution_count": 66,
   "metadata": {
    "deletable": false,
    "nbgrader": {
     "cell_type": "code",
     "checksum": "03b2887b8c0c4d3bb0a0f664285aba5c",
     "grade": false,
     "grade_id": "cell-0e9ac5e36bbf07c6",
     "locked": false,
     "schema_version": 3,
     "solution": true,
     "task": false
    }
   },
   "outputs": [],
   "source": [
    "def e_mult(c1, c2, pk):\n",
    "    q, g, h = pk\n",
    "\n",
    "    c1_1, c1_2 = c1\n",
    "    c2_1, c2_2 = c2\n",
    "\n",
    "    # Piecewise multiplication\n",
    "    return (c1_1 * c2_1 % q, c1_2 * c2_2 % q)"
   ]
  },
  {
   "cell_type": "code",
   "execution_count": 67,
   "metadata": {
    "deletable": false,
    "editable": false,
    "nbgrader": {
     "cell_type": "code",
     "checksum": "51794538fbbbeeb66b41e9a89c53e89f",
     "grade": true,
     "grade_id": "cell-ca093a01b7afda2a",
     "locked": true,
     "points": 5,
     "schema_version": 3,
     "solution": false,
     "task": false
    }
   },
   "outputs": [],
   "source": [
    "# TEST CASE\n",
    "sk, pk = keygen(q)\n",
    "c1 = encrypt(5, pk)\n",
    "c2 = encrypt(10, pk)\n",
    "c3 = e_mult(c1, c2, pk)\n",
    "\n",
    "assert decrypt(c3, sk, pk) == 50"
   ]
  },
  {
   "cell_type": "markdown",
   "metadata": {},
   "source": [
    "## Question 9\n",
    "\n",
    "Describe the differences between the Pallier and ElGamal cryptosystems."
   ]
  },
  {
   "cell_type": "markdown",
   "metadata": {
    "deletable": false,
    "nbgrader": {
     "cell_type": "markdown",
     "checksum": "744fa57b0775891366dcc1a981db1a85",
     "grade": true,
     "grade_id": "cell-a4d17fe6ac46f2a0",
     "locked": false,
     "points": 5,
     "schema_version": 3,
     "solution": true,
     "task": false
    }
   },
   "source": [
    "In Pallier, mutliplication => addition\n",
    "In ElGamal, mult => mult\n",
    "\n",
    "The big difference is which homomorphism you get."
   ]
  }
 ],
 "metadata": {
  "kernelspec": {
   "display_name": "Python 3.8.5 ('base')",
   "language": "python",
   "name": "python3"
  },
  "language_info": {
   "codemirror_mode": {
    "name": "ipython",
    "version": 3
   },
   "file_extension": ".py",
   "mimetype": "text/x-python",
   "name": "python",
   "nbconvert_exporter": "python",
   "pygments_lexer": "ipython3",
   "version": "3.8.5"
  },
  "vscode": {
   "interpreter": {
    "hash": "9d1aac6c46358ab76884be5fd1eb54486853f0ecd733b8a791c202a53a54f874"
   }
  }
 },
 "nbformat": 4,
 "nbformat_minor": 4
}
