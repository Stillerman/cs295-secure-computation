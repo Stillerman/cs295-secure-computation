{
 "cells": [
  {
   "cell_type": "markdown",
   "metadata": {},
   "source": [
    "# CS295/395: Secure Distributed Computation\n",
    "## In-Class Exercise, 11/18/2020"
   ]
  },
  {
   "cell_type": "code",
   "execution_count": null,
   "metadata": {},
   "outputs": [],
   "source": [
    "# Imports and definitions\n",
    "import numpy as np\n",
    "from collections import defaultdict\n",
    "from collections import namedtuple\n",
    "import urllib.request\n",
    "import hashlib"
   ]
  },
  {
   "cell_type": "code",
   "execution_count": null,
   "metadata": {},
   "outputs": [],
   "source": [
    "HashPointer = namedtuple('HashPointer', ['hash', 'pointer'])\n",
    "Transaction = namedtuple('Transaction', ['payer', 'payee', 'amount'])\n",
    "\n",
    "class Block:\n",
    "    def __init__(self, transaction, prev, nonce):\n",
    "        self.transaction = transaction\n",
    "        self.prev = prev\n",
    "        self.nonce = nonce\n",
    "    \n",
    "    def __repr__(self):\n",
    "        return f'\\nBlock(\\n transaction: {self.transaction},\\n nonce: {self.nonce},\\n prev: {self.prev})'\n",
    "\n",
    "def add_block(transaction, blockchain, nonce):\n",
    "    prev_hash = hashlib.sha256(bytes(str(blockchain), encoding='utf-8')).hexdigest()\n",
    "    prev = HashPointer(prev_hash, blockchain)\n",
    "    new_block = Block(transaction, prev, nonce)\n",
    "    \n",
    "    block_hash = hashlib.sha256(bytes(str(new_block), encoding='utf-8')).hexdigest()\n",
    "    \n",
    "    return new_block, block_hash\n",
    "\n",
    "first_transaction = Transaction(None, 'Joe', 50000)\n",
    "blockchain = Block(first_transaction, None, None)\n",
    "blockchain, final_hash = add_block(Transaction('Joe', 'Bob', 500), blockchain, None)\n",
    "blockchain"
   ]
  },
  {
   "cell_type": "markdown",
   "metadata": {},
   "source": [
    "## Mining Difficulty"
   ]
  },
  {
   "cell_type": "code",
   "execution_count": null,
   "metadata": {},
   "outputs": [],
   "source": [
    "example_hash = hashlib.sha256(bytes('hello', encoding='utf-8')).digest()\n",
    "print('Length of sha256 hash (bytes):', len(example_hash))\n",
    "print('Max int represented by a sha256 hash:', 2**(len(example_hash) * 8))\n",
    "print('50% difficulty number:', int(2**(len(example_hash) * 8)/2))\n",
    "\n",
    "difficulty_50 = int(2**(len(example_hash) * 8)/2)"
   ]
  },
  {
   "cell_type": "markdown",
   "metadata": {},
   "source": [
    "## Question 1\n",
    "\n",
    "Implement `mine_for_block`, which constructs a new block to hold a transaction and adds it to the blockchain *by mining*."
   ]
  },
  {
   "cell_type": "code",
   "execution_count": null,
   "metadata": {
    "deletable": false,
    "nbgrader": {
     "cell_type": "code",
     "checksum": "67c69509a87f431a8ca417d8bb3243ed",
     "grade": true,
     "grade_id": "cell-8fbcb6841fbd4aad",
     "locked": false,
     "points": 5,
     "schema_version": 3,
     "solution": true,
     "task": false
    }
   },
   "outputs": [],
   "source": [
    "def mine_for_block(transaction, blockchain, difficulty):\n",
    "    # YOUR CODE HERE\n",
    "    raise NotImplementedError()\n",
    "\n",
    "new_transaction = Transaction('Joe', 'Bob', 30)\n",
    "mine_for_block(new_transaction, blockchain, difficulty_50)"
   ]
  },
  {
   "cell_type": "code",
   "execution_count": null,
   "metadata": {},
   "outputs": [],
   "source": [
    "difficulty_1 = int(2**(len(example_hash) * 8)/100)\n",
    "mine_for_block(new_transaction, blockchain, difficulty_1)"
   ]
  },
  {
   "cell_type": "code",
   "execution_count": null,
   "metadata": {},
   "outputs": [],
   "source": [
    "difficulty_001 = int(2**(len(example_hash) * 8)/10000)\n",
    "mine_for_block(new_transaction, blockchain, difficulty_001)"
   ]
  },
  {
   "cell_type": "code",
   "execution_count": null,
   "metadata": {},
   "outputs": [],
   "source": [
    "difficulty_00001 = int(2**(len(example_hash) * 8)/1000000)\n",
    "mine_for_block(new_transaction, blockchain, difficulty_00001)"
   ]
  },
  {
   "cell_type": "code",
   "execution_count": null,
   "metadata": {},
   "outputs": [],
   "source": [
    "final_difficulty = int(2**(len(example_hash) * 8)/10000000)\n",
    "print('Difficulty:', final_difficulty)\n",
    "mine_for_block(new_transaction, blockchain, final_difficulty)"
   ]
  }
 ],
 "metadata": {
  "kernelspec": {
   "display_name": "Python 3",
   "language": "python",
   "name": "python3"
  },
  "language_info": {
   "codemirror_mode": {
    "name": "ipython",
    "version": 3
   },
   "file_extension": ".py",
   "mimetype": "text/x-python",
   "name": "python",
   "nbconvert_exporter": "python",
   "pygments_lexer": "ipython3",
   "version": "3.6.10"
  }
 },
 "nbformat": 4,
 "nbformat_minor": 4
}
