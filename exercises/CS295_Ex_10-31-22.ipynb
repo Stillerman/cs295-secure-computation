{
 "cells": [
  {
   "cell_type": "markdown",
   "metadata": {},
   "source": [
    "# CS295/395: Secure Distributed Computation\n",
    "## In-Class Exercise, week of 10/31/2022"
   ]
  },
  {
   "cell_type": "code",
   "execution_count": 1,
   "metadata": {},
   "outputs": [],
   "source": [
    "import hashlib"
   ]
  },
  {
   "cell_type": "code",
   "execution_count": 9,
   "metadata": {},
   "outputs": [
    {
     "name": "stdout",
     "output_type": "stream",
     "text": [
      "709e80c88487a2411e1ee4dfb9f22a861492d20c4765150c0c794abd70f8147c\n",
      "fb50dc0717ff266cf9baf82b1ce7a1c2ef6d9247859680b11a19fb7077f5f222\n",
      "070b13c004e9475fa155cd84d90de9f87db1b7dea6707329638a6ce66043d246\n",
      "3e4479e6b5a0a3bed1440325ca4bb09327a1dfb39c28bdd59de53a687ade0105\n",
      "3ee0d7c44a58950b18c1e01b912ed0e08549ff905fbf7010318a44d3e2efb8db\n",
      "69c492e24afa52c556de5ea70e1b5d7da3f0bc7a5a7fd1d413444c1a42a7e9b3\n",
      "412c45d603453521684df8f679c7f68f0f22dd7697d37170385c8c7931636298\n",
      "63dc0f142f3c734e10f668cb28083535f47159e64c350a0b646416e847a2da2f\n",
      "736722f22cbebd49059bbc5d24c1bf71acabcabc8a4ba8d3776392d54728dc91\n",
      "bdb8cd2e44905845887b8f16d3a0c9f33103496315703d1838f94d0c4eccb1b2\n"
     ]
    }
   ],
   "source": [
    "for i in range(10):\n",
    "    print(hashlib.sha256(int.to_bytes(i, 3, 'little')).hexdigest())"
   ]
  },
  {
   "cell_type": "markdown",
   "metadata": {},
   "source": [
    "## Question 1\n",
    "\n",
    "Implement a *commitment scheme* using `hashlib.sha256`."
   ]
  },
  {
   "cell_type": "code",
   "execution_count": 15,
   "metadata": {
    "deletable": false,
    "nbgrader": {
     "cell_type": "code",
     "checksum": "985ca65dcc9d51fb496804518d4203d8",
     "grade": true,
     "grade_id": "cell-2400f21035e25cf4",
     "locked": false,
     "points": 5,
     "schema_version": 3,
     "solution": true,
     "task": false
    }
   },
   "outputs": [],
   "source": [
    "class CommitmentSender:\n",
    "    def __init__(self, receiver):\n",
    "        self.receiver = receiver\n",
    "    \n",
    "    def commit(self, string):\n",
    "        \n",
    "        self.string = string\n",
    "        self.hash = hashlib.sha256(bytes(self.string)).hexdigest()\n",
    "        self.receiver.receive_commit(self.hash)\n",
    "        \n",
    "    def open(self):\n",
    "        self.receiver.receive_open(self.string)\n",
    "\n",
    "class CommitmentReceiver:\n",
    "    def receive_commit(self, received_hash):\n",
    "        # save the hash I received so I can check it later on\n",
    "        self.committed_hash = received_hash\n",
    "        \n",
    "    def receive_open(self, string):\n",
    "        # recompute the hash of the string I received and verify that it matches the hash I received earlier\n",
    "        assert(self.committed_hash == hashlib.sha256(bytes(string)).hexdigest())\n",
    "\n",
    "r = CommitmentReceiver()\n",
    "s = CommitmentSender(r)\n",
    "s.commit(50)\n",
    "s.open()"
   ]
  },
  {
   "cell_type": "markdown",
   "metadata": {},
   "source": [
    "## Question 2\n",
    "\n",
    "Implement a *cheating* sender for the commitment scheme from question 1. The receiever should be able to tell that the cheating sender has cheated."
   ]
  },
  {
   "cell_type": "code",
   "execution_count": 18,
   "metadata": {
    "deletable": false,
    "nbgrader": {
     "cell_type": "code",
     "checksum": "b7b7e9905f61ff53b2a7b0c3c3353c26",
     "grade": true,
     "grade_id": "cell-0ece1e3f501fd958",
     "locked": false,
     "points": 5,
     "schema_version": 3,
     "solution": true,
     "task": false
    }
   },
   "outputs": [
    {
     "ename": "AssertionError",
     "evalue": "",
     "output_type": "error",
     "traceback": [
      "\u001b[0;31m---------------------------------------------------------------------------\u001b[0m",
      "\u001b[0;31mAssertionError\u001b[0m                            Traceback (most recent call last)",
      "\u001b[0;32m<ipython-input-18-4bcfb09ae8a4>\u001b[0m in \u001b[0;36m<module>\u001b[0;34m\u001b[0m\n\u001b[1;32m      7\u001b[0m \u001b[0ms\u001b[0m \u001b[0;34m=\u001b[0m \u001b[0mCheatingCommitmentSender\u001b[0m\u001b[0;34m(\u001b[0m\u001b[0mr\u001b[0m\u001b[0;34m)\u001b[0m\u001b[0;34m\u001b[0m\u001b[0;34m\u001b[0m\u001b[0m\n\u001b[1;32m      8\u001b[0m \u001b[0ms\u001b[0m\u001b[0;34m.\u001b[0m\u001b[0mcommit\u001b[0m\u001b[0;34m(\u001b[0m\u001b[0;36m5\u001b[0m\u001b[0;34m)\u001b[0m\u001b[0;34m\u001b[0m\u001b[0;34m\u001b[0m\u001b[0m\n\u001b[0;32m----> 9\u001b[0;31m \u001b[0ms\u001b[0m\u001b[0;34m.\u001b[0m\u001b[0mopen\u001b[0m\u001b[0;34m(\u001b[0m\u001b[0;36m6\u001b[0m\u001b[0;34m)\u001b[0m\u001b[0;34m\u001b[0m\u001b[0;34m\u001b[0m\u001b[0m\n\u001b[0m",
      "\u001b[0;32m<ipython-input-18-4bcfb09ae8a4>\u001b[0m in \u001b[0;36mopen\u001b[0;34m(self, new_string)\u001b[0m\n\u001b[1;32m      2\u001b[0m \u001b[0;34m\u001b[0m\u001b[0m\n\u001b[1;32m      3\u001b[0m     \u001b[0;32mdef\u001b[0m \u001b[0mopen\u001b[0m\u001b[0;34m(\u001b[0m\u001b[0mself\u001b[0m\u001b[0;34m,\u001b[0m \u001b[0mnew_string\u001b[0m\u001b[0;34m)\u001b[0m\u001b[0;34m:\u001b[0m\u001b[0;34m\u001b[0m\u001b[0;34m\u001b[0m\u001b[0m\n\u001b[0;32m----> 4\u001b[0;31m         \u001b[0mself\u001b[0m\u001b[0;34m.\u001b[0m\u001b[0mreceiver\u001b[0m\u001b[0;34m.\u001b[0m\u001b[0mreceive_open\u001b[0m\u001b[0;34m(\u001b[0m\u001b[0mnew_string\u001b[0m\u001b[0;34m)\u001b[0m\u001b[0;34m\u001b[0m\u001b[0;34m\u001b[0m\u001b[0m\n\u001b[0m\u001b[1;32m      5\u001b[0m \u001b[0;34m\u001b[0m\u001b[0m\n\u001b[1;32m      6\u001b[0m \u001b[0mr\u001b[0m \u001b[0;34m=\u001b[0m \u001b[0mCommitmentReceiver\u001b[0m\u001b[0;34m(\u001b[0m\u001b[0;34m)\u001b[0m\u001b[0;34m\u001b[0m\u001b[0;34m\u001b[0m\u001b[0m\n",
      "\u001b[0;32m<ipython-input-15-877391426035>\u001b[0m in \u001b[0;36mreceive_open\u001b[0;34m(self, string)\u001b[0m\n\u001b[1;32m     19\u001b[0m     \u001b[0;32mdef\u001b[0m \u001b[0mreceive_open\u001b[0m\u001b[0;34m(\u001b[0m\u001b[0mself\u001b[0m\u001b[0;34m,\u001b[0m \u001b[0mstring\u001b[0m\u001b[0;34m)\u001b[0m\u001b[0;34m:\u001b[0m\u001b[0;34m\u001b[0m\u001b[0;34m\u001b[0m\u001b[0m\n\u001b[1;32m     20\u001b[0m         \u001b[0;31m# recompute the hash of the string I received and verify that it matches the hash I received earlier\u001b[0m\u001b[0;34m\u001b[0m\u001b[0;34m\u001b[0m\u001b[0;34m\u001b[0m\u001b[0m\n\u001b[0;32m---> 21\u001b[0;31m         \u001b[0;32massert\u001b[0m\u001b[0;34m(\u001b[0m\u001b[0mself\u001b[0m\u001b[0;34m.\u001b[0m\u001b[0mcommitted_hash\u001b[0m \u001b[0;34m==\u001b[0m \u001b[0mhashlib\u001b[0m\u001b[0;34m.\u001b[0m\u001b[0msha256\u001b[0m\u001b[0;34m(\u001b[0m\u001b[0mbytes\u001b[0m\u001b[0;34m(\u001b[0m\u001b[0mstring\u001b[0m\u001b[0;34m)\u001b[0m\u001b[0;34m)\u001b[0m\u001b[0;34m.\u001b[0m\u001b[0mhexdigest\u001b[0m\u001b[0;34m(\u001b[0m\u001b[0;34m)\u001b[0m\u001b[0;34m)\u001b[0m\u001b[0;34m\u001b[0m\u001b[0;34m\u001b[0m\u001b[0m\n\u001b[0m\u001b[1;32m     22\u001b[0m \u001b[0;34m\u001b[0m\u001b[0m\n\u001b[1;32m     23\u001b[0m \u001b[0mr\u001b[0m \u001b[0;34m=\u001b[0m \u001b[0mCommitmentReceiver\u001b[0m\u001b[0;34m(\u001b[0m\u001b[0;34m)\u001b[0m\u001b[0;34m\u001b[0m\u001b[0;34m\u001b[0m\u001b[0m\n",
      "\u001b[0;31mAssertionError\u001b[0m: "
     ]
    }
   ],
   "source": [
    "class CheatingCommitmentSender(CommitmentSender):\n",
    "\n",
    "    def open(self, new_string):\n",
    "        self.receiver.receive_open(new_string)\n",
    "\n",
    "r = CommitmentReceiver()\n",
    "s = CheatingCommitmentSender(r)\n",
    "s.commit(5)\n",
    "s.open(6)"
   ]
  },
  {
   "cell_type": "markdown",
   "metadata": {},
   "source": [
    "## Interactive Zero-Knowledge Protocol for Graph Coloring\n",
    "\n",
    "**Statement**: For (public) graph $G$, Prover knows a valid 3-coloring.\n",
    "\n",
    "**Witness**: The valid 3-coloring.\n",
    "\n",
    "One iteration of the protocol:\n",
    "- **Commit**: Prover shuffles the coloring, to obtain a new valid 3-coloring. Prover commits to the color of each vertex in the graph under the shuffled coloring (e.g. by hashing the result of concatenating the color with a random number). Prover sends the commitment to Verifier.\n",
    "- **Challenge**: The Verifier picks a random edge in the graph and constructs a challenge consisting of the two vertices connected by the edge. Verifier sends the challenge to Prover.\n",
    "- **Response**: The Prover opens the commitment for the two vertices in the challenge (e.g. by revealing their colors and the random number used in committing) to the Verifier.\n",
    "- **Check**: The Verifier checks that (1) the commitment was valid for the vertices in the response; (2) the two colors are different.\n",
    "\n",
    "The probability of a cheating Prover \"getting away with it\" in one iteration is $(E-1)/E$ where $E$ is the number of edges.\n",
    "Prover and Verifier run this protocol $n$ times. The total probability that the cheating prover \"gets away with it\" is $((E-1)/E)^n$."
   ]
  },
  {
   "cell_type": "markdown",
   "metadata": {},
   "source": [
    "## Question 3\n",
    "\n",
    "Design a similar protocol for proving statements *encoded as boolean circuits* using the MPC-in-the-head approach."
   ]
  },
  {
   "cell_type": "markdown",
   "metadata": {
    "deletable": false,
    "nbgrader": {
     "cell_type": "markdown",
     "checksum": "2de284dededba96a7dc960f44c40d799",
     "grade": true,
     "grade_id": "cell-35c24cbd9a2f3a54",
     "locked": false,
     "points": 5,
     "schema_version": 3,
     "solution": true,
     "task": false
    }
   },
   "source": [
    "Statement: For a circuit C, the prover knows values w for the inputs such that C outputs True (1)\n",
    "\n",
    "Witness: The value of the inputs to the circuit (w)\n",
    "\n",
    "One iteration of the protocol:\n",
    "- Setup:\n",
    "  - Prover splits witness into secret shares\n",
    "  - Prover runs the GMW protocol using P imaginary parties with secret shares as input, and saves the views of all of them\n",
    "- Commit:\n",
    "  - Prover commits to each parties view individually and sends commitments to the verifier\n",
    "- Challenge: Verifier picks p1, p2 from P at random\n",
    "- Response: Prover opens the commitments for the views p1 and p2\n",
    "- Check: Verifier checks that:\n",
    "  - The commitment was valid for p1, p2\n",
    "  - The output of the circuit was True (1)\n",
    "  - The views of p1 and p2 were consistent with each other\n",
    "    - Each message recieved by p_i hsould be a message that would have been generated by the protocol at the appropriate round and sent to p_i\n",
    "\n",
    "- The probability that the prover cheats and gets away with it is $(p-1)p$ where p is the number of parties. We run N iterations of the protocol to reduce this probability to $\\frac{p-1}{p}^n$"
   ]
  },
  {
   "cell_type": "markdown",
   "metadata": {},
   "source": [
    "## Rewinding\n",
    "The simulator can stop and go back in time during the simulation. This lets it cheat.\n",
    "\n",
    "- Commit: Prover commits to a random solution (might be invalid)\n",
    "- Challenge: Verifier randomly issues a challenge\n",
    "  - If this challenge would have resulted in the verifier catching P cheating, then the verifier rewinds to commit and starts again\n",
    "- Respond: as in the protocol\n",
    "- Check: as in the protocol"
   ]
  },
  {
   "cell_type": "markdown",
   "metadata": {},
   "source": [
    "## Question 4\n",
    "\n",
    "Modify your protocol from Question 1 into a *non-interactive* (NIZK) protocol."
   ]
  },
  {
   "cell_type": "markdown",
   "metadata": {
    "deletable": false,
    "nbgrader": {
     "cell_type": "markdown",
     "checksum": "58b009692617f71c7f8f08201bb301e1",
     "grade": true,
     "grade_id": "cell-54868591c77a20f1",
     "locked": false,
     "points": 5,
     "schema_version": 3,
     "solution": true,
     "task": false
    }
   },
   "source": [
    "- Prover does the commit, prover does the challenge, prover construct response, verifier checks at the end.\n",
    "- Now we can do all the \"proving\" at once and package it up and distribute it.\n",
    "\n",
    "We will use the Fiat-Shamir heuristic to transform the protocol.\n",
    "- We can get some shared randomness by hashing a value the prover doesn't control.\n",
    "- Shared randomness - a random value that the verifier can check that it was actually random and not chosen maliciously by the prover.\n",
    "- Could be done by hashing the commitment: H(C|round_num)"
   ]
  },
  {
   "cell_type": "markdown",
   "metadata": {},
   "source": []
  }
 ],
 "metadata": {
  "kernelspec": {
   "display_name": "Python 3.8.5 ('base')",
   "language": "python",
   "name": "python3"
  },
  "language_info": {
   "codemirror_mode": {
    "name": "ipython",
    "version": 3
   },
   "file_extension": ".py",
   "mimetype": "text/x-python",
   "name": "python",
   "nbconvert_exporter": "python",
   "pygments_lexer": "ipython3",
   "version": "3.8.5"
  },
  "vscode": {
   "interpreter": {
    "hash": "9d1aac6c46358ab76884be5fd1eb54486853f0ecd733b8a791c202a53a54f874"
   }
  }
 },
 "nbformat": 4,
 "nbformat_minor": 4
}
