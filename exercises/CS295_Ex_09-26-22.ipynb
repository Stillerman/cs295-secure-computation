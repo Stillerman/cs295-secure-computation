{
 "cells": [
  {
   "cell_type": "markdown",
   "metadata": {},
   "source": [
    "# CS295/395: Secure Distributed Computation\n",
    "## In-Class Exercise, week of 9/26/2022"
   ]
  },
  {
   "cell_type": "code",
   "execution_count": 41,
   "metadata": {},
   "outputs": [],
   "source": [
    "# For later this week:\n",
    "from nacl.public import PrivateKey, Box, SealedBox\n",
    "\n",
    "# PyNaCl is a library for (traditional) encryption\n",
    "# It is easiest to install using: `conda install pynacl`\n",
    "# It can also be installed using: `pip install pynacl`\n",
    "# but the conda version is more likely to work cleanly.\n",
    "# See documentation here: https://pynacl.readthedocs.io/en/latest/"
   ]
  },
  {
   "cell_type": "code",
   "execution_count": 42,
   "metadata": {},
   "outputs": [],
   "source": [
    "# Imports and definitions\n",
    "import numpy as np\n",
    "from collections import defaultdict\n",
    "import numpy as np\n",
    "import galois\n",
    "GF = galois.GF(2**13 - 1)\n",
    "\n",
    "# Library for circuits\n",
    "from dataclasses import dataclass\n",
    "\n",
    "@dataclass\n",
    "class Gate:\n",
    "    type: str\n",
    "    in1: int\n",
    "    in2: int\n",
    "    out: int\n",
    "\n",
    "@dataclass\n",
    "class Circuit:\n",
    "    inputs: any\n",
    "    outputs: any\n",
    "    gates: any\n",
    "        \n",
    "def print_circuit(c):\n",
    "    print('inputs:', c.inputs)\n",
    "    print('outputs:', c.outputs)\n",
    "    print('gates:')\n",
    "    for g in c.gates:\n",
    "        print('  ', g)"
   ]
  },
  {
   "cell_type": "markdown",
   "metadata": {},
   "source": [
    "## Party Class and Shamir sharing"
   ]
  },
  {
   "cell_type": "code",
   "execution_count": 43,
   "metadata": {},
   "outputs": [],
   "source": [
    "class Party:\n",
    "    \"\"\"A participant in a multiparty computation protocol.\"\"\"\n",
    "    def __init__(self):\n",
    "        \"\"\"Initialize the field size and dictionary to hold received messages.\"\"\"\n",
    "        self.input = None\n",
    "        self.output = None\n",
    "        self.received = defaultdict(list)\n",
    "    \n",
    "    def send(self, other, round, msg):\n",
    "        \"\"\"Simulate sending a message `msg` to another party `other` during round `round`\"\"\"\n",
    "        other.received[round].append(msg)\n",
    "\n",
    "    def get_view(self):\n",
    "        \"\"\"Returns the view of this party: its input, output, and received messages.\"\"\"\n",
    "        return (self.input, self.output, dict(self.received))\n",
    "\n",
    "# Generate Shamir shares for secret v with threshold t and number of shares n\n",
    "def shamir_share(v, t, n):\n",
    "    coefficients = GF([GF.Random() for _ in range(t-1)] + [v])\n",
    "    poly = galois.Poly(coefficients)\n",
    "    shares = [(GF(x), poly(GF(x))) for x in range(1, n+1)]\n",
    "    return shares\n",
    "\n",
    "# Reconstruct the secret from at least t Shamir shares\n",
    "def reconstruct(shares):\n",
    "    xs = GF([s[0] for s in shares])\n",
    "    ys = GF([s[1] for s in shares])\n",
    "    poly = galois.lagrange_poly(xs, ys)\n",
    "    #print(poly)\n",
    "    secret = poly(0)\n",
    "    \n",
    "    return secret"
   ]
  },
  {
   "cell_type": "markdown",
   "metadata": {},
   "source": [
    "## Question 1\n",
    "\n",
    "Implement a function `sum_sq_circuit` that returns the sum and the squared sum of a list of numbers."
   ]
  },
  {
   "cell_type": "code",
   "execution_count": 44,
   "metadata": {
    "deletable": false,
    "nbgrader": {
     "cell_type": "code",
     "checksum": "27b3081fa552b771c201c9153262f6f8",
     "grade": true,
     "grade_id": "cell-1427ec12c4bb0c18",
     "locked": false,
     "points": 5,
     "schema_version": 3,
     "solution": true,
     "task": false
    }
   },
   "outputs": [
    {
     "name": "stdout",
     "output_type": "stream",
     "text": [
      "Circuit(inputs=[[0], [1], [2], [3], [4], [5]], outputs=[10, 11], gates=[Gate(type='ADD', in1=0, in2=1, out=6), Gate(type='ADD', in1=6, in2=2, out=7), Gate(type='ADD', in1=7, in2=3, out=8), Gate(type='ADD', in1=8, in2=4, out=9), Gate(type='ADD', in1=9, in2=5, out=10), Gate(type='MULT', in1=10, in2=10, out=11)])\n"
     ]
    }
   ],
   "source": [
    "def sum_sq_circuit(n):\n",
    "\n",
    "    inputs = [[i] for i in range(n)]\n",
    "    input_wires = [i for i in range(n)]\n",
    "\n",
    "    total = input_wires[0]\n",
    "\n",
    "    w = n\n",
    "    gates = []\n",
    "    for i in input_wires[1:]:\n",
    "        g = Gate(\"ADD\", total, i, w)\n",
    "        total = w\n",
    "        w += 1\n",
    "        gates.append(g)\n",
    "\n",
    "    squared_sum_wire = w\n",
    "    gates.append(Gate(\"MULT\", total, total, squared_sum_wire))\n",
    "\n",
    "    circuit = Circuit(inputs, [total, squared_sum_wire], gates)\n",
    "    return circuit\n",
    "\n",
    "print(sum_sq_circuit(6))"
   ]
  },
  {
   "cell_type": "markdown",
   "metadata": {},
   "source": [
    "## Question 2\n",
    "\n",
    "Implement a function `eval_circuit` for evaluating circuits."
   ]
  },
  {
   "cell_type": "code",
   "execution_count": 45,
   "metadata": {
    "deletable": false,
    "nbgrader": {
     "cell_type": "code",
     "checksum": "cf564ae6e8b2c168aa0c59579b1495eb",
     "grade": false,
     "grade_id": "cell-7284d4d25dfd3521",
     "locked": false,
     "schema_version": 3,
     "solution": true,
     "task": false
    }
   },
   "outputs": [],
   "source": [
    "def eval_circuit(inputs, circuit):\n",
    "    # this hsould output correct output values for circuit based on correct input values\n",
    "\n",
    "    # create a dictuonary to store the values of the wires\n",
    "    wire_vals = {}\n",
    "\n",
    "    for part_input_values, party_wires in zip(inputs, circuit.inputs):\n",
    "        for input_value, wire in zip(part_input_values, party_wires):\n",
    "            wire_vals[wire] = GF(input_value)\n",
    "    print(wire_vals)\n",
    "\n",
    "    for gate in circuit.gates:\n",
    "        v1 = wire_vals[gate.in1]\n",
    "        v2 = wire_vals[gate.in2]\n",
    "\n",
    "        if gate.type == \"ADD\":\n",
    "            wire_vals[gate.out] = v1 + v2\n",
    "        elif gate.type == \"MULT\":\n",
    "            wire_vals[gate.out] = v1 * v2\n",
    "        else:\n",
    "            print(\"unknown gate type\")\n",
    "    \n",
    "    return [wire_vals[wire] for wire in circuit.outputs]\n",
    "\n",
    "    "
   ]
  },
  {
   "cell_type": "code",
   "execution_count": 46,
   "metadata": {
    "deletable": false,
    "editable": false,
    "nbgrader": {
     "cell_type": "code",
     "checksum": "d90bcc77eb291d5738a44eb970189a71",
     "grade": true,
     "grade_id": "cell-de3b8592144ad435",
     "locked": true,
     "points": 5,
     "schema_version": 3,
     "solution": false,
     "task": false
    }
   },
   "outputs": [
    {
     "name": "stdout",
     "output_type": "stream",
     "text": [
      "{0: GF(10, order=8191), 1: GF(11, order=8191), 2: GF(12, order=8191), 3: GF(13, order=8191), 4: GF(14, order=8191), 5: GF(15, order=8191)}\n",
      "[GF(75, order=8191), GF(5625, order=8191)]\n"
     ]
    }
   ],
   "source": [
    "# TEST CASE\n",
    "# Example: sum of 0 to 6 = 15\n",
    "circuit = sum_sq_circuit(6)\n",
    "inputs = [[i + 10] for i in range(6)]\n",
    "outputs = eval_circuit(inputs, circuit)\n",
    "print(outputs)\n",
    "# assert outputs == [GF(15), GF(225)]"
   ]
  },
  {
   "cell_type": "markdown",
   "metadata": {},
   "source": [
    "## Question 3\n",
    "\n",
    "Sketch the BGW protocol for evaluating an arithmetic or boolean circuit with $n$ parties."
   ]
  },
  {
   "cell_type": "markdown",
   "metadata": {
    "deletable": false,
    "nbgrader": {
     "cell_type": "markdown",
     "checksum": "f7e95bebf9a4b39541e1098c9213a047",
     "grade": true,
     "grade_id": "cell-179ac605162b991c",
     "locked": false,
     "points": 5,
     "schema_version": 3,
     "solution": true,
     "task": false
    }
   },
   "source": [
    "- wire_vals will now map wire numbers to *one share* of a wire's value\n",
    "- ADD will work normally\n",
    "- MULT will require mult and then degree reduction\n",
    "- Broadcast shares of output wires and reconstruct output values"
   ]
  },
  {
   "cell_type": "markdown",
   "metadata": {},
   "source": [
    "# Approach \n",
    "\n",
    "each party maintinas a dictionary mapping wires\n",
    "\n",
    "- Round 1 each party P_i generates shamir share of each of its secret inputs, sends one share to each party\n",
    "- Round 2 each party P_i receives shares of its inputs from each party and initializes the wire_vals dict\n",
    "- Round n\n",
    "    - evaluarte the next gate in the circuit\n",
    "    - if add, add the values of the two inputs and store in the output wire\n",
    "    - if mult, multiply the values of the two inputs and store in the output wire, perform degree reduction\n",
    "- #round n+1\n",
    "    - each party P_i broadcasts its shares of output wires\n",
    "- round n+2\n",
    "    - each party P_i reconstructs the output wires from the shares it received"
   ]
  },
  {
   "cell_type": "markdown",
   "metadata": {},
   "source": [
    "## Question 4\n",
    "\n",
    "Implement the BGW protocol."
   ]
  },
  {
   "cell_type": "code",
   "execution_count": 47,
   "metadata": {
    "deletable": false,
    "nbgrader": {
     "cell_type": "code",
     "checksum": "a09115ff7d233dcbaf3807d915a5ef9a",
     "grade": false,
     "grade_id": "cell-63e1be5f60698726",
     "locked": false,
     "schema_version": 3,
     "solution": true,
     "task": false
    }
   },
   "outputs": [],
   "source": [
    "class BGWParty(Party):\n",
    "    def round1(self, parties, circuit, my_inputs):\n",
    "        self.parties = parties\n",
    "        self.is_done = False\n",
    "        self.circuit = circuit\n",
    "        n = len(parties)\n",
    "        t = int(n/2)\n",
    "\n",
    "        # Round 1 (phase 1): Each party P_i create n Shamir shares of ech of its secret inputs ,\n",
    "        # and sends one share to each other party\n",
    "        my_id = parties.index(self)\n",
    "        my_input_wires = circuit.inputs[my_id]\n",
    "        # print(f\"party num {my_id} my input wires {my_inputs}\")\n",
    "\n",
    "        # input shares will map each party to the shares of my inputs destined for that party\n",
    "        input_shares = {p: {} for p in parties}\n",
    "\n",
    "        for wire, value in zip(my_input_wires, my_inputs):\n",
    "            shares = shamir_share(value, t, n)\n",
    "            for p, s in zip(parties, shares):\n",
    "                input_shares[p][wire] = s\n",
    "\n",
    "        for p in parties:\n",
    "            self.send(p, 1, input_shares[p])\n",
    "\n",
    "\n",
    "    def round2(self, my_id):\n",
    "        self.wire_vals = {}\n",
    "\n",
    "        # Round 2 (phase 2): EAch party recieves one share for\n",
    "        # each input wire and initializs the wire_vals dict\n",
    "        received_shares = self.received[1]\n",
    "\n",
    "        for received_dict in received_shares:\n",
    "            for key, value in received_dict.items():\n",
    "                self.wire_vals[key] = value\n",
    "\n",
    "        self.phase = 3\n",
    "        self.current_gate = 0\n",
    "        self.need_degree_reduction = False\n",
    "\n",
    "    def roundn(self, round_num):\n",
    "        n = len(self.parties)\n",
    "        t = int(n/2)\n",
    "\n",
    "        if self.need_degree_reduction:\n",
    "            # finish the degree reduction and\n",
    "            # update wire_vals\n",
    "            # - each party $P_i$ receives shares $h_j^i$\n",
    "            h_j_is = self.received[round_num - 1]\n",
    "            h_js_is_y = [s[1] for s in h_j_is]\n",
    "\n",
    "            V_a = GF(np.vander(range(1, n+1), increasing=True))\n",
    "            V_a_inv = np.linalg.inv(V_a)\n",
    "            lambda_js = V_a_inv[0] # first row\n",
    "\n",
    "            prods = [lambda_j * s for lambda_j, s in zip(lambda_js, h_js_is_y)]\n",
    "\n",
    "            #\n",
    "            g = self.circuit.gates[self.current_gate]\n",
    "            self.wire_vals[g.out] = \\\n",
    "                (self.x_coord, GF(prods).sum())\n",
    "\n",
    "            self.current_gate += 1\n",
    "            self.need_degree_reduction = False\n",
    "\n",
    "        if self.current_gate >= len(self.circuit.gates) and self.phase == 3:\n",
    "            self.phase = 4\n",
    "\n",
    "        if self.phase == 3:\n",
    "            # Evaluate the next gate in the circuit\n",
    "            # If it is an ADD gate, look up the shares of its input sin the dict and add them together,then update the dict to map its output to the resulting share\n",
    "            # If it is a MULT gate then, look up the shares of its input sin the dict and multiply them together,then perform degree reduction\n",
    "            g = self.circuit.gates[self.current_gate]\n",
    "\n",
    "\n",
    "            x1, y1 = self.wire_vals[g.in1] # lookup the value of the first input\n",
    "            x2, y2 = self.wire_vals[g.in2]\n",
    "            assert x1 == x2\n",
    "\n",
    "            if g.type == 'ADD':\n",
    "                self.wire_vals[g.out] = (x1, y1 + y2)\n",
    "                self.current_gate += 1\n",
    "\n",
    "            elif g.type == 'MULT':\n",
    "                mult_result = y1 * y2\n",
    "                # remember this value\n",
    "                # setup the degree reduction\n",
    "                # next time I enter `roundn` function,\n",
    "                # finish the degree reduction and\n",
    "                # update wire_vals\n",
    "                self.x_coord = x1\n",
    "                self.need_degree_reduction = True\n",
    "\n",
    "                h_i_js = shamir_share(mult_result, t, n)\n",
    "                for party, share, in zip(self.parties, h_i_js):\n",
    "                    self.send(party, round_num, share)\n",
    "\n",
    "\n",
    "        elif self.phase == 4:\n",
    "            # Round k: (phase 4) When all gates have been evaluated\n",
    "            # Each party P_u broadcasts its shares of output wires\n",
    "            output_wires = self.circuit.outputs\n",
    "            output_shares = [self.wire_vals[w] for w in output_wires]\n",
    "\n",
    "            for p in self.parties:\n",
    "                self.send(p, round_num, output_shares)\n",
    "\n",
    "            self.phase = 5\n",
    "\n",
    "        elif self.phase == 5:\n",
    "            # Round k+1: (phase 5) each party receives n shares of each output wire value, reconstructs each wire’s actual value, and outputs the values\n",
    "            received_shares = self.received[round_num - 1]\n",
    "\n",
    "            output_shares = [ [] for _ in self.circuit.outputs]\n",
    "            # arrange the shares\n",
    "            for shares in received_shares:\n",
    "                # shares received from a single party p_i\n",
    "                for j, wire_share in enumerate(shares):\n",
    "                    # this is the share for wire j\n",
    "                    output_shares[j].append(wire_share)\n",
    "\n",
    "            # do the reconstruction\n",
    "            output_vals = []\n",
    "            for shares in output_shares:\n",
    "                output_vals.append(reconstruct(shares))\n",
    "\n",
    "            self.output = output_vals\n",
    "\n",
    "            self.is_done = True\n"
   ]
  },
  {
   "cell_type": "code",
   "execution_count": 48,
   "metadata": {},
   "outputs": [],
   "source": [
    "def run_bgw_protocol():\n",
    "    NUM_PARTIES = 6\n",
    "    n = NUM_PARTIES\n",
    "    \n",
    "    circuit = sum_sq_circuit(6)\n",
    "    \n",
    "    inputs = [[i] for i in range(6)]\n",
    "    print('Inputs:', inputs)\n",
    "    parties = [BGWParty() for _ in range(NUM_PARTIES)]\n",
    "    \n",
    "    for p, i in zip(parties, inputs):\n",
    "        p.round1(parties, circuit, i)\n",
    "    for p in parties:\n",
    "        p.round2(parties)\n",
    "    round_num = 3\n",
    "\n",
    "    while not parties[0].is_done:\n",
    "        for p in parties:\n",
    "            p.roundn(round_num)       \n",
    "        round_num += 1\n",
    "        \n",
    "    for p in parties:\n",
    "        print('Output:', p.output)\n",
    "\n",
    "    outputs = [p.output for p in parties]\n",
    "    return outputs"
   ]
  },
  {
   "cell_type": "code",
   "execution_count": 49,
   "metadata": {
    "deletable": false,
    "editable": false,
    "nbgrader": {
     "cell_type": "code",
     "checksum": "7db1cd347faeb1923a550b56c4ffac1e",
     "grade": true,
     "grade_id": "cell-a4c2730dd690b6d5",
     "locked": true,
     "points": 5,
     "schema_version": 3,
     "solution": false,
     "task": false
    }
   },
   "outputs": [
    {
     "name": "stdout",
     "output_type": "stream",
     "text": [
      "Inputs: [[0], [1], [2], [3], [4], [5]]\n",
      "Output: [GF(15, order=8191), GF(225, order=8191)]\n",
      "Output: [GF(15, order=8191), GF(225, order=8191)]\n",
      "Output: [GF(15, order=8191), GF(225, order=8191)]\n",
      "Output: [GF(15, order=8191), GF(225, order=8191)]\n",
      "Output: [GF(15, order=8191), GF(225, order=8191)]\n",
      "Output: [GF(15, order=8191), GF(225, order=8191)]\n"
     ]
    }
   ],
   "source": [
    "# TEST CASE\n",
    "outputs = run_bgw_protocol()\n",
    "for o in outputs:\n",
    "    assert o == [GF(15), GF(225)]"
   ]
  },
  {
   "cell_type": "markdown",
   "metadata": {},
   "source": [
    "# GMW\n",
    "- binary circuits\n",
    "- two parties\n",
    "- uses oblivious transfer\n",
    "- uses additive secret sharing\n",
    "  - Additive homomorphism\n",
    "  - No multiplicative homomorphism\n",
    "\n",
    "\n",
    "# OT\n",
    "- S has two secrets\n",
    "- R wants to select one to recieve\n",
    "  - R does not learn the other secret\n",
    "  - S does not learn which was selected\n",
    "\n",
    "# Public Key Encryption\n",
    "- Anyone can encrypt something with the public key\n",
    "- Need secret key to decrypt\n",
    "- is this like $f(x)$ is public and $f^{-1}(x)$ is secret\n",
    "\n",
    "In OT, S encrypts both secrets with two public keys, but R only has one private key and S doesnt know which. R can decrypt only one.\n",
    "R generates two key-pairs, sends the public keys to the sender, then R \"forgets\" one of the secret keys."
   ]
  },
  {
   "cell_type": "markdown",
   "metadata": {},
   "source": [
    "## Question 5\n",
    "\n",
    "Describe the 1-out-of-2 *oblivious transfer* (OT) protocol. Reference Section 3.7 in Pragmatic MPC."
   ]
  },
  {
   "cell_type": "markdown",
   "metadata": {
    "deletable": false,
    "nbgrader": {
     "cell_type": "markdown",
     "checksum": "9b7cd57bc761bb6c61d8eed21c02674a",
     "grade": true,
     "grade_id": "cell-ab7252ab9d473712",
     "locked": false,
     "points": 5,
     "schema_version": 3,
     "solution": true,
     "task": false
    }
   },
   "source": [
    "Ideal functionality:\n",
    "- R has a secret selection bit b, S has two secrets X1 and X2\n",
    "- R recieves x1 if b=0 else x2\n",
    "- S receives nothing"
   ]
  },
  {
   "cell_type": "markdown",
   "metadata": {},
   "source": [
    "## Question 6\n",
    "\n",
    "Why is the oblivious transfer protocol secure against semi-honest adversaries? Why is it not secure against malicious adversaries?"
   ]
  },
  {
   "cell_type": "markdown",
   "metadata": {
    "deletable": false,
    "nbgrader": {
     "cell_type": "markdown",
     "checksum": "3c93044d2417974e1ce80034d57fdab0",
     "grade": true,
     "grade_id": "cell-56f846b72270e760",
     "locked": false,
     "points": 5,
     "schema_version": 3,
     "solution": true,
     "task": false
    }
   },
   "source": [
    "YOUR ANSWER HERE"
   ]
  },
  {
   "cell_type": "markdown",
   "metadata": {},
   "source": [
    "## Question 7\n",
    "\n",
    "Implement 1-out-of-2 OT."
   ]
  },
  {
   "cell_type": "code",
   "execution_count": null,
   "metadata": {
    "deletable": false,
    "nbgrader": {
     "cell_type": "code",
     "checksum": "1a63dadcaf8f787571990ca810b3b0c8",
     "grade": false,
     "grade_id": "cell-1804b306c9f5b962",
     "locked": false,
     "schema_version": 3,
     "solution": true,
     "task": false
    }
   },
   "outputs": [],
   "source": [
    "class OT_Sender(Party):\n",
    "    # x1 and x2 are the secrets\n",
    "    def round1(self, x1, x2, receiver):\n",
    "        self.x1 = x1\n",
    "        self.x2 = x2\n",
    "        self.receiver = receiver\n",
    "\n",
    "    def round2(self):\n",
    "        # YOUR CODE HERE\n",
    "        raise NotImplementedError()\n",
    "    \n",
    "    def round3(self):\n",
    "        pass\n",
    "\n",
    "class OT_Receiver(Party):\n",
    "    def round1(self, b, sender):\n",
    "        self.sender = sender\n",
    "        self.b = b\n",
    "        # YOUR CODE HERE\n",
    "        raise NotImplementedError()\n",
    "    \n",
    "    def round2(self):\n",
    "        pass\n",
    "    \n",
    "    def round3(self):\n",
    "        # YOUR CODE HERE\n",
    "        raise NotImplementedError()"
   ]
  },
  {
   "cell_type": "code",
   "execution_count": null,
   "metadata": {
    "deletable": false,
    "editable": false,
    "nbgrader": {
     "cell_type": "code",
     "checksum": "8b063733cf6cc464890ffef078e583e3",
     "grade": true,
     "grade_id": "cell-0228c49e37ea5d20",
     "locked": true,
     "points": 5,
     "schema_version": 3,
     "solution": false,
     "task": false
    }
   },
   "outputs": [],
   "source": [
    "# TEST CASE\n",
    "GF_2 = galois.GF(2)\n",
    "\n",
    "sender = OT_Sender()\n",
    "receiver = OT_Receiver()\n",
    "\n",
    "# Round 1\n",
    "sender.round1(GF_2(0), GF_2(1), receiver)\n",
    "receiver.round1(GF_2(1), sender)\n",
    "\n",
    "# Round 2\n",
    "sender.round2()\n",
    "receiver.round2()\n",
    "\n",
    "# Round 3\n",
    "sender.round3()\n",
    "output = receiver.round3()\n",
    "\n",
    "print(\"Receiver's output:\", output)\n",
    "assert output == 1"
   ]
  },
  {
   "cell_type": "markdown",
   "metadata": {},
   "source": [
    "## Question 8\n",
    "\n",
    "Describe 1-out-of-4 OT."
   ]
  },
  {
   "cell_type": "markdown",
   "metadata": {
    "deletable": false,
    "nbgrader": {
     "cell_type": "markdown",
     "checksum": "52270589cfe55c2364894d193e53c338",
     "grade": true,
     "grade_id": "cell-160870ed747f99e7",
     "locked": false,
     "points": 5,
     "schema_version": 3,
     "solution": true,
     "task": false
    }
   },
   "source": [
    "YOUR ANSWER HERE"
   ]
  },
  {
   "cell_type": "markdown",
   "metadata": {},
   "source": [
    "## Question 9\n",
    "\n",
    "Describe the GMW protocol for evaluating a binary circuit."
   ]
  },
  {
   "cell_type": "markdown",
   "metadata": {
    "deletable": false,
    "nbgrader": {
     "cell_type": "markdown",
     "checksum": "b852276462a613e0ded9f33e2284d5ab",
     "grade": true,
     "grade_id": "cell-b74bf235539d3182",
     "locked": false,
     "points": 5,
     "schema_version": 3,
     "solution": true,
     "task": false
    }
   },
   "source": [
    "YOUR ANSWER HERE"
   ]
  }
 ],
 "metadata": {
  "kernelspec": {
   "display_name": "Python 3.8.5 ('base')",
   "language": "python",
   "name": "python3"
  },
  "language_info": {
   "codemirror_mode": {
    "name": "ipython",
    "version": 3
   },
   "file_extension": ".py",
   "mimetype": "text/x-python",
   "name": "python",
   "nbconvert_exporter": "python",
   "pygments_lexer": "ipython3",
   "version": "3.8.5"
  },
  "vscode": {
   "interpreter": {
    "hash": "9d1aac6c46358ab76884be5fd1eb54486853f0ecd733b8a791c202a53a54f874"
   }
  }
 },
 "nbformat": 4,
 "nbformat_minor": 4
}
