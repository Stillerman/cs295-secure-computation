{
 "cells": [
  {
   "cell_type": "markdown",
   "metadata": {},
   "source": [
    "# CS295/395: Secure Distributed Computation\n",
    "## In-Class Exercise, 11/07/2022"
   ]
  },
  {
   "cell_type": "code",
   "execution_count": 1,
   "metadata": {},
   "outputs": [],
   "source": [
    "# Imports and definitions\n",
    "import numpy as np\n",
    "from collections import defaultdict\n",
    "from collections import namedtuple\n",
    "import urllib.request\n",
    "import hashlib"
   ]
  },
  {
   "cell_type": "markdown",
   "metadata": {},
   "source": [
    "# Blockchain\n",
    "Store $O(1)$ values and detect cheating in $O(\\infty)$ transactions!"
   ]
  },
  {
   "cell_type": "code",
   "execution_count": 3,
   "metadata": {},
   "outputs": [],
   "source": [
    "HashPointer = namedtuple('HashPointer', ['hash', 'pointer'])\n",
    "Transaction = namedtuple('Transaction', ['payer', 'payee', 'amount'])\n",
    "\n",
    "class Block:\n",
    "    def __init__(self, transaction, prev, nonce):\n",
    "        self.transaction = transaction\n",
    "        self.prev = prev\n",
    "        self.nonce = nonce\n",
    "    \n",
    "    def __repr__(self):\n",
    "        return f'\\nBlock(\\n transaction: {self.transaction},\\n nonce: {self.nonce},\\n prev: {self.prev})'"
   ]
  },
  {
   "cell_type": "markdown",
   "metadata": {},
   "source": [
    "## Question 1\n",
    "\n",
    "Implement `add_block`, which constructs a new block to hold a transaction and adds it to the blockchain."
   ]
  },
  {
   "cell_type": "code",
   "execution_count": 18,
   "metadata": {
    "deletable": false,
    "nbgrader": {
     "cell_type": "code",
     "checksum": "25147fd480c68e29f7c13594b05962fd",
     "grade": false,
     "grade_id": "cell-5f12b4adc6a1dbb3",
     "locked": false,
     "schema_version": 3,
     "solution": true,
     "task": false
    }
   },
   "outputs": [],
   "source": [
    "def add_block(transaction, blockchain, nonce):\n",
    "    # we need to hash the prev block then construct a new block with a hash pointer to the prev block\n",
    "    prev_hash = hashlib.sha256(bytes(str(blockchain), encoding=\"utf-8\")).hexdigest()\n",
    "    prev_pointer = HashPointer(prev_hash, blockchain)\n",
    "\n",
    "    # create a new block\n",
    "    new_block = Block(transaction, prev_pointer, nonce)\n",
    "    new_hash = hashlib.sha256(bytes(str(new_block), encoding=\"utf-8\")).hexdigest()\n",
    "\n",
    "    return new_block, new_hash"
   ]
  },
  {
   "cell_type": "code",
   "execution_count": 5,
   "metadata": {
    "deletable": false,
    "editable": false,
    "nbgrader": {
     "cell_type": "code",
     "checksum": "0bdf03e75faa58612c05994d4f2234ec",
     "grade": true,
     "grade_id": "cell-27469c5b8916bc1b",
     "locked": true,
     "points": 5,
     "schema_version": 3,
     "solution": false,
     "task": false
    }
   },
   "outputs": [
    {
     "data": {
      "text/plain": [
       "\n",
       "Block(\n",
       " transaction: Transaction(payer=None, payee='Joe', amount=50000),\n",
       " nonce: None,\n",
       " prev: None)"
      ]
     },
     "execution_count": 5,
     "metadata": {},
     "output_type": "execute_result"
    }
   ],
   "source": [
    "first_transaction = Transaction(None, 'Joe', 50000)\n",
    "blockchain = Block(first_transaction, None, None)\n",
    "blockchain"
   ]
  },
  {
   "cell_type": "code",
   "execution_count": 6,
   "metadata": {},
   "outputs": [
    {
     "data": {
      "text/plain": [
       "\n",
       "Block(\n",
       " transaction: Transaction(payer='Joe', payee='Bob', amount=500),\n",
       " nonce: None,\n",
       " prev: HashPointer(hash='647f77314a20004047d9148422154091622bebfe0af0e692a81e68038740ef88', pointer=\n",
       "Block(\n",
       " transaction: Transaction(payer='Joe', payee='Bob', amount=400),\n",
       " nonce: None,\n",
       " prev: HashPointer(hash='a84f32d14992b8e70f2210a28d6db9f4972d3395df11170590c8b30cd9429e45', pointer=\n",
       "Block(\n",
       " transaction: Transaction(payer=None, payee='Joe', amount=50000),\n",
       " nonce: None,\n",
       " prev: None)))))"
      ]
     },
     "execution_count": 6,
     "metadata": {},
     "output_type": "execute_result"
    }
   ],
   "source": [
    "blockchain, final_hash = add_block(Transaction('Joe', 'Bob', 400), blockchain, None)\n",
    "blockchain, final_hash = add_block(Transaction('Joe', 'Bob', 500), blockchain, None)\n",
    "blockchain"
   ]
  },
  {
   "cell_type": "markdown",
   "metadata": {},
   "source": [
    "## Question 2\n",
    "\n",
    "Implement `check_blockchain`, which checks that the blockchain hasn't been tampered with. The `check_blockchain` function takes the expected hash for the last block in the blockchain, and throws an error if any issue is found."
   ]
  },
  {
   "cell_type": "code",
   "execution_count": 7,
   "metadata": {
    "deletable": false,
    "nbgrader": {
     "cell_type": "code",
     "checksum": "f879f45d1442e52cc411bf02597cf1f9",
     "grade": false,
     "grade_id": "cell-1ac19f6470abf808",
     "locked": false,
     "schema_version": 3,
     "solution": true,
     "task": false
    }
   },
   "outputs": [],
   "source": [
    "def check_blockchain(blockchain, expected_hash):\n",
    "    # check if the hash of the blockchain is the same as the expected hash\n",
    "    if blockchain.prev is None:\n",
    "        return True\n",
    "        \n",
    "    if hashlib.sha256(bytes(str(blockchain), encoding=\"utf-8\")).hexdigest() == expected_hash:\n",
    "        return check_blockchain(blockchain.prev.pointer, blockchain.prev.hash)\n",
    "    else:\n",
    "        return False\n",
    "\n",
    "\n",
    "    current_block = blockchain\n",
    "    while current_block.prev is not None:\n",
    "        recomuputed_hash = hashlib.sha256(bytes(str(current_block), encoding=\"utf-8\")).hexdigest()\n",
    "        assert recomuputed_hash == expected_hash\n",
    "        \n",
    "        expected_hash = current_block.prev.hash\n",
    "        current_block = current_block.prev.pointer\n"
   ]
  },
  {
   "cell_type": "code",
   "execution_count": 8,
   "metadata": {
    "deletable": false,
    "editable": false,
    "nbgrader": {
     "cell_type": "code",
     "checksum": "8d76c3b4c3c42e928991a98c117ad8d8",
     "grade": true,
     "grade_id": "cell-9b3cc4b7cb7fd6c0",
     "locked": true,
     "points": 5,
     "schema_version": 3,
     "solution": false,
     "task": false
    }
   },
   "outputs": [
    {
     "data": {
      "text/plain": [
       "True"
      ]
     },
     "execution_count": 8,
     "metadata": {},
     "output_type": "execute_result"
    }
   ],
   "source": [
    "# Test no cheating\n",
    "\n",
    "check_blockchain(blockchain, final_hash)"
   ]
  },
  {
   "cell_type": "code",
   "execution_count": 9,
   "metadata": {},
   "outputs": [
    {
     "data": {
      "text/plain": [
       "False"
      ]
     },
     "execution_count": 9,
     "metadata": {},
     "output_type": "execute_result"
    }
   ],
   "source": [
    "# Test cheating!\n",
    "\n",
    "blockchain.transaction = Transaction('Joe', 'Bob', 20)\n",
    "check_blockchain(blockchain, final_hash)"
   ]
  },
  {
   "cell_type": "markdown",
   "metadata": {},
   "source": [
    "## Mining Difficulty"
   ]
  },
  {
   "cell_type": "code",
   "execution_count": 32,
   "metadata": {},
   "outputs": [
    {
     "name": "stdout",
     "output_type": "stream",
     "text": [
      "Length of sha256 hash (bytes): 32\n",
      "Max int represented by a sha256 hash: 115792089237316195423570985008687907853269984665640564039457584007913129639936\n",
      "50% difficulty number: 57896044618658097711785492504343953926634992332820282019728792003956564819968\n"
     ]
    }
   ],
   "source": [
    "example_hash = hashlib.sha256(bytes('hello', encoding='utf-8')).digest()\n",
    "print('Length of sha256 hash (bytes):', len(example_hash))\n",
    "print('Max int represented by a sha256 hash:', 2**(len(example_hash) * 8))\n",
    "print('50% difficulty number:', int(2**(len(example_hash) * 8)/2))\n",
    "\n",
    "difficulty_50 = int(2**(len(example_hash) * 8)/20)"
   ]
  },
  {
   "cell_type": "markdown",
   "metadata": {},
   "source": [
    "## Question 1\n",
    "\n",
    "Implement `mine_for_block`, which constructs a new block to hold a transaction and adds it to the blockchain *by mining*."
   ]
  },
  {
   "cell_type": "code",
   "execution_count": 33,
   "metadata": {
    "deletable": false,
    "nbgrader": {
     "cell_type": "code",
     "checksum": "67c69509a87f431a8ca417d8bb3243ed",
     "grade": true,
     "grade_id": "cell-8fbcb6841fbd4aad",
     "locked": false,
     "points": 5,
     "schema_version": 3,
     "solution": true,
     "task": false
    }
   },
   "outputs": [
    {
     "data": {
      "text/plain": [
       "(\n",
       " Block(\n",
       "  transaction: Transaction(payer='Joe', payee='Bob', amount=30),\n",
       "  nonce: 5,\n",
       "  prev: HashPointer(hash='3de1883f7f919678b1fd2b610b27577db97bb034279f18d735267f63e6018aff', pointer=\n",
       " Block(\n",
       "  transaction: Transaction(payer='Joe', payee='Bob', amount=20),\n",
       "  nonce: None,\n",
       "  prev: HashPointer(hash='647f77314a20004047d9148422154091622bebfe0af0e692a81e68038740ef88', pointer=\n",
       " Block(\n",
       "  transaction: Transaction(payer='Joe', payee='Bob', amount=400),\n",
       "  nonce: None,\n",
       "  prev: HashPointer(hash='a84f32d14992b8e70f2210a28d6db9f4972d3395df11170590c8b30cd9429e45', pointer=\n",
       " Block(\n",
       "  transaction: Transaction(payer=None, payee='Joe', amount=50000),\n",
       "  nonce: None,\n",
       "  prev: None))))))),\n",
       " '0921f6c9c9a3dc3ed61df82e31a861047a2b54850f70e4b7544244e881b679ee',\n",
       " 5)"
      ]
     },
     "execution_count": 33,
     "metadata": {},
     "output_type": "execute_result"
    }
   ],
   "source": [
    "def mine_for_block(transaction, blockchain, difficulty):\n",
    "    nonce = 0\n",
    "    while True:\n",
    "        new_block, new_block_hash = add_block(transaction=transaction, blockchain=blockchain, nonce=nonce)\n",
    "\n",
    "        if int(new_block_hash,16) <= difficulty:\n",
    "            return new_block, new_block_hash, nonce\n",
    "\n",
    "        nonce += 1\n",
    "\n",
    "new_transaction = Transaction('Joe', 'Bob', 30)\n",
    "mine_for_block(new_transaction, blockchain, difficulty_50)"
   ]
  },
  {
   "cell_type": "code",
   "execution_count": 34,
   "metadata": {},
   "outputs": [
    {
     "data": {
      "text/plain": [
       "(\n",
       " Block(\n",
       "  transaction: Transaction(payer='Joe', payee='Bob', amount=30),\n",
       "  nonce: 37,\n",
       "  prev: HashPointer(hash='3de1883f7f919678b1fd2b610b27577db97bb034279f18d735267f63e6018aff', pointer=\n",
       " Block(\n",
       "  transaction: Transaction(payer='Joe', payee='Bob', amount=20),\n",
       "  nonce: None,\n",
       "  prev: HashPointer(hash='647f77314a20004047d9148422154091622bebfe0af0e692a81e68038740ef88', pointer=\n",
       " Block(\n",
       "  transaction: Transaction(payer='Joe', payee='Bob', amount=400),\n",
       "  nonce: None,\n",
       "  prev: HashPointer(hash='a84f32d14992b8e70f2210a28d6db9f4972d3395df11170590c8b30cd9429e45', pointer=\n",
       " Block(\n",
       "  transaction: Transaction(payer=None, payee='Joe', amount=50000),\n",
       "  nonce: None,\n",
       "  prev: None))))))),\n",
       " '022c20536e038db9aeca68a0e7a7f8598f4f32b0f42172cd79dccbcd27b78491',\n",
       " 37)"
      ]
     },
     "execution_count": 34,
     "metadata": {},
     "output_type": "execute_result"
    }
   ],
   "source": [
    "difficulty_1 = int(2**(len(example_hash) * 8)/100)\n",
    "mine_for_block(new_transaction, blockchain, difficulty_1)"
   ]
  },
  {
   "cell_type": "code",
   "execution_count": null,
   "metadata": {},
   "outputs": [],
   "source": [
    "difficulty_001 = int(2**(len(example_hash) * 8)/10000)\n",
    "mine_for_block(new_transaction, blockchain, difficulty_001)"
   ]
  },
  {
   "cell_type": "code",
   "execution_count": 35,
   "metadata": {},
   "outputs": [
    {
     "name": "stdout",
     "output_type": "stream",
     "text": [
      "CPU times: user 2.02 s, sys: 20.8 ms, total: 2.04 s\n",
      "Wall time: 2.08 s\n"
     ]
    },
    {
     "data": {
      "text/plain": [
       "(\n",
       " Block(\n",
       "  transaction: Transaction(payer='Joe', payee='Bob', amount=30),\n",
       "  nonce: 110805,\n",
       "  prev: HashPointer(hash='3de1883f7f919678b1fd2b610b27577db97bb034279f18d735267f63e6018aff', pointer=\n",
       " Block(\n",
       "  transaction: Transaction(payer='Joe', payee='Bob', amount=20),\n",
       "  nonce: None,\n",
       "  prev: HashPointer(hash='647f77314a20004047d9148422154091622bebfe0af0e692a81e68038740ef88', pointer=\n",
       " Block(\n",
       "  transaction: Transaction(payer='Joe', payee='Bob', amount=400),\n",
       "  nonce: None,\n",
       "  prev: HashPointer(hash='a84f32d14992b8e70f2210a28d6db9f4972d3395df11170590c8b30cd9429e45', pointer=\n",
       " Block(\n",
       "  transaction: Transaction(payer=None, payee='Joe', amount=50000),\n",
       "  nonce: None,\n",
       "  prev: None))))))),\n",
       " '0000414130dd5de01ea116c1159f1e09175a49b20c8113b8b0de579484ecd568',\n",
       " 110805)"
      ]
     },
     "execution_count": 35,
     "metadata": {},
     "output_type": "execute_result"
    }
   ],
   "source": [
    "%%time\n",
    "difficulty_00001 = int(2**(len(example_hash) * 8)/100000)\n",
    "mine_for_block(new_transaction, blockchain, difficulty_00001)"
   ]
  },
  {
   "cell_type": "code",
   "execution_count": 36,
   "metadata": {},
   "outputs": [
    {
     "name": "stdout",
     "output_type": "stream",
     "text": [
      "Difficulty: 11579208923731619018376031139465614024134476364304102319801637674156032\n",
      "CPU times: user 44.3 s, sys: 277 ms, total: 44.6 s\n",
      "Wall time: 45.1 s\n"
     ]
    },
    {
     "data": {
      "text/plain": [
       "(\n",
       " Block(\n",
       "  transaction: Transaction(payer='Joe', payee='Bob', amount=30),\n",
       "  nonce: 2500392,\n",
       "  prev: HashPointer(hash='3de1883f7f919678b1fd2b610b27577db97bb034279f18d735267f63e6018aff', pointer=\n",
       " Block(\n",
       "  transaction: Transaction(payer='Joe', payee='Bob', amount=20),\n",
       "  nonce: None,\n",
       "  prev: HashPointer(hash='647f77314a20004047d9148422154091622bebfe0af0e692a81e68038740ef88', pointer=\n",
       " Block(\n",
       "  transaction: Transaction(payer='Joe', payee='Bob', amount=400),\n",
       "  nonce: None,\n",
       "  prev: HashPointer(hash='a84f32d14992b8e70f2210a28d6db9f4972d3395df11170590c8b30cd9429e45', pointer=\n",
       " Block(\n",
       "  transaction: Transaction(payer=None, payee='Joe', amount=50000),\n",
       "  nonce: None,\n",
       "  prev: None))))))),\n",
       " '000001573d7097aa003b6ce8f29d573b11963fccffa25d6059c007df71407ac7',\n",
       " 2500392)"
      ]
     },
     "execution_count": 36,
     "metadata": {},
     "output_type": "execute_result"
    }
   ],
   "source": [
    "%%time \n",
    "final_difficulty = int(2**(len(example_hash) * 8)/10000000)\n",
    "print('Difficulty:', final_difficulty)\n",
    "mine_for_block(new_transaction, blockchain, final_difficulty)"
   ]
  },
  {
   "cell_type": "code",
   "execution_count": null,
   "metadata": {},
   "outputs": [],
   "source": []
  },
  {
   "cell_type": "code",
   "execution_count": null,
   "metadata": {},
   "outputs": [],
   "source": []
  }
 ],
 "metadata": {
  "kernelspec": {
   "display_name": "Python 3.8.5 ('base')",
   "language": "python",
   "name": "python3"
  },
  "language_info": {
   "codemirror_mode": {
    "name": "ipython",
    "version": 3
   },
   "file_extension": ".py",
   "mimetype": "text/x-python",
   "name": "python",
   "nbconvert_exporter": "python",
   "pygments_lexer": "ipython3",
   "version": "3.8.5"
  },
  "vscode": {
   "interpreter": {
    "hash": "9d1aac6c46358ab76884be5fd1eb54486853f0ecd733b8a791c202a53a54f874"
   }
  }
 },
 "nbformat": 4,
 "nbformat_minor": 4
}
