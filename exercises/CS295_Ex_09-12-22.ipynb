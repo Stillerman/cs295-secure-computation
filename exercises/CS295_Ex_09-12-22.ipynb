{
 "cells": [
  {
   "cell_type": "markdown",
   "metadata": {},
   "source": [
    "# CS295/395: Secure Distributed Computation\n",
    "## In-Class Exercise, Week of 9/12/2022"
   ]
  },
  {
   "cell_type": "code",
   "execution_count": 1,
   "metadata": {},
   "outputs": [],
   "source": [
    "# Imports and definitions\n",
    "import numpy as np\n",
    "from collections import defaultdict\n",
    "import galois\n",
    "\n",
    "GF = galois.GF(97)"
   ]
  },
  {
   "cell_type": "markdown",
   "metadata": {},
   "source": [
    "## Question 1\n",
    "\n",
    "Write code to generate shares of a secret $x$ in a $(t, n)$-secret sharing scheme using Shamir's technique, where $n = 5$ and $t = 2$."
   ]
  },
  {
   "cell_type": "code",
   "execution_count": 2,
   "metadata": {
    "deletable": false,
    "nbgrader": {
     "cell_type": "code",
     "checksum": "0c1e6f11f56316761bc9751dca4721e7",
     "grade": false,
     "grade_id": "cell-5009ee71e62855fc",
     "locked": false,
     "schema_version": 3,
     "solution": true,
     "task": false
    }
   },
   "outputs": [],
   "source": [
    "def shr_2_5(v):\n",
    "    n = 5\n",
    "    m = GF.Random()\n",
    "\n",
    "    def f(x):\n",
    "        return m * x + v\n",
    "\n",
    "    xs = [GF(i) for i in range(1, n+1)]\n",
    "    ys = [f(x) for x in xs]\n",
    "\n",
    "    shares = list(zip(xs, ys))\n",
    "    return shares"
   ]
  },
  {
   "cell_type": "code",
   "execution_count": 3,
   "metadata": {},
   "outputs": [
    {
     "data": {
      "text/plain": [
       "[(GF(1, order=97), GF(53, order=97)),\n",
       " (GF(2, order=97), GF(4, order=97)),\n",
       " (GF(3, order=97), GF(52, order=97)),\n",
       " (GF(4, order=97), GF(3, order=97)),\n",
       " (GF(5, order=97), GF(51, order=97))]"
      ]
     },
     "execution_count": 3,
     "metadata": {},
     "output_type": "execute_result"
    }
   ],
   "source": [
    "# Example for question 1\n",
    "\n",
    "shr_2_5(GF(5))"
   ]
  },
  {
   "cell_type": "code",
   "execution_count": 4,
   "metadata": {
    "deletable": false,
    "editable": false,
    "nbgrader": {
     "cell_type": "code",
     "checksum": "789ac0549119ca349821b9730c3f9de3",
     "grade": true,
     "grade_id": "cell-555fb4fef5fb1a22",
     "locked": true,
     "points": 5,
     "schema_version": 3,
     "solution": false,
     "task": false
    }
   },
   "outputs": [],
   "source": [
    "# TEST CASE for question 1\n",
    "\n",
    "assert len(shr_2_5(GF(5))) == 5"
   ]
  },
  {
   "cell_type": "markdown",
   "metadata": {},
   "source": [
    "## Question 2\n",
    "\n",
    "Write a function to reconstruct the secret, using only two shares."
   ]
  },
  {
   "cell_type": "code",
   "execution_count": 5,
   "metadata": {
    "deletable": false,
    "nbgrader": {
     "cell_type": "code",
     "checksum": "36cad7bc3f8a20ed6211f16a1fc5dbf9",
     "grade": false,
     "grade_id": "cell-e32dd909f78b8f42",
     "locked": false,
     "schema_version": 3,
     "solution": true,
     "task": false
    }
   },
   "outputs": [
    {
     "data": {
      "text/plain": [
       "GF(5, order=97)"
      ]
     },
     "execution_count": 5,
     "metadata": {},
     "output_type": "execute_result"
    }
   ],
   "source": [
    "def reconstruct(s1, s2):\n",
    "\n",
    "    # deconstruct shares\n",
    "    x1, y1 = s1\n",
    "    x2, y2 = s2\n",
    "\n",
    "    # calculate the slope\n",
    "    # because we need this division we cannot use a ring it MUST be a galois field\n",
    "    m = (y2 - y1) / (x2 - x1)\n",
    "\n",
    "    # calculate the intercept\n",
    "    v = y1 - m * x1\n",
    "\n",
    "    return GF(v)\n",
    "\n",
    "shares = shr_2_5(GF(5))\n",
    "reconstruct(shares[0], shares[1])"
   ]
  },
  {
   "cell_type": "code",
   "execution_count": 6,
   "metadata": {
    "deletable": false,
    "editable": false,
    "nbgrader": {
     "cell_type": "code",
     "checksum": "006f385aa7d0b15bb9c4687d650c5c71",
     "grade": true,
     "grade_id": "cell-65162c80c83feaa7",
     "locked": true,
     "points": 5,
     "schema_version": 3,
     "solution": false,
     "task": false
    }
   },
   "outputs": [],
   "source": [
    "# TEST CASE\n",
    "shares = shr_2_5(GF(5))\n",
    "assert reconstruct(shares[0], shares[1]) == GF(5)"
   ]
  },
  {
   "cell_type": "markdown",
   "metadata": {},
   "source": [
    "## Question 3\n",
    "\n",
    "Why is a threshold secret sharing scheme more useful than the simpler additive secret sharing scheme we saw earlier?"
   ]
  },
  {
   "cell_type": "markdown",
   "metadata": {
    "deletable": false,
    "nbgrader": {
     "cell_type": "markdown",
     "checksum": "53e5a1f680ae79d21d0e09da61ab5aeb",
     "grade": true,
     "grade_id": "cell-021796358da78ff7",
     "locked": false,
     "points": 5,
     "schema_version": 3,
     "solution": true,
     "task": false
    }
   },
   "source": [
    "- You can reconstruct the secret using fewer than all of the shares\n",
    "- If some parties drop out during the protocol execution, a threshold scheme still lets you reconstruct the answer\n",
    "- Committee encryption/decryption (secret share an encryption key)\n",
    "- Catch malicious adversaries/parties cheating"
   ]
  },
  {
   "cell_type": "markdown",
   "metadata": {},
   "source": [
    "## Question 4\n",
    "\n",
    "Write code to generate shares of a secret $x$ in a $(t, n)$-secret sharing scheme using Shamir's technique, for any $t$ and $n$."
   ]
  },
  {
   "cell_type": "code",
   "execution_count": 7,
   "metadata": {
    "deletable": false,
    "nbgrader": {
     "cell_type": "code",
     "checksum": "66b9acd0a36169cab906fedd756517dd",
     "grade": false,
     "grade_id": "cell-34c3029e58f042c0",
     "locked": false,
     "schema_version": 3,
     "solution": true,
     "task": false
    }
   },
   "outputs": [
    {
     "data": {
      "text/plain": [
       "[(GF(1, order=97), GF(3, order=97)),\n",
       " (GF(2, order=97), GF(77, order=97)),\n",
       " (GF(3, order=97), GF(33, order=97)),\n",
       " (GF(4, order=97), GF(65, order=97)),\n",
       " (GF(5, order=97), GF(76, order=97)),\n",
       " (GF(6, order=97), GF(66, order=97)),\n",
       " (GF(7, order=97), GF(35, order=97)),\n",
       " (GF(8, order=97), GF(80, order=97)),\n",
       " (GF(9, order=97), GF(7, order=97)),\n",
       " (GF(10, order=97), GF(10, order=97)),\n",
       " (GF(11, order=97), GF(89, order=97)),\n",
       " (GF(12, order=97), GF(50, order=97)),\n",
       " (GF(13, order=97), GF(87, order=97)),\n",
       " (GF(14, order=97), GF(6, order=97)),\n",
       " (GF(15, order=97), GF(1, order=97)),\n",
       " (GF(16, order=97), GF(72, order=97))]"
      ]
     },
     "execution_count": 7,
     "metadata": {},
     "output_type": "execute_result"
    }
   ],
   "source": [
    "def shamir_share(v, t, n):\n",
    "\n",
    "    # generate random coefficients\n",
    "    coeffs = [GF.Random() for _ in range(t-1)]\n",
    "    coeffs.append(v)\n",
    "\n",
    "    # create the polynomial\n",
    "    poly = galois.Poly(coeffs, field=GF)\n",
    "\n",
    "    # evaluate the polynomial at points 1, 2, ..., n\n",
    "    shares = [(GF(i), poly(i)) for i in range(1, n+1)]\n",
    "\n",
    "    return shares\n",
    "\n",
    "shamir_share(GF(5), 3, 16)"
   ]
  },
  {
   "cell_type": "code",
   "execution_count": 8,
   "metadata": {},
   "outputs": [
    {
     "data": {
      "text/plain": [
       "[(GF(1, order=97), GF(72, order=97)),\n",
       " (GF(2, order=97), GF(42, order=97)),\n",
       " (GF(3, order=97), GF(12, order=97)),\n",
       " (GF(4, order=97), GF(79, order=97)),\n",
       " (GF(5, order=97), GF(49, order=97))]"
      ]
     },
     "execution_count": 8,
     "metadata": {},
     "output_type": "execute_result"
    }
   ],
   "source": [
    "# Example for question 1\n",
    "\n",
    "shr_2_5(GF(5))"
   ]
  },
  {
   "cell_type": "code",
   "execution_count": 9,
   "metadata": {
    "deletable": false,
    "editable": false,
    "nbgrader": {
     "cell_type": "code",
     "checksum": "86264221a6cf08afd47cd22c816d3187",
     "grade": true,
     "grade_id": "cell-a6374001a42a98cf",
     "locked": true,
     "points": 5,
     "schema_version": 3,
     "solution": false,
     "task": false
    }
   },
   "outputs": [],
   "source": [
    "# TEST CASE\n",
    "assert len(shamir_share(GF(5), 3, 6)) == 6\n",
    "shares = shamir_share(GF(5), 2, 6)\n",
    "assert reconstruct(shares[0], shares[1]) == GF(5)"
   ]
  },
  {
   "cell_type": "markdown",
   "metadata": {},
   "source": [
    "## Question 5\n",
    "\n",
    "Given the two sets of shares `shares1` and `shares2` below, write a function whose output is their sum (as a set of shares)."
   ]
  },
  {
   "cell_type": "code",
   "execution_count": 10,
   "metadata": {
    "deletable": false,
    "nbgrader": {
     "cell_type": "code",
     "checksum": "54d4dfaed6dda4687694107739af00a1",
     "grade": false,
     "grade_id": "cell-96a3bb1415b78611",
     "locked": false,
     "schema_version": 3,
     "solution": true,
     "task": false
    }
   },
   "outputs": [
    {
     "name": "stdout",
     "output_type": "stream",
     "text": [
      "[(GF(1, order=97), GF(63, order=97)), (GF(2, order=97), GF(4, order=97)), (GF(3, order=97), GF(42, order=97)), (GF(4, order=97), GF(80, order=97)), (GF(5, order=97), GF(21, order=97)), (GF(6, order=97), GF(59, order=97))]\n"
     ]
    },
    {
     "data": {
      "text/plain": [
       "GF(25, order=97)"
      ]
     },
     "execution_count": 10,
     "metadata": {},
     "output_type": "execute_result"
    }
   ],
   "source": [
    "shares1 = shamir_share(GF(20), 2, 6)\n",
    "shares2 = shamir_share(GF(5), 2, 6)\n",
    "\n",
    "def add_shares(shares1, shares2):\n",
    "    added_shares = []\n",
    "\n",
    "    for s1, s2 in zip(shares1, shares2):\n",
    "        x1, y1 = s1\n",
    "        x2, y2 = s2\n",
    "\n",
    "        # check that the shares are at the same point (they better be)\n",
    "        assert x1 == x2\n",
    "\n",
    "        added_shares.append((x1, y1 + y2))\n",
    "\n",
    "    return added_shares\n",
    "\n",
    "added_shares = add_shares(shares1, shares2)\n",
    "print(added_shares)\n",
    "reconstruct(added_shares[0], added_shares[1])"
   ]
  },
  {
   "cell_type": "code",
   "execution_count": 11,
   "metadata": {
    "deletable": false,
    "editable": false,
    "nbgrader": {
     "cell_type": "code",
     "checksum": "defc408c2c7e4e211850672743d18b3b",
     "grade": true,
     "grade_id": "cell-fc07ee60a24605f8",
     "locked": true,
     "points": 5,
     "schema_version": 3,
     "solution": false,
     "task": false
    }
   },
   "outputs": [],
   "source": [
    "# TEST CASE\n",
    "added_shares = add_shares(shares1, shares2)\n",
    "assert reconstruct(added_shares[0], added_shares[2]) == GF(25)"
   ]
  },
  {
   "cell_type": "markdown",
   "metadata": {},
   "source": [
    "## Question 6\n",
    "\n",
    "Write a function to reconstruct a secret from a set of at least $t$ shares. Use the `galois.lagrange_poly` function, which implements [Lagrange interpolation](https://en.wikipedia.org/wiki/Lagrange_polynomial)."
   ]
  },
  {
   "cell_type": "code",
   "execution_count": 12,
   "metadata": {
    "deletable": false,
    "nbgrader": {
     "cell_type": "code",
     "checksum": "51ec718588dc29e2c4da9d837fd6a582",
     "grade": false,
     "grade_id": "cell-8e6f22549d0766db",
     "locked": false,
     "schema_version": 3,
     "solution": true,
     "task": false
    }
   },
   "outputs": [
    {
     "data": {
      "text/plain": [
       "GF(25, order=97)"
      ]
     },
     "execution_count": 12,
     "metadata": {},
     "output_type": "execute_result"
    }
   ],
   "source": [
    "def reconstruct(shares):\n",
    "    # create a polynomial from the shares\n",
    "    xs = GF([x for x, _ in shares])\n",
    "    ys = GF([y for _, y in shares])\n",
    "\n",
    "    poly = galois.lagrange_poly(xs, ys)\n",
    "    return GF(poly(0))\n",
    "\n",
    "reconstruct(added_shares)"
   ]
  },
  {
   "cell_type": "code",
   "execution_count": 13,
   "metadata": {
    "deletable": false,
    "editable": false,
    "nbgrader": {
     "cell_type": "code",
     "checksum": "663d090acc4bedbabd75a690d3a22954",
     "grade": true,
     "grade_id": "cell-0fc28d5b0ecdae18",
     "locked": true,
     "points": 5,
     "schema_version": 3,
     "solution": false,
     "task": false
    }
   },
   "outputs": [],
   "source": [
    "# TEST CASE\n",
    "shares = shamir_share(GF(30), 5, 10)\n",
    "assert reconstruct(shares) == GF(30)\n",
    "assert reconstruct(shares[:5]) == GF(30)  # t shares are sufficient\n",
    "assert reconstruct(shares[:4]) != GF(30)  # t - 1 shares are not sufficient"
   ]
  },
  {
   "cell_type": "markdown",
   "metadata": {},
   "source": [
    "## Question 7\n",
    "\n",
    "Given the two sets of shares `shares1` and `shares2` below, write a function whose output is their product (as a set of shares)."
   ]
  },
  {
   "cell_type": "code",
   "execution_count": 14,
   "metadata": {
    "deletable": false,
    "nbgrader": {
     "cell_type": "code",
     "checksum": "b9cf0a10cb95f631d81ad82372ce164d",
     "grade": false,
     "grade_id": "cell-27b6a75239e0abfc",
     "locked": false,
     "schema_version": 3,
     "solution": true,
     "task": false
    }
   },
   "outputs": [
    {
     "name": "stdout",
     "output_type": "stream",
     "text": [
      "[(GF(1, order=97), GF(1, order=97)), (GF(2, order=97), GF(83, order=97)), (GF(3, order=97), GF(94, order=97)), (GF(4, order=97), GF(8, order=97)), (GF(5, order=97), GF(82, order=97)), (GF(6, order=97), GF(80, order=97))]\n"
     ]
    },
    {
     "data": {
      "text/plain": [
       "GF(60, order=97)"
      ]
     },
     "execution_count": 14,
     "metadata": {},
     "output_type": "execute_result"
    }
   ],
   "source": [
    "shares1 = shamir_share(GF(20), 3, 6)\n",
    "shares2 = shamir_share(GF(3), 3, 6)\n",
    "\n",
    "def mult_shares(shares1, shares2):\n",
    "    added_shares = []\n",
    "\n",
    "    for s1, s2 in zip(shares1, shares2):\n",
    "        x1, y1 = s1\n",
    "        x2, y2 = s2\n",
    "\n",
    "        # check that the shares are at the same point (they better be)\n",
    "        assert x1 == x2\n",
    "\n",
    "        added_shares.append((x1, y1 * y2))\n",
    "\n",
    "    return added_shares\n",
    "\n",
    "product_shares = mult_shares(shares1, shares2)\n",
    "print(product_shares)\n",
    "reconstruct(shares1)\n",
    "reconstruct(product_shares)"
   ]
  },
  {
   "cell_type": "code",
   "execution_count": 15,
   "metadata": {
    "deletable": false,
    "editable": false,
    "nbgrader": {
     "cell_type": "code",
     "checksum": "701c49445c25c5a0eac46ac6120e8d2e",
     "grade": true,
     "grade_id": "cell-a208fe44dcacec08",
     "locked": true,
     "points": 5,
     "schema_version": 3,
     "solution": false,
     "task": false
    }
   },
   "outputs": [],
   "source": [
    "# TEST CASE\n",
    "product_shares = mult_shares(shares1, shares2)\n",
    "\n",
    "assert reconstruct(product_shares) == GF(60)\n",
    "assert reconstruct(product_shares[:4]) != GF(60)  # t shares are no longer sufficient"
   ]
  },
  {
   "cell_type": "markdown",
   "metadata": {},
   "source": [
    "## Limitation on multiplication\n",
    "Every time you multiply two polynomials, the dregree increases so more shares are required to uncover the secret.\n",
    "\n",
    "### Degree reduction\n",
    "Create a new polynomial with degree d/2 with the same secret but random coeffs.\n",
    "\n",
    "### Vandermonde matrix\n",
    "\n",
    "## Circuits\n",
    "- no conditionals (unless in binary)\n",
    "- no loops\n",
    "- no memory/control flow"
   ]
  }
 ],
 "metadata": {
  "kernelspec": {
   "display_name": "Python 3.8.5 ('base')",
   "language": "python",
   "name": "python3"
  },
  "language_info": {
   "codemirror_mode": {
    "name": "ipython",
    "version": 3
   },
   "file_extension": ".py",
   "mimetype": "text/x-python",
   "name": "python",
   "nbconvert_exporter": "python",
   "pygments_lexer": "ipython3",
   "version": "3.8.5"
  },
  "vscode": {
   "interpreter": {
    "hash": "9d1aac6c46358ab76884be5fd1eb54486853f0ecd733b8a791c202a53a54f874"
   }
  }
 },
 "nbformat": 4,
 "nbformat_minor": 4
}
