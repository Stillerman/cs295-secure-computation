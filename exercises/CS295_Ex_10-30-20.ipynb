{
 "cells": [
  {
   "cell_type": "markdown",
   "metadata": {},
   "source": [
    "# CS295/395: Secure Distributed Computation\n",
    "## In-Class Exercise, 10/30/2020"
   ]
  },
  {
   "cell_type": "code",
   "execution_count": null,
   "metadata": {},
   "outputs": [],
   "source": [
    "import hashlib"
   ]
  },
  {
   "cell_type": "code",
   "execution_count": null,
   "metadata": {},
   "outputs": [],
   "source": [
    "hashlib.sha256(bytes(5)).hexdigest()"
   ]
  },
  {
   "cell_type": "markdown",
   "metadata": {},
   "source": [
    "The code below implements a *commitment scheme* using `hashlib.sha256`."
   ]
  },
  {
   "cell_type": "code",
   "execution_count": null,
   "metadata": {},
   "outputs": [],
   "source": [
    "class CommitmentSender:\n",
    "    def __init__(self, receiver):\n",
    "        self.receiver = receiver\n",
    "    \n",
    "    def commit(self, string):\n",
    "        self.string = string\n",
    "        self.hash = hashlib.sha256(bytes(self.string)).hexdigest()\n",
    "        self.receiver.receive_commit(self.hash)\n",
    "        \n",
    "    def open(self):\n",
    "        self.receiver.receive_open(self.string)\n",
    "\n",
    "class CommitmentReceiver:\n",
    "    def receive_commit(self, received_hash):\n",
    "        self.committed_hash = received_hash\n",
    "        print('Reciever has received the hash:', received_hash)\n",
    "        \n",
    "    def receive_open(self, string):\n",
    "        recomputed_hash = hashlib.sha256(bytes(string)).hexdigest()\n",
    "        \n",
    "        if recomputed_hash == self.committed_hash:\n",
    "            print('Open successful:', string)\n",
    "        else:\n",
    "            print('ERROR: sender has cheated!!!!')\n",
    "\n",
    "r = CommitmentReceiver()\n",
    "s = CommitmentSender(r)\n",
    "s.commit(5)\n",
    "s.open()"
   ]
  },
  {
   "cell_type": "markdown",
   "metadata": {},
   "source": [
    "## Question 1\n",
    "\n",
    "Implement a *cheating* sender for the commitment scheme from question 1. The receiever should be able to tell that the cheating sender has cheated."
   ]
  },
  {
   "cell_type": "code",
   "execution_count": null,
   "metadata": {
    "deletable": false,
    "nbgrader": {
     "cell_type": "code",
     "checksum": "b7b7e9905f61ff53b2a7b0c3c3353c26",
     "grade": true,
     "grade_id": "cell-0ece1e3f501fd958",
     "locked": false,
     "points": 5,
     "schema_version": 3,
     "solution": true,
     "task": false
    }
   },
   "outputs": [],
   "source": [
    "class CheatingCommitmentSender:\n",
    "    def __init__(self, receiver):\n",
    "        self.receiver = receiver\n",
    "    \n",
    "    def commit(self, string):\n",
    "        # YOUR CODE HERE\n",
    "        raise NotImplementedError()\n",
    "        \n",
    "    def open(self, new_string):\n",
    "        # YOUR CODE HERE\n",
    "        raise NotImplementedError()\n",
    "\n",
    "r = CommitmentReceiver()\n",
    "s = CheatingCommitmentSender(r)\n",
    "s.commit(5)\n",
    "s.open(6)"
   ]
  },
  {
   "cell_type": "markdown",
   "metadata": {},
   "source": [
    "## Question 2\n",
    "\n",
    "Implement a zero-knowledge proof scheme that allows the prover to prove to the verifier that the prover knows the value of a password, without revealing the password itself. The verifier should print \"Accept\" if the proof is accepted, and \"Reject\" otherwise."
   ]
  },
  {
   "cell_type": "code",
   "execution_count": null,
   "metadata": {
    "deletable": false,
    "nbgrader": {
     "cell_type": "code",
     "checksum": "0c0d4661dccc9217fba0115174453099",
     "grade": true,
     "grade_id": "cell-27d13c36cda1daac",
     "locked": false,
     "points": 5,
     "schema_version": 3,
     "solution": true,
     "task": false
    }
   },
   "outputs": [],
   "source": [
    "class Prover:\n",
    "    def __init__(self, verifier):\n",
    "        self.verifier = verifier\n",
    "    \n",
    "    def prove(self):\n",
    "        # YOUR CODE HERE\n",
    "        raise NotImplementedError()\n",
    "\n",
    "class Verifier:\n",
    "    def verify(self, password_hash_prover):\n",
    "        # YOUR CODE HERE\n",
    "        raise NotImplementedError()\n",
    "\n",
    "V = Verifier()\n",
    "P = Prover(V)\n",
    "P.prove()"
   ]
  }
 ],
 "metadata": {
  "kernelspec": {
   "display_name": "Python 3",
   "language": "python",
   "name": "python3"
  },
  "language_info": {
   "codemirror_mode": {
    "name": "ipython",
    "version": 3
   },
   "file_extension": ".py",
   "mimetype": "text/x-python",
   "name": "python",
   "nbconvert_exporter": "python",
   "pygments_lexer": "ipython3",
   "version": "3.6.10"
  }
 },
 "nbformat": 4,
 "nbformat_minor": 4
}
