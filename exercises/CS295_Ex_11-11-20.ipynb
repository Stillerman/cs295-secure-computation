{
 "cells": [
  {
   "cell_type": "markdown",
   "metadata": {},
   "source": [
    "# CS295/395: Secure Distributed Computation\n",
    "## In-Class Exercise, 11/11/2020"
   ]
  },
  {
   "cell_type": "markdown",
   "metadata": {},
   "source": [
    "## Interactive Zero-Knowledge Protocol for Statements about Circuits using MPC-in-the-Head\n",
    "\n",
    "**Statement**: For (public) circuit $C$, Prover knows values for the input wires such that $C$ outputs 0.\n",
    "\n",
    "**Witness**: Values for $C$'s inputs.\n",
    "\n",
    "One iteration of the protocol:\n",
    "- **Commit**: Prover splits the witness into $P$ inputs by Shamir secret sharing each input to $P$ parties. Prover runs the BGW protocol using $P$ simulated parties to compute the output of $C$. Each simulated party receives one share of each of $C$'s inputs. Prover saves the *view* of each party. Prover commits to these views individually and sends the commitments to Verifier.\n",
    "- **Challenge**: The Verifier picks two random parties and constructs a challenge consisting of the two parties. Verifier sends the challenge to Prover.\n",
    "- **Response**: The Prover opens the commitment for the two parties in the challenge to the Verifier.\n",
    "- **Check**: The Verifier checks that (1) the commitment was valid for the views in the response; (2) the two views are consistent with each other; (3) the output of the circuit was 0.\n",
    "\n",
    "The probability of a cheating Prover \"getting away with it\" in one iteration is $(P-1)/P$ where $P$ is the number of parties being simulated.\n",
    "Prover and Verifier run this protocol $n$ times. The total probability that the cheating prover \"gets away with it\" is $((P-1)/P)^n$.\n",
    "The views revealed to the Verifier appear random by the properties of the BGW protocol (ensuring ZK).\n",
    "We must set $t > 2$ for the Shamir secret sharing step; otherwise the Verifier could reconstruct wire values. For multiplication to work, we must set $P \\geq 2t$ (e.g. 4)."
   ]
  },
  {
   "cell_type": "markdown",
   "metadata": {},
   "source": [
    "## Question 1\n",
    "\n",
    "Modify the protocol above into a *non-interactive* (NIZK) protocol."
   ]
  },
  {
   "cell_type": "markdown",
   "metadata": {
    "deletable": false,
    "nbgrader": {
     "cell_type": "markdown",
     "checksum": "58b009692617f71c7f8f08201bb301e1",
     "grade": true,
     "grade_id": "cell-54868591c77a20f1",
     "locked": false,
     "points": 5,
     "schema_version": 3,
     "solution": true,
     "task": false
    }
   },
   "source": [
    "YOUR ANSWER HERE"
   ]
  }
 ],
 "metadata": {
  "kernelspec": {
   "display_name": "Python 3",
   "language": "python",
   "name": "python3"
  },
  "language_info": {
   "codemirror_mode": {
    "name": "ipython",
    "version": 3
   },
   "file_extension": ".py",
   "mimetype": "text/x-python",
   "name": "python",
   "nbconvert_exporter": "python",
   "pygments_lexer": "ipython3",
   "version": "3.6.10"
  }
 },
 "nbformat": 4,
 "nbformat_minor": 4
}
