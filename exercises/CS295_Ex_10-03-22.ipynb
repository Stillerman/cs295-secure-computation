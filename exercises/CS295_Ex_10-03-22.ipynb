{
 "cells": [
  {
   "cell_type": "markdown",
   "metadata": {},
   "source": [
    "# CS295/395: Secure Distributed Computation\n",
    "## In-Class Exercise, week of 10/03/2022"
   ]
  },
  {
   "cell_type": "code",
   "execution_count": 8,
   "metadata": {},
   "outputs": [],
   "source": [
    "# Imports and definitions\n",
    "import numpy as np\n",
    "from collections import defaultdict\n",
    "import numpy as np\n",
    "import galois\n",
    "\n",
    "from nacl.public import PrivateKey, Box, SealedBox\n",
    "\n",
    "# GF = galois.GF(2**13 - 1)\n",
    "GF_2 = galois.GF(2) # we work in the binary field this week!\n",
    "\n",
    "# Library for circuits\n",
    "from dataclasses import dataclass\n",
    "\n",
    "@dataclass\n",
    "class Gate:\n",
    "    type: str\n",
    "    in1: int\n",
    "    in2: int\n",
    "    out: int\n",
    "\n",
    "@dataclass\n",
    "class Circuit:\n",
    "    inputs: any\n",
    "    outputs: any\n",
    "    gates: any\n",
    "        \n",
    "def print_circuit(c):\n",
    "    print('inputs:', c.inputs)\n",
    "    print('outputs:', c.outputs)\n",
    "    print('gates:')\n",
    "    for g in c.gates:\n",
    "        print('  ', g)"
   ]
  },
  {
   "cell_type": "markdown",
   "metadata": {},
   "source": [
    "## Party Class"
   ]
  },
  {
   "cell_type": "code",
   "execution_count": 9,
   "metadata": {},
   "outputs": [],
   "source": [
    "class Party:\n",
    "    \"\"\"A participant in a multiparty computation protocol.\"\"\"\n",
    "    def __init__(self):\n",
    "        \"\"\"Initialize the field size and dictionary to hold received messages.\"\"\"\n",
    "        self.input = None\n",
    "        self.output = None\n",
    "        self.received = defaultdict(list)\n",
    "    \n",
    "    def send(self, other, round, msg):\n",
    "        \"\"\"Simulate sending a message `msg` to another party `other` during round `round`\"\"\"\n",
    "        other.received[round].append(msg)\n",
    "\n",
    "    def get_view(self):\n",
    "        \"\"\"Returns the view of this party: its input, output, and received messages.\"\"\"\n",
    "        return (self.input, self.output, dict(self.received))"
   ]
  },
  {
   "cell_type": "markdown",
   "metadata": {},
   "source": [
    "## Question 1\n",
    "\n",
    "Describe the 1-out-of-2 *oblivious transfer* (OT) protocol. Reference Section 3.7 in Pragmatic MPC."
   ]
  },
  {
   "cell_type": "markdown",
   "metadata": {
    "deletable": false,
    "nbgrader": {
     "cell_type": "markdown",
     "checksum": "9b7cd57bc761bb6c61d8eed21c02674a",
     "grade": true,
     "grade_id": "cell-ab7252ab9d473712",
     "locked": false,
     "points": 5,
     "schema_version": 3,
     "solution": true,
     "task": false
    }
   },
   "source": [
    "**Idea**:\n",
    "- R generates two keypairs, but throws away one of the secret keys\n",
    "- S encrypts both secrets using the two public keys from R\n",
    "- R can decrypt only one of the secrets, because they retained only one secret key\n",
    "\n",
    "**Setup**:\n",
    "- S knows two secrets x1 and x2\n",
    "- R knows a selection bit b\n",
    "\n",
    "**Protocol**:\n",
    "- **Round 1**: R generates two keypairs: sk1, pk1 and sk2, pk2. R throws away sk2.\n",
    "    - If b = 0, R sends (pk1, pk2) to S\n",
    "    - If b = 1, R sends (pk2, pk1) to S\n",
    "- **Round 2**: S receive (pka, pkb). S sends (Enc_pka(x1), Enc_pkb(x2)) to R\n",
    "- **Round 3**: R receive (c1, c2)\n",
    "    - If b = 0, R decrypts c1 using sk1 (to recover x1)\n",
    "    - If b = 1, R decrypts c2 using sk1 (to recover x2)"
   ]
  },
  {
   "cell_type": "markdown",
   "metadata": {},
   "source": [
    "## Question 2\n",
    "\n",
    "Why is the oblivious transfer protocol secure against semi-honest adversaries? Why is it not secure against malicious adversaries?"
   ]
  },
  {
   "cell_type": "markdown",
   "metadata": {
    "deletable": false,
    "nbgrader": {
     "cell_type": "markdown",
     "checksum": "3c93044d2417974e1ce80034d57fdab0",
     "grade": true,
     "grade_id": "cell-56f846b72270e760",
     "locked": false,
     "points": 5,
     "schema_version": 3,
     "solution": true,
     "task": false
    }
   },
   "source": [
    "- It is secure against semi-honest adversaries because R will always correctly throw away sk2. \n",
    "- A malicious R could keep sk1 and sk2, and decrypt everything in Round 3"
   ]
  },
  {
   "cell_type": "markdown",
   "metadata": {},
   "source": [
    "## Question 3\n",
    "\n",
    "Implement 1-out-of-2 OT."
   ]
  },
  {
   "cell_type": "code",
   "execution_count": 10,
   "metadata": {
    "deletable": false,
    "nbgrader": {
     "cell_type": "code",
     "checksum": "1a63dadcaf8f787571990ca810b3b0c8",
     "grade": false,
     "grade_id": "cell-1804b306c9f5b962",
     "locked": false,
     "schema_version": 3,
     "solution": true,
     "task": false
    }
   },
   "outputs": [],
   "source": [
    "class OT_Sender(Party):\n",
    "    # x1 and x2 are the secrets\n",
    "    def round1(self, x1, x2, receiver):\n",
    "        self.x1 = x1\n",
    "        self.x2 = x2\n",
    "        self.receiver = receiver\n",
    "\n",
    "    def round2(self):\n",
    "        # Round 2: S receive (pka, pkb). S sends (Enc_pka(x1), Enc_pkb(x2)) to R\n",
    "        [(pka, pkb)] = self.received[1]\n",
    "        x1_b = int(self.x1).to_bytes(1, 'little')\n",
    "        x2_b = int(self.x2).to_bytes(1, 'little')\n",
    "        \n",
    "        x1_enc = SealedBox(pka).encrypt(x1_b)\n",
    "        x2_enc = SealedBox(pkb).encrypt(x2_b)\n",
    "        \n",
    "        self.send(self.receiver, 2, (x1_enc, x2_enc))\n",
    "        \n",
    "    \n",
    "    def round3(self):\n",
    "        pass\n",
    "\n",
    "class OT_Receiver(Party):\n",
    "    def round1(self, b, sender):\n",
    "        self.sender = sender\n",
    "        self.b = b\n",
    "        \n",
    "        # Round 1: R generates two keypairs: sk1, pk1 and sk2, pk2. R throws away sk2.\n",
    "        keypair1 = PrivateKey.generate() # keep this one\n",
    "        keypair2 = PrivateKey.generate() # throw this one away after this round\n",
    "        \n",
    "        self.saved_key = keypair1\n",
    "        \n",
    "        # If b = 0, R sends (pk1, pk2) to S\n",
    "        # If b = 1, R sends (pk2, pk1) to S\n",
    "        if self.b == 0:\n",
    "            self.send(self.sender, 1, (keypair1.public_key, keypair2.public_key))\n",
    "        elif self.b == 1:\n",
    "            self.send(self.sender, 1, (keypair2.public_key, keypair1.public_key))\n",
    "        \n",
    "    \n",
    "    def round2(self):\n",
    "        pass\n",
    "    \n",
    "    def round3(self):\n",
    "        # Round 3: R receive (c1, c2)\n",
    "        # If b = 0, R decrypts c1 using sk1 (to recover x1)\n",
    "        # If b = 1, R decrypts c2 using sk1 (to recover x2)\n",
    "        [(c1, c2)] = self.received[2]\n",
    "        \n",
    "        if self.b == 0:\n",
    "            plaintext = SealedBox(self.saved_key).decrypt(c1)\n",
    "        elif self.b == 1:\n",
    "            plaintext = SealedBox(self.saved_key).decrypt(c2)\n",
    "        \n",
    "        self.output = int.from_bytes(plaintext, 'little')\n",
    "        return self.output"
   ]
  },
  {
   "cell_type": "code",
   "execution_count": 11,
   "metadata": {
    "deletable": false,
    "editable": false,
    "nbgrader": {
     "cell_type": "code",
     "checksum": "ff8a12d5138c828d5d9b9257e2949b86",
     "grade": true,
     "grade_id": "cell-0228c49e37ea5d20",
     "locked": true,
     "points": 5,
     "schema_version": 3,
     "solution": false,
     "task": false
    }
   },
   "outputs": [
    {
     "name": "stdout",
     "output_type": "stream",
     "text": [
      "Receiver's output: 1\n"
     ]
    }
   ],
   "source": [
    "# TEST CASE\n",
    "sender = OT_Sender()\n",
    "receiver = OT_Receiver()\n",
    "\n",
    "# Round 1\n",
    "sender.round1(GF_2(0), GF_2(1), receiver)\n",
    "receiver.round1(GF_2(1), sender)\n",
    "\n",
    "# Round 2\n",
    "sender.round2()\n",
    "receiver.round2()\n",
    "\n",
    "# Round 3\n",
    "sender.round3()\n",
    "output = receiver.round3()\n",
    "\n",
    "print(\"Receiver's output:\", output)\n",
    "assert output == 1"
   ]
  },
  {
   "cell_type": "markdown",
   "metadata": {},
   "source": [
    "## Question 4\n",
    "\n",
    "Describe 1-out-of-4 OT."
   ]
  },
  {
   "cell_type": "markdown",
   "metadata": {
    "deletable": false,
    "nbgrader": {
     "cell_type": "markdown",
     "checksum": "52270589cfe55c2364894d193e53c338",
     "grade": true,
     "grade_id": "cell-160870ed747f99e7",
     "locked": false,
     "points": 5,
     "schema_version": 3,
     "solution": true,
     "task": false
    }
   },
   "source": [
    "- In 1-out-of-2 OT, the sender has 2 secrets, and the receiver receives 1 of them\n",
    "- In 1-out-of-4 OT, the sender has 4 secrets, and the receiver receives 1 of them\n",
    "\n",
    "**Protocol**:\n",
    "- **Round 1**: R generates four keypairs: sk1, pk1, sk2, pk2, sk3, pk3, sk4, pk4. R keeps on;y sk1 (throwing away 3 sks)\n",
    "    - If b1 = 0 and b2 = 0, R sends (pk1, _, _, _) to S\n",
    "    - If b1 = 0 and b2 = 1, R sends (_, pk1, _, _) to S\n",
    "    - If b1 = 1 and b2 = 0, R sends (_, _, pk1, _) to S\n",
    "    - If b1 = 1 and b2 = 1, R sends (_, _, _, pk1) to S\n",
    "- **Round 2**: \n",
    "    - S receive (pka, pkb, pkc, pkd).\n",
    "    - S sends (Enc_pka(x1), Enc_pkb(x2), Enc_pkc(x3), Enc_pkd(x4)) to R\n",
    "- **Round 3**: R receive (c1, c2, c3, c4)\n",
    "    - If b1 = 0 and b2 = 0, R decrypts c1 using sk1 (to recover x1)\n",
    "    - If b1 = 0 and b2 = 1, R decrypts c2 using sk1 (to recover x2)\n",
    "    - If b1 = 1 and b2 = 0, R decrypts c3 using sk1 (to recover x3)\n",
    "    - If b1 = 1 and b2 = 1, R decrypts c4 using sk1 (to recover x4)"
   ]
  },
  {
   "cell_type": "markdown",
   "metadata": {},
   "source": [
    "## Question 5\n",
    "\n",
    "Describe a method for evaluating an `AND` gate using 1-out-of-4 OT on additive-secret-shared inputs."
   ]
  },
  {
   "cell_type": "markdown",
   "metadata": {
    "deletable": false,
    "nbgrader": {
     "cell_type": "markdown",
     "checksum": "4c5d4aac1b715cd41f0ddc36580e868b",
     "grade": true,
     "grade_id": "cell-8d6663d6ef6c33ce",
     "locked": false,
     "points": 5,
     "schema_version": 3,
     "solution": true,
     "task": false
    }
   },
   "source": [
    "- P1 and P2 each hold one additive share of the two input wire values\n",
    "- We use 1 out of 4 OT with P1 as S and P2 as R\n",
    "- P1 will generate their output share randomly\n",
    "- We will build a truth table for P2's output share\n",
    "- P1 can say\n",
    "  - Given my input shares and my random output shares\n",
    "  - What would p2's output share be for each possible value of P2's input shares\n",
    "  - We build a table of these, and use the potential output shares for P2 as the OT secrets\n",
    "  - P2 uses its shares as the OT selection bits\n",
    "\n",
    "\n",
    "**Protocol**:\n",
    "- Inputs: P1 has s1_i, s1_j; P2 has s2_i, s2_j (additive shares of the AND gates input)\n",
    "\n",
    "\n",
    "**Round1** P2 generates keypaires and keep one of them\n",
    "- P2 generates 4 keypairs\n",
    "- P2 keeps one secret key based on the values of s2_i and s2_j\n",
    "  - if s2_i = 0 and s2_j = 0, R sends (pk1, _, _, _) to S\n",
    "  - ...\n",
    "\n",
    "\n",
    "**Round2** P1 generates the truth table as its secrets and encrypts the values of it\n",
    "- P1 recieves 4 public keys from P2\n",
    "- P1 generates a random output share r = s1_k\n",
    "- P1 calls T_G to get the truth table, using s1_i, s1_j, and r as inputs\n",
    "- P1 encrypts each row of the truth table using the 4 public keys\n",
    "\n",
    "\n",
    "**Round3** P2 decrypts the row of the truth table corresponding to its actual shares\n",
    "- P2 decrypts the right row of the trith table using sk1\n",
    "  \n",
    "At the end, P1 has s1_k, P2 has s2_k and s1_k + s2_k = output of the gate\n",
    "\n"
   ]
  },
  {
   "cell_type": "markdown",
   "metadata": {},
   "source": [
    "## Question 6\n",
    "\n",
    "Implement the function $T_G$ that computes the truth table for an `AND` gate with input wires $i$ and $j$ based on input shares of P1 and P2 and output share $r$ for P1."
   ]
  },
  {
   "cell_type": "code",
   "execution_count": 12,
   "metadata": {
    "deletable": false,
    "nbgrader": {
     "cell_type": "code",
     "checksum": "b1176cfd97b34b85f68cd2ceffd64719",
     "grade": false,
     "grade_id": "cell-be7d30c983fc3dd1",
     "locked": false,
     "schema_version": 3,
     "solution": true,
     "task": false
    }
   },
   "outputs": [
    {
     "data": {
      "text/plain": [
       "[GF(1, order=2), GF(1, order=2), GF(0, order=2), GF(1, order=2)]"
      ]
     },
     "execution_count": 12,
     "metadata": {},
     "output_type": "execute_result"
    }
   ],
   "source": [
    "# P1 holds shares s1_*\n",
    "# P2 holds shares s2_*\n",
    "def S(s1_i, s1_j, s2_i, s2_j):\n",
    "    return (s1_i + s2_i) * (s1_j + s2_j)\n",
    "\n",
    "# P1 holds shares s1_*\n",
    "# P1 generates a random output share r\n",
    "def T_G(r, s1_i, s1_j):\n",
    "    \n",
    "    combinations = GF_2([(0,0), (0,1), (1,0), (1,1)])\n",
    "    output_table = []\n",
    "    for s2_i, s2_j in combinations:\n",
    "        s2_k = r + S(s1_i, s1_j, s2_i, s2_j)\n",
    "        output_table.append(s2_k)\n",
    "\n",
    "    return output_table\n",
    "\n",
    "T_G(GF_2(1), GF_2(0), GF_2(1))"
   ]
  },
  {
   "cell_type": "code",
   "execution_count": 13,
   "metadata": {
    "deletable": false,
    "editable": false,
    "nbgrader": {
     "cell_type": "code",
     "checksum": "648ff2180ce750923e3937ca7419ecc0",
     "grade": true,
     "grade_id": "cell-578af5379b6ccd43",
     "locked": true,
     "points": 5,
     "schema_version": 3,
     "solution": false,
     "task": false
    }
   },
   "outputs": [],
   "source": [
    "# TEST CASE\n",
    "s1_i, s1_j, s2_i, s2_j = GF_2([0, 1, 1, 0])\n",
    "row_num = 2 # because of the position of (1, 0) in the table computed by T_G\n",
    "for _ in range(10): # try it 10 times, to account for randomness\n",
    "    r = GF_2.Random()\n",
    "    table = T_G(r, s1_i, s1_j)\n",
    "    p2_share = table[row_num]\n",
    "    output_result = r + p2_share\n",
    "    assert output_result == GF_2(1)"
   ]
  },
  {
   "cell_type": "markdown",
   "metadata": {},
   "source": [
    "## Question 7\n",
    "\n",
    "Implement the `AND` gate protocol from above."
   ]
  },
  {
   "cell_type": "code",
   "execution_count": 14,
   "metadata": {
    "deletable": false,
    "nbgrader": {
     "cell_type": "code",
     "checksum": "d4763ef6fafbb01c4e47903bdb3edce6",
     "grade": false,
     "grade_id": "cell-e4f3af39a6f8fe28",
     "locked": false,
     "schema_version": 3,
     "solution": true,
     "task": false
    }
   },
   "outputs": [],
   "source": [
    "class AND_P1(Party):\n",
    "    # x1 and x2 are the secrets\n",
    "    def round1(self, s1_i, s1_j, p2):\n",
    "        self.s1_i = s1_i\n",
    "        self.s1_j = s1_j\n",
    "        self.p2 = p2\n",
    "\n",
    "    def round2(self):\n",
    "        # Round 2: S receive (pka, pkb). S sends (Enc_pka(x1), Enc_pkb(x2)) to R\n",
    "        [pks] = self.received[1]\n",
    "       \n",
    "#         P1 generates a random output share r = s1_k\n",
    "#         P1 calls T_G to get the truth table, using s1_i, s1_j, and r as inputs\n",
    "        r = GF_2.Random()\n",
    "        self.output = r\n",
    "        truth_table = T_G(r, self.s1_i, self.s1_j)\n",
    "        encrypted_truth_table = []\n",
    "        for pk, table_element in zip(pks, truth_table):\n",
    "            table_element_b = int(table_element).to_bytes(1, 'little')\n",
    "            enc = SealedBox(pk).encrypt(table_element_b)\n",
    "            encrypted_truth_table.append(enc)\n",
    "       \n",
    "        self.send(self.p2, 2, encrypted_truth_table)\n",
    "   \n",
    "    def round3(self):\n",
    "        return self.output\n",
    "\n",
    "class AND_P2(Party):\n",
    "    def round1(self, s2_i, s2_j, p1):\n",
    "        self.p1 = p1\n",
    "        self.s2_i = s2_i\n",
    "        self.s2_j = s2_j\n",
    "#         P2 generates 4 keypairs\n",
    "#         P2 keeps one secret key, based on the values of s2_i, s2_j\n",
    "        # Round 1: R generates two keypairs: sk1, pk1 and sk2, pk2. R throws away sk2.\n",
    "        keypair1 = PrivateKey.generate() # keep this one\n",
    "        keypair2 = PrivateKey.generate() # throw this one away after this round\n",
    "        keypair3 = PrivateKey.generate() # throw this one away after this round\n",
    "        keypair4 = PrivateKey.generate() # throw this one away after this round\n",
    "\n",
    "        self.saved_key = keypair1\n",
    "       \n",
    "        if s2_i == 0 and s2_j == 0:\n",
    "            self.send(self.p1, 1, (keypair1.public_key,\n",
    "                                   keypair2.public_key,\n",
    "                                   keypair3.public_key,\n",
    "                                   keypair4.public_key))\n",
    "        elif s2_i == 0 and s2_j == 1:\n",
    "            self.send(self.p1, 1, (keypair2.public_key,\n",
    "                                   keypair1.public_key,\n",
    "                                   keypair3.public_key,\n",
    "                                   keypair4.public_key))\n",
    "        elif s2_i == 1 and s2_j == 0:\n",
    "            self.send(self.p1, 1, (keypair3.public_key,\n",
    "                                   keypair2.public_key,\n",
    "                                   keypair1.public_key,\n",
    "                                   keypair4.public_key))\n",
    "        elif s2_i == 1 and s2_j == 1:\n",
    "            self.send(self.p1, 1, (keypair4.public_key,\n",
    "                                   keypair2.public_key,\n",
    "                                   keypair3.public_key,\n",
    "                                   keypair1.public_key))\n",
    "\n",
    "   \n",
    "    def round2(self):\n",
    "        pass\n",
    "   \n",
    "    def round3(self):\n",
    "        [(c1, c2, c3, c4)] = self.received[2]\n",
    "       \n",
    "        if self.s2_i == 0 and self.s2_j == 0:\n",
    "            plaintext = SealedBox(self.saved_key).decrypt(c1)\n",
    "        elif self.s2_i == 0 and self.s2_j == 1:\n",
    "            plaintext = SealedBox(self.saved_key).decrypt(c2)\n",
    "        elif self.s2_i == 1 and self.s2_j == 0:\n",
    "            plaintext = SealedBox(self.saved_key).decrypt(c3)\n",
    "        elif self.s2_i == 1 and self.s2_j == 1:\n",
    "            plaintext = SealedBox(self.saved_key).decrypt(c4)\n",
    "       \n",
    "        self.output = GF_2(int.from_bytes(plaintext, 'little'))\n",
    "        return self.output"
   ]
  },
  {
   "cell_type": "code",
   "execution_count": 15,
   "metadata": {
    "deletable": false,
    "editable": false,
    "nbgrader": {
     "cell_type": "code",
     "checksum": "259864cc1758ab7774df520ac0b1837a",
     "grade": true,
     "grade_id": "cell-39115b567b872cd6",
     "locked": true,
     "points": 5,
     "schema_version": 3,
     "solution": false,
     "task": false
    }
   },
   "outputs": [
    {
     "name": "stdout",
     "output_type": "stream",
     "text": [
      "P1's output: 1\n",
      "P2's output: 0\n",
      "P1's output: 0\n",
      "P2's output: 1\n",
      "P1's output: 1\n",
      "P2's output: 0\n",
      "P1's output: 1\n",
      "P2's output: 0\n",
      "P1's output: 1\n",
      "P2's output: 0\n"
     ]
    }
   ],
   "source": [
    "# TEST CASE\n",
    "\n",
    "for _ in range(5): # try it a few times\n",
    "    p1 = AND_P1()\n",
    "    p2 = AND_P2()\n",
    "    s1_i, s1_j, s2_i, s2_j = GF_2([0, 1, 1, 0])\n",
    "\n",
    "    # Round 1\n",
    "    p1.round1(s1_i, s1_j, p2)\n",
    "    p2.round1(s2_i, s2_j, p1)\n",
    "\n",
    "    # Round 2\n",
    "    p1.round2()\n",
    "    p2.round2()\n",
    "\n",
    "    # Round 3\n",
    "    output_share1 = p1.round3()\n",
    "    output_share2 = p2.round3()\n",
    "\n",
    "    print(\"P1's output:\", output_share1)\n",
    "    print(\"P2's output:\", output_share2)\n",
    "    assert output_share1 + output_share2 == 1"
   ]
  },
  {
   "cell_type": "markdown",
   "metadata": {},
   "source": [
    "## Question 8\n",
    "\n",
    "Describe the GMW protocol for evaluating a binary circuit."
   ]
  },
  {
   "cell_type": "markdown",
   "metadata": {
    "deletable": false,
    "nbgrader": {
     "cell_type": "markdown",
     "checksum": "b852276462a613e0ded9f33e2284d5ab",
     "grade": true,
     "grade_id": "cell-b74bf235539d3182",
     "locked": false,
     "points": 5,
     "schema_version": 3,
     "solution": true,
     "task": false
    }
   },
   "source": [
    "* Refer to 10-03-22 Q3 to write GMW *\n",
    "\n",
    "**GMW**\n",
    "- Additive Shares\n",
    "- Eval Gates\n",
    "  - AND gate uses OT\n",
    "- Reconstruct outputs\n",
    "\n",
    "\n",
    "**Inputs**\n",
    "- P1 has (binary) values for some of the input wires\n",
    "- P2 has (binary) values for some of the input wires\n",
    "\n",
    "**Protocol**\n",
    "- Input section\n",
    "  - **Round 1** (phase 1): Each party secret shares its input bits to the other party (same as BGW but with additive) and adds its own shares to the wire_vals dictionary (create two shares and put one in dict and send other to other party)\n",
    "  - **Round 2** each party recieves shares of the other parties inputs and adds these to the wire_vals dictionary\n",
    "\n",
    "\n",
    "- Eval section\n",
    "  - ** R 2 < i < k** Eval next gate $g$ in circuit\n",
    "    - XOR: `wire_vals[g.out] = wire_vals[g.in1] + wire_vals[g.in2]` (similar to addition gate in BGW)\n",
    "    - INV (NOT): `wire_vals[g.out] = wire_vals[g.in1] + GF_2(1)`\n",
    "      - `g.in2 = -1` in this case to indicate that its not used\n",
    "    - AND: hard case - use the protocol from Q7\n",
    "      - inputs: wire_vals[g.in1] and wire_val[g.in2]\n",
    "      - outputs: one secret share for g.out\n",
    "      - implement 3 ot-phases\n",
    "        - OTP1: generate pub keys (r1 from Q7)\n",
    "        - OTP2: generate and encrypt truth table (r2)\n",
    "        - OPT3: decrypt one row from the TT (r3)\n",
    "- Output section\n",
    "  - ** round k ** parties broadcast their shares of the output wire values\n",
    "  - ** round k+1** parties reconstruct the output wire values using their own shares plus the broadcasted shares recieved from the other party"
   ]
  },
  {
   "cell_type": "markdown",
   "metadata": {},
   "source": [
    "## Question 9\n",
    "\n",
    "Describe the main idea behind Yao's garbled circuit protocol."
   ]
  },
  {
   "cell_type": "markdown",
   "metadata": {
    "deletable": false,
    "nbgrader": {
     "cell_type": "markdown",
     "checksum": "a71df5c8bd7c7968dd00219922e5bd1e",
     "grade": true,
     "grade_id": "cell-5823e1abb2be85a3",
     "locked": false,
     "points": 5,
     "schema_version": 3,
     "solution": true,
     "task": false
    }
   },
   "source": [
    "YOUR ANSWER HERE"
   ]
  },
  {
   "cell_type": "markdown",
   "metadata": {},
   "source": [
    "## Question 10\n",
    "\n",
    "What are the primary advantages and disadvantages of Yao's garbled circuit protocol?"
   ]
  },
  {
   "cell_type": "markdown",
   "metadata": {
    "deletable": false,
    "nbgrader": {
     "cell_type": "markdown",
     "checksum": "a4838b1dc6d0e8d6608bb07042c4ed8f",
     "grade": true,
     "grade_id": "cell-ae2c4c602f1e12d6",
     "locked": false,
     "points": 5,
     "schema_version": 3,
     "solution": true,
     "task": false
    }
   },
   "source": [
    "YOUR ANSWER HERE"
   ]
  }
 ],
 "metadata": {
  "kernelspec": {
   "display_name": "Python 3.8.5 ('base')",
   "language": "python",
   "name": "python3"
  },
  "language_info": {
   "codemirror_mode": {
    "name": "ipython",
    "version": 3
   },
   "file_extension": ".py",
   "mimetype": "text/x-python",
   "name": "python",
   "nbconvert_exporter": "python",
   "pygments_lexer": "ipython3",
   "version": "3.8.5"
  },
  "vscode": {
   "interpreter": {
    "hash": "9d1aac6c46358ab76884be5fd1eb54486853f0ecd733b8a791c202a53a54f874"
   }
  }
 },
 "nbformat": 4,
 "nbformat_minor": 4
}
