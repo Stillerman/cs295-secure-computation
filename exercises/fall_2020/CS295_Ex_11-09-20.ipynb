{
 "cells": [
  {
   "cell_type": "markdown",
   "metadata": {},
   "source": [
    "# CS295/395: Secure Distributed Computation\n",
    "## In-Class Exercise, 11/09/2020"
   ]
  },
  {
   "cell_type": "markdown",
   "metadata": {},
   "source": [
    "## Interactive Zero-Knowledge Protocol for Graph Coloring\n",
    "\n",
    "**Statement**: For (public) graph $G$, Prover knows a valid 3-coloring.\n",
    "\n",
    "**Witness**: The valid 3-coloring.\n",
    "\n",
    "One iteration of the protocol:\n",
    "- **Commit**: Prover shuffles the coloring, to obtain a new valid 3-coloring. Prover commits to the color of each vertex in the graph under the shuffled coloring (e.g. by hashing the result of concatenating the color with a random number). Prover sends the commitment to Verifier.\n",
    "- **Challenge**: The Verifier picks a random edge in the graph and constructs a challenge consisting of the two vertices connected by the edge. Verifier sends the challenge to Prover.\n",
    "- **Response**: The Prover opens the commitment for the two vertices in the challenge (e.g. by revealing their colors and the random number used in committing) to the Verifier.\n",
    "- **Check**: The Verifier checks that (1) the commitment was valid for the vertices in the response; (2) the two colors are different.\n",
    "\n",
    "The probability of a cheating Prover \"getting away with it\" in one iteration is $(E-1)/E$ where $E$ is the number of edges.\n",
    "Prover and Verifier run this protocol $n$ times. The total probability that the cheating prover \"gets away with it\" is $((E-1)/E)^n$."
   ]
  },
  {
   "cell_type": "markdown",
   "metadata": {},
   "source": [
    "## Question 1\n",
    "\n",
    "Design a similar protocol for proving statements *encoded as boolean circuits* using the MPC-in-the-head approach."
   ]
  },
  {
   "cell_type": "markdown",
   "metadata": {
    "deletable": false,
    "nbgrader": {
     "cell_type": "markdown",
     "checksum": "2de284dededba96a7dc960f44c40d799",
     "grade": true,
     "grade_id": "cell-35c24cbd9a2f3a54",
     "locked": false,
     "points": 5,
     "schema_version": 3,
     "solution": true,
     "task": false
    }
   },
   "source": [
    "YOUR ANSWER HERE"
   ]
  },
  {
   "cell_type": "markdown",
   "metadata": {},
   "source": [
    "## Question 2\n",
    "\n",
    "Modify your protocol from Question 1 into a *non-interactive* (NIZK) protocol."
   ]
  },
  {
   "cell_type": "markdown",
   "metadata": {
    "deletable": false,
    "nbgrader": {
     "cell_type": "markdown",
     "checksum": "58b009692617f71c7f8f08201bb301e1",
     "grade": true,
     "grade_id": "cell-54868591c77a20f1",
     "locked": false,
     "points": 5,
     "schema_version": 3,
     "solution": true,
     "task": false
    }
   },
   "source": [
    "YOUR ANSWER HERE"
   ]
  }
 ],
 "metadata": {
  "kernelspec": {
   "display_name": "Python 3",
   "language": "python",
   "name": "python3"
  },
  "language_info": {
   "codemirror_mode": {
    "name": "ipython",
    "version": 3
   },
   "file_extension": ".py",
   "mimetype": "text/x-python",
   "name": "python",
   "nbconvert_exporter": "python",
   "pygments_lexer": "ipython3",
   "version": "3.6.10"
  }
 },
 "nbformat": 4,
 "nbformat_minor": 4
}
