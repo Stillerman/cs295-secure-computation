{
 "cells": [
  {
   "cell_type": "markdown",
   "metadata": {},
   "source": [
    "# CS295/395: Secure Distributed Computation\n",
    "## In-Class Exercise, 10/12/2020"
   ]
  },
  {
   "cell_type": "code",
   "execution_count": null,
   "metadata": {},
   "outputs": [],
   "source": [
    "# Imports and definitions\n",
    "import numpy as np\n",
    "from collections import defaultdict\n",
    "from collections import namedtuple\n",
    "import urllib.request"
   ]
  },
  {
   "cell_type": "markdown",
   "metadata": {},
   "source": [
    "# Utilities for Primes\n",
    "\n",
    "Taken from: https://github.com/mikeivanov/paillier/blob/master/paillier/primes.py"
   ]
  },
  {
   "cell_type": "code",
   "execution_count": null,
   "metadata": {},
   "outputs": [],
   "source": [
    "import random\n",
    "import sys\n",
    "import math\n",
    "\n",
    "def ipow(a, b, n):\n",
    "    \"\"\"calculates (a**b) % n via binary exponentiation, yielding itermediate\n",
    "       results as Rabin-Miller requires\"\"\"\n",
    "    A = a = a % n\n",
    "    yield A\n",
    "    t = 1\n",
    "    while t <= b:\n",
    "        t <<= 1\n",
    "\n",
    "    # t = 2**k, and t > b\n",
    "    t >>= 2\n",
    "    \n",
    "    while t:\n",
    "        A = (A * A) % n\n",
    "        if t & b:\n",
    "            A = (A * a) % n\n",
    "        yield A\n",
    "        t >>= 1\n",
    "\n",
    "def rabin_miller_witness(test, possible):\n",
    "    \"\"\"Using Rabin-Miller witness test, will return True if possible is\n",
    "       definitely not prime (composite), False if it may be prime.\"\"\"    \n",
    "    return 1 not in ipow(test, possible-1, possible)\n",
    "\n",
    "smallprimes = (2,3,5,7,11,13,17,19,23,29,31,37,41,43,\n",
    "               47,53,59,61,67,71,73,79,83,89,97)\n",
    "\n",
    "def default_k(bits):\n",
    "    return int(max(40, 2 * bits))\n",
    "\n",
    "def is_probably_prime(possible, k=None):\n",
    "    if possible == 1:\n",
    "        return True\n",
    "    if k is None:\n",
    "        k = default_k(possible.bit_length())\n",
    "    for i in smallprimes:\n",
    "        if possible == i:\n",
    "            return True\n",
    "        if possible % i == 0:\n",
    "            return False\n",
    "    for i in range(k):\n",
    "        test = random.randrange(2, possible - 1) | 1\n",
    "        if rabin_miller_witness(test, possible):\n",
    "            return False\n",
    "    return True\n",
    "\n",
    "def generate_prime(bits, k=None):\n",
    "    \"\"\"Will generate an integer of b bits that is probably prime \n",
    "       (after k trials). Reasonably fast on current hardware for \n",
    "       values of up to around 512 bits.\"\"\"    \n",
    "    assert bits >= 8\n",
    "\n",
    "    if k is None:\n",
    "        k = default_k(bits)\n",
    "\n",
    "    while True:\n",
    "        possible = random.randrange(2 ** (bits-1) + 1, 2 ** bits) | 1\n",
    "        if is_probably_prime(possible, k):\n",
    "            return possible"
   ]
  },
  {
   "cell_type": "code",
   "execution_count": null,
   "metadata": {},
   "outputs": [],
   "source": [
    "generate_prime(16)"
   ]
  },
  {
   "cell_type": "markdown",
   "metadata": {},
   "source": [
    "# The Paillier Cryptosystem\n",
    "\n",
    "Taken from: https://github.com/mikeivanov/paillier/blob/master/paillier/paillier.py"
   ]
  },
  {
   "cell_type": "code",
   "execution_count": null,
   "metadata": {},
   "outputs": [],
   "source": [
    "def invmod(a, p, maxiter=1000000):\n",
    "    \"\"\"The multiplicitive inverse of a in the integers modulo p:\n",
    "         a * b == 1 mod p\n",
    "       Returns b.\n",
    "       (http://code.activestate.com/recipes/576737-inverse-modulo-p/)\"\"\"\n",
    "    if a == 0:\n",
    "        raise ValueError('0 has no inverse mod %d' % p)\n",
    "    r = a\n",
    "    d = 1\n",
    "    for i in range(min(p, maxiter)):\n",
    "        d = ((p // r + 1) * d) % p\n",
    "        r = (d * a) % p\n",
    "        if r == 1:\n",
    "            break\n",
    "    else:\n",
    "        raise ValueError('%d has no inverse mod %d' % (a, p))\n",
    "    return d\n",
    "\n",
    "def modpow(base, exponent, modulus):\n",
    "    \"\"\"Modular exponent:\n",
    "         c = b ^ e mod m\n",
    "       Returns c.\n",
    "       (http://www.programmish.com/?p=34)\"\"\"\n",
    "    result = 1\n",
    "    while exponent > 0:\n",
    "        if exponent & 1 == 1:\n",
    "            result = (result * base) % modulus\n",
    "        exponent = exponent >> 1\n",
    "        base = (base * base) % modulus\n",
    "    return result\n",
    "\n",
    "class PrivateKey(object):\n",
    "\n",
    "    def __init__(self, p, q, n):\n",
    "        self.l = (p-1) * (q-1)\n",
    "        self.m = invmod(self.l, n)\n",
    "\n",
    "    def __repr__(self):\n",
    "        return '<PrivateKey: %s %s>' % (self.l, self.m)\n",
    "\n",
    "class PublicKey(object):\n",
    "\n",
    "    @classmethod\n",
    "    def from_n(cls, n):\n",
    "        return cls(n)\n",
    "\n",
    "    def __init__(self, n):\n",
    "        self.n = n\n",
    "        self.n_sq = n * n\n",
    "        self.g = n + 1\n",
    "\n",
    "    def __repr__(self):\n",
    "        return '<PublicKey: %s>' % self.n\n",
    "\n",
    "def generate_keypair(bits):\n",
    "    p = generate_prime(bits / 2)\n",
    "    q = generate_prime(bits / 2)\n",
    "    n = p * q\n",
    "    return PrivateKey(p, q, n), PublicKey(n)\n",
    "\n",
    "def encrypt(pub, plain):\n",
    "    while True:\n",
    "        r = generate_prime(round(math.log(pub.n, 2)))\n",
    "        if r > 0 and r < pub.n:\n",
    "            break\n",
    "    x = pow(r, pub.n, pub.n_sq)\n",
    "    cipher = (pow(pub.g, plain, pub.n_sq) * x) % pub.n_sq\n",
    "    return cipher\n",
    "\n",
    "def decrypt(priv, pub, cipher):\n",
    "    x = pow(cipher, priv.l, pub.n_sq) - 1\n",
    "    plain = ((x // pub.n) * priv.m) % pub.n\n",
    "    return plain"
   ]
  },
  {
   "cell_type": "code",
   "execution_count": null,
   "metadata": {},
   "outputs": [],
   "source": [
    "# Example: encryption followed by decryption\n",
    "sk, pk = generate_keypair(128)\n",
    "ct = encrypt(pk, 50)\n",
    "decrypt(sk, pk, ct)"
   ]
  },
  {
   "cell_type": "code",
   "execution_count": null,
   "metadata": {},
   "outputs": [],
   "source": [
    "# Example: encrypting the same thing twice yields different results\n",
    "sk, pk = generate_keypair(16)\n",
    "ct1 = encrypt(pk, 50)\n",
    "ct2 = encrypt(pk, 50)\n",
    "ct1, ct2"
   ]
  },
  {
   "cell_type": "markdown",
   "metadata": {},
   "source": [
    "# Questions"
   ]
  },
  {
   "cell_type": "markdown",
   "metadata": {},
   "source": [
    "## Question 1\n",
    "\n",
    "Define addition for ciphertexts."
   ]
  },
  {
   "cell_type": "code",
   "execution_count": null,
   "metadata": {
    "deletable": false,
    "nbgrader": {
     "cell_type": "code",
     "checksum": "a881786225af02262a8bd9f41c86eec2",
     "grade": false,
     "grade_id": "cell-88de461defcc5020",
     "locked": false,
     "schema_version": 3,
     "solution": true,
     "task": false
    }
   },
   "outputs": [],
   "source": [
    "def e_add(pub, a, b):\n",
    "    \"\"\"Add one encrypted integer to another\"\"\"\n",
    "    # YOUR CODE HERE\n",
    "    raise NotImplementedError()"
   ]
  },
  {
   "cell_type": "code",
   "execution_count": null,
   "metadata": {
    "deletable": false,
    "editable": false,
    "nbgrader": {
     "cell_type": "code",
     "checksum": "05dec6529088129fe381bb8021f86fd7",
     "grade": true,
     "grade_id": "cell-947746edfac16b56",
     "locked": true,
     "points": 5,
     "schema_version": 3,
     "solution": false,
     "task": false
    }
   },
   "outputs": [],
   "source": [
    "# TEST CASE\n",
    "sk, pk = generate_keypair(128)\n",
    "ct1 = encrypt(pk, 50)\n",
    "ct2 = encrypt(pk, 10)\n",
    "ct3 = e_add(pk, ct1, ct2)\n",
    "\n",
    "assert decrypt(sk, pk, ct3) == 60"
   ]
  },
  {
   "cell_type": "markdown",
   "metadata": {},
   "source": [
    "## Question 2\n",
    "\n",
    "Define addition-by-constant for ciphertexts."
   ]
  },
  {
   "cell_type": "code",
   "execution_count": null,
   "metadata": {
    "deletable": false,
    "nbgrader": {
     "cell_type": "code",
     "checksum": "04aeafd1004611cad548ad0ee29d6985",
     "grade": false,
     "grade_id": "cell-3331edb24d2e0750",
     "locked": false,
     "schema_version": 3,
     "solution": true,
     "task": false
    }
   },
   "outputs": [],
   "source": [
    "def e_add_const(pub, a, n):\n",
    "    \"\"\"Add constant n to an encrypted integer\"\"\"\n",
    "    # YOUR CODE HERE\n",
    "    raise NotImplementedError()"
   ]
  },
  {
   "cell_type": "code",
   "execution_count": null,
   "metadata": {
    "deletable": false,
    "editable": false,
    "nbgrader": {
     "cell_type": "code",
     "checksum": "39fd613749dd8724b3abfd7cb34f7361",
     "grade": true,
     "grade_id": "cell-c8b3fb96cd63d1b2",
     "locked": true,
     "points": 5,
     "schema_version": 3,
     "solution": false,
     "task": false
    }
   },
   "outputs": [],
   "source": [
    "# TEST CASE\n",
    "sk, pk = generate_keypair(128)\n",
    "ct1 = encrypt(pk, 50)\n",
    "ct3 = e_add_const(pk, ct1, 10)\n",
    "\n",
    "assert decrypt(sk, pk, ct3) == 60"
   ]
  },
  {
   "cell_type": "markdown",
   "metadata": {},
   "source": [
    "## Question 3\n",
    "\n",
    "Define multiplication-by-constant for ciphertexts."
   ]
  },
  {
   "cell_type": "code",
   "execution_count": null,
   "metadata": {
    "deletable": false,
    "nbgrader": {
     "cell_type": "code",
     "checksum": "3b5c32d15d06c7aaa37de1ff1f3cd0c5",
     "grade": false,
     "grade_id": "cell-4858d470b77fcfb4",
     "locked": false,
     "schema_version": 3,
     "solution": true,
     "task": false
    }
   },
   "outputs": [],
   "source": [
    "def e_mul_const(pub, a, n):\n",
    "    \"\"\"Multiplies an ancrypted integer by a constant\"\"\"\n",
    "    # YOUR CODE HERE\n",
    "    raise NotImplementedError()"
   ]
  },
  {
   "cell_type": "code",
   "execution_count": null,
   "metadata": {
    "deletable": false,
    "editable": false,
    "nbgrader": {
     "cell_type": "code",
     "checksum": "46b9226b82d88b678af1547f487a7ab3",
     "grade": true,
     "grade_id": "cell-4c7241659c8e3c9b",
     "locked": true,
     "points": 5,
     "schema_version": 3,
     "solution": false,
     "task": false
    }
   },
   "outputs": [],
   "source": [
    "# TEST CASE\n",
    "sk, pk = generate_keypair(128)\n",
    "ct1 = encrypt(pk, 50)\n",
    "ct3 = e_mul_const(pk, ct1, 3)\n",
    "\n",
    "assert decrypt(sk, pk, ct3) == 150"
   ]
  }
 ],
 "metadata": {
  "kernelspec": {
   "display_name": "Python 3",
   "language": "python",
   "name": "python3"
  },
  "language_info": {
   "codemirror_mode": {
    "name": "ipython",
    "version": 3
   },
   "file_extension": ".py",
   "mimetype": "text/x-python",
   "name": "python",
   "nbconvert_exporter": "python",
   "pygments_lexer": "ipython3",
   "version": "3.6.10"
  }
 },
 "nbformat": 4,
 "nbformat_minor": 4
}
