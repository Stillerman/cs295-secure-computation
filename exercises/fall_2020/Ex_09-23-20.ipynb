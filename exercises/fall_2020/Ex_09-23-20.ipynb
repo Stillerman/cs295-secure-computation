{
 "cells": [
  {
   "cell_type": "markdown",
   "metadata": {},
   "source": [
    "# CS295/395: Secure Distributed Computation\n",
    "## In-Class Exercise, 9/23/2020"
   ]
  },
  {
   "cell_type": "code",
   "execution_count": null,
   "metadata": {},
   "outputs": [],
   "source": [
    "# Imports and definitions\n",
    "import numpy as np\n",
    "from collections import defaultdict\n",
    "import urllib.request\n",
    "\n",
    "_PRIME = 2 ** 13 - 1\n",
    "\n",
    "shamir_lib_url = \"https://raw.githubusercontent.com/jnear/cs295-secure-computation/master/utils/shamir.py\"\n",
    "\n",
    "### DANGER: this line is dangerous. Make sure the URL above is correct, and has correct code.\n",
    "exec(urllib.request.urlopen(shamir_lib_url).read())\n",
    "\n",
    "def share_shamir(t, n, x, prime=_PRIME):\n",
    "    shares_with_x = share_input(x, minimum=t, shares=n, prime=prime)\n",
    "    return [y for x,y in shares_with_x]\n",
    "\n",
    "def reconstruct_shamir(shares, prime=_PRIME):\n",
    "    shares_with_x = list(zip(range(1, len(shares)+1), shares))\n",
    "    return recover_secret(shares_with_x, prime=prime)\n",
    "\n",
    "class Party:\n",
    "    \"\"\"A participant in a multiparty computation protocol.\"\"\"\n",
    "    def __init__(self, field_size=_PRIME):\n",
    "        \"\"\"Initialize the field size and dictionary to hold received messages.\"\"\"\n",
    "        self.field_size = field_size\n",
    "        self.input = None\n",
    "        self.output = None\n",
    "        self.received = defaultdict(list)\n",
    "    \n",
    "    def send(self, other, round, msg):\n",
    "        \"\"\"Simulate sending a message `msg` to another party `other` during round `round`\"\"\"\n",
    "        other.received[round].append(msg)\n",
    "\n",
    "    def get_view(self):\n",
    "        \"\"\"Returns the view of this party: its input, output, and received messages.\"\"\"\n",
    "        return (self.input, self.output, dict(self.received))"
   ]
  },
  {
   "cell_type": "markdown",
   "metadata": {},
   "source": [
    "## Question 1\n",
    "\n",
    "Given the two sets of shares `shares1` and `shares2` below, write a function whose output is their **product** (as a set of shares)."
   ]
  },
  {
   "cell_type": "code",
   "execution_count": null,
   "metadata": {
    "deletable": false,
    "nbgrader": {
     "cell_type": "code",
     "checksum": "010bb85ded91e26b9131ad760163d075",
     "grade": false,
     "grade_id": "cell-c5e379f74efe3722",
     "locked": false,
     "schema_version": 3,
     "solution": true,
     "task": false
    }
   },
   "outputs": [],
   "source": [
    "t = 3\n",
    "n = 6\n",
    "\n",
    "shares1 = share_shamir(t, n, 20)\n",
    "shares2 = share_shamir(t, n, 10)\n",
    "\n",
    "def mult_shares(shares1, shares2):\n",
    "    # YOUR CODE HERE\n",
    "    raise NotImplementedError()\n",
    "\n",
    "prod_shares = mult_shares(shares1, shares2)\n",
    "print('True answer:', 20 * 10)\n",
    "print('Shares:', prod_shares)\n",
    "\n",
    "print('Recovered result, 3 shares:', reconstruct_shamir(prod_shares[:3]))\n",
    "print('Recovered result, 4 shares:', reconstruct_shamir(prod_shares[:4]))\n",
    "print('Recovered result, 5 shares:', reconstruct_shamir(prod_shares[:5]))\n",
    "print('Recovered result, 6 shares:', reconstruct_shamir(prod_shares))"
   ]
  },
  {
   "cell_type": "code",
   "execution_count": null,
   "metadata": {
    "deletable": false,
    "editable": false,
    "nbgrader": {
     "cell_type": "code",
     "checksum": "e13833c8cc9e13ebfe18bd06eb7df906",
     "grade": true,
     "grade_id": "cell-f4e655818083ca52",
     "locked": true,
     "points": 5,
     "schema_version": 3,
     "solution": false,
     "task": false
    }
   },
   "outputs": [],
   "source": [
    "# TEST CASE for question 3\n",
    "assert reconstruct_shamir(mult_shares(shares1, shares2)) == 200"
   ]
  },
  {
   "cell_type": "markdown",
   "metadata": {},
   "source": [
    "### Question 2\n",
    "\n",
    "Write an English description of a protocol to sum $n$ numbers securely, using Shamir secret shares, in the same format as the protocol definition from our exercise on 9/11. The ideal functionality is as follows:\n",
    "\n",
    "\\begin{equation*}\n",
    "\\textbf{Functionality: Sum}\\\\\n",
    "\\fbox{$\\mathcal{F}_{sum}(x_1, \\dots, x_n) = \\sum_{i=1}^n x_i$}\n",
    "\\end{equation*}\n"
   ]
  },
  {
   "cell_type": "markdown",
   "metadata": {
    "deletable": false,
    "nbgrader": {
     "cell_type": "markdown",
     "checksum": "e3518324eb91db03cabe004b828f755c",
     "grade": true,
     "grade_id": "cell-4196afcaacf85339",
     "locked": false,
     "points": 5,
     "schema_version": 3,
     "solution": true,
     "task": false
    }
   },
   "source": [
    "YOUR ANSWER HERE"
   ]
  },
  {
   "cell_type": "markdown",
   "metadata": {},
   "source": [
    "### Question 1(b)\n",
    "\n",
    "Implement your protocol from question 1(a), using Shamir secret sharing."
   ]
  },
  {
   "cell_type": "code",
   "execution_count": null,
   "metadata": {
    "deletable": false,
    "nbgrader": {
     "cell_type": "code",
     "checksum": "a2a9f8141e9634a51f1e7a06f6e23b99",
     "grade": false,
     "grade_id": "cell-e502961900480253",
     "locked": false,
     "schema_version": 3,
     "solution": true,
     "task": false
    }
   },
   "outputs": [],
   "source": [
    "class SumParty(Party):\n",
    "    def round1(self, parties, input_num):\n",
    "        self.input = input_num\n",
    "        self.parties = parties\n",
    "        n = len(parties)\n",
    "        t = n-1\n",
    "\n",
    "        # YOUR CODE HERE\n",
    "        raise NotImplementedError()\n",
    "\n",
    "    def round2(self):\n",
    "        # YOUR CODE HERE\n",
    "        raise NotImplementedError()\n",
    "    \n",
    "    def round3(self):\n",
    "        # YOUR CODE HERE\n",
    "        raise NotImplementedError()"
   ]
  },
  {
   "cell_type": "code",
   "execution_count": null,
   "metadata": {
    "deletable": false,
    "editable": false,
    "nbgrader": {
     "cell_type": "code",
     "checksum": "912b3e8d3bcb325263aa73e563bcae45",
     "grade": true,
     "grade_id": "cell-a184246677396fcd",
     "locked": true,
     "points": 5,
     "schema_version": 3,
     "solution": false,
     "task": false
    }
   },
   "outputs": [],
   "source": [
    "# TEST CASE for question 1(b)\n",
    "\n",
    "NUM_PARTIES = 10\n",
    "\n",
    "parties = [SumParty() for _ in range(NUM_PARTIES)]\n",
    "\n",
    "nums = [np.random.randint(0, 10) for _ in range(NUM_PARTIES)]\n",
    "\n",
    "for p,n in zip(parties, nums):\n",
    "    p.round1(parties, n)\n",
    "for p in parties:\n",
    "    p.round2()\n",
    "for p in parties:\n",
    "    p.round3()\n",
    "for p in parties:\n",
    "    print(p.get_view())\n",
    "    assert p.output == np.sum(nums)"
   ]
  }
 ],
 "metadata": {
  "kernelspec": {
   "display_name": "Python 3",
   "language": "python",
   "name": "python3"
  },
  "language_info": {
   "codemirror_mode": {
    "name": "ipython",
    "version": 3
   },
   "file_extension": ".py",
   "mimetype": "text/x-python",
   "name": "python",
   "nbconvert_exporter": "python",
   "pygments_lexer": "ipython3",
   "version": "3.6.10"
  }
 },
 "nbformat": 4,
 "nbformat_minor": 4
}
