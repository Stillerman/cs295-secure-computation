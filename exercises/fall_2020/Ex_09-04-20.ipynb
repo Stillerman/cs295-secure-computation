{
 "cells": [
  {
   "cell_type": "markdown",
   "metadata": {},
   "source": [
    "# CS295/395: Secure Distributed Computation\n",
    "## In-Class Exercise, 9/4/2020"
   ]
  },
  {
   "cell_type": "markdown",
   "metadata": {},
   "source": [
    "## Question 1 (5 points)\n",
    "\n",
    "Write a function `share` that generates $n$ additive secret shares from a single field element $x \\in GF(p)$."
   ]
  },
  {
   "cell_type": "code",
   "execution_count": null,
   "metadata": {
    "deletable": false,
    "nbgrader": {
     "cell_type": "code",
     "checksum": "2cc9a50663fe1d80d20e35be80af6562",
     "grade": false,
     "grade_id": "cell-fcf3600eacf9c717",
     "locked": false,
     "schema_version": 3,
     "solution": true,
     "task": false
    }
   },
   "outputs": [],
   "source": [
    "import numpy as np\n",
    "\n",
    "def plusFE(p, a, b):\n",
    "    return (a + b) % p\n",
    "    \n",
    "def multFE(p, a, b):\n",
    "    return (a * b) % p\n",
    "\n",
    "def sumFE(p, xs):\n",
    "    total = 0\n",
    "    for x in xs:\n",
    "        total = plusFE(p, x, total)\n",
    "    return total\n",
    "\n",
    "def share(p, n, x):\n",
    "    # YOUR CODE HERE\n",
    "    raise NotImplementedError()"
   ]
  },
  {
   "cell_type": "code",
   "execution_count": null,
   "metadata": {
    "deletable": false,
    "editable": false,
    "nbgrader": {
     "cell_type": "code",
     "checksum": "7e526165dd5ee35e7a0706fed8fe918f",
     "grade": true,
     "grade_id": "cell-79cd6b0e56a18701",
     "locked": true,
     "points": 5,
     "schema_version": 3,
     "solution": false,
     "task": false
    }
   },
   "outputs": [],
   "source": [
    "# Test cases for automatic grading\n",
    "assert sumFE(100, share(100, 2, 5)) == 5\n",
    "assert sumFE(2, share(2, 5, 1)) == 1\n",
    "assert sumFE(2, share(2, 5, 0)) == 0\n",
    "assert sumFE(2, share(2, 50, 1)) == 1"
   ]
  },
  {
   "cell_type": "code",
   "execution_count": null,
   "metadata": {},
   "outputs": [],
   "source": [
    "# Example\n",
    "print(share(100, 2, 5))\n",
    "print(share(2, 5,dsfsf1))"
   ]
  },
  {
   "cell_type": "markdown",
   "metadata": {},
   "source": [
    "## Question 2 (3 points)\n",
    "\n",
    "Is the additive secret sharing scheme for MPC secure against a *semi-honest* adversary? If not, why not?"
   ]
  },
  {
   "cell_type": "markdown",
   "metadata": {
    "deletable": false,
    "nbgrader": {
     "cell_type": "markdown",
     "checksum": "a83a0bbe82c6ba3c1ba76ba00436e110",
     "grade": true,
     "grade_id": "cell-7867ffd80feb6347",
     "locked": false,
     "points": 3,
     "schema_version": 3,
     "solution": true,
     "task": false
    }
   },
   "source": [
    "YOUR ANSWER HERE"
   ]
  },
  {
   "cell_type": "markdown",
   "metadata": {},
   "source": [
    "## Question 3 (3 points)\n",
    "\n",
    "Is the additive secret sharing scheme for MPC secure against a *malicious* adversary? If not, why not?"
   ]
  },
  {
   "cell_type": "markdown",
   "metadata": {
    "deletable": false,
    "nbgrader": {
     "cell_type": "markdown",
     "checksum": "c462327f3b9179884f528193be60dc2c",
     "grade": true,
     "grade_id": "cell-07e156948f28d61b",
     "locked": false,
     "points": 3,
     "schema_version": 3,
     "solution": true,
     "task": false
    }
   },
   "source": [
    "YOUR ANSWER HERE"
   ]
  }
 ],
 "metadata": {
  "kernelspec": {
   "display_name": "Python 3",
   "language": "python",
   "name": "python3"
  },
  "language_info": {
   "codemirror_mode": {
    "name": "ipython",
    "version": 3
   },
   "file_extension": ".py",
   "mimetype": "text/x-python",
   "name": "python",
   "nbconvert_exporter": "python",
   "pygments_lexer": "ipython3",
   "version": "3.6.10"
  }
 },
 "nbformat": 4,
 "nbformat_minor": 2
}
