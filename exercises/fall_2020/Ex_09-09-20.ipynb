{
 "cells": [
  {
   "cell_type": "markdown",
   "metadata": {},
   "source": [
    "# CS295/395: Secure Distributed Computation\n",
    "## In-Class Exercise, 9/9/2020"
   ]
  },
  {
   "cell_type": "markdown",
   "metadata": {},
   "source": [
    "Consider the following functionality and protocol for realizing it.\n",
    "\n",
    "\\begin{equation*}\n",
    "\\textbf{Functionality: Summation}\\\\\n",
    "\\fbox{$\\mathcal{F}(x_1, \\dots, x_n) = x_1 + \\dots + x_n$}\n",
    "\\end{equation*}\n",
    "\n",
    "\n",
    "**Protocol: Secure Summation with Additive Secret Sharing**\n",
    "- **Round 1**: Each party $P_i$ sends one share of its input $x_i$ to each other party, keeping one share for itself.\n",
    "- **Round 2**: Each party $P_i$ sums the shares it holds (including both the shares it has received and the share it kept for itself). Each party sends its sum to all other parties.\n",
    "- **Opening**: Each party adds up the sums it receives and the sum it computed to obtain the final output."
   ]
  },
  {
   "cell_type": "markdown",
   "metadata": {},
   "source": [
    "## Question 1 (5 points)\n",
    "\n",
    "Does the protocol above securely realize the functionality in the presence of a *semi-honest* adversary? If not, why not?"
   ]
  },
  {
   "cell_type": "markdown",
   "metadata": {
    "deletable": false,
    "nbgrader": {
     "cell_type": "markdown",
     "checksum": "5c80f0e25e609b839947074c78318d3d",
     "grade": true,
     "grade_id": "cell-7867ffd80feb6347",
     "locked": false,
     "points": 5,
     "schema_version": 3,
     "solution": true,
     "task": false
    }
   },
   "source": [
    "YOUR ANSWER HERE"
   ]
  },
  {
   "cell_type": "markdown",
   "metadata": {},
   "source": [
    "## Question 2 (5 points)\n",
    "\n",
    "Does the protocol above securely realize the functionality in the presence of a *malicious* adversary? If not, why not?"
   ]
  },
  {
   "cell_type": "markdown",
   "metadata": {
    "deletable": false,
    "nbgrader": {
     "cell_type": "markdown",
     "checksum": "ee96eacf25bd7c2df0e8264ed077fea9",
     "grade": true,
     "grade_id": "cell-07e156948f28d61b",
     "locked": false,
     "points": 5,
     "schema_version": 3,
     "solution": true,
     "task": false
    }
   },
   "source": [
    "YOUR ANSWER HERE"
   ]
  }
 ],
 "metadata": {
  "kernelspec": {
   "display_name": "Python 3",
   "language": "python",
   "name": "python3"
  },
  "language_info": {
   "codemirror_mode": {
    "name": "ipython",
    "version": 3
   },
   "file_extension": ".py",
   "mimetype": "text/x-python",
   "name": "python",
   "nbconvert_exporter": "python",
   "pygments_lexer": "ipython3",
   "version": "3.6.10"
  }
 },
 "nbformat": 4,
 "nbformat_minor": 4
}
