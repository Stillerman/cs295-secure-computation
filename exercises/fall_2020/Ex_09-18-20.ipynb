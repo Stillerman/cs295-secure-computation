{
 "cells": [
  {
   "cell_type": "markdown",
   "metadata": {},
   "source": [
    "# CS295/395: Secure Distributed Computation\n",
    "## In-Class Exercise, 9/18/2020"
   ]
  },
  {
   "cell_type": "code",
   "execution_count": null,
   "metadata": {},
   "outputs": [],
   "source": [
    "# Imports and definitions\n",
    "import numpy as np\n",
    "from collections import defaultdict\n",
    "_PRIME = 2 ** 7 - 1\n",
    "\n",
    "def plusFE(p, a, b):\n",
    "    \"\"\"Add field elements a and b in GF(p)\"\"\"\n",
    "    return (a + b) % p\n",
    "    \n",
    "def multFE(p, a, b):\n",
    "    \"\"\"Multiply field elements a and b in GF(p)\"\"\"\n",
    "    return (a * b) % p"
   ]
  },
  {
   "cell_type": "code",
   "execution_count": null,
   "metadata": {},
   "outputs": [],
   "source": [
    "# This code is adapted from:\n",
    "# https://en.wikipedia.org/wiki/Shamir%27s_Secret_Sharing\n",
    "\n",
    "import random\n",
    "import functools\n",
    "\n",
    "# 12th Mersenne Prime\n",
    "# (for this application we want a known prime number as close as\n",
    "# possible to our security level; e.g.  desired security level of 128\n",
    "# bits -- too large and all the ciphertext is large; too small and\n",
    "# security is compromised)\n",
    "_PRIME = 2 ** 13 - 1\n",
    "# 13th Mersenne Prime is 2**521 - 1\n",
    "\n",
    "_RINT = functools.partial(random.SystemRandom().randint, 0)\n",
    "\n",
    "def _eval_at(poly, x, prime):\n",
    "    \"\"\"Evaluates polynomial (coefficient tuple) at x, used to generate a\n",
    "    shamir pool in make_random_shares below.\n",
    "    \"\"\"\n",
    "    accum = 0\n",
    "    for coeff in reversed(poly):\n",
    "        accum *= x\n",
    "        accum += coeff\n",
    "        accum %= prime\n",
    "    return accum\n",
    "\n",
    "def make_random_shares(minimum, shares, prime=_PRIME):\n",
    "    \"\"\"\n",
    "    Generates a random shamir pool, returns the secret and the share\n",
    "    points.\n",
    "    \"\"\"\n",
    "    if minimum > shares:\n",
    "        raise ValueError(\"Pool secret would be irrecoverable.\")\n",
    "    poly = [_RINT(prime - 1) for i in range(minimum)]\n",
    "    points = [(i, _eval_at(poly, i, prime))\n",
    "              for i in range(1, shares + 1)]\n",
    "    return poly[0], points\n",
    "\n",
    "def _extended_gcd(a, b):\n",
    "    \"\"\"\n",
    "    Division in integers modulus p means finding the inverse of the\n",
    "    denominator modulo p and then multiplying the numerator by this\n",
    "    inverse (Note: inverse of A is B such that A*B % p == 1) this can\n",
    "    be computed via extended Euclidean algorithm\n",
    "    http://en.wikipedia.org/wiki/Modular_multiplicative_inverse#Computation\n",
    "    \"\"\"\n",
    "    x = 0\n",
    "    last_x = 1\n",
    "    y = 1\n",
    "    last_y = 0\n",
    "    while b != 0:\n",
    "        quot = a // b\n",
    "        a, b = b, a % b\n",
    "        x, last_x = last_x - quot * x, x\n",
    "        y, last_y = last_y - quot * y, y\n",
    "    return last_x, last_y\n",
    "\n",
    "def _divmod(num, den, p):\n",
    "    \"\"\"Compute num / den modulo prime p\n",
    "\n",
    "    To explain what this means, the return value will be such that\n",
    "    the following is true: den * _divmod(num, den, p) % p == num\n",
    "    \"\"\"\n",
    "    inv, _ = _extended_gcd(den, p)\n",
    "    return num * inv\n",
    "\n",
    "def _lagrange_interpolate(x, x_s, y_s, p):\n",
    "    \"\"\"\n",
    "    Find the y-value for the given x, given n (x, y) points;\n",
    "    k points will define a polynomial of up to kth order.\n",
    "    \"\"\"\n",
    "    k = len(x_s)\n",
    "    assert k == len(set(x_s)), \"points must be distinct\"\n",
    "    def PI(vals):  # upper-case PI -- product of inputs\n",
    "        accum = 1\n",
    "        for v in vals:\n",
    "            accum *= v\n",
    "        return accum\n",
    "    nums = []  # avoid inexact division\n",
    "    dens = []\n",
    "    for i in range(k):\n",
    "        others = list(x_s)\n",
    "        cur = others.pop(i)\n",
    "        nums.append(PI(x - o for o in others))\n",
    "        dens.append(PI(cur - o for o in others))\n",
    "    den = PI(dens)\n",
    "    num = sum([_divmod(nums[i] * den * y_s[i] % p, dens[i], p)\n",
    "               for i in range(k)])\n",
    "    return (_divmod(num, den, p) + p) % p\n",
    "\n",
    "def recover_secret(shares, prime=_PRIME):\n",
    "    \"\"\"\n",
    "    Recover the secret from share points\n",
    "    (x, y points on the polynomial).\n",
    "    \"\"\"\n",
    "    if len(shares) < 2:\n",
    "        raise ValueError(\"need at least two shares\")\n",
    "    x_s, y_s = zip(*shares)\n",
    "    return _lagrange_interpolate(0, x_s, y_s, prime)\n",
    "\n",
    "\n",
    "secret, shares = make_random_shares(minimum=3, shares=6)\n",
    "\n",
    "print('Secret:                                                     ',\n",
    "      secret)\n",
    "print('Shares:')\n",
    "if shares:\n",
    "    for share in shares:\n",
    "        print('  ', share)\n",
    "\n",
    "print('Secret recovered from minimum subset of shares:             ',\n",
    "      recover_secret(shares[:3]))\n",
    "print('Secret recovered from a different minimum subset of shares: ',\n",
    "      recover_secret(shares[-3:]))"
   ]
  },
  {
   "cell_type": "markdown",
   "metadata": {},
   "source": [
    "## Question 1\n",
    "\n",
    "Write a function `share_input` to share out a specific secret input value. Base your code on the definition of `make_random_shares` above."
   ]
  },
  {
   "cell_type": "code",
   "execution_count": null,
   "metadata": {
    "deletable": false,
    "nbgrader": {
     "cell_type": "code",
     "checksum": "ca05656959ce2d6d7ddbb2ed7d1f96cc",
     "grade": false,
     "grade_id": "cell-825810f9c5d2b738",
     "locked": false,
     "schema_version": 3,
     "solution": true,
     "task": false
    }
   },
   "outputs": [],
   "source": [
    "def share_input(inp, minimum, shares, prime=_PRIME):\n",
    "    # YOUR CODE HERE\n",
    "    raise NotImplementedError()\n",
    "\n",
    "shares = share_input(5, minimum = 3, shares = 5)\n",
    "print('Shares:', shares)\n",
    "print('Recovered secret with all shares:', recover_secret(shares))\n",
    "print('Recovered secret with 3 shares:', recover_secret(shares[:3]))\n",
    "print('Recovered secret with 2 shares:', recover_secret(shares[:2]))"
   ]
  },
  {
   "cell_type": "code",
   "execution_count": null,
   "metadata": {
    "deletable": false,
    "editable": false,
    "nbgrader": {
     "cell_type": "code",
     "checksum": "6a3df2e4833844e47c93da60ea8f659d",
     "grade": true,
     "grade_id": "cell-800d654ac872fe60",
     "locked": true,
     "points": 5,
     "schema_version": 3,
     "solution": false,
     "task": false
    }
   },
   "outputs": [],
   "source": [
    "# TEST CASE for question 1\n",
    "assert recover_secret(share_input(5, minimum=3, shares=6)) == 5"
   ]
  },
  {
   "cell_type": "markdown",
   "metadata": {},
   "source": [
    "## Question 2\n",
    "\n",
    "Given the two sets of shares `shares1` and `shares2` below, write a function whose output is their sum (as a set of shares)."
   ]
  },
  {
   "cell_type": "code",
   "execution_count": null,
   "metadata": {
    "deletable": false,
    "nbgrader": {
     "cell_type": "code",
     "checksum": "c153fe282cec760426eaf3c8e9d4f077",
     "grade": false,
     "grade_id": "cell-96a3bb1415b78611",
     "locked": false,
     "schema_version": 3,
     "solution": true,
     "task": false
    }
   },
   "outputs": [],
   "source": [
    "shares1 = share_input(minimum=3, shares=6, inp=20)\n",
    "shares2 = share_input(minimum=3, shares=6, inp=10)\n",
    "\n",
    "def add_shares(shares1, shares2):\n",
    "    # YOUR CODE HERE\n",
    "    raise NotImplementedError()\n",
    "\n",
    "added_shares = add_shares(shares1, shares2)\n",
    "print(added_shares)\n",
    "recover_secret(added_shares[:3])"
   ]
  },
  {
   "cell_type": "code",
   "execution_count": null,
   "metadata": {
    "deletable": false,
    "editable": false,
    "nbgrader": {
     "cell_type": "code",
     "checksum": "619fa65839ba51d5183825537b6856aa",
     "grade": true,
     "grade_id": "cell-fc07ee60a24605f8",
     "locked": true,
     "points": 5,
     "schema_version": 3,
     "solution": false,
     "task": false
    }
   },
   "outputs": [],
   "source": [
    "# TEST CASE for question 2\n",
    "assert recover_secret(add_shares(shares1, shares2)[:3]) == 30"
   ]
  },
  {
   "cell_type": "markdown",
   "metadata": {},
   "source": [
    "## Question 3\n",
    "\n",
    "Given the two sets of shares `shares1` and `shares2` below, write a function whose output is their **product** (as a set of shares)."
   ]
  },
  {
   "cell_type": "code",
   "execution_count": null,
   "metadata": {
    "deletable": false,
    "nbgrader": {
     "cell_type": "code",
     "checksum": "95d8c9aecb4f9b0d1c482de562e893be",
     "grade": false,
     "grade_id": "cell-c5e379f74efe3722",
     "locked": false,
     "schema_version": 3,
     "solution": true,
     "task": false
    }
   },
   "outputs": [],
   "source": [
    "shares1 = share_input(minimum=3, shares=6, inp=20)\n",
    "shares2 = share_input(minimum=3, shares=6, inp=10)\n",
    "\n",
    "def mult_shares(shares1, shares2):\n",
    "    # YOUR CODE HERE\n",
    "    raise NotImplementedError()\n",
    "\n",
    "prod_shares = mult_shares(shares1, shares2)\n",
    "print('True answer:', 20 * 10)\n",
    "print('Shares:', prod_shares)\n",
    "\n",
    "print('Recovered result, 3 shares:', recover_secret(prod_shares[:3]))\n",
    "print('Recovered result, 4 shares:', recover_secret(prod_shares[:4]))\n",
    "print('Recovered result, 5 shares:', recover_secret(prod_shares[:5]))\n",
    "print('Recovered result, 6 shares:', recover_secret(prod_shares))"
   ]
  },
  {
   "cell_type": "code",
   "execution_count": null,
   "metadata": {
    "deletable": false,
    "editable": false,
    "nbgrader": {
     "cell_type": "code",
     "checksum": "3aa87bcdb2656df121ef1578bce4cf9e",
     "grade": true,
     "grade_id": "cell-f4e655818083ca52",
     "locked": true,
     "points": 5,
     "schema_version": 3,
     "solution": false,
     "task": false
    }
   },
   "outputs": [],
   "source": [
    "# TEST CASE for question 3\n",
    "assert recover_secret(mult_shares(shares1, shares2)) == 200"
   ]
  }
 ],
 "metadata": {
  "kernelspec": {
   "display_name": "Python 3",
   "language": "python",
   "name": "python3"
  },
  "language_info": {
   "codemirror_mode": {
    "name": "ipython",
    "version": 3
   },
   "file_extension": ".py",
   "mimetype": "text/x-python",
   "name": "python",
   "nbconvert_exporter": "python",
   "pygments_lexer": "ipython3",
   "version": "3.6.10"
  }
 },
 "nbformat": 4,
 "nbformat_minor": 4
}
