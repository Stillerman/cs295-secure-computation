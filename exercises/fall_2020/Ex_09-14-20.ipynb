{
 "cells": [
  {
   "cell_type": "markdown",
   "metadata": {},
   "source": [
    "# CS295/395: Secure Distributed Computation\n",
    "## In-Class Exercise, 9/14/2020"
   ]
  },
  {
   "cell_type": "code",
   "execution_count": null,
   "metadata": {},
   "outputs": [],
   "source": [
    "# Imports and definitions\n",
    "import numpy as np\n",
    "from collections import defaultdict\n",
    "\n",
    "def plusFE(p, a, b):\n",
    "    \"\"\"Add field elements a and b in GF(p)\"\"\"\n",
    "    return (a + b) % p\n",
    "    \n",
    "def multFE(p, a, b):\n",
    "    \"\"\"Multiply field elements a and b in GF(p)\"\"\"\n",
    "    return (a * b) % p\n",
    "\n",
    "def sumFE(p, xs):\n",
    "    \"\"\"Sum up a list of field elements xs in GF(p)\"\"\"\n",
    "    total = 0\n",
    "    for x in xs:\n",
    "        total = plusFE(p, x, total)\n",
    "    return total\n",
    "\n",
    "class Party:\n",
    "    \"\"\"A participant in a multiparty computation protocol.\"\"\"\n",
    "    def __init__(self, field_size):\n",
    "        \"\"\"Initialize the field size and dictionary to hold received messages.\"\"\"\n",
    "        self.field_size = field_size\n",
    "        self.received = defaultdict(list)\n",
    "    \n",
    "    def send(self, other, round, msg):\n",
    "        \"\"\"Simulate sending a message `msg` to another party `other` during round `round`\"\"\"\n",
    "        other.received[round].append(msg)"
   ]
  },
  {
   "cell_type": "markdown",
   "metadata": {},
   "source": [
    "## Question 1\n",
    "\n",
    "Implement the `InsecureAggregationParty` class, which adds up the parties' inputs *insecurely*."
   ]
  },
  {
   "cell_type": "code",
   "execution_count": null,
   "metadata": {
    "deletable": false,
    "nbgrader": {
     "cell_type": "code",
     "checksum": "92415407551d3cbeb9fa96f1b277eefa",
     "grade": false,
     "grade_id": "cell-253770a6a53e06e8",
     "locked": false,
     "schema_version": 3,
     "solution": true,
     "task": false
    }
   },
   "outputs": [],
   "source": [
    "class InsecureAggregationParty(Party):\n",
    "    def round1(self, parties, input):\n",
    "        self.input = input\n",
    "        \n",
    "        # YOUR CODE HERE\n",
    "        raise NotImplementedError()\n",
    "\n",
    "    def round2(self):\n",
    "        # YOUR CODE HERE\n",
    "        raise NotImplementedError()\n",
    "\n",
    "    def get_view(self):\n",
    "        return (self.input, self.output, self.received[1])"
   ]
  },
  {
   "cell_type": "code",
   "execution_count": null,
   "metadata": {
    "deletable": false,
    "editable": false,
    "nbgrader": {
     "cell_type": "code",
     "checksum": "e9d9c33feafb800c2da825290e14e33c",
     "grade": true,
     "grade_id": "cell-41c0a04587798b8c",
     "locked": true,
     "points": 5,
     "schema_version": 3,
     "solution": false,
     "task": false
    }
   },
   "outputs": [],
   "source": [
    "# TEST CASE for question 1\n",
    "\n",
    "# field size 100, 5 parties\n",
    "p = 100\n",
    "parties = [InsecureAggregationParty(p) for _ in range(5)]\n",
    "\n",
    "# run round 1\n",
    "for party in parties:\n",
    "    party.round1(parties, 5)\n",
    "\n",
    "# run round 2 and output\n",
    "for party in parties:\n",
    "    party.round2()\n",
    "    #print('Party output:', party.output)\n",
    "    assert party.output == 25"
   ]
  },
  {
   "cell_type": "markdown",
   "metadata": {},
   "source": [
    "## Question 2\n",
    "\n",
    "Implement a simulator for the `InsecureAggregationParty` protocol, which constructs views indistinguishable from the real-world views of the protocol using only its inputs and outputs."
   ]
  },
  {
   "cell_type": "code",
   "execution_count": null,
   "metadata": {
    "deletable": false,
    "nbgrader": {
     "cell_type": "code",
     "checksum": "61ea785c4c387b09b177a2acd46fb649",
     "grade": false,
     "grade_id": "cell-a9f12612df1fdec4",
     "locked": false,
     "schema_version": 3,
     "solution": true,
     "task": false
    }
   },
   "outputs": [],
   "source": [
    "def simulator(n, input, output):\n",
    "    \"\"\"Simulates a real-world view in the ideal world. Outputs a \n",
    "    3-tuple: (input, output, received messages from round 1)\"\"\"\n",
    "    # YOUR CODE HERE\n",
    "    raise NotImplementedError()"
   ]
  },
  {
   "cell_type": "code",
   "execution_count": null,
   "metadata": {
    "deletable": false,
    "editable": false,
    "nbgrader": {
     "cell_type": "code",
     "checksum": "02f4035906e3dcbf63a4321effa70ccd",
     "grade": true,
     "grade_id": "cell-1feb084cc713da72",
     "locked": true,
     "points": 5,
     "schema_version": 3,
     "solution": false,
     "task": false
    }
   },
   "outputs": [],
   "source": [
    "# TEST CASE for question 2\n",
    "\n",
    "# the real-world view of each party should be indistinguishable\n",
    "# from the simulated view in the ideal world\n",
    "# there is no randomness here, so they are really equal!\n",
    "for party in parties:\n",
    "    assert party.get_view() == simulator(5, 5, 25)"
   ]
  }
 ],
 "metadata": {
  "kernelspec": {
   "display_name": "Python 3",
   "language": "python",
   "name": "python3"
  },
  "language_info": {
   "codemirror_mode": {
    "name": "ipython",
    "version": 3
   },
   "file_extension": ".py",
   "mimetype": "text/x-python",
   "name": "python",
   "nbconvert_exporter": "python",
   "pygments_lexer": "ipython3",
   "version": "3.6.10"
  }
 },
 "nbformat": 4,
 "nbformat_minor": 4
}
