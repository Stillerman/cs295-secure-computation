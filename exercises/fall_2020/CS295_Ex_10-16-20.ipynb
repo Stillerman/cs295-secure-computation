{
 "cells": [
  {
   "cell_type": "markdown",
   "metadata": {},
   "source": [
    "# CS295/395: Secure Distributed Computation\n",
    "## In-Class Exercise, 10/16/2020"
   ]
  },
  {
   "cell_type": "code",
   "execution_count": null,
   "metadata": {},
   "outputs": [],
   "source": [
    "# Imports and definitions\n",
    "import numpy as np\n",
    "from collections import defaultdict\n",
    "from collections import namedtuple\n",
    "import urllib.request"
   ]
  },
  {
   "cell_type": "markdown",
   "metadata": {},
   "source": [
    "## ElGamal Cryptosystem\n",
    "\n",
    "Adapted from https://www.geeksforgeeks.org/elgamal-encryption-algorithm/"
   ]
  },
  {
   "cell_type": "code",
   "execution_count": null,
   "metadata": {},
   "outputs": [],
   "source": [
    "# Python program to illustrate ElGamal encryption \n",
    "  \n",
    "import random  \n",
    "from math import pow\n",
    "  \n",
    "a = random.randint(2, 10) \n",
    "\n",
    "def invmod(a, p, maxiter=1000000):\n",
    "    \"\"\"The multiplicitive inverse of a in the integers modulo p:\n",
    "         a * b == 1 mod p\n",
    "       Returns b.\n",
    "       (http://code.activestate.com/recipes/576737-inverse-modulo-p/)\"\"\"\n",
    "    if a == 0:\n",
    "        raise ValueError('0 has no inverse mod %d' % p)\n",
    "    r = a\n",
    "    d = 1\n",
    "    for i in range(min(p, maxiter)):\n",
    "        d = ((p // r + 1) * d) % p\n",
    "        r = (d * a) % p\n",
    "        if r == 1:\n",
    "            break\n",
    "    else:\n",
    "        raise ValueError('%d has no inverse mod %d' % (a, p))\n",
    "    return d\n",
    "\n",
    "def gcd(a, b): \n",
    "    if a < b: \n",
    "        return gcd(b, a) \n",
    "    elif a % b == 0: \n",
    "        return b; \n",
    "    else: \n",
    "        return gcd(b, a % b) \n",
    "\n",
    "# Modular exponentiation \n",
    "def power(a, b, c): \n",
    "    x = 1\n",
    "    y = a \n",
    "  \n",
    "    while b > 0: \n",
    "        if b % 2 == 0: \n",
    "            x = (x * y) % c; \n",
    "        y = (y * y) % c \n",
    "        b = int(b / 2) \n",
    "  \n",
    "    return x % c \n",
    "\n",
    "# Key generation, encryption, and decryption\n",
    "\n",
    "def gen_key(q): \n",
    "    # Public key: (G, q, g, h)\n",
    "    # (G is implicit here)\n",
    "    # Private key: x\n",
    "    g = random.randint(2, q) \n",
    "    x = random.randint(1, q)\n",
    "    h = power(g, x, q) \n",
    "\n",
    "    pub = (q, g, h)\n",
    "    priv = x\n",
    "    return pub, priv\n",
    "\n",
    "def encrypt(msg, pub):\n",
    "    q, g, h = pub\n",
    "    y = random.randint(1, q)\n",
    "\n",
    "    s = power(h, y, q)\n",
    "    c1 = power(g, y, q)\n",
    "    c2 = msg * s\n",
    "    return c1, c2\n",
    "  \n",
    "def decrypt(c1, c2, x, q): \n",
    "    h = power(c1, x, q)\n",
    "    s_inv = invmod(h, q)\n",
    "    dr_msg = c2 * s_inv % q\n",
    "          \n",
    "    return dr_msg "
   ]
  },
  {
   "cell_type": "code",
   "execution_count": null,
   "metadata": {},
   "outputs": [],
   "source": [
    "# Encryption and decryption\n",
    "\n",
    "# q should be prime\n",
    "q = 2**31 - 1\n",
    "\n",
    "pub, priv = gen_key(q)\n",
    "c1, c2 = encrypt(50, pub) \n",
    "\n",
    "decrypt(c1, c2, priv, q)"
   ]
  },
  {
   "cell_type": "code",
   "execution_count": null,
   "metadata": {},
   "outputs": [],
   "source": [
    "# Encrypting twice with the same public key yields different ciphertexts\n",
    "pub, priv = gen_key(q)\n",
    "c1_1, c2_1 = encrypt(50, pub)\n",
    "c1_2, c2_2 = encrypt(50, pub)\n",
    "print(\"First:\", c1_1, c2_1)\n",
    "print(\"Second:\", c1_2, c2_2)"
   ]
  },
  {
   "cell_type": "markdown",
   "metadata": {},
   "source": [
    "## Question 1\n",
    "\n",
    "Implement `e_mult`, multiplication for ciphertexts."
   ]
  },
  {
   "cell_type": "code",
   "execution_count": null,
   "metadata": {
    "deletable": false,
    "nbgrader": {
     "cell_type": "code",
     "checksum": "a9c7a4c55b49e0f20ba7b06642ff8376",
     "grade": false,
     "grade_id": "cell-8afc4360a11fb88c",
     "locked": false,
     "schema_version": 3,
     "solution": true,
     "task": false
    }
   },
   "outputs": [],
   "source": [
    "def e_mult(ct1, ct2, q):\n",
    "    c1_1, c2_1 = ct1\n",
    "    c1_2, c2_2 = ct2\n",
    "    \n",
    "    # YOUR CODE HERE\n",
    "    raise NotImplementedError()"
   ]
  },
  {
   "cell_type": "code",
   "execution_count": null,
   "metadata": {
    "deletable": false,
    "editable": false,
    "nbgrader": {
     "cell_type": "code",
     "checksum": "1c9562cb40483ef608b2e8423bf3b3c5",
     "grade": true,
     "grade_id": "cell-da2b1ee8bb93e240",
     "locked": true,
     "points": 5,
     "schema_version": 3,
     "solution": false,
     "task": false
    }
   },
   "outputs": [],
   "source": [
    "# TEST CASE\n",
    "pub, priv = gen_key(q)\n",
    "ct1 = encrypt(5, pub)\n",
    "ct2 = encrypt(10, pub)\n",
    "ct3_1, ct3_2 = e_mult(ct1, ct2, q)\n",
    "\n",
    "assert decrypt(ct3_1, ct3_2, priv, q) == 50"
   ]
  },
  {
   "cell_type": "markdown",
   "metadata": {},
   "source": [
    "## Question 2\n",
    "\n",
    "Implement `e_product`, the product of a list of ciphertexts."
   ]
  },
  {
   "cell_type": "code",
   "execution_count": null,
   "metadata": {
    "deletable": false,
    "nbgrader": {
     "cell_type": "code",
     "checksum": "a4bf029d834108d44d678f89e8ed1907",
     "grade": false,
     "grade_id": "cell-b16af3c8d8d9e5cd",
     "locked": false,
     "schema_version": 3,
     "solution": true,
     "task": false
    }
   },
   "outputs": [],
   "source": [
    "def e_product(cts, q):\n",
    "    # YOUR CODE HERE\n",
    "    raise NotImplementedError()"
   ]
  },
  {
   "cell_type": "code",
   "execution_count": null,
   "metadata": {
    "deletable": false,
    "editable": false,
    "nbgrader": {
     "cell_type": "code",
     "checksum": "ee19f9732688acac428fa3b49506cfa7",
     "grade": true,
     "grade_id": "cell-a5db87cc50a8bb5f",
     "locked": true,
     "points": 5,
     "schema_version": 3,
     "solution": false,
     "task": false
    }
   },
   "outputs": [],
   "source": [
    "# TEST CASE\n",
    "pub, priv = gen_key(q)\n",
    "\n",
    "numbers = [random.randint(1, 5) for _ in range(10)]\n",
    "print('List of numbers:', numbers)\n",
    "cts = [encrypt(n, pub) for n in numbers]\n",
    "\n",
    "product_1, product_2 = e_product(cts, q)\n",
    "r = decrypt(product_1, product_2, priv, q)\n",
    "print('Decrypted result:', r)\n",
    "print('Actual product:', np.prod(numbers))\n",
    "\n",
    "assert r == np.prod(numbers)"
   ]
  }
 ],
 "metadata": {
  "kernelspec": {
   "display_name": "Python 3",
   "language": "python",
   "name": "python3"
  },
  "language_info": {
   "codemirror_mode": {
    "name": "ipython",
    "version": 3
   },
   "file_extension": ".py",
   "mimetype": "text/x-python",
   "name": "python",
   "nbconvert_exporter": "python",
   "pygments_lexer": "ipython3",
   "version": "3.6.10"
  }
 },
 "nbformat": 4,
 "nbformat_minor": 4
}
