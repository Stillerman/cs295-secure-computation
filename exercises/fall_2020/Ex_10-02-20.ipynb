{
 "cells": [
  {
   "cell_type": "markdown",
   "metadata": {},
   "source": [
    "# CS295/395: Secure Distributed Computation\n",
    "## In-Class Exercise, 9/30/2020"
   ]
  },
  {
   "cell_type": "code",
   "execution_count": null,
   "metadata": {},
   "outputs": [],
   "source": [
    "# Imports and definitions\n",
    "import numpy as np\n",
    "from collections import defaultdict\n",
    "from collections import namedtuple\n",
    "import urllib.request"
   ]
  },
  {
   "cell_type": "code",
   "execution_count": null,
   "metadata": {},
   "outputs": [],
   "source": [
    "AddGate = namedtuple('AddGate', ['in1', 'in2'])\n",
    "MultGate = namedtuple('MultGate', ['in1', 'in2'])\n",
    "\n",
    "largest_wire = 0\n",
    "def new_wire():\n",
    "    global largest_wire\n",
    "    largest_wire += 1\n",
    "    return f'w{largest_wire}'"
   ]
  },
  {
   "cell_type": "markdown",
   "metadata": {},
   "source": [
    "## Question 1\n",
    "\n",
    "Write a function `sum_circuit` that builds a circuit for summing up a list of input wires."
   ]
  },
  {
   "cell_type": "code",
   "execution_count": null,
   "metadata": {
    "deletable": false,
    "nbgrader": {
     "cell_type": "code",
     "checksum": "4a45fff7e4fedbbf7d2eeb8b908be20f",
     "grade": false,
     "grade_id": "cell-df91e375c98fd148",
     "locked": false,
     "schema_version": 3,
     "solution": true,
     "task": false
    }
   },
   "outputs": [],
   "source": [
    "def sum_circuit(wire_names):\n",
    "    first_wire, *rest_wires = wire_names\n",
    "    circuit = {}\n",
    "    \n",
    "    # YOUR CODE HERE\n",
    "    raise NotImplementedError()"
   ]
  },
  {
   "cell_type": "code",
   "execution_count": null,
   "metadata": {},
   "outputs": [],
   "source": [
    "sum_circuit([f'in{i}' for i in range(4)])"
   ]
  },
  {
   "cell_type": "code",
   "execution_count": null,
   "metadata": {
    "deletable": false,
    "editable": false,
    "nbgrader": {
     "cell_type": "code",
     "checksum": "b305e63b1123552f3e0e58db3bc4ba76",
     "grade": true,
     "grade_id": "cell-4694c53c288d45f2",
     "locked": true,
     "points": 5,
     "schema_version": 3,
     "solution": false,
     "task": false
    }
   },
   "outputs": [],
   "source": [
    "# TEST CASE\n",
    "\n",
    "largest_wire = 0\n",
    "assert sum_circuit([f'w{i}' for i in range(3)]) == \\\n",
    "  {'w1': AddGate(in1='w0', in2='w1'), 'w2': AddGate(in1='w1', in2='w2')}"
   ]
  },
  {
   "cell_type": "markdown",
   "metadata": {},
   "source": [
    "## Question 2\n",
    "\n",
    "Write a function `half_adder` to generate a [half-adder circuit](https://en.wikipedia.org/wiki/Adder_(electronics))."
   ]
  },
  {
   "cell_type": "code",
   "execution_count": null,
   "metadata": {
    "deletable": false,
    "nbgrader": {
     "cell_type": "code",
     "checksum": "3bc0721626816c48f86ff69d334c887b",
     "grade": false,
     "grade_id": "cell-759551c02273e1a2",
     "locked": false,
     "schema_version": 3,
     "solution": true,
     "task": false
    }
   },
   "outputs": [],
   "source": [
    "def half_adder(circuit, w1, w2):\n",
    "    # YOUR CODE HERE\n",
    "    raise NotImplementedError()"
   ]
  },
  {
   "cell_type": "code",
   "execution_count": null,
   "metadata": {},
   "outputs": [],
   "source": [
    "largest_wire = 0\n",
    "c = {}\n",
    "half_adder(c, 'w1', 'w2')"
   ]
  },
  {
   "cell_type": "code",
   "execution_count": null,
   "metadata": {},
   "outputs": [],
   "source": [
    "c"
   ]
  },
  {
   "cell_type": "code",
   "execution_count": null,
   "metadata": {
    "deletable": false,
    "editable": false,
    "nbgrader": {
     "cell_type": "code",
     "checksum": "1ede0c1731c6125f2d2778b24fef83a6",
     "grade": true,
     "grade_id": "cell-7c7c90cb532c53a4",
     "locked": true,
     "points": 5,
     "schema_version": 3,
     "solution": false,
     "task": false
    }
   },
   "outputs": [],
   "source": [
    "# TEST CASE\n",
    "\n",
    "largest_wire = 0\n",
    "c = {}\n",
    "assert half_adder(c, 'w1', 'w2') == ('w1', 'w2')\n",
    "assert c['w1'] == AddGate(in1='w1', in2='w2')\n",
    "assert c['w2'] == MultGate(in1='w1', in2='w2')"
   ]
  },
  {
   "cell_type": "markdown",
   "metadata": {},
   "source": [
    "## Question 3\n",
    "\n",
    "Write a function `full_adder` to generate a full-adder circuit."
   ]
  },
  {
   "cell_type": "code",
   "execution_count": null,
   "metadata": {
    "deletable": false,
    "nbgrader": {
     "cell_type": "code",
     "checksum": "2fafa8e9d0eca8f143d97b9c7cd75962",
     "grade": true,
     "grade_id": "cell-fda873bba42b9337",
     "locked": false,
     "points": 5,
     "schema_version": 3,
     "solution": true,
     "task": false
    }
   },
   "outputs": [],
   "source": [
    "def full_adder(circuit, w1, w2, cin):\n",
    "    # YOUR CODE HERE\n",
    "    raise NotImplementedError()"
   ]
  },
  {
   "cell_type": "code",
   "execution_count": null,
   "metadata": {},
   "outputs": [],
   "source": [
    "largest_wire = 0\n",
    "c = {}\n",
    "full_adder(c, 'w1', 'w2', 'c1')"
   ]
  },
  {
   "cell_type": "code",
   "execution_count": null,
   "metadata": {},
   "outputs": [],
   "source": [
    "c"
   ]
  },
  {
   "cell_type": "markdown",
   "metadata": {},
   "source": [
    "## Question 4\n",
    "\n",
    "Write a function `bitstring_adder` that returns a circuit to add two binary numbers."
   ]
  },
  {
   "cell_type": "code",
   "execution_count": null,
   "metadata": {
    "deletable": false,
    "nbgrader": {
     "cell_type": "code",
     "checksum": "c4f591996a170e21be90b715cba12a4a",
     "grade": true,
     "grade_id": "cell-3a3bf300d92b4397",
     "locked": false,
     "points": 5,
     "schema_version": 3,
     "solution": true,
     "task": false
    }
   },
   "outputs": [],
   "source": [
    "def bitstring_adder(bits1, bits2):\n",
    "    circuit = {}\n",
    "\n",
    "    # YOUR CODE HERE\n",
    "    raise NotImplementedError()"
   ]
  },
  {
   "cell_type": "code",
   "execution_count": null,
   "metadata": {},
   "outputs": [],
   "source": [
    "largest_wire = 0\n",
    "bitstring_adder(['x1', 'x2'], ['y1', 'y2'])"
   ]
  },
  {
   "cell_type": "code",
   "execution_count": null,
   "metadata": {},
   "outputs": [],
   "source": [
    "largest_wire = 0\n",
    "\n",
    "xs = [f'x{i}' for i in range(64)]\n",
    "ys = [f'y{i}' for i in range(64)]\n",
    "\n",
    "outputs, carry, circuit = bitstring_adder(xs, ys)\n",
    "print('number of outputs:', len(outputs))\n",
    "print('number of gates:', len(circuit))"
   ]
  }
 ],
 "metadata": {
  "kernelspec": {
   "display_name": "Python 3",
   "language": "python",
   "name": "python3"
  },
  "language_info": {
   "codemirror_mode": {
    "name": "ipython",
    "version": 3
   },
   "file_extension": ".py",
   "mimetype": "text/x-python",
   "name": "python",
   "nbconvert_exporter": "python",
   "pygments_lexer": "ipython3",
   "version": "3.6.10"
  }
 },
 "nbformat": 4,
 "nbformat_minor": 4
}
