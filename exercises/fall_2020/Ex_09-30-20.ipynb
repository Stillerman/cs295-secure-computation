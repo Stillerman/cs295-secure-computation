{
 "cells": [
  {
   "cell_type": "markdown",
   "metadata": {},
   "source": [
    "# CS295/395: Secure Distributed Computation\n",
    "## In-Class Exercise, 9/30/2020"
   ]
  },
  {
   "cell_type": "code",
   "execution_count": null,
   "metadata": {},
   "outputs": [],
   "source": [
    "# Imports and definitions\n",
    "import numpy as np\n",
    "from collections import defaultdict\n",
    "from collections import namedtuple\n",
    "import urllib.request"
   ]
  },
  {
   "cell_type": "code",
   "execution_count": null,
   "metadata": {},
   "outputs": [],
   "source": [
    "AddGate = namedtuple('AddGate', ['in1', 'in2'])\n",
    "MultGate = namedtuple('MultGate', ['in1', 'in2'])"
   ]
  },
  {
   "cell_type": "markdown",
   "metadata": {},
   "source": [
    "## Question 1\n",
    "\n",
    "Write a function `sum_circuit` that builds a circuit for summing up a list of input wires."
   ]
  },
  {
   "cell_type": "code",
   "execution_count": null,
   "metadata": {
    "deletable": false,
    "nbgrader": {
     "cell_type": "code",
     "checksum": "0bc68415698d58601a20fa2121865643",
     "grade": false,
     "grade_id": "cell-df91e375c98fd148",
     "locked": false,
     "schema_version": 3,
     "solution": true,
     "task": false
    }
   },
   "outputs": [],
   "source": [
    "def sum_circuit(wire_names):\n",
    "    first_wire, *rest_wires = wire_names\n",
    "    \n",
    "    # YOUR CODE HERE\n",
    "    raise NotImplementedError()"
   ]
  },
  {
   "cell_type": "code",
   "execution_count": null,
   "metadata": {},
   "outputs": [],
   "source": [
    "sum_circuit([f'w{i}' for i in range(3)])"
   ]
  },
  {
   "cell_type": "code",
   "execution_count": null,
   "metadata": {
    "deletable": false,
    "editable": false,
    "nbgrader": {
     "cell_type": "code",
     "checksum": "8242892951a415531bec52a4e9e9bddd",
     "grade": true,
     "grade_id": "cell-4694c53c288d45f2",
     "locked": true,
     "points": 5,
     "schema_version": 3,
     "solution": false,
     "task": false
    }
   },
   "outputs": [],
   "source": [
    "# TEST CASE\n",
    "\n",
    "assert sum_circuit([f'w{i}' for i in range(3)]) == \\\n",
    "  AddGate(in1=AddGate(in1=AddGate(in1='w0', in2='w0'), in2='w1'), in2='w2')"
   ]
  },
  {
   "cell_type": "markdown",
   "metadata": {},
   "source": [
    "## Question 2\n",
    "\n",
    "Write a function `half_adder` to generate a [half-adder circuit](https://en.wikipedia.org/wiki/Adder_(electronics))."
   ]
  },
  {
   "cell_type": "code",
   "execution_count": null,
   "metadata": {
    "deletable": false,
    "nbgrader": {
     "cell_type": "code",
     "checksum": "a4fb1438236e89f35e5cea3c98181ab1",
     "grade": false,
     "grade_id": "cell-759551c02273e1a2",
     "locked": false,
     "schema_version": 3,
     "solution": true,
     "task": false
    }
   },
   "outputs": [],
   "source": [
    "def half_adder(b1, b2):\n",
    "    # YOUR CODE HERE\n",
    "    raise NotImplementedError()"
   ]
  },
  {
   "cell_type": "code",
   "execution_count": null,
   "metadata": {},
   "outputs": [],
   "source": [
    "half_adder('w1', 'w2')"
   ]
  },
  {
   "cell_type": "code",
   "execution_count": null,
   "metadata": {
    "deletable": false,
    "editable": false,
    "nbgrader": {
     "cell_type": "code",
     "checksum": "064983c9f4fad0483c3a76d3633c00b6",
     "grade": true,
     "grade_id": "cell-7c7c90cb532c53a4",
     "locked": true,
     "points": 5,
     "schema_version": 3,
     "solution": false,
     "task": false
    }
   },
   "outputs": [],
   "source": [
    "# TEST CASE\n",
    "\n",
    "assert half_adder('w1', 'w2') == (AddGate(in1='w1', in2='w2'), MultGate(in1='w1', in2='w2'))"
   ]
  },
  {
   "cell_type": "markdown",
   "metadata": {},
   "source": [
    "## Question 3\n",
    "\n",
    "Write a function `full_adder` to generate a full-adder circuit."
   ]
  },
  {
   "cell_type": "code",
   "execution_count": null,
   "metadata": {
    "deletable": false,
    "nbgrader": {
     "cell_type": "code",
     "checksum": "e92e75f69cf7f3f991255e8b0b6d2c07",
     "grade": false,
     "grade_id": "cell-fda873bba42b9337",
     "locked": false,
     "schema_version": 3,
     "solution": true,
     "task": false
    }
   },
   "outputs": [],
   "source": [
    "def full_adder(b1, b2, cin):\n",
    "    # YOUR CODE HERE\n",
    "    raise NotImplementedError()"
   ]
  },
  {
   "cell_type": "code",
   "execution_count": null,
   "metadata": {},
   "outputs": [],
   "source": [
    "full_adder('w1', 'w2', 'c1')"
   ]
  },
  {
   "cell_type": "code",
   "execution_count": null,
   "metadata": {
    "deletable": false,
    "editable": false,
    "nbgrader": {
     "cell_type": "code",
     "checksum": "f262958bc0a71a883b9223db62719f1f",
     "grade": true,
     "grade_id": "cell-ab738af64e085126",
     "locked": true,
     "points": 5,
     "schema_version": 3,
     "solution": false,
     "task": false
    }
   },
   "outputs": [],
   "source": [
    "# TEST CASE\n",
    "\n",
    "assert full_adder('w1', 'w2', 'c1') == \\\n",
    "  (AddGate(in1=AddGate(in1='w1', in2='w2'), in2='c1'),\n",
    "   MultGate(in1=MultGate(in1='w1', in2='w2'), \n",
    "            in2=MultGate(in1=AddGate(in1='w1', in2='w2'), in2='c1')))"
   ]
  },
  {
   "cell_type": "markdown",
   "metadata": {},
   "source": [
    "## Question 4\n",
    "\n",
    "Write a function `bitstring_adder` that returns a circuit to add two binary numbers."
   ]
  },
  {
   "cell_type": "code",
   "execution_count": null,
   "metadata": {
    "deletable": false,
    "nbgrader": {
     "cell_type": "code",
     "checksum": "6f3a8c694b5f6263f723ddd4d8a35a92",
     "grade": false,
     "grade_id": "cell-3a3bf300d92b4397",
     "locked": false,
     "schema_version": 3,
     "solution": true,
     "task": false
    }
   },
   "outputs": [],
   "source": [
    "def bitstring_adder(bits1, bits2):\n",
    "    # YOUR CODE HERE\n",
    "    raise NotImplementedError()"
   ]
  },
  {
   "cell_type": "code",
   "execution_count": null,
   "metadata": {},
   "outputs": [],
   "source": [
    "bitstring_adder(['x1', 'x2'], ['y1', 'y2'])"
   ]
  },
  {
   "cell_type": "code",
   "execution_count": null,
   "metadata": {
    "deletable": false,
    "editable": false,
    "nbgrader": {
     "cell_type": "code",
     "checksum": "eaedea49d906c568fd60cf2a48e00c59",
     "grade": true,
     "grade_id": "cell-ee9210811ed5be06",
     "locked": true,
     "points": 5,
     "schema_version": 3,
     "solution": false,
     "task": false
    }
   },
   "outputs": [],
   "source": [
    "# TEST CASE\n",
    "\n",
    "result = bitstring_adder(['x1', 'x2'], ['y1', 'y2'])\n",
    "expected_result = [AddGate(in1=AddGate(in1='x1', in2='y1'), in2='zero'),\n",
    "                   AddGate(in1=AddGate(in1='x2', in2='y2'), \n",
    "                           in2=MultGate(in1=MultGate(in1='x1', in2='y1'), \n",
    "                                        in2=MultGate(in1=AddGate(in1='x1', in2='y1'), \n",
    "                                                     in2='zero')))]\n",
    "\n",
    "assert result == expected_result"
   ]
  }
 ],
 "metadata": {
  "kernelspec": {
   "display_name": "Python 3",
   "language": "python",
   "name": "python3"
  },
  "language_info": {
   "codemirror_mode": {
    "name": "ipython",
    "version": 3
   },
   "file_extension": ".py",
   "mimetype": "text/x-python",
   "name": "python",
   "nbconvert_exporter": "python",
   "pygments_lexer": "ipython3",
   "version": "3.6.10"
  }
 },
 "nbformat": 4,
 "nbformat_minor": 4
}
