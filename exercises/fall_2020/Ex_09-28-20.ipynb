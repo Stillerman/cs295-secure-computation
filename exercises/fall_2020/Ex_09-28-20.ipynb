{
 "cells": [
  {
   "cell_type": "markdown",
   "metadata": {},
   "source": [
    "# CS295/395: Secure Distributed Computation\n",
    "## In-Class Exercise, 9/28/2020"
   ]
  },
  {
   "cell_type": "markdown",
   "metadata": {},
   "source": [
    "## References\n",
    "\n",
    "- Overview of the BGW protocol: [Pragmatic MPC, Section 3.3](https://securecomputation.org/docs/pragmaticmpc.pdf)\n",
    "- Vandermonde Matrices for polynomial evaluation: [Asharov & Lindell, 2011, Section 3.3, Definition 3.6](https://eprint.iacr.org/2011/136.pdf)\n",
    "- Formal protocol description (GRR protocol): [Lindell & Nof, 2017, Appendix B.3 (Protocol B.3)](https://eprint.iacr.org/2017/816.pdf)"
   ]
  },
  {
   "cell_type": "code",
   "execution_count": null,
   "metadata": {},
   "outputs": [],
   "source": [
    "# Imports and definitions\n",
    "import numpy as np\n",
    "from collections import defaultdict\n",
    "import urllib.request\n",
    "\n",
    "_PRIME = 2 ** 13 - 1\n",
    "\n",
    "shamir_lib_url = \"https://raw.githubusercontent.com/jnear/cs295-secure-computation/master/utils/shamir.py\"\n",
    "\n",
    "### DANGER: this line is dangerous. Make sure the URL above is correct, and has correct code.\n",
    "exec(urllib.request.urlopen(shamir_lib_url).read())\n",
    "\n",
    "def share_shamir(t, n, x, prime=_PRIME):\n",
    "    shares_with_x = share_input(x, minimum=t, shares=n, prime=prime)\n",
    "    return [y for x,y in shares_with_x]\n",
    "\n",
    "def reconstruct_shamir(shares, prime=_PRIME):\n",
    "    shares_with_x = list(zip(range(1, len(shares)+1), shares))\n",
    "    return recover_secret(shares_with_x, prime=prime)\n",
    "\n",
    "class Party:\n",
    "    \"\"\"A participant in a multiparty computation protocol.\"\"\"\n",
    "    def __init__(self, field_size=_PRIME):\n",
    "        \"\"\"Initialize the field size and dictionary to hold received messages.\"\"\"\n",
    "        self.field_size = field_size\n",
    "        self.input = None\n",
    "        self.output = None\n",
    "        self.received = defaultdict(list)\n",
    "    \n",
    "    def send(self, other, round, msg):\n",
    "        \"\"\"Simulate sending a message `msg` to another party `other` during round `round`\"\"\"\n",
    "        other.received[round].append(msg)\n",
    "\n",
    "    def get_view(self):\n",
    "        \"\"\"Returns the view of this party: its input, output, and received messages.\"\"\"\n",
    "        return (self.input, self.output, dict(self.received))"
   ]
  },
  {
   "cell_type": "code",
   "execution_count": null,
   "metadata": {},
   "outputs": [],
   "source": [
    "# Finite field matrix inversion, algorithm from here:\n",
    "# https://stackoverflow.com/questions/4287721/easiest-way-to-perform-modular-matrix-inversion-with-python\n",
    "\n",
    "def inversemodp(a, p):\n",
    "    a = a % p\n",
    "    if (a == 0):\n",
    "        #print \"a is 0 mod p\"\n",
    "        return None\n",
    "    if a > 1 and p % a == 0:\n",
    "        return None\n",
    "    #(x,y) = generalizedEuclidianAlgorithm(p, a % p);\n",
    "    (x,y) = _extended_gcd(p, a % p);\n",
    "    inv = y % p\n",
    "    assert (inv * a) % p == 1\n",
    "    return inv\n",
    "\n",
    "def identitymatrix(n):\n",
    "    return [[int(x == y) for x in range(0, n)] for y in range(0, n)]\n",
    "\n",
    "def inversematrix(matrix, q):\n",
    "    n = len(matrix)\n",
    "    A = np.matrix([[ matrix[j, i] for i in range(0,n)] for j in range(0, n)], dtype = int)\n",
    "    Ainv = np.matrix(identitymatrix(n), dtype = int)\n",
    "    for i in range(0, n):\n",
    "        factor = inversemodp(A[i,i], q)\n",
    "        if factor is None:\n",
    "             raise ValueError(\"Error: no factor\")\n",
    "        A[i] = A[i] * factor % q\n",
    "        Ainv[i] = Ainv[i] * factor % q\n",
    "        for j in range(0, n):\n",
    "            if (i != j):\n",
    "                factor = A[j, i]\n",
    "                A[j] = (A[j] - factor * A[i]) % q\n",
    "                Ainv[j] = (Ainv[j] - factor * Ainv[i]) % q\n",
    "    return Ainv"
   ]
  },
  {
   "cell_type": "markdown",
   "metadata": {},
   "source": [
    "## Question 1\n",
    "\n",
    "Describe a protocol to multiply two input numbers. The input numbers will be secret-shared according to a $(t,n)$ Shamir secret sharing scheme before the protocol starts, and each party will receive one share of both numbers. Each party should output *one share of the product*, using a $(t, n)$ Shamir secret sharing scheme (i.e. the threshold for the output should be the same as the threshold for the input).\n",
    "\n",
    "\\begin{equation*}\n",
    "\\textbf{Functionality: Multiply Two Numbers}\\\\\n",
    "\\fbox{$\\mathcal{F}(a, b) = a \\cdot b$}\n",
    "\\end{equation*}\n",
    "\n",
    "\n"
   ]
  },
  {
   "cell_type": "markdown",
   "metadata": {
    "deletable": false,
    "nbgrader": {
     "cell_type": "markdown",
     "checksum": "82256c3a02c15ef5669cc35767c84f8f",
     "grade": true,
     "grade_id": "cell-6df68c07c24abf58",
     "locked": false,
     "points": 5,
     "schema_version": 3,
     "solution": true,
     "task": false
    }
   },
   "source": [
    "YOUR ANSWER HERE"
   ]
  },
  {
   "cell_type": "markdown",
   "metadata": {},
   "source": [
    "## Question 2\n",
    "\n",
    "Implement your protocol from question 1."
   ]
  },
  {
   "cell_type": "code",
   "execution_count": null,
   "metadata": {
    "deletable": false,
    "nbgrader": {
     "cell_type": "code",
     "checksum": "3104eb3ae28c671b394d1b837d2438d9",
     "grade": false,
     "grade_id": "cell-47362684de6912c6",
     "locked": false,
     "schema_version": 3,
     "solution": true,
     "task": false
    }
   },
   "outputs": [],
   "source": [
    "class MultTwoParty(Party):\n",
    "    def round1(self, parties, a_shr, b_shr, t):\n",
    "        self.input = (a_shr, b_shr)\n",
    "        self.parties = parties\n",
    "        n = len(parties)\n",
    "        assert t <= n/2\n",
    "        \n",
    "        # YOUR CODE HERE\n",
    "        raise NotImplementedError()\n",
    "\n",
    "    def round2(self):\n",
    "        n = len(self.parties)\n",
    "        \n",
    "        # YOUR CODE HERE\n",
    "        raise NotImplementedError()"
   ]
  },
  {
   "cell_type": "code",
   "execution_count": null,
   "metadata": {
    "deletable": false,
    "editable": false,
    "nbgrader": {
     "cell_type": "code",
     "checksum": "3970a179435974d83d9716a9568f3796",
     "grade": true,
     "grade_id": "cell-0151a9043c28b815",
     "locked": true,
     "points": 5,
     "schema_version": 3,
     "solution": false,
     "task": false
    }
   },
   "outputs": [],
   "source": [
    "NUM_PARTIES = 6\n",
    "# (t, n)-Shamir scheme\n",
    "n = NUM_PARTIES\n",
    "t = 3\n",
    "\n",
    "shares1 = share_shamir(t, n, 5)\n",
    "shares2 = share_shamir(t, n, 6)\n",
    "\n",
    "parties = [MultTwoParty() for _ in range(NUM_PARTIES)]\n",
    "\n",
    "for p,s1,s2 in zip(parties, shares1, shares2):\n",
    "    p.round1(parties, s1, s2, t)\n",
    "for p in parties:\n",
    "    p.round2()\n",
    "for p in parties:\n",
    "    print(p.get_view())\n",
    "\n",
    "output_shares = [p.output for p in parties]\n",
    "print('Reconstruction, with all shares:', reconstruct_shamir(output_shares))\n",
    "print('Reconstruction, with 3 shares:', reconstruct_shamir(output_shares[:3]))\n",
    "print('Reconstruction, with 2 shares:', reconstruct_shamir(output_shares[:2]))\n",
    "\n",
    "assert reconstruct_shamir(output_shares) == 30\n",
    "assert reconstruct_shamir(output_shares[:3]) == 30\n",
    "assert reconstruct_shamir(output_shares[:2]) != 30"
   ]
  }
 ],
 "metadata": {
  "kernelspec": {
   "display_name": "Python 3",
   "language": "python",
   "name": "python3"
  },
  "language_info": {
   "codemirror_mode": {
    "name": "ipython",
    "version": 3
   },
   "file_extension": ".py",
   "mimetype": "text/x-python",
   "name": "python",
   "nbconvert_exporter": "python",
   "pygments_lexer": "ipython3",
   "version": "3.6.10"
  }
 },
 "nbformat": 4,
 "nbformat_minor": 4
}
