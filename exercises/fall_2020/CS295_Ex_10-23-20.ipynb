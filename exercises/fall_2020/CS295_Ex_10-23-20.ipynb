{
 "cells": [
  {
   "cell_type": "markdown",
   "metadata": {},
   "source": [
    "# CS295/395: Secure Distributed Computation\n",
    "## In-Class Exercise, 10/23/2020"
   ]
  },
  {
   "cell_type": "markdown",
   "metadata": {},
   "source": [
    "## Useful Definitions for FV FHE Scheme\n",
    "\n",
    "Reference: [Somewhat Practical Fully Homomorphic Encryption](https://eprint.iacr.org/2012/144.pdf) (2012)."
   ]
  },
  {
   "cell_type": "code",
   "execution_count": null,
   "metadata": {},
   "outputs": [],
   "source": [
    "import random\n",
    "import numpy as np\n",
    "\n",
    "#q = 2**13 - 1\n",
    "q = 2**16\n",
    "p = q**3\n",
    "\n",
    "t = 2\n",
    "\n",
    "def noise():\n",
    "    return random.randint(-5, 5) % q\n",
    "\n",
    "def keygen():\n",
    "    s = random.randint(0, t-1)\n",
    "    a = random.randint(1, q-1)\n",
    "    e = noise()\n",
    "    pk = (-(a*s+e)%q, a)\n",
    "    return s,pk\n",
    "\n",
    "def eval_keygen(sk):\n",
    "    s = sk\n",
    "    a = random.randint(1, p*q-1)\n",
    "    e = noise()\n",
    "    rlk = (-(a*s + e) + p * s**2) % (p*q)\n",
    "    return (rlk, a)\n",
    "\n",
    "def encrypt(pk, m):\n",
    "    p0, p1 = pk\n",
    "    u = random.randint(0, t-1)\n",
    "    e1 = noise()\n",
    "    e2 = noise()\n",
    "    Delta = int(q / t)\n",
    "    ct1 = (p0*u + e1 + Delta*m) % q\n",
    "    ct2 = (p1 * u + e2) % q\n",
    "    return (ct1, ct2)\n",
    "\n",
    "def decrypt(sk, ct):\n",
    "    s = sk\n",
    "    c0, c1 = ct\n",
    "    print('Decrypt, before rounding:', t * ((c0 + c1 * s) % q) / q)\n",
    "    m = round(t * ((c0 + c1 * s) % q) / q) % t\n",
    "    return m"
   ]
  },
  {
   "cell_type": "markdown",
   "metadata": {},
   "source": [
    "## Question 1\n",
    "\n",
    "Implement addition for the somewhat homomorphic scheme of [FV12]."
   ]
  },
  {
   "cell_type": "code",
   "execution_count": null,
   "metadata": {
    "deletable": false,
    "nbgrader": {
     "cell_type": "code",
     "checksum": "353f770eba653d47f31ae3f9db581ed3",
     "grade": false,
     "grade_id": "cell-199cca6c84ee542e",
     "locked": false,
     "schema_version": 3,
     "solution": true,
     "task": false
    }
   },
   "outputs": [],
   "source": [
    "def e_add(ct1, ct2):\n",
    "    # YOUR CODE HERE\n",
    "    raise NotImplementedError()"
   ]
  },
  {
   "cell_type": "code",
   "execution_count": null,
   "metadata": {
    "deletable": false,
    "editable": false,
    "nbgrader": {
     "cell_type": "code",
     "checksum": "30cef19b3cb27e21e832cb1bf449d608",
     "grade": true,
     "grade_id": "cell-02bce19dd026cd5c",
     "locked": true,
     "points": 5,
     "schema_version": 3,
     "solution": false,
     "task": false
    }
   },
   "outputs": [],
   "source": [
    "# TEST CASE\n",
    "sk, pk = keygen()\n",
    "ct1 = encrypt(pk, 1)\n",
    "ct2 = encrypt(pk, 1)\n",
    "ct3 = e_add(ct1, ct2)\n",
    "m = decrypt(sk, ct3)\n",
    "print('Addition result:', m)\n",
    "assert m == 0"
   ]
  },
  {
   "cell_type": "markdown",
   "metadata": {},
   "source": [
    "## Question 2\n",
    "\n",
    "Implement multiplication for the somewhat homomorphic cryptosystem of FV12."
   ]
  },
  {
   "cell_type": "code",
   "execution_count": null,
   "metadata": {
    "deletable": false,
    "nbgrader": {
     "cell_type": "code",
     "checksum": "4b9de74aaeb731107a67612ff2d44661",
     "grade": false,
     "grade_id": "cell-f7a1870c97744c01",
     "locked": false,
     "schema_version": 3,
     "solution": true,
     "task": false
    }
   },
   "outputs": [],
   "source": [
    "def e_mul(ct1, ct2, rlk):\n",
    "    # YOUR CODE HERE\n",
    "    raise NotImplementedError()"
   ]
  },
  {
   "cell_type": "code",
   "execution_count": null,
   "metadata": {
    "deletable": false,
    "editable": false,
    "nbgrader": {
     "cell_type": "code",
     "checksum": "c0631e53673e073f0dc12dd83b194e81",
     "grade": true,
     "grade_id": "cell-f2ff026faaba6ca1",
     "locked": true,
     "points": 5,
     "schema_version": 3,
     "solution": false,
     "task": false
    }
   },
   "outputs": [],
   "source": [
    "# TEST CASE\n",
    "sk, pk = keygen()\n",
    "rlk = eval_keygen(sk)\n",
    "ct1 = encrypt(pk, 1)\n",
    "ct2 = encrypt(pk, 1)\n",
    "ct3 = e_mul(ct1, ct2, rlk)\n",
    "m = decrypt(sk, ct3)\n",
    "print('Multiplication result:', m)\n",
    "assert m == 1"
   ]
  },
  {
   "cell_type": "code",
   "execution_count": null,
   "metadata": {
    "deletable": false,
    "editable": false,
    "nbgrader": {
     "cell_type": "code",
     "checksum": "dbff9da8631b58b20f822a34ea99f97d",
     "grade": true,
     "grade_id": "cell-a066975f838dbc1c",
     "locked": true,
     "points": 0,
     "schema_version": 3,
     "solution": false,
     "task": false
    }
   },
   "outputs": [],
   "source": [
    "# TEST CASE: How much noise is there?\n",
    "total = encrypt(pk, 1)\n",
    "\n",
    "for i in range(3000):\n",
    "    new_bit = encrypt(pk, 1)\n",
    "    total = e_mul(total, new_bit, rlk)\n",
    "\n",
    "m = decrypt(sk, total)\n",
    "print('Result:', m)\n",
    "assert m == 1"
   ]
  }
 ],
 "metadata": {
  "kernelspec": {
   "display_name": "Python 3",
   "language": "python",
   "name": "python3"
  },
  "language_info": {
   "codemirror_mode": {
    "name": "ipython",
    "version": 3
   },
   "file_extension": ".py",
   "mimetype": "text/x-python",
   "name": "python",
   "nbconvert_exporter": "python",
   "pygments_lexer": "ipython3",
   "version": "3.6.10"
  }
 },
 "nbformat": 4,
 "nbformat_minor": 4
}
