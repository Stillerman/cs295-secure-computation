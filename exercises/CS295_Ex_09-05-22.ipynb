{
 "cells": [
  {
   "cell_type": "markdown",
   "metadata": {},
   "source": [
    "# CS295/395: Secure Distributed Computation\n",
    "## In-Class Exercise, Week of 9/5/2022"
   ]
  },
  {
   "cell_type": "code",
   "execution_count": 1,
   "metadata": {},
   "outputs": [],
   "source": [
    "import galois\n",
    "\n",
    "GF = galois.GF((2**7)-1)"
   ]
  },
  {
   "cell_type": "code",
   "execution_count": 10,
   "metadata": {},
   "outputs": [],
   "source": [
    "# this is a field element from the field GF(127)\n",
    "GF(5)\n",
    "\n",
    "assert GF(100) + GF(100) == GF(73)"
   ]
  },
  {
   "cell_type": "markdown",
   "metadata": {},
   "source": [
    "## Question 1\n",
    "\n",
    "Implement the functions `plusFE` and `multFE` using the `galois` library."
   ]
  },
  {
   "cell_type": "code",
   "execution_count": 11,
   "metadata": {
    "deletable": false,
    "nbgrader": {
     "cell_type": "code",
     "checksum": "724b33b7ea9c858c85b6c89b085ada21",
     "grade": false,
     "grade_id": "cell-6b43d5c4cb3de8bf",
     "locked": false,
     "schema_version": 3,
     "solution": true,
     "task": false
    }
   },
   "outputs": [],
   "source": [
    "# YOUR CODE HERE\n",
    "def plusFE(a: galois.GF, b: galois.GF) -> galois.GF:\n",
    "    return a+b\n",
    "\n",
    "def multFE(a: galois.GF, b: galois.GF) -> galois.GF:\n",
    "    return a*b"
   ]
  },
  {
   "cell_type": "code",
   "execution_count": 12,
   "metadata": {
    "deletable": false,
    "editable": false,
    "nbgrader": {
     "cell_type": "code",
     "checksum": "7b4966736807528e9075e5a851574b64",
     "grade": true,
     "grade_id": "cell-3f19513b4f19e7f0",
     "locked": true,
     "points": 5,
     "schema_version": 3,
     "solution": false,
     "task": false
    }
   },
   "outputs": [],
   "source": [
    "a = GF(100)\n",
    "b = GF(70)\n",
    "\n",
    "assert plusFE(a, b) == GF(43)\n",
    "assert plusFE(a, b) == 43\n",
    "assert multFE(a, b) == GF(15)\n",
    "assert multFE(a, b) == 15"
   ]
  },
  {
   "cell_type": "markdown",
   "metadata": {},
   "source": [
    "Consider the following functionality and protocol for realizing it.\n",
    "\n",
    "\\begin{equation*}\n",
    "\\textbf{Functionality: Summation}\\\\\n",
    "\\fbox{$\\mathcal{F}(x_1, \\dots, x_n) = x_1 + \\dots + x_n$}\n",
    "\\end{equation*}\n",
    "\n",
    "\n",
    "**Protocol: Secure Summation with Additive Secret Sharing**\n",
    "- **Round 1**: Each party $P_i$ sends one share of its input $x_i$ to each other party, keeping one share for itself.\n",
    "- **Round 2**: Each party $P_i$ sums the shares it holds (including both the shares it has received and the share it kept for itself). Each party sends its sum to all other parties.\n",
    "- **Opening**: Each party adds up the sums it receives and the sum it computed to obtain the final output."
   ]
  },
  {
   "cell_type": "markdown",
   "metadata": {},
   "source": [
    "## Question 2\n",
    "\n",
    "Does the protocol above securely realize the functionality in the presence of a *semi-honest* adversary? If not, why not?"
   ]
  },
  {
   "cell_type": "markdown",
   "metadata": {
    "deletable": false,
    "nbgrader": {
     "cell_type": "markdown",
     "checksum": "5c80f0e25e609b839947074c78318d3d",
     "grade": true,
     "grade_id": "cell-7867ffd80feb6347",
     "locked": false,
     "points": 5,
     "schema_version": 3,
     "solution": true,
     "task": false
    }
   },
   "source": [
    "Yes, it does.\n",
    "- The protocol gives no more information to the adversary than the functionality\n",
    "- The functionality might reveal someone's secret input ig the adversary controls all the parties except one, but this is outside our secrity definition\n",
    "- If more than one party is honest, no honest party's secret input is reveal by the functionality\n",
    "- BECAUSE if you controlled everyone and had the functionality but DIDNT even run the protocol they can still reveal the information"
   ]
  },
  {
   "cell_type": "markdown",
   "metadata": {},
   "source": [
    "## Question 3\n",
    "\n",
    "Does the protocol above securely realize the functionality in the presence of a *malicious* adversary? If not, why not?"
   ]
  },
  {
   "cell_type": "markdown",
   "metadata": {
    "deletable": false,
    "nbgrader": {
     "cell_type": "markdown",
     "checksum": "ee96eacf25bd7c2df0e8264ed077fea9",
     "grade": true,
     "grade_id": "cell-07e156948f28d61b",
     "locked": false,
     "points": 5,
     "schema_version": 3,
     "solution": true,
     "task": false
    }
   },
   "source": [
    "No, a malicious adversary could add different values in round 2 than it recieves and all tha parties would get the wrong answer."
   ]
  },
  {
   "cell_type": "markdown",
   "metadata": {},
   "source": [
    "## Question 4\n",
    "\n",
    "Consider a semi-honest adversary. In the real world, what information is included in the view of the (potentially corrupted) party $p_i$?"
   ]
  },
  {
   "cell_type": "markdown",
   "metadata": {
    "deletable": false,
    "nbgrader": {
     "cell_type": "markdown",
     "checksum": "26dab9647c06623760c99633248b55ff",
     "grade": true,
     "grade_id": "cell-813b2fb7ee8bdac3",
     "locked": false,
     "points": 5,
     "schema_version": 3,
     "solution": true,
     "task": false
    }
   },
   "source": [
    "Generally a view includes a parties private input and all messages recieved by the party. In this case:\n",
    "- the input Xi\n",
    "- the shares of each parties inputs\n",
    "- the shares of the final sum."
   ]
  },
  {
   "cell_type": "markdown",
   "metadata": {},
   "source": [
    "## Question 5\n",
    "\n",
    "Describe a *simulator* for the ideal world, that constructs views which are indistinguishable from the ones described in Question 1."
   ]
  },
  {
   "cell_type": "markdown",
   "metadata": {
    "deletable": false,
    "nbgrader": {
     "cell_type": "markdown",
     "checksum": "a635d9f4cca751ce97fb79e3426199db",
     "grade": true,
     "grade_id": "cell-368c746db8f210b1",
     "locked": false,
     "points": 5,
     "schema_version": 3,
     "solution": true,
     "task": false
    }
   },
   "source": [
    "For party i we have\n",
    "- Private input x_i\n",
    "- final output of ideal func (sum of all xs)\n",
    "\n",
    "We need to construct\n",
    "- the input x_i (We have this explicitly from ideal func)\n",
    "- shares of each other party's input (pick a random number because additive secret shares look like random numbers)\n",
    "- shares of the final sum (we have this as output from ideal func)\n",
    "\n",
    "Because we cannot distinguish between real random numbers and the additive secret random numbers, we cannot distinguish from real life vs protocol and we are secure."
   ]
  },
  {
   "cell_type": "code",
   "execution_count": 15,
   "metadata": {},
   "outputs": [],
   "source": [
    "from collections import defaultdict\n",
    "class Party:\n",
    "    \"\"\"A participant in a multiparty computation protocol.\"\"\"\n",
    "    def __init__(self):\n",
    "        \"\"\"Initialize the dictionary to hold received messages.\"\"\"\n",
    "        self.received = defaultdict(list)\n",
    "    \n",
    "    def send(self, other, round, msg):\n",
    "        \"\"\"Simulate sending a message `msg` to another party `other` during round `round`\"\"\"\n",
    "        other.received[round].append(msg)"
   ]
  },
  {
   "cell_type": "markdown",
   "metadata": {},
   "source": [
    "## Question 6\n",
    "\n",
    "Implement the `InsecureAggregationParty` class, which adds up the parties' inputs *insecurely*."
   ]
  },
  {
   "cell_type": "code",
   "execution_count": 16,
   "metadata": {
    "deletable": false,
    "nbgrader": {
     "cell_type": "code",
     "checksum": "9bf8021377ce145e3ab367c8386aacfe",
     "grade": false,
     "grade_id": "cell-253770a6a53e06e8",
     "locked": false,
     "schema_version": 3,
     "solution": true,
     "task": false
    }
   },
   "outputs": [],
   "source": [
    "class InsecureAggregationParty(Party):\n",
    "    def round1(self, parties, input):\n",
    "        self.input = GF(input)\n",
    "\n",
    "        for party in parties:\n",
    "            self.send(party, 1, self.input)\n",
    "\n",
    "    def round2(self):\n",
    "        self.output = GF(self.received[1]).sum()\n",
    "\n",
    "    def get_view(self):\n",
    "        return (self.input, self.output, self.received[1])"
   ]
  },
  {
   "cell_type": "code",
   "execution_count": 17,
   "metadata": {
    "deletable": false,
    "editable": false,
    "nbgrader": {
     "cell_type": "code",
     "checksum": "6365e3b23ceeb22ac9abf7bc6662c1ed",
     "grade": true,
     "grade_id": "cell-41c0a04587798b8c",
     "locked": true,
     "points": 5,
     "schema_version": 3,
     "solution": false,
     "task": false
    }
   },
   "outputs": [],
   "source": [
    "# TEST CASE for question 1\n",
    "\n",
    "# 5 parties\n",
    "parties = [InsecureAggregationParty() for _ in range(5)]\n",
    "\n",
    "# run round 1\n",
    "for party in parties:\n",
    "    party.round1(parties, 5)\n",
    "\n",
    "# run round 2 and output\n",
    "for party in parties:\n",
    "    party.round2()\n",
    "    #print('Party output:', party.output, type(party.output))\n",
    "    assert party.output == GF(25)"
   ]
  },
  {
   "cell_type": "markdown",
   "metadata": {},
   "source": [
    "## Question 7\n",
    "\n",
    "Implement a simulator for the `InsecureAggregationParty` protocol, which constructs the view for party $i$ indistinguishable from the real-world view of party $i$ in the protocol, using only the inputs and output of the ideal functionality."
   ]
  },
  {
   "cell_type": "code",
   "execution_count": null,
   "metadata": {
    "deletable": false,
    "nbgrader": {
     "cell_type": "code",
     "checksum": "f4fb1fca8bcb5450869f2ff57bf6c0c1",
     "grade": false,
     "grade_id": "cell-a9f12612df1fdec4",
     "locked": false,
     "schema_version": 3,
     "solution": true,
     "task": false
    }
   },
   "outputs": [],
   "source": [
    "def simulator(n, i, inputs, output):\n",
    "    \"\"\"Simulates a real-world view in the ideal world. Outputs a \n",
    "    3-tuple: (input, output, received messages from round 1)\"\"\"\n",
    "    # YOUR CODE HERE\n",
    "    raise NotImplementedError()"
   ]
  },
  {
   "cell_type": "code",
   "execution_count": null,
   "metadata": {
    "deletable": false,
    "editable": false,
    "nbgrader": {
     "cell_type": "code",
     "checksum": "bb40bd3706c55050219b5f3041e95f42",
     "grade": true,
     "grade_id": "cell-1feb084cc713da72",
     "locked": true,
     "points": 5,
     "schema_version": 3,
     "solution": false,
     "task": false
    }
   },
   "outputs": [],
   "source": [
    "# TEST CASE for question 2\n",
    "\n",
    "# the real-world view of each party should be indistinguishable\n",
    "# from the simulated view in the ideal world\n",
    "# there is no randomness here, so they are really equal!\n",
    "all_inputs = [5 for _ in range(5)]\n",
    "for i, party in enumerate(parties):\n",
    "    assert party.get_view() == simulator(5, i, all_inputs, 25)"
   ]
  },
  {
   "cell_type": "markdown",
   "metadata": {},
   "source": [
    "## Question 8\n",
    "\n",
    "Can you construct a simulator for `InsecureAggregationParty` without using the input for all $n$ parties? If not, why not? What does this mean about the security of `InsecureAggregationParty`?"
   ]
  },
  {
   "cell_type": "markdown",
   "metadata": {
    "deletable": false,
    "nbgrader": {
     "cell_type": "markdown",
     "checksum": "c65fac1643335290df9576750e1222ac",
     "grade": true,
     "grade_id": "cell-be4f80bbafa34239",
     "locked": false,
     "points": 5,
     "schema_version": 3,
     "solution": true,
     "task": false
    }
   },
   "source": [
    "YOUR ANSWER HERE"
   ]
  }
 ],
 "metadata": {
  "kernelspec": {
   "display_name": "Python 3.8.5 ('base')",
   "language": "python",
   "name": "python3"
  },
  "language_info": {
   "codemirror_mode": {
    "name": "ipython",
    "version": 3
   },
   "file_extension": ".py",
   "mimetype": "text/x-python",
   "name": "python",
   "nbconvert_exporter": "python",
   "pygments_lexer": "ipython3",
   "version": "3.8.5"
  },
  "vscode": {
   "interpreter": {
    "hash": "9d1aac6c46358ab76884be5fd1eb54486853f0ecd733b8a791c202a53a54f874"
   }
  }
 },
 "nbformat": 4,
 "nbformat_minor": 4
}
